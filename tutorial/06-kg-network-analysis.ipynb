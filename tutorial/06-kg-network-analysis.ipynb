{
 "cells": [
  {
   "cell_type": "markdown",
   "metadata": {},
   "source": [
    "# Network Analysis Using KGTK and graph-tool\n",
    "\n",
    "In this part of the tutorial you will learn how to do network analysis on a knowledge graph using KGTK and graph-tool (https://graph-tool.skewed.de/), a library for efficient network analysis on large networks. The typical network analysis workflow first extracts a network of interest from a KG, and then applies network analysis tools to the extracted network. KGTK is useful to extract the network as extraction of networks is often an expensive operation on large KGs. KGTK also provides basic, commonly used network analytics (pagerank, connected components, reachability and paths), and can export the networks into the format required by graph-tool, which supports a wide selection onf sophisticated network analytics algorithms (e.g., community detection).\n",
    "\n",
    "This tutorial is divided into multiple subsections:\n",
    "- Computing network metrics on the original graph\n",
    "- Extracting a network of interest from our KG (the extended family of Arnold Schwarzenegger)\n",
    "- Computing network analytics on the Arnold family graph\n",
    "- Creating visualizations of KGs using graph-tools\n",
    "- Computing connected components of a KG"
   ]
  },
  {
   "cell_type": "markdown",
   "metadata": {},
   "source": [
    "## Step 0: Install KGTK"
   ]
  },
  {
   "cell_type": "markdown",
   "metadata": {},
   "source": [
    "Only run the following cell if KGTK is not installed.\n",
    " For example, if running in [Google Colab](https://colab.research.google.com/)"
   ]
  },
  {
   "cell_type": "code",
   "execution_count": null,
   "metadata": {},
   "outputs": [],
   "source": [
    "!pip install kgtk"
   ]
  },
  {
   "cell_type": "markdown",
   "metadata": {},
   "source": [
    "**Run the following cell only in Google Golab, to install graph-tool. There is no conda installed in google colab, so we install it using apt-get**"
   ]
  },
  {
   "cell_type": "code",
   "execution_count": null,
   "metadata": {},
   "outputs": [],
   "source": [
    "!echo \"deb http://downloads.skewed.de/apt bionic main\" >> /etc/apt/sources.list\n",
    "!apt-key adv --keyserver keys.openpgp.org --recv-key 612DEFB798507F25\n",
    "!apt-get update\n",
    "!apt-get install python3-graph-tool python3-cairo python3-matplotlib\n",
    "!apt-get install libcairo2-dev "
   ]
  },
  {
   "cell_type": "markdown",
   "metadata": {},
   "source": [
    "## Preamble: set up the environment and files used in the tutorial"
   ]
  },
  {
   "cell_type": "code",
   "execution_count": 1,
   "metadata": {},
   "outputs": [],
   "source": [
    "import io\n",
    "import os\n",
    "import sys\n",
    "\n",
    "from kgtk.configure_kgtk_notebooks import ConfigureKGTK\n",
    "from kgtk.functions import kgtk, kypher"
   ]
  },
  {
   "cell_type": "code",
   "execution_count": 2,
   "metadata": {
    "tags": [
     "parameters"
    ]
   },
   "outputs": [],
   "source": [
    "# Parameters\n",
    "\n",
    "input_path = None\n",
    "\n",
    "output_path = \"/tmp/projects\"\n",
    "project_name = \"tutorial-network-analysis\"\n",
    "\n",
    "input_files_url = \"https://github.com/usc-isi-i2/kgtk-tutorial-files/raw/main/datasets/arnold-profiled\""
   ]
  },
  {
   "cell_type": "markdown",
   "metadata": {},
   "source": [
    "These are all the files that we have, but I am tempted to just use the `all` file as it helps to keep the tutorial simpler"
   ]
  },
  {
   "cell_type": "code",
   "execution_count": null,
   "metadata": {},
   "outputs": [],
   "source": [
    "files = [\n",
    "    \"label\",\n",
    "    \"item\",\n",
    "    \"time\",\n",
    "    \"quantity\"\n",
    "]\n",
    "ck = ConfigureKGTK(files, input_files_url=input_files_url)\n",
    "ck.configure_kgtk(input_graph_path=input_path,\n",
    "                  output_path=output_path,\n",
    "                  project_name=project_name)"
   ]
  },
  {
   "cell_type": "code",
   "execution_count": 4,
   "metadata": {},
   "outputs": [
    {
     "name": "stdout",
     "output_type": "stream",
     "text": [
      "KGTK_LABEL_FILE: /Users/amandeep/isi-kgtk-tutorial/tutorial-network-analysis_input/labels.en.tsv.gz\n",
      "KGTK_GRAPH_CACHE: /tmp/projects/tutorial-network-analysis/temp.tutorial-network-analysis/wikidata.sqlite3.db\n",
      "EXAMPLES_DIR: /Users/amandeep/Github/kgtk-notebooks/examples\n",
      "STORE: /tmp/projects/tutorial-network-analysis/temp.tutorial-network-analysis/wikidata.sqlite3.db\n",
      "KGTK_OPTION_DEBUG: false\n",
      "USE_CASES_DIR: /Users/amandeep/Github/kgtk-notebooks/use-cases\n",
      "GRAPH: /Users/amandeep/isi-kgtk-tutorial/tutorial-network-analysis_input\n",
      "kgtk: kgtk\n",
      "OUT: /tmp/projects/tutorial-network-analysis\n",
      "TEMP: /tmp/projects/tutorial-network-analysis/temp.tutorial-network-analysis\n",
      "kypher: kgtk query --graph-cache /tmp/projects/tutorial-network-analysis/temp.tutorial-network-analysis/wikidata.sqlite3.db\n",
      "label: /Users/amandeep/isi-kgtk-tutorial/tutorial-network-analysis_input/labels.en.tsv.gz\n",
      "item: /Users/amandeep/isi-kgtk-tutorial/tutorial-network-analysis_input/claims.wikibase-item.tsv.gz\n",
      "time: /Users/amandeep/isi-kgtk-tutorial/tutorial-network-analysis_input/claims.time.tsv.gz\n",
      "quantity: /Users/amandeep/isi-kgtk-tutorial/tutorial-network-analysis_input/claims.quantity.tsv.gz\n"
     ]
    }
   ],
   "source": [
    "ck.print_env_variables()"
   ]
  },
  {
   "cell_type": "markdown",
   "metadata": {},
   "source": [
    "Load all my files into the kypher cache so that all graph aliases are defined"
   ]
  },
  {
   "cell_type": "code",
   "execution_count": 5,
   "metadata": {},
   "outputs": [
    {
     "name": "stdout",
     "output_type": "stream",
     "text": [
      "kgtk query --graph-cache /tmp/projects/tutorial-network-analysis/temp.tutorial-network-analysis/wikidata.sqlite3.db -i \"/Users/amandeep/isi-kgtk-tutorial/tutorial-network-analysis_input/labels.en.tsv.gz\" --as label  -i \"/Users/amandeep/isi-kgtk-tutorial/tutorial-network-analysis_input/claims.wikibase-item.tsv.gz\" --as item  -i \"/Users/amandeep/isi-kgtk-tutorial/tutorial-network-analysis_input/claims.time.tsv.gz\" --as time  -i \"/Users/amandeep/isi-kgtk-tutorial/tutorial-network-analysis_input/claims.quantity.tsv.gz\" --as quantity  --limit 3\n",
      "node1\tlabel\tnode2\tid\n",
      "P10\tlabel\t'video'@en\tP10-label-en\n",
      "P1000\tlabel\t'record held'@en\tP1000-label-en\n",
      "P1001\tlabel\t'applies to jurisdiction'@en\tP1001-label-en\n",
      "CPU times: user 5.83 ms, sys: 11.9 ms, total: 17.7 ms\n",
      "Wall time: 4.92 s\n"
     ]
    }
   ],
   "source": [
    "%%time\n",
    "ck.load_files_into_cache()"
   ]
  },
  {
   "cell_type": "markdown",
   "metadata": {},
   "source": [
    "# Compute network metrics on the original graph\n",
    "\n",
    "Pagerank centrality is one of the most useful network metrics as we can use it to rank the results of queries. You can compute pagerank on a KG using the KGTK `graph-statistics` command. We are going to compute pagerank on the KG graph containing items only (no literals or qualifiers) because in our experience we get good results on this subgraph and the algorithm runs faster. \n",
    "> You can replace `$item` by `$all` and compute pagerank on the whole graph.\n",
    "\n",
    "The `graph-statistics` command can also compute in/out degree and hits centrality. In the invocation below we turn off computation of `hits` as it takes longer. You can also specify the properties to be used to construct the graph containing your graph statistics. We are also treating the graph as undirected, as in our experience the pagerank results are more intuitive on the undirected graph:"
   ]
  },
  {
   "cell_type": "code",
   "execution_count": 6,
   "metadata": {},
   "outputs": [
    {
     "name": "stdout",
     "output_type": "stream",
     "text": [
      "CPU times: user 6.73 ms, sys: 12.2 ms, total: 18.9 ms\n",
      "Wall time: 11.4 s\n"
     ]
    }
   ],
   "source": [
    "%%time\n",
    "kgtk(\"\"\"\n",
    "    graph-statistics -i \"$item\" -o $OUT/metadata.pagerank.undirected.tsv.gz \n",
    "    --compute-pagerank True \n",
    "    --compute-hits False \n",
    "    --page-rank-property Pdirected_pagerank \n",
    "    --vertex-in-degree-property Pindegree\n",
    "    --vertex-out-degree-property Poutdegree\n",
    "    --output-degrees True \n",
    "    --output-pagerank True \n",
    "    --output-hits False \\\n",
    "    --output-statistics-only \n",
    "    --undirected True \n",
    "    --log-file $TEMP/metadata.pagerank.undirected.summary.txt\n",
    "\"\"\")"
   ]
  },
  {
   "cell_type": "markdown",
   "metadata": {},
   "source": [
    "The output is a KG, and is represented using the usual `node1/label/node2/id` TSV file:"
   ]
  },
  {
   "cell_type": "code",
   "execution_count": 7,
   "metadata": {},
   "outputs": [
    {
     "data": {
      "text/html": [
       "<div>\n",
       "<style scoped>\n",
       "    .dataframe tbody tr th:only-of-type {\n",
       "        vertical-align: middle;\n",
       "    }\n",
       "\n",
       "    .dataframe tbody tr th {\n",
       "        vertical-align: top;\n",
       "    }\n",
       "\n",
       "    .dataframe thead th {\n",
       "        text-align: right;\n",
       "    }\n",
       "</style>\n",
       "<table border=\"1\" class=\"dataframe\">\n",
       "  <thead>\n",
       "    <tr style=\"text-align: right;\">\n",
       "      <th></th>\n",
       "      <th>node1</th>\n",
       "      <th>label</th>\n",
       "      <th>node2</th>\n",
       "      <th>id</th>\n",
       "    </tr>\n",
       "  </thead>\n",
       "  <tbody>\n",
       "    <tr>\n",
       "      <th>0</th>\n",
       "      <td>P10</td>\n",
       "      <td>Pindegree</td>\n",
       "      <td>0.000000</td>\n",
       "      <td>P10-Pindegree-0</td>\n",
       "    </tr>\n",
       "    <tr>\n",
       "      <th>1</th>\n",
       "      <td>P10</td>\n",
       "      <td>Poutdegree</td>\n",
       "      <td>1.000000</td>\n",
       "      <td>P10-Poutdegree-1</td>\n",
       "    </tr>\n",
       "    <tr>\n",
       "      <th>2</th>\n",
       "      <td>P10</td>\n",
       "      <td>Pdirected_pagerank</td>\n",
       "      <td>0.000005</td>\n",
       "      <td>P10-Pdirected_pagerank-2</td>\n",
       "    </tr>\n",
       "    <tr>\n",
       "      <th>3</th>\n",
       "      <td>Q18610173</td>\n",
       "      <td>Pindegree</td>\n",
       "      <td>0.000000</td>\n",
       "      <td>Q18610173-Pindegree-3</td>\n",
       "    </tr>\n",
       "    <tr>\n",
       "      <th>4</th>\n",
       "      <td>Q18610173</td>\n",
       "      <td>Poutdegree</td>\n",
       "      <td>18.000000</td>\n",
       "      <td>Q18610173-Poutdegree-4</td>\n",
       "    </tr>\n",
       "    <tr>\n",
       "      <th>5</th>\n",
       "      <td>Q18610173</td>\n",
       "      <td>Pdirected_pagerank</td>\n",
       "      <td>0.000056</td>\n",
       "      <td>Q18610173-Pdirected_pagerank-5</td>\n",
       "    </tr>\n",
       "    <tr>\n",
       "      <th>6</th>\n",
       "      <td>P1000</td>\n",
       "      <td>Pindegree</td>\n",
       "      <td>0.000000</td>\n",
       "      <td>P1000-Pindegree-6</td>\n",
       "    </tr>\n",
       "    <tr>\n",
       "      <th>7</th>\n",
       "      <td>P1000</td>\n",
       "      <td>Poutdegree</td>\n",
       "      <td>1.000000</td>\n",
       "      <td>P1000-Poutdegree-7</td>\n",
       "    </tr>\n",
       "    <tr>\n",
       "      <th>8</th>\n",
       "      <td>P1000</td>\n",
       "      <td>Pdirected_pagerank</td>\n",
       "      <td>0.000004</td>\n",
       "      <td>P1000-Pdirected_pagerank-8</td>\n",
       "    </tr>\n",
       "    <tr>\n",
       "      <th>9</th>\n",
       "      <td>Q18608871</td>\n",
       "      <td>Pindegree</td>\n",
       "      <td>0.000000</td>\n",
       "      <td>Q18608871-Pindegree-9</td>\n",
       "    </tr>\n",
       "  </tbody>\n",
       "</table>\n",
       "</div>"
      ],
      "text/plain": [
       "       node1               label      node2                              id\n",
       "0        P10           Pindegree   0.000000                 P10-Pindegree-0\n",
       "1        P10          Poutdegree   1.000000                P10-Poutdegree-1\n",
       "2        P10  Pdirected_pagerank   0.000005        P10-Pdirected_pagerank-2\n",
       "3  Q18610173           Pindegree   0.000000           Q18610173-Pindegree-3\n",
       "4  Q18610173          Poutdegree  18.000000          Q18610173-Poutdegree-4\n",
       "5  Q18610173  Pdirected_pagerank   0.000056  Q18610173-Pdirected_pagerank-5\n",
       "6      P1000           Pindegree   0.000000               P1000-Pindegree-6\n",
       "7      P1000          Poutdegree   1.000000              P1000-Poutdegree-7\n",
       "8      P1000  Pdirected_pagerank   0.000004      P1000-Pdirected_pagerank-8\n",
       "9  Q18608871           Pindegree   0.000000           Q18608871-Pindegree-9"
      ]
     },
     "execution_count": 7,
     "metadata": {},
     "output_type": "execute_result"
    }
   ],
   "source": [
    "kgtk(\"\"\"\n",
    "    head -i $OUT/metadata.pagerank.undirected.tsv.gz\n",
    "\"\"\")"
   ]
  },
  {
   "cell_type": "markdown",
   "metadata": {},
   "source": [
    "Now that we have a graph with pagerank information, we can use it in any query to rank the results by pagerank. \n",
    "The following query retrieves all `instance of (P31)` of `human (Q5)` from the `item` graph and uses the `pagerank` graph to rank the results by pagerank:"
   ]
  },
  {
   "cell_type": "code",
   "execution_count": 8,
   "metadata": {},
   "outputs": [
    {
     "name": "stdout",
     "output_type": "stream",
     "text": [
      "CPU times: user 79 ms, sys: 24.4 ms, total: 103 ms\n",
      "Wall time: 4.94 s\n"
     ]
    },
    {
     "data": {
      "text/html": [
       "<div>\n",
       "<style scoped>\n",
       "    .dataframe tbody tr th:only-of-type {\n",
       "        vertical-align: middle;\n",
       "    }\n",
       "\n",
       "    .dataframe tbody tr th {\n",
       "        vertical-align: top;\n",
       "    }\n",
       "\n",
       "    .dataframe thead th {\n",
       "        text-align: right;\n",
       "    }\n",
       "</style>\n",
       "<table border=\"1\" class=\"dataframe\">\n",
       "  <thead>\n",
       "    <tr style=\"text-align: right;\">\n",
       "      <th></th>\n",
       "      <th>node1</th>\n",
       "      <th>node2</th>\n",
       "      <th>node1;label</th>\n",
       "    </tr>\n",
       "  </thead>\n",
       "  <tbody>\n",
       "    <tr>\n",
       "      <th>0</th>\n",
       "      <td>Q22686</td>\n",
       "      <td>0.000135</td>\n",
       "      <td>'Donald Trump'@en</td>\n",
       "    </tr>\n",
       "    <tr>\n",
       "      <th>1</th>\n",
       "      <td>Q76</td>\n",
       "      <td>0.000131</td>\n",
       "      <td>'Barack Obama'@en</td>\n",
       "    </tr>\n",
       "    <tr>\n",
       "      <th>2</th>\n",
       "      <td>Q11812</td>\n",
       "      <td>0.000113</td>\n",
       "      <td>'Thomas Jefferson'@en</td>\n",
       "    </tr>\n",
       "    <tr>\n",
       "      <th>3</th>\n",
       "      <td>Q9916</td>\n",
       "      <td>0.000108</td>\n",
       "      <td>'Dwight D. Eisenhower'@en</td>\n",
       "    </tr>\n",
       "    <tr>\n",
       "      <th>4</th>\n",
       "      <td>Q23505</td>\n",
       "      <td>0.000104</td>\n",
       "      <td>'George H. W. Bush'@en</td>\n",
       "    </tr>\n",
       "    <tr>\n",
       "      <th>...</th>\n",
       "      <td>...</td>\n",
       "      <td>...</td>\n",
       "      <td>...</td>\n",
       "    </tr>\n",
       "    <tr>\n",
       "      <th>13866</th>\n",
       "      <td>Q99850</td>\n",
       "      <td>0.000004</td>\n",
       "      <td>'Hu Yaobang'@en</td>\n",
       "    </tr>\n",
       "    <tr>\n",
       "      <th>13867</th>\n",
       "      <td>Q99885632</td>\n",
       "      <td>0.000004</td>\n",
       "      <td>'Jean-Marc Gayraud'@en</td>\n",
       "    </tr>\n",
       "    <tr>\n",
       "      <th>13868</th>\n",
       "      <td>Q99887066</td>\n",
       "      <td>0.000004</td>\n",
       "      <td>'Gilbert Narcisse'@en</td>\n",
       "    </tr>\n",
       "    <tr>\n",
       "      <th>13869</th>\n",
       "      <td>Q999332</td>\n",
       "      <td>0.000004</td>\n",
       "      <td>'Buck Henry'@en</td>\n",
       "    </tr>\n",
       "    <tr>\n",
       "      <th>13870</th>\n",
       "      <td>Q999726</td>\n",
       "      <td>0.000004</td>\n",
       "      <td>'Dale Van Every'@en</td>\n",
       "    </tr>\n",
       "  </tbody>\n",
       "</table>\n",
       "<p>13871 rows × 3 columns</p>\n",
       "</div>"
      ],
      "text/plain": [
       "           node1     node2                node1;label\n",
       "0         Q22686  0.000135          'Donald Trump'@en\n",
       "1            Q76  0.000131          'Barack Obama'@en\n",
       "2         Q11812  0.000113      'Thomas Jefferson'@en\n",
       "3          Q9916  0.000108  'Dwight D. Eisenhower'@en\n",
       "4         Q23505  0.000104     'George H. W. Bush'@en\n",
       "...          ...       ...                        ...\n",
       "13866     Q99850  0.000004            'Hu Yaobang'@en\n",
       "13867  Q99885632  0.000004     'Jean-Marc Gayraud'@en\n",
       "13868  Q99887066  0.000004      'Gilbert Narcisse'@en\n",
       "13869    Q999332  0.000004            'Buck Henry'@en\n",
       "13870    Q999726  0.000004        'Dale Van Every'@en\n",
       "\n",
       "[13871 rows x 3 columns]"
      ]
     },
     "execution_count": 8,
     "metadata": {},
     "output_type": "execute_result"
    }
   ],
   "source": [
    "%%time\n",
    "kgtk(\"\"\"\n",
    "    query -i item -i $OUT/metadata.pagerank.undirected.tsv.gz\n",
    "        --match '\n",
    "            item: (human)-[:P31]->(:Q5),\n",
    "            pagerank: (human)-[:Pdirected_pagerank]->(pagerank)'\n",
    "        --return 'human as node1, pagerank as node2'\n",
    "        --order-by 'cast(pagerank, float) desc'\n",
    "    / add-labels\n",
    "\"\"\")"
   ]
  },
  {
   "cell_type": "markdown",
   "metadata": {},
   "source": [
    "## Create a network of the extended family of `Arnold Schwarzenegger (Q2685)`\n",
    "We will use the following properties to build the network:\n",
    "- `child (P40)`\n",
    "- `sibling (P3373)`\n",
    "- `spouse (P26)`\n",
    "- `unmarried partner (P451)`\n",
    "- `father (P22)`\n",
    "- `mother (P25)`\n",
    "\n",
    "And we will exclude:\n",
    "- `relative (P1038)` (exclude)\n",
    "\n",
    "Approach:\n",
    "- Starting from `Arnold Schwarzenegger (Q2685)` find all the nodes that can be reached using the properties listed above\n",
    "- Extract from the KG all the edges any two nodes computed in the previous step.\n",
    "\n",
    "> Note: the `reachable-nodes` command only reports nodes, so we have to use the two steps as described above."
   ]
  },
  {
   "cell_type": "markdown",
   "metadata": {},
   "source": [
    "The `reachable-nodes` command can compute all the nodes reachable from a set of roots. The roots can be supplied in the command line, and for bulk processing, the root nodes can be specified in a file (it is possible to specify millions of root nodes)."
   ]
  },
  {
   "cell_type": "code",
   "execution_count": 9,
   "metadata": {},
   "outputs": [
    {
     "name": "stdout",
     "output_type": "stream",
     "text": [
      "CPU times: user 6.51 ms, sys: 11.5 ms, total: 18 ms\n",
      "Wall time: 3.8 s\n"
     ]
    },
    {
     "data": {
      "text/html": [
       "<div>\n",
       "<style scoped>\n",
       "    .dataframe tbody tr th:only-of-type {\n",
       "        vertical-align: middle;\n",
       "    }\n",
       "\n",
       "    .dataframe tbody tr th {\n",
       "        vertical-align: top;\n",
       "    }\n",
       "\n",
       "    .dataframe thead th {\n",
       "        text-align: right;\n",
       "    }\n",
       "</style>\n",
       "<table border=\"1\" class=\"dataframe\">\n",
       "  <thead>\n",
       "    <tr style=\"text-align: right;\">\n",
       "      <th></th>\n",
       "      <th>node1</th>\n",
       "      <th>label</th>\n",
       "      <th>node2</th>\n",
       "      <th>node1;label</th>\n",
       "      <th>node2;label</th>\n",
       "    </tr>\n",
       "  </thead>\n",
       "  <tbody>\n",
       "    <tr>\n",
       "      <th>0</th>\n",
       "      <td>Q2685</td>\n",
       "      <td>Pextended_family</td>\n",
       "      <td>Q3288486</td>\n",
       "      <td>'Arnold Schwarzenegger'@en</td>\n",
       "      <td>'Gustav Schwarzenegger'@en</td>\n",
       "    </tr>\n",
       "    <tr>\n",
       "      <th>1</th>\n",
       "      <td>Q2685</td>\n",
       "      <td>Pextended_family</td>\n",
       "      <td>Q23800370</td>\n",
       "      <td>'Arnold Schwarzenegger'@en</td>\n",
       "      <td>'Aurelia Schwarzenegger'@en</td>\n",
       "    </tr>\n",
       "    <tr>\n",
       "      <th>2</th>\n",
       "      <td>Q2685</td>\n",
       "      <td>Pextended_family</td>\n",
       "      <td>Q96076900</td>\n",
       "      <td>'Arnold Schwarzenegger'@en</td>\n",
       "      <td>'Jadrny'@en</td>\n",
       "    </tr>\n",
       "    <tr>\n",
       "      <th>3</th>\n",
       "      <td>Q2685</td>\n",
       "      <td>Pextended_family</td>\n",
       "      <td>Q38196234</td>\n",
       "      <td>'Arnold Schwarzenegger'@en</td>\n",
       "      <td>'Meinhard Schwarzenegger'@en</td>\n",
       "    </tr>\n",
       "    <tr>\n",
       "      <th>4</th>\n",
       "      <td>Q2685</td>\n",
       "      <td>Pextended_family</td>\n",
       "      <td>Q24004771</td>\n",
       "      <td>'Arnold Schwarzenegger'@en</td>\n",
       "      <td>'Patrick M. Knapp Schwarzenegger'@en</td>\n",
       "    </tr>\n",
       "    <tr>\n",
       "      <th>...</th>\n",
       "      <td>...</td>\n",
       "      <td>...</td>\n",
       "      <td>...</td>\n",
       "      <td>...</td>\n",
       "      <td>...</td>\n",
       "    </tr>\n",
       "    <tr>\n",
       "      <th>67</th>\n",
       "      <td>Q2685</td>\n",
       "      <td>Pextended_family</td>\n",
       "      <td>Q43100988</td>\n",
       "      <td>'Arnold Schwarzenegger'@en</td>\n",
       "      <td>'Jack Pratt'@en</td>\n",
       "    </tr>\n",
       "    <tr>\n",
       "      <th>68</th>\n",
       "      <td>Q2685</td>\n",
       "      <td>Pextended_family</td>\n",
       "      <td>Q901541</td>\n",
       "      <td>'Arnold Schwarzenegger'@en</td>\n",
       "      <td>'Patrick Schwarzenegger'@en</td>\n",
       "    </tr>\n",
       "    <tr>\n",
       "      <th>69</th>\n",
       "      <td>Q2685</td>\n",
       "      <td>Pextended_family</td>\n",
       "      <td>Q23800185</td>\n",
       "      <td>'Arnold Schwarzenegger'@en</td>\n",
       "      <td>'Joseph Baena'@en</td>\n",
       "    </tr>\n",
       "    <tr>\n",
       "      <th>70</th>\n",
       "      <td>Q2685</td>\n",
       "      <td>Pextended_family</td>\n",
       "      <td>Q75494768</td>\n",
       "      <td>'Arnold Schwarzenegger'@en</td>\n",
       "      <td>'Mildred Patricia Baena'@en</td>\n",
       "    </tr>\n",
       "    <tr>\n",
       "      <th>71</th>\n",
       "      <td>Q2685</td>\n",
       "      <td>Pextended_family</td>\n",
       "      <td>Q75496774</td>\n",
       "      <td>'Arnold Schwarzenegger'@en</td>\n",
       "      <td>'Rogelio Baena'@en</td>\n",
       "    </tr>\n",
       "  </tbody>\n",
       "</table>\n",
       "<p>72 rows × 5 columns</p>\n",
       "</div>"
      ],
      "text/plain": [
       "    node1             label      node2                 node1;label  \\\n",
       "0   Q2685  Pextended_family   Q3288486  'Arnold Schwarzenegger'@en   \n",
       "1   Q2685  Pextended_family  Q23800370  'Arnold Schwarzenegger'@en   \n",
       "2   Q2685  Pextended_family  Q96076900  'Arnold Schwarzenegger'@en   \n",
       "3   Q2685  Pextended_family  Q38196234  'Arnold Schwarzenegger'@en   \n",
       "4   Q2685  Pextended_family  Q24004771  'Arnold Schwarzenegger'@en   \n",
       "..    ...               ...        ...                         ...   \n",
       "67  Q2685  Pextended_family  Q43100988  'Arnold Schwarzenegger'@en   \n",
       "68  Q2685  Pextended_family    Q901541  'Arnold Schwarzenegger'@en   \n",
       "69  Q2685  Pextended_family  Q23800185  'Arnold Schwarzenegger'@en   \n",
       "70  Q2685  Pextended_family  Q75494768  'Arnold Schwarzenegger'@en   \n",
       "71  Q2685  Pextended_family  Q75496774  'Arnold Schwarzenegger'@en   \n",
       "\n",
       "                             node2;label  \n",
       "0             'Gustav Schwarzenegger'@en  \n",
       "1            'Aurelia Schwarzenegger'@en  \n",
       "2                            'Jadrny'@en  \n",
       "3           'Meinhard Schwarzenegger'@en  \n",
       "4   'Patrick M. Knapp Schwarzenegger'@en  \n",
       "..                                   ...  \n",
       "67                       'Jack Pratt'@en  \n",
       "68           'Patrick Schwarzenegger'@en  \n",
       "69                     'Joseph Baena'@en  \n",
       "70           'Mildred Patricia Baena'@en  \n",
       "71                    'Rogelio Baena'@en  \n",
       "\n",
       "[72 rows x 5 columns]"
      ]
     },
     "execution_count": 9,
     "metadata": {},
     "output_type": "execute_result"
    }
   ],
   "source": [
    "%%time\n",
    "kgtk(\"\"\"\n",
    "    reachable-nodes -i $item\n",
    "        --root Q2685\n",
    "        --props P40 P3373 P26 P451 P22 P25\n",
    "        --label Pextended_family\n",
    "    / add-labels\n",
    "\"\"\")"
   ]
  },
  {
   "cell_type": "markdown",
   "metadata": {},
   "source": [
    "The extended family of Arnold Schwarzenegger in the tutorial KG contains 71 people. \n",
    "We store the nodes as a new graph so that it can be used in other KGTK commands:"
   ]
  },
  {
   "cell_type": "code",
   "execution_count": 10,
   "metadata": {},
   "outputs": [
    {
     "name": "stdout",
     "output_type": "stream",
     "text": [
      "CPU times: user 3.82 ms, sys: 10.8 ms, total: 14.6 ms\n",
      "Wall time: 2.17 s\n"
     ]
    }
   ],
   "source": [
    "%%time\n",
    "kgtk(\"\"\"\n",
    "    reachable-nodes -i $item\n",
    "        --root Q2685\n",
    "        --props P40 P3373 P26 P451 P22 P25\n",
    "        --label Pextended_family\n",
    "        --selflink True\n",
    "    -o $TEMP/arnold_family_members.tsv\n",
    "\"\"\")"
   ]
  },
  {
   "cell_type": "markdown",
   "metadata": {},
   "source": [
    "In step 2 we extract the edges that connect nodes in the set of reachable nodes. The `where` clause excludes the `relative (P1038)` property:"
   ]
  },
  {
   "cell_type": "code",
   "execution_count": 11,
   "metadata": {},
   "outputs": [
    {
     "data": {
      "text/html": [
       "<div>\n",
       "<style scoped>\n",
       "    .dataframe tbody tr th:only-of-type {\n",
       "        vertical-align: middle;\n",
       "    }\n",
       "\n",
       "    .dataframe tbody tr th {\n",
       "        vertical-align: top;\n",
       "    }\n",
       "\n",
       "    .dataframe thead th {\n",
       "        text-align: right;\n",
       "    }\n",
       "</style>\n",
       "<table border=\"1\" class=\"dataframe\">\n",
       "  <thead>\n",
       "    <tr style=\"text-align: right;\">\n",
       "      <th></th>\n",
       "      <th>node1</th>\n",
       "      <th>label</th>\n",
       "      <th>node2</th>\n",
       "      <th>node1;label</th>\n",
       "      <th>label;label</th>\n",
       "      <th>node2;label</th>\n",
       "    </tr>\n",
       "  </thead>\n",
       "  <tbody>\n",
       "    <tr>\n",
       "      <th>0</th>\n",
       "      <td>Q1086823</td>\n",
       "      <td>P22</td>\n",
       "      <td>Q345517</td>\n",
       "      <td>'Christopher Lawford'@en</td>\n",
       "      <td>'father'@en</td>\n",
       "      <td>'Peter Lawford'@en</td>\n",
       "    </tr>\n",
       "    <tr>\n",
       "      <th>1</th>\n",
       "      <td>Q1086823</td>\n",
       "      <td>P25</td>\n",
       "      <td>Q432694</td>\n",
       "      <td>'Christopher Lawford'@en</td>\n",
       "      <td>'mother'@en</td>\n",
       "      <td>'Patricia Kennedy Lawford'@en</td>\n",
       "    </tr>\n",
       "    <tr>\n",
       "      <th>2</th>\n",
       "      <td>Q1086823</td>\n",
       "      <td>P26</td>\n",
       "      <td>Q75326809</td>\n",
       "      <td>'Christopher Lawford'@en</td>\n",
       "      <td>'spouse'@en</td>\n",
       "      <td>'Jean Edith Olssen'@en</td>\n",
       "    </tr>\n",
       "    <tr>\n",
       "      <th>3</th>\n",
       "      <td>Q1086823</td>\n",
       "      <td>P3373</td>\n",
       "      <td>Q75326777</td>\n",
       "      <td>'Christopher Lawford'@en</td>\n",
       "      <td>'sibling'@en</td>\n",
       "      <td>'Victoria Lawford'@en</td>\n",
       "    </tr>\n",
       "    <tr>\n",
       "      <th>4</th>\n",
       "      <td>Q1086823</td>\n",
       "      <td>P3373</td>\n",
       "      <td>Q75326779</td>\n",
       "      <td>'Christopher Lawford'@en</td>\n",
       "      <td>'sibling'@en</td>\n",
       "      <td>'Sydney Lawford'@en</td>\n",
       "    </tr>\n",
       "    <tr>\n",
       "      <th>...</th>\n",
       "      <td>...</td>\n",
       "      <td>...</td>\n",
       "      <td>...</td>\n",
       "      <td>...</td>\n",
       "      <td>...</td>\n",
       "      <td>...</td>\n",
       "    </tr>\n",
       "    <tr>\n",
       "      <th>489</th>\n",
       "      <td>Q9696</td>\n",
       "      <td>P40</td>\n",
       "      <td>Q230303</td>\n",
       "      <td>'John F. Kennedy'@en</td>\n",
       "      <td>'child'@en</td>\n",
       "      <td>'Caroline Kennedy'@en</td>\n",
       "    </tr>\n",
       "    <tr>\n",
       "      <th>490</th>\n",
       "      <td>Q9696</td>\n",
       "      <td>P40</td>\n",
       "      <td>Q316064</td>\n",
       "      <td>'John F. Kennedy'@en</td>\n",
       "      <td>'child'@en</td>\n",
       "      <td>'John F. Kennedy Jr.'@en</td>\n",
       "    </tr>\n",
       "    <tr>\n",
       "      <th>491</th>\n",
       "      <td>Q9696</td>\n",
       "      <td>P40</td>\n",
       "      <td>Q3290402</td>\n",
       "      <td>'John F. Kennedy'@en</td>\n",
       "      <td>'child'@en</td>\n",
       "      <td>'Patrick Bouvier Kennedy'@en</td>\n",
       "    </tr>\n",
       "    <tr>\n",
       "      <th>492</th>\n",
       "      <td>Q9696</td>\n",
       "      <td>P40</td>\n",
       "      <td>Q75326753</td>\n",
       "      <td>'John F. Kennedy'@en</td>\n",
       "      <td>'child'@en</td>\n",
       "      <td>'Arabelle Kennedy'@en</td>\n",
       "    </tr>\n",
       "    <tr>\n",
       "      <th>493</th>\n",
       "      <td>Q9696</td>\n",
       "      <td>P451</td>\n",
       "      <td>Q4616</td>\n",
       "      <td>'John F. Kennedy'@en</td>\n",
       "      <td>'unmarried partner'@en</td>\n",
       "      <td>'Marilyn Monroe'@en</td>\n",
       "    </tr>\n",
       "  </tbody>\n",
       "</table>\n",
       "<p>494 rows × 6 columns</p>\n",
       "</div>"
      ],
      "text/plain": [
       "        node1  label      node2               node1;label  \\\n",
       "0    Q1086823    P22    Q345517  'Christopher Lawford'@en   \n",
       "1    Q1086823    P25    Q432694  'Christopher Lawford'@en   \n",
       "2    Q1086823    P26  Q75326809  'Christopher Lawford'@en   \n",
       "3    Q1086823  P3373  Q75326777  'Christopher Lawford'@en   \n",
       "4    Q1086823  P3373  Q75326779  'Christopher Lawford'@en   \n",
       "..        ...    ...        ...                       ...   \n",
       "489     Q9696    P40    Q230303      'John F. Kennedy'@en   \n",
       "490     Q9696    P40    Q316064      'John F. Kennedy'@en   \n",
       "491     Q9696    P40   Q3290402      'John F. Kennedy'@en   \n",
       "492     Q9696    P40  Q75326753      'John F. Kennedy'@en   \n",
       "493     Q9696   P451      Q4616      'John F. Kennedy'@en   \n",
       "\n",
       "                label;label                    node2;label  \n",
       "0               'father'@en             'Peter Lawford'@en  \n",
       "1               'mother'@en  'Patricia Kennedy Lawford'@en  \n",
       "2               'spouse'@en         'Jean Edith Olssen'@en  \n",
       "3              'sibling'@en          'Victoria Lawford'@en  \n",
       "4              'sibling'@en            'Sydney Lawford'@en  \n",
       "..                      ...                            ...  \n",
       "489              'child'@en          'Caroline Kennedy'@en  \n",
       "490              'child'@en       'John F. Kennedy Jr.'@en  \n",
       "491              'child'@en   'Patrick Bouvier Kennedy'@en  \n",
       "492              'child'@en          'Arabelle Kennedy'@en  \n",
       "493  'unmarried partner'@en            'Marilyn Monroe'@en  \n",
       "\n",
       "[494 rows x 6 columns]"
      ]
     },
     "execution_count": 11,
     "metadata": {},
     "output_type": "execute_result"
    }
   ],
   "source": [
    "kgtk(\"\"\"\n",
    "    query -i item -i $TEMP/arnold_family_members.tsv\n",
    "        --match '\n",
    "            item: (n1)-[l {label: property}]->(n2),\n",
    "            arnold: ()-[]->(n1),\n",
    "            arnold: ()-[]->(n2)'\n",
    "        --where 'property != \"P1038\"'\n",
    "        --return 'distinct n1 as node1, property as label, n2 as node2'\n",
    "    / add-labels\n",
    "\"\"\")"
   ]
  },
  {
   "cell_type": "markdown",
   "metadata": {},
   "source": [
    "Save the Arnold family in graph `arnold_family`:"
   ]
  },
  {
   "cell_type": "code",
   "execution_count": 12,
   "metadata": {},
   "outputs": [
    {
     "name": "stdout",
     "output_type": "stream",
     "text": [
      "CPU times: user 8.55 ms, sys: 19.5 ms, total: 28.1 ms\n",
      "Wall time: 4.29 s\n"
     ]
    },
    {
     "data": {
      "text/html": [
       "<div>\n",
       "<style scoped>\n",
       "    .dataframe tbody tr th:only-of-type {\n",
       "        vertical-align: middle;\n",
       "    }\n",
       "\n",
       "    .dataframe tbody tr th {\n",
       "        vertical-align: top;\n",
       "    }\n",
       "\n",
       "    .dataframe thead th {\n",
       "        text-align: right;\n",
       "    }\n",
       "</style>\n",
       "<table border=\"1\" class=\"dataframe\">\n",
       "  <thead>\n",
       "    <tr style=\"text-align: right;\">\n",
       "      <th></th>\n",
       "      <th>node1</th>\n",
       "      <th>label</th>\n",
       "      <th>node2</th>\n",
       "      <th>id</th>\n",
       "    </tr>\n",
       "  </thead>\n",
       "  <tbody>\n",
       "    <tr>\n",
       "      <th>0</th>\n",
       "      <td>Q1086823</td>\n",
       "      <td>P22</td>\n",
       "      <td>Q345517</td>\n",
       "      <td>Q1086823-P22-Q345517</td>\n",
       "    </tr>\n",
       "    <tr>\n",
       "      <th>1</th>\n",
       "      <td>Q1086823</td>\n",
       "      <td>P25</td>\n",
       "      <td>Q432694</td>\n",
       "      <td>Q1086823-P25-Q432694</td>\n",
       "    </tr>\n",
       "    <tr>\n",
       "      <th>2</th>\n",
       "      <td>Q1086823</td>\n",
       "      <td>P26</td>\n",
       "      <td>Q75326809</td>\n",
       "      <td>Q1086823-P26-Q75326809</td>\n",
       "    </tr>\n",
       "    <tr>\n",
       "      <th>3</th>\n",
       "      <td>Q1086823</td>\n",
       "      <td>P3373</td>\n",
       "      <td>Q75326777</td>\n",
       "      <td>Q1086823-P3373-Q75326777</td>\n",
       "    </tr>\n",
       "    <tr>\n",
       "      <th>4</th>\n",
       "      <td>Q1086823</td>\n",
       "      <td>P3373</td>\n",
       "      <td>Q75326779</td>\n",
       "      <td>Q1086823-P3373-Q75326779</td>\n",
       "    </tr>\n",
       "    <tr>\n",
       "      <th>5</th>\n",
       "      <td>Q1086823</td>\n",
       "      <td>P3373</td>\n",
       "      <td>Q75326780</td>\n",
       "      <td>Q1086823-P3373-Q75326780</td>\n",
       "    </tr>\n",
       "    <tr>\n",
       "      <th>6</th>\n",
       "      <td>Q1086823</td>\n",
       "      <td>P3448</td>\n",
       "      <td>Q96079835</td>\n",
       "      <td>Q1086823-P3448-Q96079835</td>\n",
       "    </tr>\n",
       "    <tr>\n",
       "      <th>7</th>\n",
       "      <td>Q1086823</td>\n",
       "      <td>P3448</td>\n",
       "      <td>Q96079836</td>\n",
       "      <td>Q1086823-P3448-Q96079836</td>\n",
       "    </tr>\n",
       "    <tr>\n",
       "      <th>8</th>\n",
       "      <td>Q1086823</td>\n",
       "      <td>P3448</td>\n",
       "      <td>Q96079838</td>\n",
       "      <td>Q1086823-P3448-Q96079838</td>\n",
       "    </tr>\n",
       "    <tr>\n",
       "      <th>9</th>\n",
       "      <td>Q1086823</td>\n",
       "      <td>P40</td>\n",
       "      <td>Q76363382</td>\n",
       "      <td>Q1086823-P40-Q76363382</td>\n",
       "    </tr>\n",
       "  </tbody>\n",
       "</table>\n",
       "</div>"
      ],
      "text/plain": [
       "      node1  label      node2                        id\n",
       "0  Q1086823    P22    Q345517      Q1086823-P22-Q345517\n",
       "1  Q1086823    P25    Q432694      Q1086823-P25-Q432694\n",
       "2  Q1086823    P26  Q75326809    Q1086823-P26-Q75326809\n",
       "3  Q1086823  P3373  Q75326777  Q1086823-P3373-Q75326777\n",
       "4  Q1086823  P3373  Q75326779  Q1086823-P3373-Q75326779\n",
       "5  Q1086823  P3373  Q75326780  Q1086823-P3373-Q75326780\n",
       "6  Q1086823  P3448  Q96079835  Q1086823-P3448-Q96079835\n",
       "7  Q1086823  P3448  Q96079836  Q1086823-P3448-Q96079836\n",
       "8  Q1086823  P3448  Q96079838  Q1086823-P3448-Q96079838\n",
       "9  Q1086823    P40  Q76363382    Q1086823-P40-Q76363382"
      ]
     },
     "execution_count": 12,
     "metadata": {},
     "output_type": "execute_result"
    }
   ],
   "source": [
    "%%time\n",
    "kgtk(\"\"\"\n",
    "    query -i item -i $TEMP/arnold_family_members.tsv\n",
    "        --match '\n",
    "            item: (n1)-[l {label: property}]->(n2),\n",
    "            arnold: ()-[]->(n1),\n",
    "            arnold: ()-[]->(n2)'\n",
    "        --where 'property != \"P1038\"'\n",
    "        --return 'distinct n1 as node1, property as label, n2 as node2'\n",
    "    / add-id --id-style wikidata\n",
    "    -o $OUT/arnold.family.tsv\n",
    "\"\"\")\n",
    "\n",
    "kgtk(\"query -i $OUT/arnold.family.tsv --as arnold_family --limit 10\")"
   ]
  },
  {
   "cell_type": "markdown",
   "metadata": {},
   "source": [
    "### Summary of this section:\n",
    "In this section:\n",
    "- We illustrated how to extract a network from a KG focusing on specific relations.\n",
    "- We built a KG with the family memebers of Arnold."
   ]
  },
  {
   "cell_type": "markdown",
   "metadata": {},
   "source": [
    "## Do analytics on the Arnold family graph\n",
    "\n",
    "In this part of the tutorial we show how to use KGTK to find paths between nodes. We will use the family network we built in the previous step. We specify the source and destination nodes for the paths also as a graph, which in general can be the output of other KGTK commands. Here we built a custom file to provide a few source and destination nodes: \n",
    "> We need a nicer way to provide a portable way to define the `path-query` file so that folks can edit it."
   ]
  },
  {
   "cell_type": "code",
   "execution_count": 13,
   "metadata": {},
   "outputs": [],
   "source": [
    "%%bash\n",
    "cat <<EOF >$TEMP/path-query.tsv\n",
    "node1\tnode2\tlabel\n",
    "Q2685\tQ4616\tpath\n",
    "Q9696\tQ230303\tpath\n",
    "Q75326777\tQ4616\tpath\n",
    "Q5112377\tQ38196234\tpath\n",
    "EOF"
   ]
  },
  {
   "cell_type": "markdown",
   "metadata": {},
   "source": [
    "Add labels to the path file to confirm that our input is what we want:"
   ]
  },
  {
   "cell_type": "code",
   "execution_count": 14,
   "metadata": {},
   "outputs": [
    {
     "data": {
      "text/html": [
       "<div>\n",
       "<style scoped>\n",
       "    .dataframe tbody tr th:only-of-type {\n",
       "        vertical-align: middle;\n",
       "    }\n",
       "\n",
       "    .dataframe tbody tr th {\n",
       "        vertical-align: top;\n",
       "    }\n",
       "\n",
       "    .dataframe thead th {\n",
       "        text-align: right;\n",
       "    }\n",
       "</style>\n",
       "<table border=\"1\" class=\"dataframe\">\n",
       "  <thead>\n",
       "    <tr style=\"text-align: right;\">\n",
       "      <th></th>\n",
       "      <th>node1</th>\n",
       "      <th>node2</th>\n",
       "      <th>label</th>\n",
       "      <th>node1;label</th>\n",
       "      <th>node2;label</th>\n",
       "    </tr>\n",
       "  </thead>\n",
       "  <tbody>\n",
       "    <tr>\n",
       "      <th>0</th>\n",
       "      <td>Q2685</td>\n",
       "      <td>Q4616</td>\n",
       "      <td>path</td>\n",
       "      <td>'Arnold Schwarzenegger'@en</td>\n",
       "      <td>'Marilyn Monroe'@en</td>\n",
       "    </tr>\n",
       "    <tr>\n",
       "      <th>1</th>\n",
       "      <td>Q9696</td>\n",
       "      <td>Q230303</td>\n",
       "      <td>path</td>\n",
       "      <td>'John F. Kennedy'@en</td>\n",
       "      <td>'Caroline Kennedy'@en</td>\n",
       "    </tr>\n",
       "    <tr>\n",
       "      <th>2</th>\n",
       "      <td>Q75326777</td>\n",
       "      <td>Q4616</td>\n",
       "      <td>path</td>\n",
       "      <td>'Victoria Lawford'@en</td>\n",
       "      <td>'Marilyn Monroe'@en</td>\n",
       "    </tr>\n",
       "    <tr>\n",
       "      <th>3</th>\n",
       "      <td>Q5112377</td>\n",
       "      <td>Q38196234</td>\n",
       "      <td>path</td>\n",
       "      <td>'Christopher G. Kennedy'@en</td>\n",
       "      <td>'Meinhard Schwarzenegger'@en</td>\n",
       "    </tr>\n",
       "  </tbody>\n",
       "</table>\n",
       "</div>"
      ],
      "text/plain": [
       "       node1      node2 label                  node1;label  \\\n",
       "0      Q2685      Q4616  path   'Arnold Schwarzenegger'@en   \n",
       "1      Q9696    Q230303  path         'John F. Kennedy'@en   \n",
       "2  Q75326777      Q4616  path        'Victoria Lawford'@en   \n",
       "3   Q5112377  Q38196234  path  'Christopher G. Kennedy'@en   \n",
       "\n",
       "                    node2;label  \n",
       "0           'Marilyn Monroe'@en  \n",
       "1         'Caroline Kennedy'@en  \n",
       "2           'Marilyn Monroe'@en  \n",
       "3  'Meinhard Schwarzenegger'@en  "
      ]
     },
     "execution_count": 14,
     "metadata": {},
     "output_type": "execute_result"
    }
   ],
   "source": [
    "kgtk(\"\"\"\n",
    "    add-labels -i $TEMP/path-query.tsv\n",
    "\"\"\")"
   ]
  },
  {
   "cell_type": "markdown",
   "metadata": {},
   "source": [
    "We invoke the `paths` command to find the shortest paths between `node1` and `node2`:"
   ]
  },
  {
   "cell_type": "code",
   "execution_count": 15,
   "metadata": {},
   "outputs": [],
   "source": [
    "kgtk(\"\"\"\n",
    "    paths -i $OUT/arnold.family.tsv\n",
    "        --verbose False\n",
    "        --shortest-path True\n",
    "        --statistics-only True\n",
    "        --path-file $TEMP/path-query.tsv\n",
    "    -o $TEMP/path-results.tsv\n",
    "\"\"\")"
   ]
  },
  {
   "cell_type": "code",
   "execution_count": 16,
   "metadata": {},
   "outputs": [
    {
     "name": "stdout",
     "output_type": "stream",
     "text": [
      "node1\tlabel\tnode2\tid\n",
      "p0\t0\tQ2685-P26-Q230654\tp0-0-0\n",
      "p0\t1\tQ230654-P25-Q272908\tp0-1-1\n",
      "p0\t2\tQ272908-P3373-Q9696\tp0-2-2\n",
      "p0\t3\tQ9696-P451-Q4616\tp0-3-3\n",
      "p1\t0\tQ9696-P40-Q230303\tp1-0-4\n",
      "p2\t0\tQ75326777-P25-Q432694\tp2-0-5\n",
      "p2\t1\tQ432694-P3373-Q9696\tp2-1-6\n",
      "p2\t2\tQ9696-P451-Q4616\tp2-2-7\n",
      "p3\t0\tQ5112377-P22-Q25310\tp3-0-8\n"
     ]
    }
   ],
   "source": [
    "!head $TEMP/path-results.tsv"
   ]
  },
  {
   "cell_type": "markdown",
   "metadata": {},
   "source": [
    "In the output from the `paths` command, `node1` contains an identifier for a path, `node2` contains the edge identifier in the input graph, and `label` contains an integer to order the edges in the path.\n",
    "\n",
    "The next command uses a query to retrieve the `node1, label, node2` for each of the edges in the paths. We pipe the results through `add-labels` to help us interpret the results."
   ]
  },
  {
   "cell_type": "code",
   "execution_count": 17,
   "metadata": {},
   "outputs": [
    {
     "data": {
      "text/html": [
       "<div>\n",
       "<style scoped>\n",
       "    .dataframe tbody tr th:only-of-type {\n",
       "        vertical-align: middle;\n",
       "    }\n",
       "\n",
       "    .dataframe tbody tr th {\n",
       "        vertical-align: top;\n",
       "    }\n",
       "\n",
       "    .dataframe thead th {\n",
       "        text-align: right;\n",
       "    }\n",
       "</style>\n",
       "<table border=\"1\" class=\"dataframe\">\n",
       "  <thead>\n",
       "    <tr style=\"text-align: right;\">\n",
       "      <th></th>\n",
       "      <th>node1</th>\n",
       "      <th>label</th>\n",
       "      <th>node2</th>\n",
       "      <th>path</th>\n",
       "      <th>segment</th>\n",
       "      <th>node1;label</th>\n",
       "      <th>label;label</th>\n",
       "      <th>node2;label</th>\n",
       "    </tr>\n",
       "  </thead>\n",
       "  <tbody>\n",
       "    <tr>\n",
       "      <th>0</th>\n",
       "      <td>Q2685</td>\n",
       "      <td>P26</td>\n",
       "      <td>Q230654</td>\n",
       "      <td>p0</td>\n",
       "      <td>p0-0-0</td>\n",
       "      <td>'Arnold Schwarzenegger'@en</td>\n",
       "      <td>'spouse'@en</td>\n",
       "      <td>'Maria Shriver'@en</td>\n",
       "    </tr>\n",
       "    <tr>\n",
       "      <th>1</th>\n",
       "      <td>Q230654</td>\n",
       "      <td>P25</td>\n",
       "      <td>Q272908</td>\n",
       "      <td>p0</td>\n",
       "      <td>p0-1-1</td>\n",
       "      <td>'Maria Shriver'@en</td>\n",
       "      <td>'mother'@en</td>\n",
       "      <td>'Eunice Kennedy Shriver'@en</td>\n",
       "    </tr>\n",
       "    <tr>\n",
       "      <th>2</th>\n",
       "      <td>Q272908</td>\n",
       "      <td>P3373</td>\n",
       "      <td>Q9696</td>\n",
       "      <td>p0</td>\n",
       "      <td>p0-2-2</td>\n",
       "      <td>'Eunice Kennedy Shriver'@en</td>\n",
       "      <td>'sibling'@en</td>\n",
       "      <td>'John F. Kennedy'@en</td>\n",
       "    </tr>\n",
       "    <tr>\n",
       "      <th>3</th>\n",
       "      <td>Q9696</td>\n",
       "      <td>P451</td>\n",
       "      <td>Q4616</td>\n",
       "      <td>p0</td>\n",
       "      <td>p0-3-3</td>\n",
       "      <td>'John F. Kennedy'@en</td>\n",
       "      <td>'unmarried partner'@en</td>\n",
       "      <td>'Marilyn Monroe'@en</td>\n",
       "    </tr>\n",
       "    <tr>\n",
       "      <th>4</th>\n",
       "      <td>Q9696</td>\n",
       "      <td>P40</td>\n",
       "      <td>Q230303</td>\n",
       "      <td>p1</td>\n",
       "      <td>p1-0-4</td>\n",
       "      <td>'John F. Kennedy'@en</td>\n",
       "      <td>'child'@en</td>\n",
       "      <td>'Caroline Kennedy'@en</td>\n",
       "    </tr>\n",
       "    <tr>\n",
       "      <th>5</th>\n",
       "      <td>Q75326777</td>\n",
       "      <td>P25</td>\n",
       "      <td>Q432694</td>\n",
       "      <td>p2</td>\n",
       "      <td>p2-0-5</td>\n",
       "      <td>'Victoria Lawford'@en</td>\n",
       "      <td>'mother'@en</td>\n",
       "      <td>'Patricia Kennedy Lawford'@en</td>\n",
       "    </tr>\n",
       "    <tr>\n",
       "      <th>6</th>\n",
       "      <td>Q432694</td>\n",
       "      <td>P3373</td>\n",
       "      <td>Q9696</td>\n",
       "      <td>p2</td>\n",
       "      <td>p2-1-6</td>\n",
       "      <td>'Patricia Kennedy Lawford'@en</td>\n",
       "      <td>'sibling'@en</td>\n",
       "      <td>'John F. Kennedy'@en</td>\n",
       "    </tr>\n",
       "    <tr>\n",
       "      <th>7</th>\n",
       "      <td>Q9696</td>\n",
       "      <td>P451</td>\n",
       "      <td>Q4616</td>\n",
       "      <td>p2</td>\n",
       "      <td>p2-2-7</td>\n",
       "      <td>'John F. Kennedy'@en</td>\n",
       "      <td>'unmarried partner'@en</td>\n",
       "      <td>'Marilyn Monroe'@en</td>\n",
       "    </tr>\n",
       "    <tr>\n",
       "      <th>8</th>\n",
       "      <td>Q5112377</td>\n",
       "      <td>P22</td>\n",
       "      <td>Q25310</td>\n",
       "      <td>p3</td>\n",
       "      <td>p3-0-8</td>\n",
       "      <td>'Christopher G. Kennedy'@en</td>\n",
       "      <td>'father'@en</td>\n",
       "      <td>'Robert F. Kennedy'@en</td>\n",
       "    </tr>\n",
       "    <tr>\n",
       "      <th>9</th>\n",
       "      <td>Q25310</td>\n",
       "      <td>P3373</td>\n",
       "      <td>Q272908</td>\n",
       "      <td>p3</td>\n",
       "      <td>p3-1-9</td>\n",
       "      <td>'Robert F. Kennedy'@en</td>\n",
       "      <td>'sibling'@en</td>\n",
       "      <td>'Eunice Kennedy Shriver'@en</td>\n",
       "    </tr>\n",
       "    <tr>\n",
       "      <th>10</th>\n",
       "      <td>Q272908</td>\n",
       "      <td>P40</td>\n",
       "      <td>Q230654</td>\n",
       "      <td>p3</td>\n",
       "      <td>p3-2-10</td>\n",
       "      <td>'Eunice Kennedy Shriver'@en</td>\n",
       "      <td>'child'@en</td>\n",
       "      <td>'Maria Shriver'@en</td>\n",
       "    </tr>\n",
       "    <tr>\n",
       "      <th>11</th>\n",
       "      <td>Q230654</td>\n",
       "      <td>P26</td>\n",
       "      <td>Q2685</td>\n",
       "      <td>p3</td>\n",
       "      <td>p3-3-11</td>\n",
       "      <td>'Maria Shriver'@en</td>\n",
       "      <td>'spouse'@en</td>\n",
       "      <td>'Arnold Schwarzenegger'@en</td>\n",
       "    </tr>\n",
       "    <tr>\n",
       "      <th>12</th>\n",
       "      <td>Q2685</td>\n",
       "      <td>P3373</td>\n",
       "      <td>Q38196234</td>\n",
       "      <td>p3</td>\n",
       "      <td>p3-4-12</td>\n",
       "      <td>'Arnold Schwarzenegger'@en</td>\n",
       "      <td>'sibling'@en</td>\n",
       "      <td>'Meinhard Schwarzenegger'@en</td>\n",
       "    </tr>\n",
       "  </tbody>\n",
       "</table>\n",
       "</div>"
      ],
      "text/plain": [
       "        node1  label      node2 path  segment                    node1;label  \\\n",
       "0       Q2685    P26    Q230654   p0   p0-0-0     'Arnold Schwarzenegger'@en   \n",
       "1     Q230654    P25    Q272908   p0   p0-1-1             'Maria Shriver'@en   \n",
       "2     Q272908  P3373      Q9696   p0   p0-2-2    'Eunice Kennedy Shriver'@en   \n",
       "3       Q9696   P451      Q4616   p0   p0-3-3           'John F. Kennedy'@en   \n",
       "4       Q9696    P40    Q230303   p1   p1-0-4           'John F. Kennedy'@en   \n",
       "5   Q75326777    P25    Q432694   p2   p2-0-5          'Victoria Lawford'@en   \n",
       "6     Q432694  P3373      Q9696   p2   p2-1-6  'Patricia Kennedy Lawford'@en   \n",
       "7       Q9696   P451      Q4616   p2   p2-2-7           'John F. Kennedy'@en   \n",
       "8    Q5112377    P22     Q25310   p3   p3-0-8    'Christopher G. Kennedy'@en   \n",
       "9      Q25310  P3373    Q272908   p3   p3-1-9         'Robert F. Kennedy'@en   \n",
       "10    Q272908    P40    Q230654   p3  p3-2-10    'Eunice Kennedy Shriver'@en   \n",
       "11    Q230654    P26      Q2685   p3  p3-3-11             'Maria Shriver'@en   \n",
       "12      Q2685  P3373  Q38196234   p3  p3-4-12     'Arnold Schwarzenegger'@en   \n",
       "\n",
       "               label;label                    node2;label  \n",
       "0              'spouse'@en             'Maria Shriver'@en  \n",
       "1              'mother'@en    'Eunice Kennedy Shriver'@en  \n",
       "2             'sibling'@en           'John F. Kennedy'@en  \n",
       "3   'unmarried partner'@en            'Marilyn Monroe'@en  \n",
       "4               'child'@en          'Caroline Kennedy'@en  \n",
       "5              'mother'@en  'Patricia Kennedy Lawford'@en  \n",
       "6             'sibling'@en           'John F. Kennedy'@en  \n",
       "7   'unmarried partner'@en            'Marilyn Monroe'@en  \n",
       "8              'father'@en         'Robert F. Kennedy'@en  \n",
       "9             'sibling'@en    'Eunice Kennedy Shriver'@en  \n",
       "10              'child'@en             'Maria Shriver'@en  \n",
       "11             'spouse'@en     'Arnold Schwarzenegger'@en  \n",
       "12            'sibling'@en   'Meinhard Schwarzenegger'@en  "
      ]
     },
     "execution_count": 17,
     "metadata": {},
     "output_type": "execute_result"
    }
   ],
   "source": [
    "kgtk(\"\"\"\n",
    "    query -i arnold_family -i $TEMP/path-results.tsv\n",
    "        --match '\n",
    "            path: (path)-[segment]->(edge),\n",
    "            arnold_family: (n1)-[edge {label: property}]->(n2)'\n",
    "        --return 'n1 as node1, property as label, n2 as node2, path as path, segment as segment'\n",
    "        --order-by 'path, segment'\n",
    "    / add-labels\n",
    "\"\"\")"
   ]
  },
  {
   "cell_type": "markdown",
   "metadata": {
    "tags": []
   },
   "source": [
    "### Visualization of the Arnold family graph"
   ]
  },
  {
   "cell_type": "markdown",
   "metadata": {
    "tags": []
   },
   "source": [
    "Add labels for property Pnodes"
   ]
  },
  {
   "cell_type": "code",
   "execution_count": 18,
   "metadata": {},
   "outputs": [],
   "source": [
    "kgtk(f\"\"\"query -i $OUT/arnold.family.tsv -i label --force\n",
    "         --match 'family: (n1)-[l {{label: property}}]->(n2),\n",
    "                  label: (property)-[]->(p_label)'\n",
    "         --return 'n1 as node1, kgtk_lqstring_text(p_label) as label, n2 as node2'\n",
    "         -o $TEMP/arnold.family.visualize.tsv\n",
    "\"\"\")"
   ]
  },
  {
   "cell_type": "markdown",
   "metadata": {},
   "source": [
    "Get list of all nodes in the `node1` column"
   ]
  },
  {
   "cell_type": "code",
   "execution_count": 19,
   "metadata": {},
   "outputs": [],
   "source": [
    "kgtk(f\"\"\"query -i $OUT/arnold.family.tsv\n",
    "         --match 'family: (n1)-[]->()'\n",
    "         --return 'distinct n1 as node1'\n",
    "         -o $TEMP/arnold.family.node1.tsv\n",
    "\"\"\")"
   ]
  },
  {
   "cell_type": "markdown",
   "metadata": {
    "tags": []
   },
   "source": [
    "Get list of all nodes in the `node2` column"
   ]
  },
  {
   "cell_type": "code",
   "execution_count": 20,
   "metadata": {},
   "outputs": [],
   "source": [
    "kgtk(f\"\"\"query -i $OUT/arnold.family.tsv\n",
    "         --match 'family: ()-[]->(n2)'\n",
    "         --return 'distinct n2 as node1'\n",
    "         -o $TEMP/arnold.family.node2.tsv\n",
    "\"\"\")"
   ]
  },
  {
   "cell_type": "markdown",
   "metadata": {
    "tags": []
   },
   "source": [
    "Concatenate them together to build the node file for visualization"
   ]
  },
  {
   "cell_type": "code",
   "execution_count": 21,
   "metadata": {
    "tags": []
   },
   "outputs": [],
   "source": [
    "kgtk(f\"\"\"cat -i $TEMP/arnold.family.node1.tsv -i $TEMP/arnold.family.node2.tsv --mode NONE  -o $TEMP/arnold.family.node.tsv\n",
    "\"\"\")"
   ]
  },
  {
   "cell_type": "markdown",
   "metadata": {},
   "source": [
    "Add labels and country of citizenship for the visualization"
   ]
  },
  {
   "cell_type": "code",
   "execution_count": 31,
   "metadata": {
    "tags": []
   },
   "outputs": [],
   "source": [
    "kgtk(f\"\"\"query -i $TEMP/arnold.family.node.tsv -i item -i label\n",
    "         --match 'node: (n1)-[]->(),\n",
    "                 label: (n1)-[]->(n1_label)'\n",
    "         --opt   'item: (n1)-[:P27]->(country)'\n",
    "         --opt   'label: (country)-[]->(c_label)'\n",
    "         --return 'distinct n1 as id, n1_label as label,  group_concat(distinct c_label) as country_label,\n",
    "         printf(\"Citizenship: %s\", replace(group_concat(distinct kgtk_lqstring_text(c_label)), \",\", \", \")) as tooltip'\n",
    "         -o $TEMP/arnold.family.node.file.tsv\n",
    "\"\"\")"
   ]
  },
  {
   "cell_type": "markdown",
   "metadata": {
    "tags": []
   },
   "source": [
    "Run the [kgtk visualize-graph](https://kgtk.readthedocs.io/en/latest/analysis/visualize-graph) command\n",
    "\n",
    "The following command will draw the graph as:\n",
    "\n",
    "- Node color represents the country of citizenship.\n",
    "- Edge label specifies the relation between nodes."
   ]
  },
  {
   "cell_type": "code",
   "execution_count": 32,
   "metadata": {
    "tags": []
   },
   "outputs": [],
   "source": [
    "kgtk(\"\"\"visualize-graph \n",
    "        -i $TEMP/arnold.family.visualize.tsv\n",
    "        --node-file $TEMP/arnold.family.node.file.tsv\n",
    "        --show-edge-label\n",
    "        --node-color-column country_label\n",
    "        --node-color-style categorical\n",
    "        --node-size-default 4\n",
    "        --tooltip-column tooltip\n",
    "        --show-text above\n",
    "        -o $OUT/arnold.family.graph.html\"\"\")"
   ]
  },
  {
   "cell_type": "markdown",
   "metadata": {},
   "source": [
    "![Arnold Family Visualization](https://raw.githubusercontent.com/usc-isi-i2/kgtk-notebooks/main/tutorial/assets/arnold-family-graph-citizenship.png)"
   ]
  },
  {
   "cell_type": "code",
   "execution_count": 33,
   "metadata": {},
   "outputs": [],
   "source": [
    "!open $OUT/arnold.family.graph.html"
   ]
  },
  {
   "cell_type": "markdown",
   "metadata": {},
   "source": [
    "### Visualize Movies' Graph with common Actors"
   ]
  },
  {
   "cell_type": "markdown",
   "metadata": {},
   "source": [
    "`Q11424`: film\n",
    "\n",
    "`P162`: cast\n",
    "\n",
    "`P31`: instance of\n",
    "\n",
    "Build a graph of movies with common actors. Add ids and labels to the KGTK edge file."
   ]
  },
  {
   "cell_type": "code",
   "execution_count": 34,
   "metadata": {},
   "outputs": [],
   "source": [
    "kgtk(f\"\"\"\n",
    "    query -i item\n",
    "        --match '\n",
    "            item: (film1)-[:P31]->(:Q11424),\n",
    "            item: (film2)-[:P31]->(:Q11424),\n",
    "            item: (film1)-[:P161]->(actor),\n",
    "            item: (film2)-[:P161]->(actor)'\n",
    "        --where 'film1 < film2'\n",
    "        --return 'distinct film1 as node1, \"Pcommon_actor\" as label, film2 as node2, actor as actor'\n",
    "    / add-id --id-style wikidata \n",
    "    / add-labels\n",
    "    -o $TEMP/movies.common_actors.tsv.gz\n",
    "\"\"\")"
   ]
  },
  {
   "cell_type": "code",
   "execution_count": 35,
   "metadata": {},
   "outputs": [
    {
     "data": {
      "text/html": [
       "<div>\n",
       "<style scoped>\n",
       "    .dataframe tbody tr th:only-of-type {\n",
       "        vertical-align: middle;\n",
       "    }\n",
       "\n",
       "    .dataframe tbody tr th {\n",
       "        vertical-align: top;\n",
       "    }\n",
       "\n",
       "    .dataframe thead th {\n",
       "        text-align: right;\n",
       "    }\n",
       "</style>\n",
       "<table border=\"1\" class=\"dataframe\">\n",
       "  <thead>\n",
       "    <tr style=\"text-align: right;\">\n",
       "      <th></th>\n",
       "      <th>node1</th>\n",
       "      <th>label</th>\n",
       "      <th>node2</th>\n",
       "      <th>actor</th>\n",
       "      <th>id</th>\n",
       "      <th>node1;label</th>\n",
       "      <th>node2;label</th>\n",
       "      <th>actor;label</th>\n",
       "    </tr>\n",
       "  </thead>\n",
       "  <tbody>\n",
       "    <tr>\n",
       "      <th>0</th>\n",
       "      <td>Q1009788</td>\n",
       "      <td>Pcommon_actor</td>\n",
       "      <td>Q104137</td>\n",
       "      <td>Q150943</td>\n",
       "      <td>Q1009788-Pcommon_actor-Q104137</td>\n",
       "      <td>'The Conversation'@en</td>\n",
       "      <td>'Unforgiven'@en</td>\n",
       "      <td>'Gene Hackman'@en</td>\n",
       "    </tr>\n",
       "    <tr>\n",
       "      <th>1</th>\n",
       "      <td>Q1009788</td>\n",
       "      <td>Pcommon_actor</td>\n",
       "      <td>Q1140085</td>\n",
       "      <td>Q150943</td>\n",
       "      <td>Q1009788-Pcommon_actor-Q1140085</td>\n",
       "      <td>'The Conversation'@en</td>\n",
       "      <td>'Crimson Tide'@en</td>\n",
       "      <td>'Gene Hackman'@en</td>\n",
       "    </tr>\n",
       "    <tr>\n",
       "      <th>2</th>\n",
       "      <td>Q1009788</td>\n",
       "      <td>Pcommon_actor</td>\n",
       "      <td>Q1355172</td>\n",
       "      <td>Q150943</td>\n",
       "      <td>Q1009788-Pcommon_actor-Q1355172</td>\n",
       "      <td>'The Conversation'@en</td>\n",
       "      <td>'Wyatt Earp'@en</td>\n",
       "      <td>'Gene Hackman'@en</td>\n",
       "    </tr>\n",
       "    <tr>\n",
       "      <th>3</th>\n",
       "      <td>Q1009788</td>\n",
       "      <td>Pcommon_actor</td>\n",
       "      <td>Q1514670</td>\n",
       "      <td>Q150943</td>\n",
       "      <td>Q1009788-Pcommon_actor-Q1514670</td>\n",
       "      <td>'The Conversation'@en</td>\n",
       "      <td>'Geronimo: An American Legend'@en</td>\n",
       "      <td>'Gene Hackman'@en</td>\n",
       "    </tr>\n",
       "    <tr>\n",
       "      <th>4</th>\n",
       "      <td>Q1009788</td>\n",
       "      <td>Pcommon_actor</td>\n",
       "      <td>Q1591594</td>\n",
       "      <td>Q150943</td>\n",
       "      <td>Q1009788-Pcommon_actor-Q1591594</td>\n",
       "      <td>'The Conversation'@en</td>\n",
       "      <td>'Hawaii'@en</td>\n",
       "      <td>'Gene Hackman'@en</td>\n",
       "    </tr>\n",
       "    <tr>\n",
       "      <th>5</th>\n",
       "      <td>Q1009788</td>\n",
       "      <td>Pcommon_actor</td>\n",
       "      <td>Q181776</td>\n",
       "      <td>Q150943</td>\n",
       "      <td>Q1009788-Pcommon_actor-Q181776</td>\n",
       "      <td>'The Conversation'@en</td>\n",
       "      <td>'Bonnie and Clyde'@en</td>\n",
       "      <td>'Gene Hackman'@en</td>\n",
       "    </tr>\n",
       "    <tr>\n",
       "      <th>6</th>\n",
       "      <td>Q1009788</td>\n",
       "      <td>Pcommon_actor</td>\n",
       "      <td>Q213053</td>\n",
       "      <td>Q150943</td>\n",
       "      <td>Q1009788-Pcommon_actor-Q213053</td>\n",
       "      <td>'The Conversation'@en</td>\n",
       "      <td>'Superman'@en</td>\n",
       "      <td>'Gene Hackman'@en</td>\n",
       "    </tr>\n",
       "    <tr>\n",
       "      <th>7</th>\n",
       "      <td>Q1009788</td>\n",
       "      <td>Pcommon_actor</td>\n",
       "      <td>Q220735</td>\n",
       "      <td>Q150943</td>\n",
       "      <td>Q1009788-Pcommon_actor-Q220735</td>\n",
       "      <td>'The Conversation'@en</td>\n",
       "      <td>'The French Connection'@en</td>\n",
       "      <td>'Gene Hackman'@en</td>\n",
       "    </tr>\n",
       "    <tr>\n",
       "      <th>8</th>\n",
       "      <td>Q1009788</td>\n",
       "      <td>Pcommon_actor</td>\n",
       "      <td>Q232248</td>\n",
       "      <td>Q150943</td>\n",
       "      <td>Q1009788-Pcommon_actor-Q232248</td>\n",
       "      <td>'The Conversation'@en</td>\n",
       "      <td>'Two of a Kind'@en</td>\n",
       "      <td>'Gene Hackman'@en</td>\n",
       "    </tr>\n",
       "    <tr>\n",
       "      <th>9</th>\n",
       "      <td>Q1009788</td>\n",
       "      <td>Pcommon_actor</td>\n",
       "      <td>Q261305</td>\n",
       "      <td>Q150943</td>\n",
       "      <td>Q1009788-Pcommon_actor-Q261305</td>\n",
       "      <td>'The Conversation'@en</td>\n",
       "      <td>'Bite the Bullet'@en</td>\n",
       "      <td>'Gene Hackman'@en</td>\n",
       "    </tr>\n",
       "  </tbody>\n",
       "</table>\n",
       "</div>"
      ],
      "text/plain": [
       "      node1          label     node2    actor  \\\n",
       "0  Q1009788  Pcommon_actor   Q104137  Q150943   \n",
       "1  Q1009788  Pcommon_actor  Q1140085  Q150943   \n",
       "2  Q1009788  Pcommon_actor  Q1355172  Q150943   \n",
       "3  Q1009788  Pcommon_actor  Q1514670  Q150943   \n",
       "4  Q1009788  Pcommon_actor  Q1591594  Q150943   \n",
       "5  Q1009788  Pcommon_actor   Q181776  Q150943   \n",
       "6  Q1009788  Pcommon_actor   Q213053  Q150943   \n",
       "7  Q1009788  Pcommon_actor   Q220735  Q150943   \n",
       "8  Q1009788  Pcommon_actor   Q232248  Q150943   \n",
       "9  Q1009788  Pcommon_actor   Q261305  Q150943   \n",
       "\n",
       "                                id            node1;label  \\\n",
       "0   Q1009788-Pcommon_actor-Q104137  'The Conversation'@en   \n",
       "1  Q1009788-Pcommon_actor-Q1140085  'The Conversation'@en   \n",
       "2  Q1009788-Pcommon_actor-Q1355172  'The Conversation'@en   \n",
       "3  Q1009788-Pcommon_actor-Q1514670  'The Conversation'@en   \n",
       "4  Q1009788-Pcommon_actor-Q1591594  'The Conversation'@en   \n",
       "5   Q1009788-Pcommon_actor-Q181776  'The Conversation'@en   \n",
       "6   Q1009788-Pcommon_actor-Q213053  'The Conversation'@en   \n",
       "7   Q1009788-Pcommon_actor-Q220735  'The Conversation'@en   \n",
       "8   Q1009788-Pcommon_actor-Q232248  'The Conversation'@en   \n",
       "9   Q1009788-Pcommon_actor-Q261305  'The Conversation'@en   \n",
       "\n",
       "                         node2;label        actor;label  \n",
       "0                    'Unforgiven'@en  'Gene Hackman'@en  \n",
       "1                  'Crimson Tide'@en  'Gene Hackman'@en  \n",
       "2                    'Wyatt Earp'@en  'Gene Hackman'@en  \n",
       "3  'Geronimo: An American Legend'@en  'Gene Hackman'@en  \n",
       "4                        'Hawaii'@en  'Gene Hackman'@en  \n",
       "5              'Bonnie and Clyde'@en  'Gene Hackman'@en  \n",
       "6                      'Superman'@en  'Gene Hackman'@en  \n",
       "7         'The French Connection'@en  'Gene Hackman'@en  \n",
       "8                 'Two of a Kind'@en  'Gene Hackman'@en  \n",
       "9               'Bite the Bullet'@en  'Gene Hackman'@en  "
      ]
     },
     "execution_count": 35,
     "metadata": {},
     "output_type": "execute_result"
    }
   ],
   "source": [
    "kgtk(\"\"\"head -i $TEMP/movies.common_actors.tsv.gz\"\"\")"
   ]
  },
  {
   "cell_type": "markdown",
   "metadata": {},
   "source": [
    "Count the number of common actors a pair of movies have and store the count in a separate column"
   ]
  },
  {
   "cell_type": "code",
   "execution_count": 36,
   "metadata": {},
   "outputs": [],
   "source": [
    "kgtk(\"\"\"\n",
    "    query -i $TEMP/movies.common_actors.tsv.gz\n",
    "        --match '(film1)-[eid]->(film2)'\n",
    "        --return 'film1 as node1, \"Pcommon_actor\" as label, film2 as node2, \n",
    "        count(eid) as P1114, eid as id, group_concat(distinct kgtk_lqstring_text(eid.`actor;label`)) as actors'\n",
    "        --order-by 'node1, node2'\n",
    "    -o $TEMP/movies.common_actors.count.1.tsv.gz\n",
    "\"\"\")"
   ]
  },
  {
   "cell_type": "markdown",
   "metadata": {},
   "source": [
    "#### Movies with 1 or more common actors"
   ]
  },
  {
   "cell_type": "code",
   "execution_count": 37,
   "metadata": {},
   "outputs": [],
   "source": [
    "kgtk(\"\"\"\n",
    "    query -i $TEMP/movies.common_actors.count.1.tsv.gz\n",
    "        --match 'common_actor: (film1)-[eid {P1114: count}]->(film2)'\n",
    "        --where 'cast(count, int) > 0'\n",
    "        --return 'film1 as node1, \"Pcommon_actor\" as label, film2 as node2, count as P1114, eid.actors as actors'\n",
    "    -o $TEMP/movies.common_actors.count.tsv.gz\n",
    "\"\"\")"
   ]
  },
  {
   "cell_type": "code",
   "execution_count": 38,
   "metadata": {},
   "outputs": [
    {
     "data": {
      "text/html": [
       "<div>\n",
       "<style scoped>\n",
       "    .dataframe tbody tr th:only-of-type {\n",
       "        vertical-align: middle;\n",
       "    }\n",
       "\n",
       "    .dataframe tbody tr th {\n",
       "        vertical-align: top;\n",
       "    }\n",
       "\n",
       "    .dataframe thead th {\n",
       "        text-align: right;\n",
       "    }\n",
       "</style>\n",
       "<table border=\"1\" class=\"dataframe\">\n",
       "  <thead>\n",
       "    <tr style=\"text-align: right;\">\n",
       "      <th></th>\n",
       "      <th>node1</th>\n",
       "      <th>label</th>\n",
       "      <th>node2</th>\n",
       "      <th>P1114</th>\n",
       "      <th>actors</th>\n",
       "      <th>node1;label</th>\n",
       "      <th>node2;label</th>\n",
       "    </tr>\n",
       "  </thead>\n",
       "  <tbody>\n",
       "    <tr>\n",
       "      <th>0</th>\n",
       "      <td>Q1009788</td>\n",
       "      <td>Pcommon_actor</td>\n",
       "      <td>Q1035124</td>\n",
       "      <td>1</td>\n",
       "      <td>Robert Duvall</td>\n",
       "      <td>'The Conversation'@en</td>\n",
       "      <td>'Captain Newman, M.D.'@en</td>\n",
       "    </tr>\n",
       "    <tr>\n",
       "      <th>1</th>\n",
       "      <td>Q1009788</td>\n",
       "      <td>Pcommon_actor</td>\n",
       "      <td>Q104137</td>\n",
       "      <td>1</td>\n",
       "      <td>Gene Hackman</td>\n",
       "      <td>'The Conversation'@en</td>\n",
       "      <td>'Unforgiven'@en</td>\n",
       "    </tr>\n",
       "    <tr>\n",
       "      <th>2</th>\n",
       "      <td>Q1009788</td>\n",
       "      <td>Pcommon_actor</td>\n",
       "      <td>Q1140085</td>\n",
       "      <td>1</td>\n",
       "      <td>Gene Hackman</td>\n",
       "      <td>'The Conversation'@en</td>\n",
       "      <td>'Crimson Tide'@en</td>\n",
       "    </tr>\n",
       "    <tr>\n",
       "      <th>3</th>\n",
       "      <td>Q1009788</td>\n",
       "      <td>Pcommon_actor</td>\n",
       "      <td>Q1141457</td>\n",
       "      <td>1</td>\n",
       "      <td>Robert Duvall</td>\n",
       "      <td>'The Conversation'@en</td>\n",
       "      <td>'John Q'@en</td>\n",
       "    </tr>\n",
       "    <tr>\n",
       "      <th>4</th>\n",
       "      <td>Q1009788</td>\n",
       "      <td>Pcommon_actor</td>\n",
       "      <td>Q1160186</td>\n",
       "      <td>1</td>\n",
       "      <td>Michael Higgins</td>\n",
       "      <td>'The Conversation'@en</td>\n",
       "      <td>'Death Becomes Her'@en</td>\n",
       "    </tr>\n",
       "    <tr>\n",
       "      <th>5</th>\n",
       "      <td>Q1009788</td>\n",
       "      <td>Pcommon_actor</td>\n",
       "      <td>Q1197684</td>\n",
       "      <td>1</td>\n",
       "      <td>Robert Duvall</td>\n",
       "      <td>'The Conversation'@en</td>\n",
       "      <td>'The Natural'@en</td>\n",
       "    </tr>\n",
       "    <tr>\n",
       "      <th>6</th>\n",
       "      <td>Q1009788</td>\n",
       "      <td>Pcommon_actor</td>\n",
       "      <td>Q1355172</td>\n",
       "      <td>1</td>\n",
       "      <td>Gene Hackman</td>\n",
       "      <td>'The Conversation'@en</td>\n",
       "      <td>'Wyatt Earp'@en</td>\n",
       "    </tr>\n",
       "    <tr>\n",
       "      <th>7</th>\n",
       "      <td>Q1009788</td>\n",
       "      <td>Pcommon_actor</td>\n",
       "      <td>Q1514670</td>\n",
       "      <td>2</td>\n",
       "      <td>Gene Hackman,Robert Duvall</td>\n",
       "      <td>'The Conversation'@en</td>\n",
       "      <td>'Geronimo: An American Legend'@en</td>\n",
       "    </tr>\n",
       "    <tr>\n",
       "      <th>8</th>\n",
       "      <td>Q1009788</td>\n",
       "      <td>Pcommon_actor</td>\n",
       "      <td>Q155458</td>\n",
       "      <td>1</td>\n",
       "      <td>Michael Higgins</td>\n",
       "      <td>'The Conversation'@en</td>\n",
       "      <td>'Staying Alive'@en</td>\n",
       "    </tr>\n",
       "    <tr>\n",
       "      <th>9</th>\n",
       "      <td>Q1009788</td>\n",
       "      <td>Pcommon_actor</td>\n",
       "      <td>Q1591594</td>\n",
       "      <td>1</td>\n",
       "      <td>Gene Hackman</td>\n",
       "      <td>'The Conversation'@en</td>\n",
       "      <td>'Hawaii'@en</td>\n",
       "    </tr>\n",
       "  </tbody>\n",
       "</table>\n",
       "</div>"
      ],
      "text/plain": [
       "      node1          label     node2  P1114                      actors  \\\n",
       "0  Q1009788  Pcommon_actor  Q1035124      1               Robert Duvall   \n",
       "1  Q1009788  Pcommon_actor   Q104137      1                Gene Hackman   \n",
       "2  Q1009788  Pcommon_actor  Q1140085      1                Gene Hackman   \n",
       "3  Q1009788  Pcommon_actor  Q1141457      1               Robert Duvall   \n",
       "4  Q1009788  Pcommon_actor  Q1160186      1             Michael Higgins   \n",
       "5  Q1009788  Pcommon_actor  Q1197684      1               Robert Duvall   \n",
       "6  Q1009788  Pcommon_actor  Q1355172      1                Gene Hackman   \n",
       "7  Q1009788  Pcommon_actor  Q1514670      2  Gene Hackman,Robert Duvall   \n",
       "8  Q1009788  Pcommon_actor   Q155458      1             Michael Higgins   \n",
       "9  Q1009788  Pcommon_actor  Q1591594      1                Gene Hackman   \n",
       "\n",
       "             node1;label                        node2;label  \n",
       "0  'The Conversation'@en          'Captain Newman, M.D.'@en  \n",
       "1  'The Conversation'@en                    'Unforgiven'@en  \n",
       "2  'The Conversation'@en                  'Crimson Tide'@en  \n",
       "3  'The Conversation'@en                        'John Q'@en  \n",
       "4  'The Conversation'@en             'Death Becomes Her'@en  \n",
       "5  'The Conversation'@en                   'The Natural'@en  \n",
       "6  'The Conversation'@en                    'Wyatt Earp'@en  \n",
       "7  'The Conversation'@en  'Geronimo: An American Legend'@en  \n",
       "8  'The Conversation'@en                 'Staying Alive'@en  \n",
       "9  'The Conversation'@en                        'Hawaii'@en  "
      ]
     },
     "execution_count": 38,
     "metadata": {},
     "output_type": "execute_result"
    }
   ],
   "source": [
    "kgtk(\"\"\"head -i $TEMP/movies.common_actors.count.tsv.gz / add-labels\"\"\")"
   ]
  },
  {
   "cell_type": "code",
   "execution_count": 39,
   "metadata": {},
   "outputs": [],
   "source": [
    "kgtk(f\"\"\"query -i $TEMP/movies.common_actors.count.tsv.gz\n",
    "         --match 'common_actor: (n1)-[]->()'\n",
    "         --return 'distinct n1 as node1'\n",
    "         -o $TEMP/movies.common_actors.node1.tsv\n",
    "\"\"\")"
   ]
  },
  {
   "cell_type": "code",
   "execution_count": 40,
   "metadata": {},
   "outputs": [],
   "source": [
    "kgtk(f\"\"\"query -i $TEMP/movies.common_actors.count.tsv.gz\n",
    "         --match 'common_actor: ()-[]->(n2)'\n",
    "         --return 'distinct n2 as node1'\n",
    "         -o $TEMP/movies.common_actors.node2.tsv\n",
    "\"\"\")"
   ]
  },
  {
   "cell_type": "code",
   "execution_count": 41,
   "metadata": {},
   "outputs": [],
   "source": [
    "kgtk(f\"\"\"cat -i $TEMP/movies.common_actors.node1.tsv \n",
    "             -i $TEMP/movies.common_actors.node2.tsv \n",
    "             --mode NONE  \n",
    "             -o $TEMP/movies.common_actors.node.tsv\n",
    "\"\"\")"
   ]
  },
  {
   "cell_type": "markdown",
   "metadata": {},
   "source": [
    "The following kypher query create a node file to be used as an input to the `kgtk visualize-graph` command.\n",
    "\n",
    "Finds the genre and actors for a movie, concatenating multiple genres and actors to a comma separated string."
   ]
  },
  {
   "cell_type": "code",
   "execution_count": 45,
   "metadata": {},
   "outputs": [],
   "source": [
    "kgtk(f\"\"\"query -i $TEMP/movies.common_actors.node.tsv -i label -i item\n",
    "         --match 'common_actor: (n1)-[]->(),\n",
    "                 label: (n1)-[]->(n1_label),\n",
    "                 item: (n1)-[:P161]->(actor),\n",
    "                 label: (actor)-[]->(actor_label)'\n",
    "         --opt   'item: (n1)-[:P136]->(genre)'\n",
    "         --opt   'label: (genre)-[]->(g_label)'\n",
    "         --return 'distinct n1 as id, \n",
    "                   n1_label as label,  \n",
    "                   group_concat(distinct kgtk_lqstring_text(g_label)) as genre, \n",
    "                   group_concat(distinct kgtk_lqstring_text(actor_label)) as actors,\n",
    "                   printf(\"%s<BR>Genre: %s<BR>Cast: %s\", kgtk_lqstring_text(n1_label), \n",
    "                   replace(group_concat(distinct kgtk_lqstring_text(g_label)), \",\", \", \"), replace(group_concat(distinct kgtk_lqstring_text(actor_label)), \",\", \", \")) as tooltip'\n",
    "         -o $TEMP/movies.node.file.tsv\n",
    "\"\"\")"
   ]
  },
  {
   "cell_type": "markdown",
   "metadata": {},
   "source": [
    "Run the [kgtk visualize-graph](https://kgtk.readthedocs.io/en/latest/analysis/visualize-graph) command\n",
    "\n",
    "The following command will draw the graph as:\n",
    "\n",
    "- an edge exists between two movie nodes if they have `1` or more common actors\n",
    "- edge width between two movies is proportionate to number of common actors\n",
    "- movie node color represents the genre of the movie"
   ]
  },
  {
   "cell_type": "code",
   "execution_count": 46,
   "metadata": {},
   "outputs": [],
   "source": [
    "kgtk(\"\"\"visualize-graph \n",
    "        -i $TEMP/movies.common_actors.count.tsv.gz\n",
    "        --node-file $TEMP/movies.node.file.tsv\n",
    "        --edge-width-column P1114\n",
    "        --edge-width-minimum 0.5\n",
    "        --edge-width-maximum 1\n",
    "        --edge-color-default '#888888'\n",
    "        --edge-width-scale linear\n",
    "        --node-color-column genre\n",
    "        --node-color-style categorical\n",
    "        --tooltip-column tooltip\n",
    "        --show-text above\n",
    "        -o $OUT/movies.gt1.common_actors.genre.html\"\"\")"
   ]
  },
  {
   "cell_type": "markdown",
   "metadata": {},
   "source": [
    "![Movies](https://raw.githubusercontent.com/usc-isi-i2/kgtk-notebooks/main/tutorial/assets/movies.gt1.genre.png)"
   ]
  },
  {
   "cell_type": "code",
   "execution_count": 47,
   "metadata": {},
   "outputs": [],
   "source": [
    "!open $OUT/movies.gt1.common_actors.genre.html"
   ]
  },
  {
   "cell_type": "markdown",
   "metadata": {},
   "source": [
    "#### Movies with 3 or more common actors"
   ]
  },
  {
   "cell_type": "code",
   "execution_count": 48,
   "metadata": {},
   "outputs": [],
   "source": [
    "kgtk(\"\"\"\n",
    "    query -i $TEMP/movies.common_actors.count.1.tsv.gz\n",
    "        --match 'common_actor: (film1)-[eid {P1114: count}]->(film2)'\n",
    "        --where 'cast(count, int) > 2'\n",
    "        --return 'film1 as node1, \"Pcommon_actor\" as label, film2 as node2, count as P1114, eid.actors as actors'\n",
    "    -o $TEMP/movies.common_actors.count.3.tsv.gz\n",
    "\"\"\")"
   ]
  },
  {
   "cell_type": "code",
   "execution_count": 49,
   "metadata": {},
   "outputs": [],
   "source": [
    "kgtk(f\"\"\"query -i $TEMP/movies.common_actors.count.3.tsv.gz\n",
    "         --match 'common_actor: (n1)-[]->()'\n",
    "         --return 'distinct n1 as node1'\n",
    "         -o $TEMP/movies.common_actors.node31.tsv\n",
    "\"\"\")"
   ]
  },
  {
   "cell_type": "code",
   "execution_count": 50,
   "metadata": {},
   "outputs": [],
   "source": [
    "kgtk(f\"\"\"query -i $TEMP/movies.common_actors.count.3.tsv.gz\n",
    "         --match 'common_actor: ()-[]->(n2)'\n",
    "         --return 'distinct n2 as node1'\n",
    "         -o $TEMP/movies.common_actors.node32.tsv\n",
    "\"\"\")"
   ]
  },
  {
   "cell_type": "code",
   "execution_count": 51,
   "metadata": {},
   "outputs": [],
   "source": [
    "kgtk(f\"\"\"cat -i $TEMP/movies.common_actors.node31.tsv \n",
    "             -i $TEMP/movies.common_actors.node32.tsv \n",
    "             --mode NONE  \n",
    "             -o $TEMP/movies.common_actors.node.3.tsv\n",
    "\"\"\")"
   ]
  },
  {
   "cell_type": "markdown",
   "metadata": {},
   "source": [
    "The following kypher query create a node file to be used as an input to the `kgtk visualize-graph` command.\n",
    "\n",
    "Finds the genre and actors for a movie, concatenating multiple genres and actors to a comma separated string."
   ]
  },
  {
   "cell_type": "code",
   "execution_count": 54,
   "metadata": {},
   "outputs": [],
   "source": [
    "kgtk(f\"\"\"query -i $TEMP/movies.common_actors.node.3.tsv -i label -i item\n",
    "         --match 'common_actor: (n1)-[]->(),\n",
    "                 label: (n1)-[]->(n1_label),\n",
    "                 item: (n1)-[:P161]->(actor),\n",
    "                 label: (actor)-[]->(actor_label)'\n",
    "         --opt   'item: (n1)-[:P136]->(genre)'\n",
    "         --opt   'label: (genre)-[]->(g_label)'\n",
    "         --return 'distinct n1 as id, \n",
    "                   n1_label as label,  \n",
    "                   group_concat(distinct kgtk_lqstring_text(g_label)) as genre, \n",
    "                   group_concat(distinct kgtk_lqstring_text(actor_label)) as actors,\n",
    "                   printf(\"%s<BR>Genre: %s<BR>Cast: %s\", kgtk_lqstring_text(n1_label), \n",
    "                   replace(group_concat(distinct kgtk_lqstring_text(g_label)), \",\", \", \"), \n",
    "                   replace(group_concat(distinct kgtk_lqstring_text(actor_label)), \",\", \", \")) as tooltip'\n",
    "         -o $TEMP/movies.node.file.2.tsv\n",
    "\"\"\")"
   ]
  },
  {
   "cell_type": "markdown",
   "metadata": {},
   "source": [
    "Run the [kgtk visualize-graph](https://kgtk.readthedocs.io/en/latest/analysis/visualize-graph) command\n",
    "\n",
    "The following command will draw the graph as:\n",
    "\n",
    "- an edge exists between two movie nodes if they have `3` or more common actors\n",
    "- edge width between two movies is proportionate to number of common actors\n",
    "- movie node color represents the genre of the movie"
   ]
  },
  {
   "cell_type": "code",
   "execution_count": 55,
   "metadata": {},
   "outputs": [],
   "source": [
    "kgtk(\"\"\"visualize-graph \n",
    "        -i $TEMP/movies.common_actors.count.3.tsv.gz\n",
    "        --node-file $TEMP/movies.node.file.2.tsv\n",
    "        --edge-width-column P1114\n",
    "        --edge-width-minimum 0.5\n",
    "        --edge-width-maximum 1\n",
    "        --edge-color-default '#888888'\n",
    "        --edge-width-scale linear\n",
    "        --node-color-column genre\n",
    "        --node-color-style categorical\n",
    "        --tooltip-column tooltip\n",
    "        --show-text above\n",
    "        -o $OUT/movies.gt3.common_actors.genre.html\"\"\")"
   ]
  },
  {
   "cell_type": "code",
   "execution_count": 56,
   "metadata": {},
   "outputs": [],
   "source": [
    "!open $OUT/movies.gt3.common_actors.genre.html"
   ]
  },
  {
   "cell_type": "markdown",
   "metadata": {},
   "source": [
    "#### Visualize Movies according to Awards won"
   ]
  },
  {
   "cell_type": "code",
   "execution_count": 57,
   "metadata": {},
   "outputs": [],
   "source": [
    "kgtk(\"\"\"\n",
    "    query -i $TEMP/movies.common_actors.count.1.tsv.gz\n",
    "        --match 'common_actor: (film1)-[eid {P1114: count}]->(film2)'\n",
    "        --where 'cast(count, int) > 2'\n",
    "        --return 'film1 as node1, \"Pcommon_actor\" as label, film2 as node2, count as P1114, eid.actors as actors'\n",
    "    -o $TEMP/movies.common_actors.count.4.tsv.gz\n",
    "\"\"\")"
   ]
  },
  {
   "cell_type": "code",
   "execution_count": 58,
   "metadata": {},
   "outputs": [],
   "source": [
    "kgtk(f\"\"\"query -i $TEMP/movies.common_actors.count.4.tsv.gz\n",
    "         --match 'common_actor: (n1)-[]->()'\n",
    "         --return 'distinct n1 as node1'\n",
    "         -o $TEMP/movies.common_actors.node41.tsv\n",
    "\"\"\")"
   ]
  },
  {
   "cell_type": "code",
   "execution_count": 59,
   "metadata": {},
   "outputs": [],
   "source": [
    "kgtk(f\"\"\"query -i $TEMP/movies.common_actors.count.4.tsv.gz\n",
    "         --match 'common_actor: ()-[]->(n2)'\n",
    "         --return 'distinct n2 as node1'\n",
    "         -o $TEMP/movies.common_actors.node42.tsv\n",
    "\"\"\")"
   ]
  },
  {
   "cell_type": "code",
   "execution_count": 60,
   "metadata": {},
   "outputs": [],
   "source": [
    "kgtk(f\"\"\"cat -i $TEMP/movies.common_actors.node41.tsv \n",
    "             -i $TEMP/movies.common_actors.node42.tsv \n",
    "             --mode NONE  \n",
    "             -o $TEMP/movies.common_actors.node.4.tsv\n",
    "\"\"\")"
   ]
  },
  {
   "cell_type": "markdown",
   "metadata": {},
   "source": [
    "The following kypher query create a node file to be used as an input to the `kgtk visualize-graph` command.\n",
    "\n",
    "Finds the awards and actors for a movie, concatenating multiple awards and actors to comma separated strings. Also stores the award count."
   ]
  },
  {
   "cell_type": "code",
   "execution_count": 62,
   "metadata": {},
   "outputs": [],
   "source": [
    "kgtk(f\"\"\"query -i $TEMP/movies.common_actors.node.4.tsv -i label -i item\n",
    "         --match 'common_actor: (n1)-[]->(),\n",
    "                 label: (n1)-[]->(n1_label),\n",
    "                 item: (n1)-[:P161]->(actor),\n",
    "                 label: (actor)-[]->(actor_label)'\n",
    "        --opt    'item: (n1)-[:P166]->(award),\n",
    "                 label: (award)-[]->(award_label)'\n",
    "         --return 'distinct n1 as id, \n",
    "                   n1_label as label,  \n",
    "                   count(distinct award) as award_count,\n",
    "                   group_concat(distinct kgtk_lqstring_text(award_label)) as awards,\n",
    "                   group_concat(distinct kgtk_lqstring_text(actor_label)) as actors,\n",
    "                   printf(\"%s<BR>Awards (%s): %s<BR>Cast: %s\", kgtk_lqstring_text(n1_label), \n",
    "                   count(distinct award), \n",
    "                   replace(group_concat(distinct kgtk_lqstring_text(award_label)), \",\", \", \"), \n",
    "                   replace(group_concat(distinct kgtk_lqstring_text(actor_label)), \",\", \", \")) as tooltip'\n",
    "         -o $TEMP/movies.node.file.4.tsv\n",
    "\"\"\")"
   ]
  },
  {
   "cell_type": "markdown",
   "metadata": {},
   "source": [
    "Run the [kgtk visualize-graph](https://kgtk.readthedocs.io/en/latest/analysis/visualize-graph) command\n",
    "\n",
    "The following command will draw the graph as:\n",
    "\n",
    "- an edge exists between two movie nodes if they have `3` or more common actors\n",
    "- edge width between two movies is proportionate to number of common actors\n",
    "- movie node color represents the award(s) a movie has won\n",
    "- size of the movie node depends on the number of awards it has won"
   ]
  },
  {
   "cell_type": "code",
   "execution_count": 72,
   "metadata": {},
   "outputs": [],
   "source": [
    "kgtk(\"\"\"visualize-graph \n",
    "        -i $TEMP/movies.common_actors.count.4.tsv.gz\n",
    "        --node-file $TEMP/movies.node.file.4.tsv\n",
    "        --edge-width-column P1114\n",
    "        --edge-width-minimum 0.5\n",
    "        --edge-width-maximum 1\n",
    "        --edge-color-default '#888888'\n",
    "        --edge-width-scale linear\n",
    "        --node-color-column awards\n",
    "        --node-color-style categorical\n",
    "        --tooltip-column tooltip\n",
    "        --show-text above\n",
    "        --node-size-column award_count\n",
    "        --node-size-scale linear\n",
    "        --node-size-minimum 1\n",
    "        --node-size-maximum 20\n",
    "        -o $OUT/movies.common_actors.awards.html\"\"\")"
   ]
  },
  {
   "cell_type": "code",
   "execution_count": 73,
   "metadata": {},
   "outputs": [],
   "source": [
    "!open $OUT/movies.common_actors.awards.html"
   ]
  },
  {
   "cell_type": "markdown",
   "metadata": {},
   "source": [
    "![Movies](https://raw.githubusercontent.com/usc-isi-i2/kgtk-notebooks/main/tutorial/assets/movies.award.png)"
   ]
  },
  {
   "cell_type": "markdown",
   "metadata": {},
   "source": [
    "#### Visualize Movies according to Publication Date and Box Office Collections"
   ]
  },
  {
   "cell_type": "markdown",
   "metadata": {},
   "source": [
    "The following kypher query create a node file to be used as an input to the `kgtk visualize-graph` command.\n",
    "\n",
    "Finds the publication year and box office collections for a movie, in case of multiple entries, keep the most recent one."
   ]
  },
  {
   "cell_type": "code",
   "execution_count": 88,
   "metadata": {},
   "outputs": [],
   "source": [
    "kgtk(f\"\"\"query -i $TEMP/movies.common_actors.node.4.tsv -i label -i time -i quantity\n",
    "         --match 'common_actor: (n1)-[]->(),\n",
    "                 label: (n1)-[]->(n1_label)'\n",
    "        --opt    'quantity: (n1)-[:P2142]->(box_office),\n",
    "                  time: (n1)-[:P577]->(publication_date)'\n",
    "         --return 'distinct n1 as id, \n",
    "                   n1_label as label,  \n",
    "                   max(kgtk_quantity_number(box_office)) as bo_collection,\n",
    "                   max(distinct(kgtk_date_year(publication_date))) as publication_year,\n",
    "                   printf(\"%s (%s)<BR>Publication Year: %s<BR>Box Office: %s\", kgtk_lqstring_text(n1_label), n1,\n",
    "                   max(distinct(kgtk_date_year(publication_date))),\n",
    "                   printf(\"$%,d\", max(kgtk_quantity_number(box_office)))) as tooltip'\n",
    "         -o $TEMP/movies.node.file.5.tsv\n",
    "\"\"\")"
   ]
  },
  {
   "cell_type": "markdown",
   "metadata": {},
   "source": [
    "Run the [kgtk visualize-graph](https://kgtk.readthedocs.io/en/latest/analysis/visualize-graph) command\n",
    "\n",
    "The following command will draw the graph as:\n",
    "\n",
    "- an edge exists between two movie nodes if they have `3` or more common actors\n",
    "- edge width between two movies is proportionate to number of common actors\n",
    "- movie node color represents the year of publication\n",
    "- size of the movie node depends on the box office collections"
   ]
  },
  {
   "cell_type": "code",
   "execution_count": 89,
   "metadata": {},
   "outputs": [],
   "source": [
    "kgtk(\"\"\"visualize-graph \n",
    "        -i $TEMP/movies.common_actors.count.4.tsv.gz\n",
    "        --node-file $TEMP/movies.node.file.5.tsv\n",
    "        --edge-width-column P1114\n",
    "        --edge-width-minimum 0.5\n",
    "        --edge-width-maximum 1\n",
    "        --edge-color-default '#888888'\n",
    "        --edge-width-scale linear\n",
    "        --node-color-column publication_year\n",
    "        --node-color-style gradient\n",
    "        --tooltip-column tooltip\n",
    "        --show-text above\n",
    "        --node-size-column bo_collection\n",
    "        --node-size-scale linear\n",
    "        --node-size-minimum 1\n",
    "        --node-size-maximum 20\n",
    "        -o $OUT/movies.common_actors.year.box_office.html\"\"\")"
   ]
  },
  {
   "cell_type": "markdown",
   "metadata": {},
   "source": [
    "![Movies](https://raw.githubusercontent.com/usc-isi-i2/kgtk-notebooks/main/tutorial/assets/movies.year.boxoffice.png)"
   ]
  },
  {
   "cell_type": "code",
   "execution_count": 91,
   "metadata": {},
   "outputs": [],
   "source": [
    "!open $OUT/movies.common_actors.year.box_office.html"
   ]
  },
  {
   "cell_type": "markdown",
   "metadata": {},
   "source": [
    "### Use Graph Tool for visualization"
   ]
  },
  {
   "cell_type": "markdown",
   "metadata": {},
   "source": [
    "The KGTK `export-gt` command makes it easy to export KGs to `graph tool` (https://graph-tool.skewed.de) , a high perfromance graph analytics and visualization tool:"
   ]
  },
  {
   "cell_type": "code",
   "execution_count": null,
   "metadata": {},
   "outputs": [],
   "source": [
    "!kgtk export-gt -i $OUT/arnold.family.tsv -o $OUT/arnold.family.gt"
   ]
  },
  {
   "cell_type": "markdown",
   "metadata": {},
   "source": [
    "Once the graph is in `graph-tool` format, it is easy to compute networks metrics such as betweenees centrality, and to visualize the graph.\n",
    "Below is a visualization of Arnold's family graph where the color of the nodes and the thickness of the lines shows betweenees centrality:"
   ]
  },
  {
   "cell_type": "markdown",
   "metadata": {},
   "source": [
    "**DO NOT RUN THE FOLLOWING CELL IN GOOGLE COLAB. graph-tool does not install properly**"
   ]
  },
  {
   "cell_type": "code",
   "execution_count": null,
   "metadata": {},
   "outputs": [],
   "source": [
    "path = os.environ[\"OUT\"] + \"/arnold.family.gt\"\n",
    "g = load_graph(path)\n",
    "\n",
    "bv, be = betweenness(g)\n",
    "be.a /= be.a.max() / 5\n",
    "graph_draw(g, vertex_fill_color=bv, edge_pen_width=be, vertex_size=15)"
   ]
  },
  {
   "cell_type": "markdown",
   "metadata": {},
   "source": [
    "`graph-tool` is a very rich library. Here is a visualization of the hierarchical structure of Arnold's extended family:\n",
    "> More work with the library is needed to interpret the visualization (not part of this tutorial)"
   ]
  },
  {
   "cell_type": "markdown",
   "metadata": {},
   "source": [
    "**DO NOT RUN IN GOOGLE COLAB. graph-tool does not install properly**"
   ]
  },
  {
   "cell_type": "code",
   "execution_count": null,
   "metadata": {},
   "outputs": [],
   "source": [
    "path = os.environ[\"OUT\"] + \"/arnold.family.gt\"\n",
    "g = load_graph(path)\n",
    "\n",
    "state = minimize_nested_blockmodel_dl(g)\n",
    "draw_hierarchy(state)"
   ]
  },
  {
   "cell_type": "markdown",
   "metadata": {},
   "source": [
    "### Summary of this section:\n",
    "In this section we:\n",
    "- Uses the `paths` command to find paths between pairs of nodes.\n",
    "- Used the `export-gt` command to export a KG to `graph tool` format.\n",
    "- Used `graph tool` to compute betweeness centrality and visualize a KG."
   ]
  },
  {
   "cell_type": "markdown",
   "metadata": {},
   "source": [
    "## Computing connected components\n",
    "In this section we will find the connected components of the tutorial graph and clean up the graph to remove isolated small components.\n",
    "\n",
    "The KGTK command `connected-components` finds the connected components of a graph, and outputs a new graph that records the connected component that each item belongs to."
   ]
  },
  {
   "cell_type": "code",
   "execution_count": null,
   "metadata": {},
   "outputs": [],
   "source": [
    "kgtk(\"\"\"\n",
    "    connected-components -i $item\n",
    "        --minimum-cluster-size 1\n",
    "        --undirected \n",
    "        -o $TEMP/item.connected_components.tsv\n",
    "\"\"\")"
   ]
  },
  {
   "cell_type": "markdown",
   "metadata": {},
   "source": [
    "The `connected-components` command outputs the connected components as a graph:"
   ]
  },
  {
   "cell_type": "code",
   "execution_count": null,
   "metadata": {},
   "outputs": [],
   "source": [
    "!head $TEMP/item.connected_components.tsv"
   ]
  },
  {
   "cell_type": "markdown",
   "metadata": {},
   "source": [
    "Find the sizes of each of the connected components using an aggregation query:"
   ]
  },
  {
   "cell_type": "code",
   "execution_count": null,
   "metadata": {},
   "outputs": [],
   "source": [
    "kgtk(\"\"\"\n",
    "    query -i $TEMP/item.connected_components.tsv\n",
    "        --match '\n",
    "            (item)-[]->(component)'\n",
    "        --return 'distinct component as node1, count(distinct item) as node2'\n",
    "\"\"\")"
   ]
  },
  {
   "cell_type": "markdown",
   "metadata": {},
   "source": [
    "There is one large cluster and several small isolated clusters. We want to keep the large cluster, so we select the nodes that belong to the large cluster:"
   ]
  },
  {
   "cell_type": "code",
   "execution_count": null,
   "metadata": {},
   "outputs": [],
   "source": [
    "kgtk(\"\"\"\n",
    "    query -i $TEMP/item.connected_components.tsv\n",
    "        --match '\n",
    "            (item)-[]->(:`CLUSnhDzMpk859X1mzkDWfSLBg==`)'\n",
    "        --return 'distinct item as node1'\n",
    "    / add-labels\n",
    "\"\"\")"
   ]
  },
  {
   "cell_type": "markdown",
   "metadata": {},
   "source": [
    "Store the large cluster graph in a file (`large-cluster.tsv`) so that we can use it in queries:\n",
    "> In this example we don't give the graph an alias; instead, we use the path where the graph is stored as an input to the `query` command. KGTK will load the graph in the cache database, and reuse it in subsequent queries:"
   ]
  },
  {
   "cell_type": "code",
   "execution_count": null,
   "metadata": {},
   "outputs": [],
   "source": [
    "kgtk(\"\"\"\n",
    "    query -i $TEMP/item.connected_components.tsv\n",
    "        --match '\n",
    "            (item)-[]->(:`CLUSnhDzMpk859X1mzkDWfSLBg==`)'\n",
    "        --return 'distinct item as node1'\n",
    "    -o $TEMP/large-cluster.tsv\n",
    "\"\"\")"
   ]
  },
  {
   "cell_type": "markdown",
   "metadata": {},
   "source": [
    "Now we want to subset the `item` graph to keep the edges that connect nodes in the large cluster, and discard the edges in the small clusters.\n",
    "We do this in a query that selects all edges from the `item` graph, as long as both nodes in the edge are in the `node1` position in the `large-cluster.tsv` graph.\n",
    "> Note that the `large-cluster` graph consists of a set of nodes stored in `node1`, and the graph has no edges. The `query` command can use graphs with no edges using the shorthand `cluster: (n1)`"
   ]
  },
  {
   "cell_type": "code",
   "execution_count": null,
   "metadata": {},
   "outputs": [],
   "source": [
    "%%time\n",
    "kgtk(\"\"\"\n",
    "    query -i $TEMP/large-cluster.tsv -i item\n",
    "        --match '\n",
    "            item: (n1)-[l]->(n2),\n",
    "            cluster: (n1),\n",
    "            cluster: (n2)'\n",
    "        --return 'distinct n1 as node1, l.label as label, n2 as node2, l as id'\n",
    "\"\"\")"
   ]
  },
  {
   "cell_type": "markdown",
   "metadata": {},
   "source": [
    "Compare the number of edges of our new graph consisting of the large connected component with the number of edges in the original graph. \n",
    "We use the Unix `wc` command to count the number of edges in the original `item` graph:"
   ]
  },
  {
   "cell_type": "code",
   "execution_count": null,
   "metadata": {},
   "outputs": [],
   "source": [
    "!zcat< $item | wc -l"
   ]
  },
  {
   "cell_type": "markdown",
   "metadata": {},
   "source": [
    "The original graph had a few more edges, so looks like our query did the job. Store the large cluster graph in a file so that we can visualize it:"
   ]
  },
  {
   "cell_type": "code",
   "execution_count": null,
   "metadata": {},
   "outputs": [],
   "source": [
    "%%time\n",
    "kgtk(\"\"\"\n",
    "    query -i $TEMP/large-cluster.tsv -i item\n",
    "        --match '\n",
    "            item: (n1)-[l]->(n2),\n",
    "            cluster: (n1),\n",
    "            cluster: (n2)'\n",
    "        --return 'distinct n1 as node1, l.label as label, n2 as node2, l as id'\n",
    "    / compact\n",
    "    -o $OUT/item.large-cluster.tsv\n",
    "\"\"\")"
   ]
  },
  {
   "cell_type": "markdown",
   "metadata": {},
   "source": [
    "### Visualization of the large connected component\n",
    "\n",
    "To compute the visualization, use the `export-gt` to export the large connected component to `graph-tool format`:"
   ]
  },
  {
   "cell_type": "code",
   "execution_count": null,
   "metadata": {},
   "outputs": [],
   "source": [
    "!kgtk export-gt -i $OUT/item.large-cluster.tsv -o $OUT/item.large-cluster.gt"
   ]
  },
  {
   "cell_type": "markdown",
   "metadata": {},
   "source": [
    "The following code loads the graph in `graph-tool` and computes the visualization. It takes 3 minutes to compute the layout and render the visualization, so the code is commented out. An image of the visualization appears below."
   ]
  },
  {
   "cell_type": "markdown",
   "metadata": {},
   "source": [
    "```\n",
    "%%time\n",
    "path = os.environ[\"OUT\"] + \"/item.large-cluster.gt\"\n",
    "g = load_graph(path)\n",
    "\n",
    "pos = sfdp_layout(g)\n",
    "graph_draw(g, pos=pos, output_size=(1000, 1000))\n",
    "```"
   ]
  },
  {
   "cell_type": "markdown",
   "metadata": {},
   "source": [
    "Visualization of the large connected component of the tutorial graph (393,704 edges). The visualization illustrates the process we used to build the graph: we started at the `Arnold Schwarzenegger (Q2685)` and did a breath first expansion for 3 levels. Then we did a depth-first starting from the nodes representing classes to find the complete closure of the classes.\n",
    "\n",
    "![Visualization of the tutorial graph](https://github.com/usc-isi-i2/kgtk-tutorial-files/blob/main/media/arnold-graph-vsualization.png?raw=true)"
   ]
  },
  {
   "cell_type": "markdown",
   "metadata": {},
   "source": [
    "> The following code computes betweeness centrality of the large connected component and visualizes it"
   ]
  },
  {
   "cell_type": "markdown",
   "metadata": {},
   "source": [
    "```\n",
    "%%time\n",
    "path = os.environ[\"OUT\"] + \"/item.large-cluster.gt\"\n",
    "g = load_graph(path)\n",
    "\n",
    "bv, be = betweenness(g)\n",
    "be.a /= be.a.max() / 5\n",
    "graph_draw(g, vertex_fill_color=bv, edge_pen_width=be, output_size=(1500, 1500))\n",
    "```"
   ]
  },
  {
   "cell_type": "markdown",
   "metadata": {},
   "source": [
    "### Summary of this section\n",
    "In this section we:\n",
    "- Computed the connected components of the tutorial graph using the `connected-components` command.\n",
    "- Discovered that the tutorial graph contained one large cluster (expected) and a few isolated tiny clusters (unexpected).\n",
    "- Created a new graph discarding the tiny isolated clusters.\n",
    "- Visualized the large connected component."
   ]
  },
  {
   "cell_type": "code",
   "execution_count": null,
   "metadata": {},
   "outputs": [],
   "source": []
  }
 ],
 "metadata": {
  "kernelspec": {
   "display_name": "kgtk-env",
   "language": "python",
   "name": "kgtk-env"
  },
  "language_info": {
   "codemirror_mode": {
    "name": "ipython",
    "version": 3
   },
   "file_extension": ".py",
   "mimetype": "text/x-python",
   "name": "python",
   "nbconvert_exporter": "python",
   "pygments_lexer": "ipython3",
   "version": "3.9.7"
  }
 },
 "nbformat": 4,
 "nbformat_minor": 4
}

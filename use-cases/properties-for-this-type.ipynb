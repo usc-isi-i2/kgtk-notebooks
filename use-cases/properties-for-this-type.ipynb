{
 "cells": [
  {
   "cell_type": "markdown",
   "metadata": {
    "tags": []
   },
   "source": [
    "# P1963-computed: A graph recording the properties used in all instances of all classes\n",
    "\n",
    "Wikidata has a property `properties for this type (P1963)` where editors can manually specify the properties that should be used to describe the instance of a class. \n",
    "This property is only defined for a small number of classes, and the properties listed are incomplete. In this use-case we compute the properties used for each class from the instances.\n",
    "\n",
    "We invent a new property `P1963computed` to record the properties used in the instances of each class. In addition, we compute the counts, which we store as a quailifier `quantity (P1114)`\n",
    "\n",
    "We compute two variants of these counts:\n",
    "- `P1963computed` records the properties and counts for the direct instance of a class, includeing `P31x`\n",
    "- `P1963computed_star` records the properties including the instances of every subclass below a class.\n",
    "\n",
    "Properties computed in this notebook:\n",
    "- `P31x`, a generalization of `instance of: P31`, sotred in `derived.P31x.tsv`\n",
    "- `Pinstance_count`, counts the number of `P31/P31x` instances of a class, in `statistics.Pinstance_count.tsv.gz`\n",
    "- `Pinstance_count_star`, same as `Pinstance_count`, but includes instances of the subclasses, in `statistics.Pinstance_count.star.tsv.gz`\n",
    "- `P1963computed` in `derived.class.P1963computed.count.tsv.gz`\n",
    "- `P1963computed_star` in `derived.P1963computed.count.star.tsv.gz`\n",
    "- `Pproperty_domain` in `derived.Pproperty_domain.tsv.gz`\n",
    "\n",
    "### `derived.P31x.tsv` contains the union of `P31` and `P31x`:\n",
    "Below is an example of some of the edges for Arnold Schwarzenegger:\n",
    "\n",
    "| node1 | label | node2 | id | node1;label | label;label | node2;label |\n",
    "| -- | -- | -- | -- | -- | -- | -- |\n",
    "| Q2685 | P31 | Q5 | Q2685-P31-Q5-eb1e33fe-0 | 'Arnold Schwarzenegger'@en | 'instance of'@en | 'human'@en |\n",
    "| Q2685 | P31x | Q10800557 | Q2685-P31x-Q10800557 | 'Arnold Schwarzenegger'@en |  | 'film actor'@en |\n",
    "| Q2685 | P31x | Q124100 | Q2685-P31x-Q124100 | 'Arnold Schwarzenegger'@en |  | 'bodybuilding'@en |\n",
    "| Q2685 | P31x | Q131524 | Q2685-P31x-Q131524 | 'Arnold Schwarzenegger'@en |  | 'entrepreneur'@en |\n",
    "| Q2685 | P31x | Q5 | Q2685-P31x-Q5 | 'Arnold Schwarzenegger'@en |  | 'human'@en |\n",
    "\n",
    "\n",
    "### `Pinstance_count` and `Pinstance_count_star` examples\n",
    "\n",
    "| node1 | label | node2 | id | node1;label |\n",
    "| -- | -- | -- | -- | -- |\n",
    "| Q1000017 | Pinstance_count | 1 | Q1000017-Pinstance_count-6b86b2 | 'Brentidae'@en |\n",
    "| Q1000091 | Pinstance_count | 1 | Q1000091-Pinstance_count-6b86b2 | 'Rychnov nad Kněžnou'@en |\n",
    "| Q1000156 | Pinstance_count | 11 | Q1000156-Pinstance_count-4fc82b |  |\n",
    "| Q100023 | Pinstance_count | 1 | Q100023-Pinstance_count-6b86b2 | 'metasyntactic variable'@en |\n",
    "| Q100026 | Pinstance_count | 1 | Q100026-Pinstance_count-6b86b2 | 'F-16'@en |\n",
    "\n",
    "| node1 | label | node2 | id | node1;label |\n",
    "| -- | -- | -- | -- | -- |\n",
    "| Q1000068 | Pinstance_count_star | 13 | Q1000068-Pinstance_count_star-3fdba3 | 'Planungsverband'@en |\n",
    "| Q100023 | Pinstance_count_star | 1 | Q100023-Pinstance_count_star-6b86b2 | 'metasyntactic variable'@en |\n",
    "| Q100026 | Pinstance_count_star | 9 | Q100026-Pinstance_count_star-19581e | 'F-16'@en |\n",
    "| Q100029091 | Pinstance_count_star | 10 | Q100029091-Pinstance_count_star-4a44dc |  |\n",
    "| Q1000300 | Pinstance_count_star | 2 | Q1000300-Pinstance_count_star-d4735e | 'Land Rover Series'@en |\n",
    "\n",
    "### How to use `derived.class.P1963computed.tsv.gz` and `derived.P1963computed.star.tsv.gz`\n",
    "\n",
    "Here is an example query illustrating how to find the properties for a class, the counts and proportion:\n",
    "```\n",
    "kgtk(\"\"\"\n",
    "    query -i $OUT/derived.class.P1963computed.count.tsv.gz\n",
    "        --match '\n",
    "            (n1:Q100026)-[eid:P1963computed]->(n2), \n",
    "            (eid)-[:P1114]->(count),\n",
    "            (eid)-[:P1107]->(proportion)'\n",
    "        --return 'distinct n1 as node1, eid.label as label, n2 as node2, count as P1114, proportion as P1107'\n",
    "        --order-by 'cast(P1114, int) desc'\n",
    "        --limit 10\n",
    "    / add-labels\n",
    "    / md\n",
    "\"\"\")\n",
    "```\n",
    "The results:\n",
    "\n",
    "| node1 | label | node2 | P1114 | P1107 | node1;label | node2;label |\n",
    "| -- | -- | -- | -- | -- | -- | -- |\n",
    "| Q100026 | P1963computed | P17 | 1 | 0.015151515151515152 | 'F-16'@en | 'country'@en |\n",
    "| Q100026 | P1963computed | P18 | 1 | 0.015151515151515152 | 'F-16'@en | 'image'@en |\n",
    "| Q100026 | P1963computed | P31 | 1 | 0.015151515151515152 | 'F-16'@en | 'instance of'@en |\n",
    "| Q100026 | P1963computed | P373 | 1 | 0.015151515151515152 | 'F-16'@en | 'Commons category'@en |\n",
    "| Q100026 | P1963computed | P646 | 1 | 0.015151515151515152 | 'F-16'@en | 'Freebase ID'@en |\n",
    "\n",
    "\n",
    "Here is the equivalent query on the `derived.P1963computed.star.tsv.gz`\n",
    "```\n",
    "kgtk(\"\"\"\n",
    "    query -i $OUT/derived.P1963computed.count.star.tsv.gz\n",
    "        --match '\n",
    "            (n1:Q100026)-[eid:P1963computed_star]->(n2), \n",
    "            (eid)-[:P1114]->(count),\n",
    "            (eid)-[:P1107]->(proportion)'\n",
    "        --return 'distinct n1 as node1, eid.label as label, n2 as node2, count as P1114, proportion as P1107'\n",
    "        --order-by 'cast(P1114, int) desc'\n",
    "        --limit 10\n",
    "    / add-labels\n",
    "    / md\n",
    "\"\"\")\n",
    "```\n",
    "Note that there are many more results for the `P1963computed_star` property as it includes the instances of the subclasses of F-16. For example, there are 10 instances of subclassess of F-16 that have a `P31` property, and that is about 15% of all instances of subclasses of F-16, so many don't have a `P31`, which is add:\n",
    "\n",
    "| node1 | label | node2 | P1114 | P1107 | node1;label | node2;label |\n",
    "| -- | -- | -- | -- | -- | -- | -- |\n",
    "| Q100026 | P1963computed_star | P31 | 10 | 0.15151515151515152 | 'F-16'@en | 'instance of'@en |\n",
    "| Q100026 | P1963computed_star | P361 | 8 | 0.12121212121212122 | 'F-16'@en | 'part of'@en |\n",
    "| Q100026 | P1963computed_star | P729 | 8 | 0.12121212121212122 | 'F-16'@en | 'service entry'@en |\n",
    "| Q100026 | P1963computed_star | P426 | 7 | 0.10606060606060606 | 'F-16'@en | 'aircraft registration'@en |\n",
    "| Q100026 | P1963computed_star | P176 | 6 | 0.09090909090909091 | 'F-16'@en | 'manufacturer'@en |\n",
    "| Q100026 | P1963computed_star | P730 | 6 | 0.09090909090909091 | 'F-16'@en | 'service retirement'@en |\n",
    "| Q100026 | P1963computed_star | P137 | 4 | 0.06060606060606061 | 'F-16'@en | 'operator'@en |\n",
    "| Q100026 | P1963computed_star | P373 | 2 | 0.030303030303030304 | 'F-16'@en | 'Commons category'@en |\n",
    "| Q100026 | P1963computed_star | P17 | 1 | 0.015151515151515152 | 'F-16'@en | 'country'@en |\n",
    "| Q100026 | P1963computed_star | P18 | 1 | 0.015151515151515152 | 'F-16'@en | 'image'@en |\n",
    "\n",
    "### Example of `Pproperty_domain`\n",
    "\n",
    "Here is a query to get all the domains of `cast member (P161)`\n",
    "```\n",
    "kgtk(\"\"\"\n",
    "    query -i $OUT/derived.Pproperty_domain.tsv.gz --idx mode:graph\n",
    "        --match '\n",
    "            (property:P161)-[edge_id:Pproperty_domain]->(class),\n",
    "            (edge_id)-[:P1114]->(instance_count),\n",
    "            (edge_id)-[:P1107]->(proportion)'\n",
    "        --return 'distinct property as node1, \"Pproperty_domain\" as label, class as node2, instance_count as P1114, proportion as P1107'\n",
    "        --order-by 'property, cast(P1114, float)*cast(P1107, float)  desc'\n",
    "    / add-labels\n",
    "\"\"\")\n",
    "```\n",
    "\n",
    "For example, there are 171111 instances of subclasses of film that have cast member, and that is about 54% of all instances of subclasses of film:\n",
    "\n",
    "| node1 | label | node2 | P1114 | P1107 | node1;label | node2;label |\n",
    "| -- | -- | -- | -- | -- | -- | -- |\n",
    "| P161 | Pproperty_domain | Q11424 | 171111 | 0.5425945832818044 | 'cast member'@en | 'film'@en |\n",
    "| P161 | Pproperty_domain | Q10301427 | 197378 | 0.38757120500167885 | 'cast member'@en | 'moving image'@en |\n",
    "| P161 | Pproperty_domain | Q79782 | 197379 | 0.3420157510331742 | 'cast member'@en | 'motion'@en |\n",
    "| P161 | Pproperty_domain | Q17320256 | 197379 | 0.34154997819661803 | 'cast member'@en | 'physical process'@en |\n",
    "| P161 | Pproperty_domain | Q2431196 | 198160 | 0.3382660960616991 | 'cast member'@en | 'audiovisual work'@en |\n",
    "| P161 | Pproperty_domain | Q758901 | 198160 | 0.3382649412013731 | 'cast member'@en | 'audiovisual media'@en |\n",
    "| P161 | Pproperty_domain | Q58898430 | 198160 | 0.33826436377416724 | 'cast member'@en | 'electronic supplementary materials'@en |\n",
    "| P161 | Pproperty_domain | Q58901077 | 198160 | 0.33826320892566947 | 'cast member'@en | 'publication format'@en |"
   ]
  },
  {
   "cell_type": "markdown",
   "metadata": {},
   "source": [
    "### Preamble: set up the environment and files used in the tutorial"
   ]
  },
  {
   "cell_type": "code",
   "execution_count": 1,
   "metadata": {
    "tags": []
   },
   "outputs": [],
   "source": [
    "import io\n",
    "import os\n",
    "import subprocess\n",
    "import sys\n",
    "\n",
    "import numpy as np\n",
    "import pandas as pd\n",
    "from graph_tool.all import *\n",
    "from IPython.display import HTML, display\n",
    "from kgtk.configure_kgtk_notebooks import ConfigureKGTK\n",
    "from kgtk.functions import kgtk, kypher"
   ]
  },
  {
   "cell_type": "code",
   "execution_count": 2,
   "metadata": {
    "tags": [
     "parameters"
    ]
   },
   "outputs": [],
   "source": [
    "# Parameters\n",
    "\n",
    "kgtk_path = \"/Users/pedroszekely/Documents/GitHub/kgtk\"\n",
    "\n",
    "# Folder on local machine where to create the output and temporary folders\n",
    "# input_path = \"/Volumes/GoogleDrive/Shared drives/KGTK/datasets/wikidata-20210215/data/\"\n",
    "# input_path = \"/Volumes/GoogleDrive/Shared drives/KGTK/datasets/wikidata-20210215-dwd-v2/\"\n",
    "# input_path = \"/Volumes/saggu-ssd/wikidata-dwd-v3\"\n",
    "input_path=\"/data/amandeep/wikidata-20211027-dwd-v3\"\n",
    "# output_path = \"/Users/pedroszekely/Downloads/kypher/projects\"\n",
    "# output_path = \"/Volumes/saggu-ssd/wikidata-dwd-v3\"\n",
    "output_path = \"/data/amandeep/wikidata-20211027-dwd-v3\"\n",
    "\n",
    "# graph_cache_path = \"/Volumes/crucial/wikidata-cache/wikidata.sqlite3.db\"\n",
    "\n",
    "project_name = \"p1963\""
   ]
  },
  {
   "cell_type": "markdown",
   "metadata": {},
   "source": [
    "Tell SQLite to write the temporary files in a specific location where you have a lot of space as this notebook creates huge temporary files (not sure how large, but > 250GB)"
   ]
  },
  {
   "cell_type": "code",
   "execution_count": 3,
   "metadata": {
    "tags": []
   },
   "outputs": [],
   "source": [
    "# os.environ['SQLITE_TMPDIR'] = \"/Volumes/crucial/sqlite/temp/\"\n",
    "# os.environ['SQLITE_TMPDIR'] = \"/Volumes/saggu-ssd/wikidata-dwd-v3/sql_temp\"\n",
    "os.environ['SQLITE_TMPDIR'] = \"/data/amandeep/wikidata-20211027-dwd-v3/sql_temp\""
   ]
  },
  {
   "cell_type": "markdown",
   "metadata": {},
   "source": [
    "Our Wikidata distribution partitions the knowledge in Wikidata into smaller files that make it possible for you to pick and choose which files you want to use:"
   ]
  },
  {
   "cell_type": "code",
   "execution_count": 4,
   "metadata": {
    "tags": []
   },
   "outputs": [
    {
     "name": "stdout",
     "output_type": "stream",
     "text": [
      "User home: /nas/home/amandeep\n",
      "Current dir: /data/amandeep/github/kgtk-notebooks/use-cases\n",
      "KGTK dir: /Users/pedroszekely/Documents/GitHub/kgtk\n",
      "Use-cases dir: /Users/pedroszekely/Documents/GitHub/kgtk/use-cases\n"
     ]
    }
   ],
   "source": [
    "files = [\n",
    "    \"claims\",\n",
    "    \"item\",\n",
    "    \"datatypes\",\n",
    "    \"p279\",\n",
    "    \"p279star\"\n",
    "]\n",
    "ck = ConfigureKGTK(files, kgtk_path=kgtk_path)\n",
    "ck.configure_kgtk(input_graph_path=input_path,\n",
    "                  output_path=output_path,\n",
    "                  project_name=project_name,\n",
    "                  debug=True)"
   ]
  },
  {
   "cell_type": "markdown",
   "metadata": {},
   "source": [
    "The KGTK setup command defines environment variables for all the files so that you can reuse the Jupyter notebook when you install it on your local machine."
   ]
  },
  {
   "cell_type": "code",
   "execution_count": 5,
   "metadata": {
    "tags": []
   },
   "outputs": [
    {
     "name": "stdout",
     "output_type": "stream",
     "text": [
      "KGTK_LABEL_FILE: /data/amandeep/wikidata-20211027-dwd-v3/labels.en.tsv.gz\n",
      "TEMP: /data/amandeep/wikidata-20211027-dwd-v3/p1963/temp.p1963\n",
      "kypher: kgtk --debug query --graph-cache /data/amandeep/wikidata-20211027-dwd-v3/p1963/temp.p1963/wikidata.sqlite3.db\n",
      "GRAPH: /data/amandeep/wikidata-20211027-dwd-v3\n",
      "USE_CASES_DIR: /Users/pedroszekely/Documents/GitHub/kgtk/use-cases\n",
      "KGTK_GRAPH_CACHE: /data/amandeep/wikidata-20211027-dwd-v3/p1963/temp.p1963/wikidata.sqlite3.db\n",
      "kgtk: kgtk --debug\n",
      "STORE: /data/amandeep/wikidata-20211027-dwd-v3/p1963/temp.p1963/wikidata.sqlite3.db\n",
      "KGTK_OPTION_DEBUG: false\n",
      "OUT: /data/amandeep/wikidata-20211027-dwd-v3/p1963\n",
      "EXAMPLES_DIR: /Users/pedroszekely/Documents/GitHub/kgtk/examples\n",
      "claims: /data/amandeep/wikidata-20211027-dwd-v3/claims.tsv.gz\n",
      "item: /data/amandeep/wikidata-20211027-dwd-v3/claims.wikibase-item.tsv.gz\n",
      "datatypes: /data/amandeep/wikidata-20211027-dwd-v3/metadata.property.datatypes.tsv.gz\n",
      "p279: /data/amandeep/wikidata-20211027-dwd-v3/derived.P279.tsv.gz\n",
      "p279star: /data/amandeep/wikidata-20211027-dwd-v3/derived.P279star.tsv.gz\n"
     ]
    }
   ],
   "source": [
    "ck.print_env_variables()"
   ]
  },
  {
   "cell_type": "code",
   "execution_count": 6,
   "metadata": {
    "tags": []
   },
   "outputs": [
    {
     "name": "stdout",
     "output_type": "stream",
     "text": [
      "kgtk --debug query --graph-cache /data/amandeep/wikidata-20211027-dwd-v3/p1963/temp.p1963/wikidata.sqlite3.db -i \"/data/amandeep/wikidata-20211027-dwd-v3/claims.tsv.gz\" --as claims  -i \"/data/amandeep/wikidata-20211027-dwd-v3/claims.wikibase-item.tsv.gz\" --as item  -i \"/data/amandeep/wikidata-20211027-dwd-v3/metadata.property.datatypes.tsv.gz\" --as datatypes  -i \"/data/amandeep/wikidata-20211027-dwd-v3/derived.P279.tsv.gz\" --as p279  -i \"/data/amandeep/wikidata-20211027-dwd-v3/derived.P279star.tsv.gz\" --as p279star  --limit 3\n",
      "[2022-04-13 15:17:01 sqlstore]: IMPORT graph directly into table graph_1 from /data/amandeep/wikidata-20211027-dwd-v3/claims.tsv.gz ...\n",
      "[2022-04-13 15:38:35 sqlstore]: IMPORT graph directly into table graph_2 from /data/amandeep/wikidata-20211027-dwd-v3/claims.wikibase-item.tsv.gz ...\n",
      "[2022-04-13 15:46:55 sqlstore]: IMPORT graph directly into table graph_3 from /data/amandeep/wikidata-20211027-dwd-v3/metadata.property.datatypes.tsv.gz ...\n",
      "[2022-04-13 15:46:55 sqlstore]: IMPORT graph directly into table graph_4 from /data/amandeep/wikidata-20211027-dwd-v3/derived.P279.tsv.gz ...\n",
      "[2022-04-13 15:47:01 sqlstore]: IMPORT graph directly into table graph_5 from /data/amandeep/wikidata-20211027-dwd-v3/derived.P279star.tsv.gz ...\n",
      "[2022-04-13 15:49:51 query]: SQL Translation:\n",
      "---------------------------------------------\n",
      "  SELECT *\n",
      "     FROM graph_1 AS graph_1_c1\n",
      "     LIMIT ?\n",
      "  PARAS: [3]\n",
      "---------------------------------------------\n",
      "id\tnode1\tlabel\tnode2\tlang\trank\tnode2;wikidatatype\n",
      "P10-P1628-32b85d-7927ece6-0\tP10\tP1628\t\"http://www.w3.org/2006/vcard/ns#Video\"\t\tnormal\turl\n",
      "P10-P1628-acf60d-b8950832-0\tP10\tP1628\t\"https://schema.org/video\"\t\tnormal\turl\n",
      "P10-P1629-Q34508-bcc39400-0\tP10\tP1629\tQ34508\t\tnormal\twikibase-item\n"
     ]
    }
   ],
   "source": [
    "ck.load_files_into_cache()"
   ]
  },
  {
   "cell_type": "markdown",
   "metadata": {},
   "source": [
    "Specify the indices we want for our files as the queries we do in this notebook are very expensive:\n",
    "- `claims:` indexed as a graph because we query based on node1, label and node2\n",
    "- `p279star:` indexed as a monograph because the file has a single property."
   ]
  },
  {
   "cell_type": "code",
   "execution_count": 7,
   "metadata": {
    "tags": []
   },
   "outputs": [
    {
     "name": "stdout",
     "output_type": "stream",
     "text": [
      "[2022-04-13 15:49:58 query]: SQL Translation:\n",
      "---------------------------------------------\n",
      "  SELECT *\n",
      "     FROM graph_1 AS graph_1_c1\n",
      "     LIMIT ?\n",
      "  PARAS: [5]\n",
      "---------------------------------------------\n",
      "[2022-04-13 15:49:58 sqlstore]: CREATE INDEX \"graph_1_node1_label_node2_idx\" ON \"graph_1\" (\"node1\", \"label\", \"node2\")\n",
      "[2022-04-13 16:00:17 sqlstore]: ANALYZE \"graph_1_node1_label_node2_idx\"\n",
      "[2022-04-13 16:01:54 sqlstore]: CREATE INDEX \"graph_1_label_idx\" ON \"graph_1\" (\"label\")\n",
      "[2022-04-13 16:11:21 sqlstore]: ANALYZE \"graph_1_label_idx\"\n",
      "[2022-04-13 16:11:58 sqlstore]: CREATE INDEX \"graph_1_node2_label_node1_idx\" ON \"graph_1\" (\"node2\", \"label\", \"node1\")\n",
      "[2022-04-13 16:29:08 sqlstore]: ANALYZE \"graph_1_node2_label_node1_idx\"\n",
      "id\tnode1\tlabel\tnode2\tlang\trank\tnode2;wikidatatype\n",
      "P10-P1628-32b85d-7927ece6-0\tP10\tP1628\t\"http://www.w3.org/2006/vcard/ns#Video\"\t\tnormal\turl\n",
      "P10-P1628-acf60d-b8950832-0\tP10\tP1628\t\"https://schema.org/video\"\t\tnormal\turl\n",
      "P10-P1629-Q34508-bcc39400-0\tP10\tP1629\tQ34508\t\tnormal\twikibase-item\n",
      "P10-P1630-53947a-fbe9093e-0\tP10\tP1630\t\"https://commons.wikimedia.org/wiki/File:$1\"\t\tnormal\tstring\n",
      "P10-P1659-P1651-c4068028-0\tP10\tP1659\tP1651\t\tnormal\twikibase-property\n"
     ]
    }
   ],
   "source": [
    "!kgtk --debug query -i claims --idx mode:graph --limit 5"
   ]
  },
  {
   "cell_type": "code",
   "execution_count": 8,
   "metadata": {
    "tags": []
   },
   "outputs": [
    {
     "name": "stdout",
     "output_type": "stream",
     "text": [
      "[2022-04-13 16:30:58 query]: SQL Translation:\n",
      "---------------------------------------------\n",
      "  SELECT *\n",
      "     FROM graph_2 AS graph_2_c1\n",
      "     LIMIT ?\n",
      "  PARAS: [5]\n",
      "---------------------------------------------\n",
      "[2022-04-13 16:30:58 sqlstore]: CREATE INDEX \"graph_2_node1_label_node2_idx\" ON \"graph_2\" (\"node1\", \"label\", \"node2\")\n",
      "[2022-04-13 16:36:10 sqlstore]: ANALYZE \"graph_2_node1_label_node2_idx\"\n",
      "[2022-04-13 16:36:51 sqlstore]: CREATE INDEX \"graph_2_label_idx\" ON \"graph_2\" (\"label\")\n",
      "[2022-04-13 16:40:50 sqlstore]: ANALYZE \"graph_2_label_idx\"\n",
      "[2022-04-13 16:41:06 sqlstore]: CREATE INDEX \"graph_2_node2_label_node1_idx\" ON \"graph_2\" (\"node2\", \"label\", \"node1\")\n",
      "[2022-04-13 16:49:17 sqlstore]: ANALYZE \"graph_2_node2_label_node1_idx\"\n",
      "id\tnode1\tlabel\tnode2\tlang\trank\tnode2;wikidatatype\n",
      "P10-P1629-Q34508-bcc39400-0\tP10\tP1629\tQ34508\t\tnormal\twikibase-item\n",
      "P10-P1855-Q15075950-7eff6d65-0\tP10\tP1855\tQ15075950\t\tnormal\twikibase-item\n",
      "P10-P1855-Q4504-a69d2c73-0\tP10\tP1855\tQ4504\t\tnormal\twikibase-item\n",
      "P10-P1855-Q69063653-c8cdb04c-0\tP10\tP1855\tQ69063653\t\tnormal\twikibase-item\n",
      "P10-P1855-Q7378-555592a4-0\tP10\tP1855\tQ7378\t\tnormal\twikibase-item\n"
     ]
    }
   ],
   "source": [
    "!kgtk --debug query -i item --idx mode:graph --limit 5"
   ]
  },
  {
   "cell_type": "code",
   "execution_count": 9,
   "metadata": {
    "tags": []
   },
   "outputs": [],
   "source": [
    "# Example of how to clear the indices and reindex\n",
    "# !kgtk --debug query -i claims --idx mode:clear mode:graph -i p279star --idx mode:clear mode:monograph --limit 5"
   ]
  },
  {
   "cell_type": "code",
   "execution_count": 6,
   "metadata": {},
   "outputs": [
    {
     "name": "stdout",
     "output_type": "stream",
     "text": [
      "Graph Cache:\n",
      "DB file: /data/amandeep/wikidata-20211027-dwd-v3/p1963/temp.p1963/wikidata.sqlite3.db\n",
      "  size:  200.87 GB   \tfree:  0 Bytes   \tmodified:  2022-04-14 00:01:57\n",
      "\n",
      "KGTK File Information:\n",
      "/data/amandeep/wikidata-20211027-dwd-v3/p1963/derived.P1963computed.count.star.tsv.gz:\n",
      "  size:  218.04 MB   \tmodified:  2022-04-13 22:52:32   \tgraph:  graph_14\n",
      "/data/amandeep/wikidata-20211027-dwd-v3/p1963/derived.P1963computed.star.tsv.gz:\n",
      "  size:  113.52 MB   \tmodified:  2022-04-13 22:48:00   \tgraph:  graph_12\n",
      "/data/amandeep/wikidata-20211027-dwd-v3/p1963/derived.Pproperty_domain.tsv.gz:\n",
      "  size:  258.41 MB   \tmodified:  2022-04-13 23:57:12   \tgraph:  graph_15\n",
      "/data/amandeep/wikidata-20211027-dwd-v3/p1963/derived.class.P1963computed.count.tsv.gz:\n",
      "  size:  123.00 MB   \tmodified:  2022-04-13 22:32:25   \tgraph:  graph_13\n",
      "/data/amandeep/wikidata-20211027-dwd-v3/p1963/derived.class.P1963computed.tsv.gz:\n",
      "  size:  71.24 MB   \tmodified:  2022-04-13 22:29:33   \tgraph:  graph_10\n",
      "/data/amandeep/wikidata-20211027-dwd-v3/p1963/statistics.Pinstance_count.star.tsv.gz:\n",
      "  size:  724.70 KB   \tmodified:  2022-04-13 19:09:14   \tgraph:  graph_11\n",
      "/data/amandeep/wikidata-20211027-dwd-v3/p1963/temp.p1963/P1963computed.prevalent.tsv.gz:\n",
      "  size:  4.53 MB   \tmodified:  2022-04-14 00:01:49   \tgraph:  graph_16\n",
      "/data/amandeep/wikidata-20211027-dwd-v3/p1963/temp.p1963/item_properties.tsv.gz:\n",
      "  size:  2.31 GB   \tmodified:  2022-04-13 21:41:59   \tgraph:  graph_9\n",
      "claims:\n",
      "  size:  10.17 GB   \tmodified:  2021-11-20 07:29:41   \tgraph:  graph_1\n",
      "datatypes:\n",
      "  size:  48.81 KB   \tmodified:  2021-11-20 03:43:23   \tgraph:  graph_3\n",
      "item:\n",
      "  size:  3.36 GB   \tmodified:  2021-11-20 10:16:34   \tgraph:  graph_2\n",
      "p279:\n",
      "  size:  39.73 MB   \tmodified:  2021-11-20 17:07:42   \tgraph:  graph_4\n",
      "p279star:\n",
      "  size:  720.51 MB   \tmodified:  2021-11-20 18:56:46   \tgraph:  graph_5\n",
      "p31x:\n",
      "  size:  781.75 MB   \tmodified:  2022-04-13 17:20:06   \tgraph:  graph_6\n",
      "p31xcount:\n",
      "  size:  1.49 MB   \tmodified:  2022-04-13 17:35:10   \tgraph:  graph_7\n",
      "p31xcountstar:\n",
      "  size:  724.70 KB   \tmodified:  2022-04-13 19:09:14   \tgraph:  graph_8\n",
      "\n",
      "Graph Table Information:\n",
      "graph_1:\n",
      "  size:  91.71 GB   \tcreated:  2022-04-13 15:38:35\n",
      "  header:  ['id', 'node1', 'label', 'node2', 'lang', 'rank', 'node2;wikidatatype']\n",
      "graph_10:\n",
      "  size:  1.73 GB   \tcreated:  2022-04-13 22:30:07\n",
      "  header:  ['node1', 'label', 'node2', 'id']\n",
      "graph_11:\n",
      "  size:  10.54 MB   \tcreated:  2022-04-13 22:30:08\n",
      "  header:  ['node1', 'label', 'node2']\n",
      "graph_12:\n",
      "  size:  3.02 GB   \tcreated:  2022-04-13 22:48:49\n",
      "  header:  ['node1', 'label', 'node2', 'id']\n",
      "graph_13:\n",
      "  size:  2.68 GB   \tcreated:  2022-04-13 22:53:13\n",
      "  header:  ['node1', 'label', 'node2', 'id']\n",
      "graph_14:\n",
      "  size:  7.42 GB   \tcreated:  2022-04-13 22:56:09\n",
      "  header:  ['node1', 'label', 'node2', 'id']\n",
      "graph_15:\n",
      "  size:  5.27 GB   \tcreated:  2022-04-13 23:58:13\n",
      "  header:  ['node1', 'label', 'node2', 'id']\n",
      "graph_16:\n",
      "  size:  66.52 MB   \tcreated:  2022-04-14 00:01:55\n",
      "  header:  ['node1', 'node2', 'label']\n",
      "graph_2:\n",
      "  size:  37.28 GB   \tcreated:  2022-04-13 15:46:54\n",
      "  header:  ['id', 'node1', 'label', 'node2', 'lang', 'rank', 'node2;wikidatatype']\n",
      "graph_3:\n",
      "  size:  468.00 KB   \tcreated:  2022-04-13 15:46:55\n",
      "  header:  ['id', 'node1', 'label', 'node2', 'lang', 'rank', 'node2;wikidatatype']\n",
      "graph_4:\n",
      "  size:  199.27 MB   \tcreated:  2022-04-13 15:47:01\n",
      "  header:  ['id', 'node1', 'label', 'node2']\n",
      "graph_5:\n",
      "  size:  11.10 GB   \tcreated:  2022-04-13 15:49:51\n",
      "  header:  ['node1', 'label', 'node2', 'id']\n",
      "graph_6:\n",
      "  size:  6.00 GB   \tcreated:  2022-04-13 17:22:00\n",
      "  header:  ['node1', 'label', 'node2', 'id']\n",
      "graph_7:\n",
      "  size:  32.14 MB   \tcreated:  2022-04-13 17:36:35\n",
      "  header:  ['node1', 'label', 'node2', 'id']\n",
      "graph_8:\n",
      "  size:  27.64 MB   \tcreated:  2022-04-13 19:09:30\n",
      "  header:  ['node1', 'label', 'node2']\n",
      "graph_9:\n",
      "  size:  34.33 GB   \tcreated:  2022-04-13 21:51:05\n",
      "  header:  ['node1', 'label', 'node2', 'id']\n"
     ]
    }
   ],
   "source": [
    "!kgtk query --gc $STORE --show-cache "
   ]
  },
  {
   "cell_type": "markdown",
   "metadata": {
    "tags": []
   },
   "source": [
    "## Define `P31x`, a generalization of `instance of: P31`\n",
    "\n",
    "In our KG we are going to define a new property called `instance of (generalized): P31x` that behaves like DBpedia, so that we can ask for instances of `artist: Q483501`.\n",
    "We do this by generalizing `occupation: P106` abd `position held: 39` to also behave as `P31` statements.\n",
    "\n",
    "Approach:\n",
    "- Combine `x P31 y`, `x P106 y` and `x P39 y` statements using a new `P31x` predicate"
   ]
  },
  {
   "cell_type": "code",
   "execution_count": 11,
   "metadata": {},
   "outputs": [],
   "source": [
    "kgtk(\"\"\"\n",
    "    query -i claims\n",
    "        --match '\n",
    "            (n1)-[:P31]->(:Q5),\n",
    "            (n1)-[r {label: property}]->(n2)'\n",
    "        --where 'property in [\"P106\", \"P39\"]'\n",
    "        --return 'distinct n1 as node1, \"P31xQ5\" as label, n2 as node2'\n",
    "    / add-id --id-style wikidata\n",
    "    / cat -i - -i \"$p31\"\n",
    "    / compact\n",
    "    -o $OUT/derived.P31x.tsv.gz\n",
    "\"\"\")"
   ]
  },
  {
   "cell_type": "markdown",
   "metadata": {},
   "source": [
    "Load the `p31x` graph defining our generalized `instance of` property:"
   ]
  },
  {
   "cell_type": "code",
   "execution_count": 12,
   "metadata": {
    "tags": []
   },
   "outputs": [
    {
     "data": {
      "text/html": [
       "<div>\n",
       "<style scoped>\n",
       "    .dataframe tbody tr th:only-of-type {\n",
       "        vertical-align: middle;\n",
       "    }\n",
       "\n",
       "    .dataframe tbody tr th {\n",
       "        vertical-align: top;\n",
       "    }\n",
       "\n",
       "    .dataframe thead th {\n",
       "        text-align: right;\n",
       "    }\n",
       "</style>\n",
       "<table border=\"1\" class=\"dataframe\">\n",
       "  <thead>\n",
       "    <tr style=\"text-align: right;\">\n",
       "      <th></th>\n",
       "      <th>node1</th>\n",
       "      <th>label</th>\n",
       "      <th>node2</th>\n",
       "      <th>id</th>\n",
       "    </tr>\n",
       "  </thead>\n",
       "  <tbody>\n",
       "    <tr>\n",
       "      <th>0</th>\n",
       "      <td>P10</td>\n",
       "      <td>P31</td>\n",
       "      <td>Q18610173</td>\n",
       "      <td>P10-P31-Q18610173-85ef4d24-0</td>\n",
       "    </tr>\n",
       "    <tr>\n",
       "      <th>1</th>\n",
       "      <td>P1000</td>\n",
       "      <td>P31</td>\n",
       "      <td>Q18608871</td>\n",
       "      <td>P1000-P31-Q18608871-093affb5-0</td>\n",
       "    </tr>\n",
       "  </tbody>\n",
       "</table>\n",
       "</div>"
      ],
      "text/plain": [
       "   node1 label      node2                              id\n",
       "0    P10   P31  Q18610173    P10-P31-Q18610173-85ef4d24-0\n",
       "1  P1000   P31  Q18608871  P1000-P31-Q18608871-093affb5-0"
      ]
     },
     "execution_count": 12,
     "metadata": {},
     "output_type": "execute_result"
    }
   ],
   "source": [
    "kgtk(\"\"\"\n",
    "    query -i $OUT/derived.P31x.tsv.gz --as p31x --limit 2\n",
    "\"\"\")"
   ]
  },
  {
   "cell_type": "code",
   "execution_count": 7,
   "metadata": {
    "tags": []
   },
   "outputs": [
    {
     "name": "stdout",
     "output_type": "stream",
     "text": [
      "| node1 | label | node2 | id | node1;label | label;label | node2;label |\n",
      "| -- | -- | -- | -- | -- | -- | -- |\n",
      "| Q2685 | P31 | Q5 | Q2685-P31-Q5-eb1e33fe-0 | 'Arnold Schwarzenegger'@en | 'instance of'@en | 'human'@en |\n",
      "| Q2685 | P31xQ5 | Q10800557 | Q2685-P31xQ5-Q10800557 | 'Arnold Schwarzenegger'@en |  | 'film actor'@en |\n",
      "| Q2685 | P31xQ5 | Q124100 | Q2685-P31xQ5-Q124100 | 'Arnold Schwarzenegger'@en |  | 'bodybuilding'@en |\n",
      "| Q2685 | P31xQ5 | Q131524 | Q2685-P31xQ5-Q131524 | 'Arnold Schwarzenegger'@en |  | 'entrepreneur'@en |\n",
      "| Q2685 | P31xQ5 | Q13235160 | Q2685-P31xQ5-Q13235160 | 'Arnold Schwarzenegger'@en |  | 'manufacturer'@en |\n",
      "| Q2685 | P31xQ5 | Q18814623 | Q2685-P31xQ5-Q18814623 | 'Arnold Schwarzenegger'@en |  | 'autobiographer'@en |\n",
      "| Q2685 | P31xQ5 | Q23845879 | Q2685-P31xQ5-Q23845879 | 'Arnold Schwarzenegger'@en |  | 'powerlifter'@en |\n",
      "| Q2685 | P31xQ5 | Q2526255 | Q2685-P31xQ5-Q2526255 | 'Arnold Schwarzenegger'@en |  | 'film director'@en |\n",
      "| Q2685 | P31xQ5 | Q3282637 | Q2685-P31xQ5-Q3282637 | 'Arnold Schwarzenegger'@en |  | 'film producer'@en |\n",
      "| Q2685 | P31xQ5 | Q33999 | Q2685-P31xQ5-Q33999 | 'Arnold Schwarzenegger'@en |  | 'actor'@en |\n",
      "| Q2685 | P31xQ5 | Q3427922 | Q2685-P31xQ5-Q3427922 | 'Arnold Schwarzenegger'@en |  | 'restaurateur'@en |\n",
      "| Q2685 | P31xQ5 | Q43845 | Q2685-P31xQ5-Q43845 | 'Arnold Schwarzenegger'@en |  | 'businessperson'@en |\n",
      "| Q2685 | P31xQ5 | Q4991371 | Q2685-P31xQ5-Q4991371 | 'Arnold Schwarzenegger'@en |  | 'soldier'@en |\n",
      "| Q2685 | P31xQ5 | Q519076 | Q2685-P31xQ5-Q519076 | 'Arnold Schwarzenegger'@en |  | 'real estate broker'@en |\n",
      "\n"
     ]
    }
   ],
   "source": [
    "kgtk(\"query -i p31x --match '(:Q2685)-[edgeid]->(n2)' / head -n 14 / add-labels / md\")"
   ]
  },
  {
   "cell_type": "markdown",
   "metadata": {},
   "source": [
    "## Instance Counts"
   ]
  },
  {
   "cell_type": "code",
   "execution_count": 14,
   "metadata": {
    "tags": []
   },
   "outputs": [],
   "source": [
    "kgtk(\"\"\"\n",
    "    query -i p31x\n",
    "        --match '(instance)-[]->(class)'\n",
    "        --return 'distinct class as node1, \"Pinstance_count\" as label, count(distinct instance) as node2'\n",
    "        --order-by 'class'\n",
    "    / add-id --id-style wikidata\n",
    "    -o $OUT/statistics.Pinstance_count.tsv.gz\n",
    "\"\"\")"
   ]
  },
  {
   "cell_type": "code",
   "execution_count": 9,
   "metadata": {
    "tags": []
   },
   "outputs": [
    {
     "data": {
      "text/html": [
       "<div>\n",
       "<style scoped>\n",
       "    .dataframe tbody tr th:only-of-type {\n",
       "        vertical-align: middle;\n",
       "    }\n",
       "\n",
       "    .dataframe tbody tr th {\n",
       "        vertical-align: top;\n",
       "    }\n",
       "\n",
       "    .dataframe thead th {\n",
       "        text-align: right;\n",
       "    }\n",
       "</style>\n",
       "<table border=\"1\" class=\"dataframe\">\n",
       "  <thead>\n",
       "    <tr style=\"text-align: right;\">\n",
       "      <th></th>\n",
       "      <th>node1</th>\n",
       "      <th>label</th>\n",
       "      <th>node2</th>\n",
       "      <th>id</th>\n",
       "      <th>node1;label</th>\n",
       "    </tr>\n",
       "  </thead>\n",
       "  <tbody>\n",
       "    <tr>\n",
       "      <th>0</th>\n",
       "      <td>Q1000017</td>\n",
       "      <td>Pinstance_count</td>\n",
       "      <td>1</td>\n",
       "      <td>Q1000017-Pinstance_count-6b86b2</td>\n",
       "      <td>'Brentidae'@en</td>\n",
       "    </tr>\n",
       "    <tr>\n",
       "      <th>1</th>\n",
       "      <td>Q1000091</td>\n",
       "      <td>Pinstance_count</td>\n",
       "      <td>1</td>\n",
       "      <td>Q1000091-Pinstance_count-6b86b2</td>\n",
       "      <td>'Rychnov nad Kněžnou'@en</td>\n",
       "    </tr>\n",
       "    <tr>\n",
       "      <th>2</th>\n",
       "      <td>Q1000156</td>\n",
       "      <td>Pinstance_count</td>\n",
       "      <td>16</td>\n",
       "      <td>Q1000156-Pinstance_count-b17ef6</td>\n",
       "      <td>'insurance expert'@en</td>\n",
       "    </tr>\n",
       "    <tr>\n",
       "      <th>3</th>\n",
       "      <td>Q100023</td>\n",
       "      <td>Pinstance_count</td>\n",
       "      <td>1</td>\n",
       "      <td>Q100023-Pinstance_count-6b86b2</td>\n",
       "      <td>'metasyntactic variable'@en</td>\n",
       "    </tr>\n",
       "    <tr>\n",
       "      <th>4</th>\n",
       "      <td>Q100026</td>\n",
       "      <td>Pinstance_count</td>\n",
       "      <td>1</td>\n",
       "      <td>Q100026-Pinstance_count-6b86b2</td>\n",
       "      <td>'General Dynamics F-16 Fighting Falcon'@en</td>\n",
       "    </tr>\n",
       "  </tbody>\n",
       "</table>\n",
       "</div>"
      ],
      "text/plain": [
       "      node1            label  node2                               id  \\\n",
       "0  Q1000017  Pinstance_count      1  Q1000017-Pinstance_count-6b86b2   \n",
       "1  Q1000091  Pinstance_count      1  Q1000091-Pinstance_count-6b86b2   \n",
       "2  Q1000156  Pinstance_count     16  Q1000156-Pinstance_count-b17ef6   \n",
       "3   Q100023  Pinstance_count      1   Q100023-Pinstance_count-6b86b2   \n",
       "4   Q100026  Pinstance_count      1   Q100026-Pinstance_count-6b86b2   \n",
       "\n",
       "                                  node1;label  \n",
       "0                              'Brentidae'@en  \n",
       "1                    'Rychnov nad Kněžnou'@en  \n",
       "2                       'insurance expert'@en  \n",
       "3                 'metasyntactic variable'@en  \n",
       "4  'General Dynamics F-16 Fighting Falcon'@en  "
      ]
     },
     "execution_count": 9,
     "metadata": {},
     "output_type": "execute_result"
    }
   ],
   "source": [
    "kgtk(\"head -i $OUT/statistics.Pinstance_count.tsv.gz -n 5 / add-labels\")"
   ]
  },
  {
   "cell_type": "code",
   "execution_count": 16,
   "metadata": {
    "tags": []
   },
   "outputs": [
    {
     "name": "stdout",
     "output_type": "stream",
     "text": [
      "[2022-04-13 17:36:34 sqlstore]: IMPORT graph directly into table graph_7 from /data/amandeep/wikidata-20211027-dwd-v3/p1963/statistics.Pinstance_count.tsv.gz ...\n",
      "[2022-04-13 17:36:35 query]: SQL Translation:\n",
      "---------------------------------------------\n",
      "  SELECT *\n",
      "     FROM graph_7 AS graph_7_c1\n",
      "     LIMIT ?\n",
      "  PARAS: [3]\n",
      "---------------------------------------------\n",
      "[2022-04-13 17:36:35 sqlstore]: CREATE INDEX \"graph_7_node1_label_node2_idx\" ON \"graph_7\" (\"node1\", \"label\", \"node2\")\n",
      "[2022-04-13 17:36:35 sqlstore]: ANALYZE \"graph_7_node1_label_node2_idx\"\n",
      "[2022-04-13 17:36:36 sqlstore]: CREATE INDEX \"graph_7_label_idx\" ON \"graph_7\" (\"label\")\n",
      "[2022-04-13 17:36:36 sqlstore]: ANALYZE \"graph_7_label_idx\"\n",
      "[2022-04-13 17:36:36 sqlstore]: CREATE INDEX \"graph_7_node2_label_node1_idx\" ON \"graph_7\" (\"node2\", \"label\", \"node1\")\n",
      "[2022-04-13 17:36:36 sqlstore]: ANALYZE \"graph_7_node2_label_node1_idx\"\n",
      "node1\tlabel\tnode2\tid\n",
      "Q1000017\tPinstance_count\t1\tQ1000017-Pinstance_count-6b86b2\n",
      "Q1000091\tPinstance_count\t1\tQ1000091-Pinstance_count-6b86b2\n",
      "Q1000156\tPinstance_count\t16\tQ1000156-Pinstance_count-b17ef6\n"
     ]
    }
   ],
   "source": [
    "!kgtk --debug query -i $OUT/statistics.Pinstance_count.tsv.gz --as p31xcount --idx mode:graph --limit 3"
   ]
  },
  {
   "cell_type": "raw",
   "metadata": {
    "tags": []
   },
   "source": [
    "kgtk(\"\"\"\n",
    "    query -i p31x -i p279star\n",
    "        --match '\n",
    "            p31x: (instance)-[]->(hop),\n",
    "            p279star: (hop)-[]->(class)'\n",
    "        --return 'distinct class as node1, \"Pinstance_count_star\" as label, count(distinct instance) as node2'\n",
    "        --order-by 'class'\n",
    "    / add-id --id-style wikidata\n",
    "    -o $OUT/statistics.Pinstance_count.star.tsv.gz\n",
    "\"\"\")"
   ]
  },
  {
   "cell_type": "code",
   "execution_count": 17,
   "metadata": {},
   "outputs": [],
   "source": [
    "kgtk(\"\"\"\n",
    "    query -i p31x -i p279star\n",
    "        --match '\n",
    "            p31x: (instance)-[]->(hop),\n",
    "            p279star: (hop)-[]->(class)'\n",
    "        --return 'distinct class as node1, \"Pinstance_count_star\" as label, count(distinct instance) as node2'\n",
    "    -o $OUT/statistics.Pinstance_count.star.tsv.gz\n",
    "\"\"\")"
   ]
  },
  {
   "cell_type": "code",
   "execution_count": 18,
   "metadata": {
    "tags": []
   },
   "outputs": [
    {
     "name": "stdout",
     "output_type": "stream",
     "text": [
      "[2022-04-13 19:09:30 sqlstore]: IMPORT graph directly into table graph_8 from /data/amandeep/wikidata-20211027-dwd-v3/p1963/statistics.Pinstance_count.star.tsv.gz ...\n",
      "[2022-04-13 19:09:30 query]: SQL Translation:\n",
      "---------------------------------------------\n",
      "  SELECT *\n",
      "     FROM graph_8 AS graph_8_c1\n",
      "     LIMIT ?\n",
      "  PARAS: [3]\n",
      "---------------------------------------------\n",
      "[2022-04-13 19:09:30 sqlstore]: CREATE INDEX \"graph_8_node1_label_node2_idx\" ON \"graph_8\" (\"node1\", \"label\", \"node2\")\n",
      "[2022-04-13 19:09:31 sqlstore]: ANALYZE \"graph_8_node1_label_node2_idx\"\n",
      "[2022-04-13 19:09:31 sqlstore]: CREATE INDEX \"graph_8_label_idx\" ON \"graph_8\" (\"label\")\n",
      "[2022-04-13 19:09:31 sqlstore]: ANALYZE \"graph_8_label_idx\"\n",
      "[2022-04-13 19:09:31 sqlstore]: CREATE INDEX \"graph_8_node2_label_node1_idx\" ON \"graph_8\" (\"node2\", \"label\", \"node1\")\n",
      "[2022-04-13 19:09:32 sqlstore]: ANALYZE \"graph_8_node2_label_node1_idx\"\n",
      "node1\tlabel\tnode2\n",
      "Q1000068\tPinstance_count_star\t13\n",
      "Q1000156\tPinstance_count_star\t199\n",
      "Q100023\tPinstance_count_star\t1\n"
     ]
    }
   ],
   "source": [
    "!kgtk --debug query -i $OUT/statistics.Pinstance_count.star.tsv.gz --as p31xcountstar --idx mode:graph --limit 3"
   ]
  },
  {
   "cell_type": "code",
   "execution_count": 10,
   "metadata": {
    "tags": []
   },
   "outputs": [
    {
     "data": {
      "text/html": [
       "<div>\n",
       "<style scoped>\n",
       "    .dataframe tbody tr th:only-of-type {\n",
       "        vertical-align: middle;\n",
       "    }\n",
       "\n",
       "    .dataframe tbody tr th {\n",
       "        vertical-align: top;\n",
       "    }\n",
       "\n",
       "    .dataframe thead th {\n",
       "        text-align: right;\n",
       "    }\n",
       "</style>\n",
       "<table border=\"1\" class=\"dataframe\">\n",
       "  <thead>\n",
       "    <tr style=\"text-align: right;\">\n",
       "      <th></th>\n",
       "      <th>node1</th>\n",
       "      <th>label</th>\n",
       "      <th>node2</th>\n",
       "      <th>node1;label</th>\n",
       "    </tr>\n",
       "  </thead>\n",
       "  <tbody>\n",
       "    <tr>\n",
       "      <th>0</th>\n",
       "      <td>Q1000068</td>\n",
       "      <td>Pinstance_count_star</td>\n",
       "      <td>13</td>\n",
       "      <td>'Planungsverband'@en</td>\n",
       "    </tr>\n",
       "    <tr>\n",
       "      <th>1</th>\n",
       "      <td>Q1000156</td>\n",
       "      <td>Pinstance_count_star</td>\n",
       "      <td>199</td>\n",
       "      <td>'insurance expert'@en</td>\n",
       "    </tr>\n",
       "    <tr>\n",
       "      <th>2</th>\n",
       "      <td>Q100023</td>\n",
       "      <td>Pinstance_count_star</td>\n",
       "      <td>1</td>\n",
       "      <td>'metasyntactic variable'@en</td>\n",
       "    </tr>\n",
       "    <tr>\n",
       "      <th>3</th>\n",
       "      <td>Q100026</td>\n",
       "      <td>Pinstance_count_star</td>\n",
       "      <td>9</td>\n",
       "      <td>'General Dynamics F-16 Fighting Falcon'@en</td>\n",
       "    </tr>\n",
       "    <tr>\n",
       "      <th>4</th>\n",
       "      <td>Q100029091</td>\n",
       "      <td>Pinstance_count_star</td>\n",
       "      <td>10</td>\n",
       "      <td>NaN</td>\n",
       "    </tr>\n",
       "  </tbody>\n",
       "</table>\n",
       "</div>"
      ],
      "text/plain": [
       "        node1                 label  node2  \\\n",
       "0    Q1000068  Pinstance_count_star     13   \n",
       "1    Q1000156  Pinstance_count_star    199   \n",
       "2     Q100023  Pinstance_count_star      1   \n",
       "3     Q100026  Pinstance_count_star      9   \n",
       "4  Q100029091  Pinstance_count_star     10   \n",
       "\n",
       "                                  node1;label  \n",
       "0                        'Planungsverband'@en  \n",
       "1                       'insurance expert'@en  \n",
       "2                 'metasyntactic variable'@en  \n",
       "3  'General Dynamics F-16 Fighting Falcon'@en  \n",
       "4                                         NaN  "
      ]
     },
     "execution_count": 10,
     "metadata": {},
     "output_type": "execute_result"
    }
   ],
   "source": [
    "kgtk(\"head -i $OUT/statistics.Pinstance_count.star.tsv.gz -n 5 / add-labels\")"
   ]
  },
  {
   "cell_type": "markdown",
   "metadata": {},
   "source": [
    "### Added by Amandeep, to get the properties for this class for subclasses\n",
    "\n",
    "\n",
    "The following query will count the number of subclasses for every super class"
   ]
  },
  {
   "cell_type": "code",
   "execution_count": 21,
   "metadata": {},
   "outputs": [
    {
     "name": "stdout",
     "output_type": "stream",
     "text": [
      "[2022-05-13 14:18:12 query]: SQL Translation:\n",
      "---------------------------------------------\n",
      "  SELECT DISTINCT graph_5_c1.\"node2\" \"_aLias.node1\", ? \"_aLias.label\", count(DISTINCT graph_5_c1.\"node1\") \"_aLias.node2\"\n",
      "     FROM graph_5 AS graph_5_c1\n",
      "     GROUP BY \"_aLias.node1\", \"_aLias.label\"\n",
      "  PARAS: ['Psubclass_count_star']\n",
      "---------------------------------------------\n",
      "\n"
     ]
    }
   ],
   "source": [
    "kgtk(\"\"\" --debug\n",
    "    query -i p279star\n",
    "        --match 'p279star: (class)-[]->(super_class)'\n",
    "        --return 'distinct super_class as node1, \"Psubclass_count_star\" as label, count(distinct class) as node2'\n",
    "    -o $OUT/statistics.Psubclass_count.star.tsv.gz\n",
    "\"\"\")"
   ]
  },
  {
   "cell_type": "code",
   "execution_count": 14,
   "metadata": {},
   "outputs": [
    {
     "name": "stdout",
     "output_type": "stream",
     "text": [
      "[2022-05-12 17:22:26 sqlstore]: IMPORT graph directly into table graph_18 from /data/amandeep/wikidata-20211027-dwd-v3/p1963/statistics.Psubclass_count.star.tsv.gz ...\n",
      "[2022-05-12 17:22:29 query]: SQL Translation:\n",
      "---------------------------------------------\n",
      "  SELECT *\n",
      "     FROM graph_18 AS graph_18_c1\n",
      "     LIMIT ?\n",
      "  PARAS: [3]\n",
      "---------------------------------------------\n",
      "[2022-05-12 17:22:29 sqlstore]: CREATE INDEX \"graph_18_node1_label_node2_idx\" ON \"graph_18\" (\"node1\", \"label\", \"node2\")\n",
      "[2022-05-12 17:22:31 sqlstore]: ANALYZE \"graph_18_node1_label_node2_idx\"\n",
      "[2022-05-12 17:22:32 sqlstore]: CREATE INDEX \"graph_18_label_idx\" ON \"graph_18\" (\"label\")\n",
      "[2022-05-12 17:22:33 sqlstore]: ANALYZE \"graph_18_label_idx\"\n",
      "[2022-05-12 17:22:34 sqlstore]: CREATE INDEX \"graph_18_node2_label_node1_idx\" ON \"graph_18\" (\"node2\", \"label\", \"node1\")\n",
      "[2022-05-12 17:22:36 sqlstore]: ANALYZE \"graph_18_node2_label_node1_idx\"\n",
      "node1\tlabel\tnode2\n",
      "Q100000030\tPsubclass_count_star\t1\n",
      "Q100000058\tPsubclass_count_star\t1\n",
      "Q1000032\tPsubclass_count_star\t1\n"
     ]
    }
   ],
   "source": [
    "!kgtk --debug query -i $OUT/statistics.Psubclass_count.star.tsv.gz --as subclasscountstar --idx mode:graph --limit 3"
   ]
  },
  {
   "cell_type": "code",
   "execution_count": 15,
   "metadata": {},
   "outputs": [
    {
     "data": {
      "text/html": [
       "<div>\n",
       "<style scoped>\n",
       "    .dataframe tbody tr th:only-of-type {\n",
       "        vertical-align: middle;\n",
       "    }\n",
       "\n",
       "    .dataframe tbody tr th {\n",
       "        vertical-align: top;\n",
       "    }\n",
       "\n",
       "    .dataframe thead th {\n",
       "        text-align: right;\n",
       "    }\n",
       "</style>\n",
       "<table border=\"1\" class=\"dataframe\">\n",
       "  <thead>\n",
       "    <tr style=\"text-align: right;\">\n",
       "      <th></th>\n",
       "      <th>node1</th>\n",
       "      <th>label</th>\n",
       "      <th>node2</th>\n",
       "      <th>node1;label</th>\n",
       "    </tr>\n",
       "  </thead>\n",
       "  <tbody>\n",
       "    <tr>\n",
       "      <th>0</th>\n",
       "      <td>Q100000030</td>\n",
       "      <td>Psubclass_count_star</td>\n",
       "      <td>1</td>\n",
       "      <td>NaN</td>\n",
       "    </tr>\n",
       "    <tr>\n",
       "      <th>1</th>\n",
       "      <td>Q100000058</td>\n",
       "      <td>Psubclass_count_star</td>\n",
       "      <td>1</td>\n",
       "      <td>'tsunami stone'@en</td>\n",
       "    </tr>\n",
       "    <tr>\n",
       "      <th>2</th>\n",
       "      <td>Q1000032</td>\n",
       "      <td>Psubclass_count_star</td>\n",
       "      <td>1</td>\n",
       "      <td>'unschooling'@en</td>\n",
       "    </tr>\n",
       "    <tr>\n",
       "      <th>3</th>\n",
       "      <td>Q1000039</td>\n",
       "      <td>Psubclass_count_star</td>\n",
       "      <td>1</td>\n",
       "      <td>'Akita ranga'@en</td>\n",
       "    </tr>\n",
       "    <tr>\n",
       "      <th>4</th>\n",
       "      <td>Q100004761</td>\n",
       "      <td>Psubclass_count_star</td>\n",
       "      <td>1</td>\n",
       "      <td>'shelf label'@en</td>\n",
       "    </tr>\n",
       "  </tbody>\n",
       "</table>\n",
       "</div>"
      ],
      "text/plain": [
       "        node1                 label  node2         node1;label\n",
       "0  Q100000030  Psubclass_count_star      1                 NaN\n",
       "1  Q100000058  Psubclass_count_star      1  'tsunami stone'@en\n",
       "2    Q1000032  Psubclass_count_star      1    'unschooling'@en\n",
       "3    Q1000039  Psubclass_count_star      1    'Akita ranga'@en\n",
       "4  Q100004761  Psubclass_count_star      1    'shelf label'@en"
      ]
     },
     "execution_count": 15,
     "metadata": {},
     "output_type": "execute_result"
    }
   ],
   "source": [
    "kgtk(\"head -i $OUT/statistics.Psubclass_count.star.tsv.gz -n 5 / add-labels\")"
   ]
  },
  {
   "cell_type": "markdown",
   "metadata": {
    "tags": []
   },
   "source": [
    "## Compute the number of times each property appears in a class\n",
    "\n",
    "In this section we will compute the distribution of the use of properties in every class in th KG. \n",
    "We want to know the count of the different properties used in all instance of a class.\n",
    "For example, if we look at `film (Q11424)` we want to see what properties are used to describe films, including all subclasses of film.\n",
    "\n",
    "Computing this distribution is challenging because we want to include the instances of subclasses, and class hierarchy in Wikidata is ver large.\n",
    "\n",
    "Approach:\n",
    "- Compute a graph that represents the properties used to describe an entity. We will use `Phas_property` to record the properties used in each entity.\n",
    "- Aggregate the counts over all the instances of a class, inlcuding instances of the subclasses.\n",
    "  - Exact method: forl each class, enumerate all the subclasses, and for each subclass enumerate all its intances, and then count the ocurrences of the properties. The exact method works for small graphs, but for DWD (Wikidata scale), the exact method will not return a result even after 2 days.\n",
    "  - Approximate method: \n",
    "    - Count the distribution of properties for all instances of a class, not including subclasses\n",
    "    - For every class, sum the property counts over the direct children of the class. This is a recursive definition, as we need to calculate the sum for the children before that we can aggregate up to the paprent. KGTK does not support recursive queries, so we will do this in a dumb way, so for every class we add the number of all the subclasses and below\n",
    "    \n",
    "  > The parent/child implementation of the approximate method is approximate because we may overcount classes: given classes `A` and `B` such that `A` is below `B`, if there are multiple distinct paths from `A` to `B`, we will double count. The advantage of the dumb method is that it does not double-count"
   ]
  },
  {
   "cell_type": "markdown",
   "metadata": {},
   "source": [
    "### Compute the `Phas_property`, the set of properties used in each entity"
   ]
  },
  {
   "cell_type": "code",
   "execution_count": 21,
   "metadata": {
    "scrolled": true,
    "tags": []
   },
   "outputs": [],
   "source": [
    "# use for subject properties\n",
    "kypher = \"claims: (entity)-[l {label: property}]->()\"\n",
    "# use for object properties\n",
    "# kypher = \"claims: ()-[l {label: property}]->(entity)\"\n",
    "\n",
    "kgtk(f\"\"\"\n",
    "    query -i p31x -i claims\n",
    "        --match '\n",
    "            p31x: (entity)-[]->(),\n",
    "            {kypher}'\n",
    "        --return 'distinct entity as node1, \"Phas_property\" as label, property as node2'\n",
    "    / add-id --id-style wikidata\n",
    "    -o $TEMP/item_properties.tsv.gz\n",
    "\"\"\")\n",
    "\n"
   ]
  },
  {
   "cell_type": "markdown",
   "metadata": {},
   "source": [
    "### Added by Amandeep, to get the properties for this class for subclasses\n",
    "\n",
    "The following cell gets the properties for subclass instead of instances of subclasses"
   ]
  },
  {
   "cell_type": "code",
   "execution_count": 16,
   "metadata": {},
   "outputs": [],
   "source": [
    "# use for subject properties\n",
    "kypher = \"claims: (entity)-[l {label: property}]->()\"\n",
    "# use for object properties\n",
    "# kypher = \"claims: ()-[l {label: property}]->(entity)\"\n",
    "\n",
    "kgtk(f\"\"\"\n",
    "    query -i p279star -i claims\n",
    "        --match '\n",
    "            p279star: (entity)-[]->(),\n",
    "            {kypher}'\n",
    "        --return 'distinct entity as node1, \"Phas_property\" as label, property as node2'\n",
    "    / add-id --id-style wikidata\n",
    "    -o $TEMP/item_properties_subclasses.tsv.gz\n",
    "\"\"\")\n",
    "\n"
   ]
  },
  {
   "cell_type": "markdown",
   "metadata": {},
   "source": [
    "Show the results for `Terminator 2: Judgment Day (Q170564)`"
   ]
  },
  {
   "cell_type": "raw",
   "metadata": {
    "tags": []
   },
   "source": [
    "kgtk(\"filter --use-graph-cache-envar=FALSE -i $TEMP/item_properties.tsv.gz -p 'Q170564;;'\")"
   ]
  },
  {
   "cell_type": "markdown",
   "metadata": {},
   "source": [
    "### Compute `P1963computed`\n",
    "\n",
    "For every class record the count of each property in all instances of the class according to the `P131x` graph which contains the `P131x` and `P131` statements."
   ]
  },
  {
   "cell_type": "code",
   "execution_count": 22,
   "metadata": {
    "tags": []
   },
   "outputs": [],
   "source": [
    "kgtk(\"\"\"\n",
    "    query -i p31x -i $TEMP/item_properties.tsv.gz\n",
    "        --match '  \n",
    "            p31x: (entity)-[]->(class),\n",
    "            item_properties: (entity)-[l]->(property)'\n",
    "        --return 'distinct class as node1, \"P1963computed\" as label, property as node2, count(distinct l) as P1114'\n",
    "    / add-id --id-style wikidata\n",
    "    / normalize --add-id True\n",
    "    -o $OUT/derived.class.P1963computed.tsv.gz\n",
    "\"\"\")"
   ]
  },
  {
   "cell_type": "markdown",
   "metadata": {},
   "source": [
    "### Added by Amandeep, to get the properties for this class for subclasses\n",
    "For every class, record the count of each property in all subclasses of the class"
   ]
  },
  {
   "cell_type": "code",
   "execution_count": 23,
   "metadata": {},
   "outputs": [],
   "source": [
    "kgtk(\"\"\"\n",
    "    query -i p279star -i $TEMP/item_properties_subclasses.tsv.gz\n",
    "        --match '  \n",
    "            p279star: (entity)-[]->(class),\n",
    "            item_properties_subclasses: (entity)-[l]->(property)'\n",
    "        --return 'distinct class as node1, \"P1963subclass_star\" as label, property as node2, count(distinct l) as P1114'\n",
    "    / add-id --id-style wikidata\n",
    "    / normalize --add-id True\n",
    "    -o $OUT/derived.class.P1963computed.subclass.tsv.gz\n",
    "\"\"\")"
   ]
  },
  {
   "cell_type": "markdown",
   "metadata": {},
   "source": [
    "Calculate the proportion of instances of a class that have each property, recording the proportion using property `proportion (P1107)`"
   ]
  },
  {
   "cell_type": "raw",
   "metadata": {
    "tags": []
   },
   "source": [
    "kgtk(\"\"\"\n",
    "    query -i $OUT/derived.class.P1963computed.tsv.gz -i \"$GRAPH\"/derived.dwd.count.tsv.gz\n",
    "        --match '\n",
    "            computed:\n",
    "                (class)-[edge_id:P1963computed]->(property),\n",
    "                (edge_id)-[:P1114]->(property_count),\n",
    "            count:\n",
    "                (class)-[]->(instance_count)'\n",
    "        --return 'edge_id as node1, \"P1107\" as label, cast(property_count, float)/cast(instance_count, float) as node2'\n",
    "    / add-id --id-style wikidata\n",
    "    / cat -i - -i $OUT/derived.class.P1963computed.tsv.gz\n",
    "    / sort\n",
    "    -o $OUT/derived.class.P1963computed.count.tsv.gz\n",
    "\"\"\")"
   ]
  },
  {
   "cell_type": "code",
   "execution_count": 12,
   "metadata": {},
   "outputs": [],
   "source": [
    "kgtk(\"\"\"\n",
    "    query -i $OUT/derived.class.P1963computed.tsv.gz -i \"$OUT\"/statistics.Pinstance_count.tsv.gz\n",
    "        --match '\n",
    "            computed:\n",
    "                (class)-[edge_id:P1963computed]->(property),\n",
    "                (edge_id)-[:P1114]->(property_count),\n",
    "            count:\n",
    "                (class)-[]->(instance_count)'\n",
    "        --return 'edge_id as node1, \"P1107\" as label, cast(property_count, float)/cast(instance_count, float) as node2'\n",
    "    / add-id --id-style wikidata\n",
    "    / cat -i - -i $OUT/derived.class.P1963computed.tsv.gz\n",
    "    / sort\n",
    "    -o $OUT/derived.class.P1963computed.count.tsv.gz\n",
    "\"\"\")"
   ]
  },
  {
   "cell_type": "markdown",
   "metadata": {},
   "source": [
    "In the second step, we use `P279star` to iterate over all classes, finding all subclasses below each superclass, and we sum the counts for the properties.\n",
    "\n",
    "\n",
    "In the return clause, we list `superclass`, and the value of the `property` variable ahead of the `count` clause to tell KGTK that we want to aggregate by superclass and property. We reuse the Wikidata `quantity (P1114)` to record the counts:"
   ]
  },
  {
   "cell_type": "code",
   "execution_count": 24,
   "metadata": {
    "tags": []
   },
   "outputs": [],
   "source": [
    "kgtk(\"\"\"\n",
    "    query -i $OUT/derived.class.P1963computed.tsv.gz -i p279star \\\n",
    "    --match ' \n",
    "        P1963computed: \n",
    "            (class)-[edge_id]->(property), \n",
    "            (edge_id)-[:P1114]->(count),\n",
    "        p279star: \n",
    "            (class)-[:P279star]->(superclass)' \n",
    "    --return 'distinct superclass as node1, \"P1963computed_star\" as label, property as node2, sum(count) as P1114'\n",
    "    / add-id --id-style wikidata\n",
    "    / normalize --add-id True\n",
    "    -o \"$OUT\"/derived.P1963computed.star.tsv.gz\n",
    "\"\"\")\n",
    "#"
   ]
  },
  {
   "cell_type": "markdown",
   "metadata": {},
   "source": [
    "The following query claculates `P1963computed_x` in one go, by counting over all instances of all sublasses of each superclass. This query is too expensive: it will not complete after 2 days when running on DWD."
   ]
  },
  {
   "cell_type": "raw",
   "metadata": {
    "execution": {
     "iopub.execute_input": "2021-11-15T13:27:31.982873Z",
     "iopub.status.busy": "2021-11-15T13:27:31.981587Z"
    }
   },
   "source": [
    "kgtk(\"\"\"\n",
    "    query -i p279star -i p31x -i $TEMP/item_properties.tsv\n",
    "        --match ' \n",
    "            p31x: (entity)-[]->(class), \n",
    "            p279star: (class)-[:P279star]->(superclass),\n",
    "            item_properties: (entity)-[l]->(property)'\n",
    "        --return 'distinct superclass as node1, \"P1963computed_star\" as label, property as node2, count(distinct l) as P1114' \n",
    "    / add-id --id-style wikidata\n",
    "    / normalize --add-id True\n",
    "    -o $OUT/derived.P1963computed.tsv\n",
    "\"\"\")"
   ]
  },
  {
   "cell_type": "markdown",
   "metadata": {},
   "source": [
    "Calculate the proportion of instances of a class that have each property, recording the proportion using property `proportion (P1107)`"
   ]
  },
  {
   "cell_type": "code",
   "execution_count": 25,
   "metadata": {
    "tags": []
   },
   "outputs": [],
   "source": [
    "kgtk(\"\"\"\n",
    "    query -i $OUT/derived.P1963computed.star.tsv.gz -i \"$OUT\"/statistics.Pinstance_count.star.tsv.gz\n",
    "        --match '\n",
    "            computed:\n",
    "                (class)-[edge_id:P1963computed_star]->(property),\n",
    "                (edge_id)-[:P1114]->(property_count),\n",
    "            count:\n",
    "                (class)-[]->(instance_count)'\n",
    "        --return 'edge_id as node1, \"P1107\" as label, cast(property_count, float)/cast(instance_count, float) as node2'\n",
    "    / add-id --id-style wikidata\n",
    "    / cat -i - -i $OUT/derived.P1963computed.star.tsv.gz\n",
    "    / sort\n",
    "    -o $OUT/derived.P1963computed.count.star.tsv.gz\n",
    "\"\"\")"
   ]
  },
  {
   "cell_type": "markdown",
   "metadata": {},
   "source": [
    "### Added by Amandeep, to get the properties for this class for subclasses\n",
    "version 2, subclasses only"
   ]
  },
  {
   "cell_type": "code",
   "execution_count": 24,
   "metadata": {},
   "outputs": [],
   "source": [
    "kgtk(\"\"\"\n",
    "    query -i \"$OUT\"/derived.class.P1963computed.subclass.tsv.gz -i $OUT/statistics.Psubclass_count.star.tsv.gz\n",
    "        --match '\n",
    "            computed:\n",
    "                (class)-[edge_id:P1963subclass_star]->(property),\n",
    "                (edge_id)-[:P1114]->(property_count),\n",
    "            count:\n",
    "                (class)-[]->(instance_count)'\n",
    "        --return 'edge_id as node1, \"P1107\" as label, cast(property_count, float)/cast(instance_count, float) as node2'\n",
    "    / add-id --id-style wikidata\n",
    "    / cat -i - -i \"$OUT\"/derived.class.P1963computed.subclass.tsv.gz\n",
    "    / sort\n",
    "    -o $OUT/derived.P1963computed.subclass.count.star.tsv.gz\n",
    "\"\"\")"
   ]
  },
  {
   "cell_type": "markdown",
   "metadata": {
    "execution": {
     "iopub.execute_input": "2021-12-13T00:12:36.414278Z",
     "iopub.status.busy": "2021-12-13T00:12:36.414027Z",
     "iopub.status.idle": "2021-12-13T00:12:36.418624Z",
     "shell.execute_reply": "2021-12-13T00:12:36.417724Z",
     "shell.execute_reply.started": "2021-12-13T00:12:36.414251Z"
    }
   },
   "source": [
    "Show part of the files, compute the tables to put at the top of the notebook:"
   ]
  },
  {
   "cell_type": "code",
   "execution_count": 26,
   "metadata": {
    "tags": []
   },
   "outputs": [
    {
     "name": "stdout",
     "output_type": "stream",
     "text": [
      "| node1 | label | node2 | P1114 | P1107 | node1;label | node2;label |\n",
      "| -- | -- | -- | -- | -- | -- | -- |\n",
      "| Q100026 | P1963computed | P17 | 1 | 0.1111111111111111 | 'General Dynamics F-16 Fighting Falcon'@en | 'country'@en |\n",
      "| Q100026 | P1963computed | P18 | 1 | 0.1111111111111111 | 'General Dynamics F-16 Fighting Falcon'@en | 'image'@en |\n",
      "| Q100026 | P1963computed | P31 | 1 | 0.1111111111111111 | 'General Dynamics F-16 Fighting Falcon'@en | 'instance of'@en |\n",
      "| Q100026 | P1963computed | P373 | 1 | 0.1111111111111111 | 'General Dynamics F-16 Fighting Falcon'@en | 'Commons category'@en |\n",
      "| Q100026 | P1963computed | P646 | 1 | 0.1111111111111111 | 'General Dynamics F-16 Fighting Falcon'@en | 'Freebase ID'@en |\n",
      "\n"
     ]
    }
   ],
   "source": [
    "kgtk(\"\"\"\n",
    "    query -i $OUT/derived.class.P1963computed.count.tsv.gz\n",
    "        --match '\n",
    "            (n1:Q100026)-[eid:P1963computed]->(n2), \n",
    "            (eid)-[:P1114]->(count),\n",
    "            (eid)-[:P1107]->(proportion)'\n",
    "        --return 'distinct n1 as node1, eid.label as label, n2 as node2, count as P1114, proportion as P1107'\n",
    "        --order-by 'cast(P1114, int) desc'\n",
    "        --limit 10\n",
    "    / add-labels\n",
    "    / md\n",
    "\"\"\")"
   ]
  },
  {
   "cell_type": "code",
   "execution_count": 27,
   "metadata": {
    "tags": []
   },
   "outputs": [
    {
     "name": "stdout",
     "output_type": "stream",
     "text": [
      "| node1 | label | node2 | P1114 | P1107 | node1;label | node2;label |\n",
      "| -- | -- | -- | -- | -- | -- | -- |\n",
      "| Q100026 | P1963computed_star | P31 | 11 | 1.2222222222222223 | 'General Dynamics F-16 Fighting Falcon'@en | 'instance of'@en |\n",
      "| Q100026 | P1963computed_star | P729 | 10 | 1.1111111111111112 | 'General Dynamics F-16 Fighting Falcon'@en | 'service entry'@en |\n",
      "| Q100026 | P1963computed_star | P176 | 9 | 1.0 | 'General Dynamics F-16 Fighting Falcon'@en | 'manufacturer'@en |\n",
      "| Q100026 | P1963computed_star | P361 | 9 | 1.0 | 'General Dynamics F-16 Fighting Falcon'@en | 'part of'@en |\n",
      "| Q100026 | P1963computed_star | P730 | 8 | 0.8888888888888888 | 'General Dynamics F-16 Fighting Falcon'@en | 'service retirement'@en |\n",
      "| Q100026 | P1963computed_star | P137 | 7 | 0.7777777777777778 | 'General Dynamics F-16 Fighting Falcon'@en | 'operator'@en |\n",
      "| Q100026 | P1963computed_star | P373 | 6 | 0.6666666666666666 | 'General Dynamics F-16 Fighting Falcon'@en | 'Commons category'@en |\n",
      "| Q100026 | P1963computed_star | P426 | 6 | 0.6666666666666666 | 'General Dynamics F-16 Fighting Falcon'@en | 'aircraft registration'@en |\n",
      "| Q100026 | P1963computed_star | P18 | 5 | 0.5555555555555556 | 'General Dynamics F-16 Fighting Falcon'@en | 'image'@en |\n",
      "| Q100026 | P1963computed_star | P1083 | 4 | 0.4444444444444444 | 'General Dynamics F-16 Fighting Falcon'@en | 'maximum capacity'@en |\n",
      "\n"
     ]
    }
   ],
   "source": [
    "kgtk(\"\"\"\n",
    "    query -i $OUT/derived.P1963computed.count.star.tsv.gz\n",
    "        --match '\n",
    "            (n1:Q100026)-[eid:P1963computed_star]->(n2), \n",
    "            (eid)-[:P1114]->(count),\n",
    "            (eid)-[:P1107]->(proportion)'\n",
    "        --return 'distinct n1 as node1, eid.label as label, n2 as node2, count as P1114, proportion as P1107'\n",
    "        --order-by 'cast(P1114, int) desc'\n",
    "        --limit 10\n",
    "    / add-labels\n",
    "    / md\n",
    "\"\"\")"
   ]
  },
  {
   "cell_type": "markdown",
   "metadata": {},
   "source": [
    "Create a report of the property counts"
   ]
  },
  {
   "cell_type": "code",
   "execution_count": 28,
   "metadata": {
    "tags": []
   },
   "outputs": [
    {
     "name": "stderr",
     "output_type": "stream",
     "text": [
      "Exception in thread background thread for pid 219533:\n",
      "Traceback (most recent call last):\n",
      "  File \"/nas/home/amandeep/miniconda3/envs/kgtk-env/lib/python3.9/threading.py\", line 973, in _bootstrap_inner\n",
      "    self.run()\n",
      "  File \"/nas/home/amandeep/miniconda3/envs/kgtk-env/lib/python3.9/threading.py\", line 910, in run\n",
      "    self._target(*self._args, **self._kwargs)\n",
      "  File \"/nas/home/amandeep/miniconda3/envs/kgtk-env/lib/python3.9/site-packages/sh.py\", line 1683, in wrap\n",
      "    fn(*rgs, **kwargs)\n",
      "  File \"/nas/home/amandeep/miniconda3/envs/kgtk-env/lib/python3.9/site-packages/sh.py\", line 2662, in background_thread\n",
      "    handle_exit_code(exit_code)\n",
      "  File \"/nas/home/amandeep/miniconda3/envs/kgtk-env/lib/python3.9/site-packages/sh.py\", line 2349, in fn\n",
      "    return self.command.handle_command_exit_code(exit_code)\n",
      "  File \"/nas/home/amandeep/miniconda3/envs/kgtk-env/lib/python3.9/site-packages/sh.py\", line 905, in handle_command_exit_code\n",
      "    raise exc\n",
      "sh.ErrorReturnCode_2: \n",
      "\n",
      "  RAN: /bin/bash -c 'kgtk      query -i $OUT/derived.P1963computed.count.star.tsv.gz         --match '\"'\"'             (class)-[edge_id]->(property),             (edge_id)-[:P1114]->(instance_count),             (edge_id)-[:P1107]->(proportion)'\"'\"'         --return '\"'\"'             class as class,             property as property,             instance_count as instance_count,             proportion as proportion'\"'\"'         --order-by '\"'\"'class, cast(proportion, float) desc, property'\"'\"'     / add-labels --mode=NONE     -o $OUT/P1963.report.tsv.gz'\n",
      "\n",
      "  STDOUT:\n",
      "\n",
      "\n",
      "  STDERR:\n",
      "\n"
     ]
    },
    {
     "name": "stdout",
     "output_type": "stream",
     "text": [
      "No label match column specified and not an edge or node file.\n",
      "\n"
     ]
    }
   ],
   "source": [
    "kgtk(\"\"\"\n",
    "    query -i $OUT/derived.P1963computed.count.star.tsv.gz\n",
    "        --match '\n",
    "            (class)-[edge_id]->(property),\n",
    "            (edge_id)-[:P1114]->(instance_count),\n",
    "            (edge_id)-[:P1107]->(proportion)'\n",
    "        --return '\n",
    "            class as class,\n",
    "            property as property,\n",
    "            instance_count as instance_count,\n",
    "            proportion as proportion'\n",
    "        --order-by 'class, cast(proportion, float) desc, property'\n",
    "    / add-labels --mode=NONE\n",
    "    -o $OUT/P1963.report.tsv.gz\n",
    "\"\"\")"
   ]
  },
  {
   "cell_type": "code",
   "execution_count": 14,
   "metadata": {
    "tags": []
   },
   "outputs": [
    {
     "name": "stdout",
     "output_type": "stream",
     "text": [
      "[Errno 2] No such file or directory: '/Volumes/saggu-ssd/wikidata-dwd-v3/p1963/P1963.report.tsv.gz'\n"
     ]
    }
   ],
   "source": [
    "!kgtk head -i $OUT/P1963.report.tsv.gz"
   ]
  },
  {
   "cell_type": "code",
   "execution_count": null,
   "metadata": {},
   "outputs": [],
   "source": []
  },
  {
   "cell_type": "markdown",
   "metadata": {},
   "source": [
    "## Compute `Pproperty_domain` that maps properties to the classes whose instances use the property"
   ]
  },
  {
   "cell_type": "code",
   "execution_count": 29,
   "metadata": {
    "tags": []
   },
   "outputs": [],
   "source": [
    "kgtk(\"\"\"\n",
    "    query -i $OUT/derived.P1963computed.count.star.tsv.gz --idx mode:graph\n",
    "        --match '\n",
    "            (class)-[edge_id:P1963computed_star]->(property),\n",
    "            (edge_id)-[:P1114]->(instance_count),\n",
    "            (edge_id)-[:P1107]->(proportion)'\n",
    "        --return 'distinct property as node1, \"Pproperty_domain\" as label, class as node2, instance_count as P1114, proportion as P1107'\n",
    "        --order-by 'property, cast(P1114, int) desc'\n",
    "    / add-id --id-style wikidata\n",
    "    / normalize --add-id True\n",
    "    -o $OUT/derived.Pproperty_domain.tsv.gz\n",
    "\"\"\")"
   ]
  },
  {
   "cell_type": "markdown",
   "metadata": {},
   "source": [
    "Example showing the domain of `cast member (P161)`. \n",
    "Ordering by the product of the count and proportion gives a more nuanced view of the important classes."
   ]
  },
  {
   "cell_type": "code",
   "execution_count": 30,
   "metadata": {
    "tags": []
   },
   "outputs": [
    {
     "name": "stdout",
     "output_type": "stream",
     "text": [
      "| node1 | label | node2 | P1114 | P1107 | node1;label | node2;label |\n",
      "| -- | -- | -- | -- | -- | -- | -- |\n",
      "| P161 | Pproperty_domain | Q11424 | 173984 | 0.5360627805730237 | 'cast member'@en | 'film'@en |\n",
      "| P161 | Pproperty_domain | Q10301427 | 202057 | 0.38229490083002704 | 'cast member'@en | 'moving image'@en |\n",
      "| P161 | Pproperty_domain | Q106213450 | 202836 | 0.33809831780935173 | 'cast member'@en | 'time-based work'@en |\n",
      "| P161 | Pproperty_domain | Q2431196 | 202836 | 0.33809831780935173 | 'cast member'@en | 'audiovisual work'@en |\n",
      "| P161 | Pproperty_domain | Q194980 | 202838 | 0.3031717965542341 | 'cast member'@en | 'intangible good'@en |\n",
      "| P161 | Pproperty_domain | Q478798 | 202059 | 0.26511258090460965 | 'cast member'@en | 'image'@en |\n",
      "| P161 | Pproperty_domain | Q11795009 | 202061 | 0.26459931198757547 | 'cast member'@en | 'image'@en |\n",
      "| P161 | Pproperty_domain | Q174984 | 202062 | 0.2645777547907269 | 'cast member'@en | 'signal'@en |\n",
      "| P161 | Pproperty_domain | Q2150504 | 202062 | 0.2645600877755752 | 'cast member'@en | 'signal'@en |\n",
      "| P161 | Pproperty_domain | Q3695082 | 202075 | 0.14030998386339713 | 'cast member'@en | 'sign'@en |\n",
      "| P161 | Pproperty_domain | Q42848 | 202065 | 0.1336560772786322 | 'cast member'@en | 'data'@en |\n",
      "| P161 | Pproperty_domain | Q4502142 | 202945 | 0.1192823720467408 | 'cast member'@en | 'visual artwork'@en |\n",
      "\n"
     ]
    }
   ],
   "source": [
    "kgtk(\"\"\"\n",
    "    query -i $OUT/derived.Pproperty_domain.tsv.gz --idx mode:graph\n",
    "        --match '\n",
    "            (property:P161)-[edge_id:Pproperty_domain]->(class),\n",
    "            (edge_id)-[:P1114]->(instance_count),\n",
    "            (edge_id)-[:P1107]->(proportion)'\n",
    "        --return 'distinct property as node1, \"Pproperty_domain\" as label, class as node2, instance_count as P1114, proportion as P1107'\n",
    "        --order-by 'property, cast(P1114, float)*cast(P1107, float)  desc'\n",
    "        --limit 12\n",
    "    / add-labels\n",
    "    / md\n",
    "\"\"\")"
   ]
  },
  {
   "cell_type": "markdown",
   "metadata": {},
   "source": [
    "## Construct a class-to-class graph where classes are connected if their instances share many properties\n",
    "\n",
    "This is an exploration to see if we can use `P1963computed` to figure out relationships among classes."
   ]
  },
  {
   "cell_type": "code",
   "execution_count": 31,
   "metadata": {
    "tags": []
   },
   "outputs": [],
   "source": [
    "kgtk(\"\"\"\n",
    "    query -i $OUT/derived.P1963computed.count.star.tsv.gz\n",
    "        --match '\n",
    "            (class)-[edge_id]->(property),\n",
    "            (edge_id)-[:P1107]->(proportion)'\n",
    "        --where 'cast(proportion, float) > 0.5 and property != \"P31\" and property != \"P279\" '\n",
    "        --return 'distinct class as node1, property as node2, \"property\" as label'\n",
    "    -o $TEMP/P1963computed.prevalent.tsv.gz\n",
    "\"\"\")"
   ]
  },
  {
   "cell_type": "code",
   "execution_count": null,
   "metadata": {},
   "outputs": [],
   "source": []
  },
  {
   "cell_type": "code",
   "execution_count": 8,
   "metadata": {
    "tags": []
   },
   "outputs": [
    {
     "name": "stderr",
     "output_type": "stream",
     "text": [
      "Exception in thread background thread for pid 11655:\n",
      "Traceback (most recent call last):\n",
      "  File \"/nas/home/amandeep/miniconda3/envs/kgtk-env/lib/python3.9/threading.py\", line 973, in _bootstrap_inner\n",
      "    self.run()\n",
      "  File \"/nas/home/amandeep/miniconda3/envs/kgtk-env/lib/python3.9/threading.py\", line 910, in run\n",
      "    self._target(*self._args, **self._kwargs)\n",
      "  File \"/nas/home/amandeep/miniconda3/envs/kgtk-env/lib/python3.9/site-packages/sh.py\", line 1683, in wrap\n",
      "    fn(*rgs, **kwargs)\n",
      "  File \"/nas/home/amandeep/miniconda3/envs/kgtk-env/lib/python3.9/site-packages/sh.py\", line 2662, in background_thread\n",
      "    handle_exit_code(exit_code)\n",
      "  File \"/nas/home/amandeep/miniconda3/envs/kgtk-env/lib/python3.9/site-packages/sh.py\", line 2349, in fn\n",
      "    return self.command.handle_command_exit_code(exit_code)\n",
      "  File \"/nas/home/amandeep/miniconda3/envs/kgtk-env/lib/python3.9/site-packages/sh.py\", line 905, in handle_command_exit_code\n",
      "    raise exc\n",
      "sh.ErrorReturnCode_1: \n",
      "\n",
      "  RAN: /bin/bash -c 'kgtk      query -i $TEMP/P1963computed.prevalent.tsv.gz         --match '\"'\"'(class1)-[]->(property), (class2)-[]->(property)'\"'\"'         --where '\"'\"'class1 > class2'\"'\"'         --return '\"'\"'distinct class1 as node1, \"link\" as label, class2 as node2, count(distinct property) as P1114'\"'\"'     -o $TEMP/P1963.graph.tsv.gz'\n",
      "\n",
      "  STDOUT:\n",
      "\n",
      "\n",
      "  STDERR:\n",
      "\n"
     ]
    },
    {
     "name": "stdout",
     "output_type": "stream",
     "text": [
      "database or disk is full\n",
      "\n",
      "\n"
     ]
    }
   ],
   "source": [
    "kgtk(\"\"\"\n",
    "    query -i $TEMP/PP1963computed.prevalent.tsv.gz\n",
    "        --match '(class1)-[]->(property), (class2)-[]->(property)'\n",
    "        --where 'class1 > class2'\n",
    "        --return 'distinct class1 as node1, \"link\" as label, class2 as node2, count(distinct property) as P1114'\n",
    "    -o $TEMP/P1963.graph.tsv.gz\n",
    "\"\"\")"
   ]
  },
  {
   "cell_type": "markdown",
   "metadata": {},
   "source": [
    "The resulting graph as `6,338,684,335` edges, which is too large, likely caused by links that appear only once. The computation took 1 day and 11 hours."
   ]
  },
  {
   "cell_type": "code",
   "execution_count": null,
   "metadata": {
    "tags": []
   },
   "outputs": [],
   "source": [
    "kgtk(\"\"\"\n",
    "    add-id -i $TEMP/P1963.graph.tsv.gz \n",
    "        --verify-id-unique=false \n",
    "    -o $TEMP/P1963.graph.id.tsv.gz\n",
    "\"\"\")"
   ]
  },
  {
   "cell_type": "code",
   "execution_count": null,
   "metadata": {},
   "outputs": [],
   "source": []
  },
  {
   "cell_type": "code",
   "execution_count": null,
   "metadata": {
    "tags": []
   },
   "outputs": [],
   "source": [
    "kgtk(\"\"\"\n",
    "    query -i $TEMP/P1963.graph.id.tsv.gz \n",
    "        --match '\n",
    "            (class1)-[edgeid {P1114: quantity}]->(class2)'\n",
    "        --return 'quantity as node1, \"count_distribution\" as label, count(distinct edgeid) as node2'\n",
    "        --order-by 'cast(node2, int) desc'\n",
    "    -o $TEMP/P1963.count.distribution.tsv\n",
    "\"\"\")"
   ]
  },
  {
   "cell_type": "markdown",
   "metadata": {},
   "source": [
    "It is surprising that the largest counts are 6, 6 and 5. I expected 1 to be the largest. Also, the distribution is fairly smooth, which I didn't expect either."
   ]
  },
  {
   "cell_type": "code",
   "execution_count": null,
   "metadata": {
    "tags": []
   },
   "outputs": [],
   "source": [
    "kgtk(\"head -i $TEMP/P1963.count.distribution.tsv -n 100\")"
   ]
  },
  {
   "cell_type": "code",
   "execution_count": null,
   "metadata": {},
   "outputs": [],
   "source": []
  },
  {
   "cell_type": "markdown",
   "metadata": {},
   "source": [
    "## Visualize the graph"
   ]
  },
  {
   "cell_type": "code",
   "execution_count": null,
   "metadata": {
    "tags": []
   },
   "outputs": [],
   "source": [
    "kgtk(\"\"\"\n",
    "    query -i $TEMP/P1963.graph.tsv.gz \n",
    "        --match '\n",
    "            (class1)-[edgeid {P1114: quantity}]->(class2)'\n",
    "        --return 'distinct class1 as node1, \"link\" as label, class2 as node2, quantity as P1114'\n",
    "        --where 'cast(quantity, int) > 9'\n",
    "    -o $OUT/P1963.graph.10.tsv.gz\n",
    "\"\"\")"
   ]
  },
  {
   "cell_type": "markdown",
   "metadata": {},
   "source": [
    "Try loading the large graph in its own cache"
   ]
  },
  {
   "cell_type": "code",
   "execution_count": null,
   "metadata": {
    "execution": {
     "iopub.execute_input": "2021-11-30T04:54:58.925508Z",
     "iopub.status.busy": "2021-11-30T04:54:58.925259Z",
     "iopub.status.idle": "2021-11-30T11:19:06.398376Z",
     "shell.execute_reply": "2021-11-30T11:19:06.391854Z",
     "shell.execute_reply.started": "2021-11-30T04:54:58.925480Z"
    },
    "tags": []
   },
   "outputs": [],
   "source": [
    "kgtk(\"\"\"\n",
    "    query -i $TEMP/P1963.graph.id.tsv.gz --idx mode:none --graph-cache /Volumes/crucial/wikidata-cache/p1963.sqlite3.db\n",
    "        --match '\n",
    "            (class1)-[edgeid {P1114: quantity}]->(class2)'\n",
    "        --return 'distinct class1 as node1, \"link\" as label, class2 as node2, quantity as P1114, edgeid as id'\n",
    "        --where 'cast(quantity, int) > 9'\n",
    "    -o $OUT/P1963.graph.10.tsv.gz\n",
    "\"\"\")"
   ]
  },
  {
   "cell_type": "code",
   "execution_count": null,
   "metadata": {},
   "outputs": [],
   "source": []
  },
  {
   "cell_type": "code",
   "execution_count": null,
   "metadata": {},
   "outputs": [],
   "source": []
  },
  {
   "cell_type": "code",
   "execution_count": null,
   "metadata": {
    "execution": {
     "iopub.execute_input": "2021-11-30T16:07:24.871615Z",
     "iopub.status.busy": "2021-11-30T16:07:24.870622Z",
     "iopub.status.idle": "2021-11-30T16:11:31.443474Z",
     "shell.execute_reply": "2021-11-30T16:11:31.442919Z",
     "shell.execute_reply.started": "2021-11-30T16:07:24.871576Z"
    },
    "tags": []
   },
   "outputs": [],
   "source": [
    "kgtk(\"\"\"\n",
    "    connected-components -i $OUT/P1963.graph.10.tsv.gz -o $OUT/P1963.graph.10.components.tsv.gz\n",
    "\"\"\")"
   ]
  },
  {
   "cell_type": "markdown",
   "metadata": {},
   "source": [
    "Look at the components. We have a large component and many thousands of isolated islands."
   ]
  },
  {
   "cell_type": "code",
   "execution_count": null,
   "metadata": {
    "execution": {
     "iopub.execute_input": "2021-11-30T16:11:31.445494Z",
     "iopub.status.busy": "2021-11-30T16:11:31.445191Z",
     "iopub.status.idle": "2021-11-30T16:11:32.370136Z",
     "shell.execute_reply": "2021-11-30T16:11:32.369460Z",
     "shell.execute_reply.started": "2021-11-30T16:11:31.445443Z"
    },
    "tags": []
   },
   "outputs": [],
   "source": [
    "kgtk(\"\"\"\n",
    "    unique -i $OUT/P1963.graph.10.components.tsv.gz -c node2\n",
    "    / sort -c node2 --numeric True --reverse True\n",
    "\"\"\")"
   ]
  },
  {
   "cell_type": "code",
   "execution_count": null,
   "metadata": {
    "execution": {
     "iopub.execute_input": "2021-11-30T16:13:00.843955Z",
     "iopub.status.busy": "2021-11-30T16:13:00.843653Z",
     "iopub.status.idle": "2021-11-30T16:13:01.783725Z",
     "shell.execute_reply": "2021-11-30T16:13:01.782967Z",
     "shell.execute_reply.started": "2021-11-30T16:13:00.843927Z"
    },
    "tags": []
   },
   "outputs": [],
   "source": [
    "kgtk(\"\"\"\n",
    "    query -i $OUT/P1963.graph.10.components.tsv.gz\n",
    "        --match '\n",
    "            (item)-[]->(:`CLUSB2cQvRcVJs48uwsDf88O9A==`)'\n",
    "        --return 'distinct item as node1'\n",
    "    -o $TEMP/large-connected-component.tsv.gz\n",
    "\"\"\")"
   ]
  },
  {
   "cell_type": "code",
   "execution_count": null,
   "metadata": {},
   "outputs": [],
   "source": []
  },
  {
   "cell_type": "code",
   "execution_count": null,
   "metadata": {
    "execution": {
     "iopub.execute_input": "2021-11-30T16:13:18.896453Z",
     "iopub.status.busy": "2021-11-30T16:13:18.895905Z",
     "iopub.status.idle": "2021-11-30T16:26:40.114165Z",
     "shell.execute_reply": "2021-11-30T16:26:40.113286Z",
     "shell.execute_reply.started": "2021-11-30T16:13:18.896423Z"
    },
    "tags": []
   },
   "outputs": [],
   "source": [
    "kgtk(\"\"\"\n",
    "    query -i $TEMP/large-connected-component.tsv.gz -i $OUT/P1963.graph.10.tsv.gz\n",
    "        --match '\n",
    "            P1963: (n1)-[l]->(n2),\n",
    "            connected: (n1),\n",
    "            connected: (n2)'\n",
    "        --return 'distinct n1 as node1, l.label as label, n2 as node2, l as id'\n",
    "    -o $TEMP/large-cluster.graph.tsv.gz\n",
    "\"\"\")"
   ]
  },
  {
   "cell_type": "code",
   "execution_count": null,
   "metadata": {
    "execution": {
     "iopub.execute_input": "2021-11-30T16:26:40.116269Z",
     "iopub.status.busy": "2021-11-30T16:26:40.116020Z",
     "iopub.status.idle": "2021-11-30T16:30:29.352458Z",
     "shell.execute_reply": "2021-11-30T16:30:29.351657Z",
     "shell.execute_reply.started": "2021-11-30T16:26:40.116242Z"
    },
    "tags": []
   },
   "outputs": [],
   "source": [
    "!kgtk export-gt -i $TEMP/large-cluster.graph.tsv.gz  -o $TEMP/large-cluster.graph.gt"
   ]
  },
  {
   "cell_type": "code",
   "execution_count": null,
   "metadata": {
    "execution": {
     "iopub.execute_input": "2021-11-30T16:30:29.353801Z",
     "iopub.status.busy": "2021-11-30T16:30:29.353441Z",
     "iopub.status.idle": "2021-11-30T17:27:16.134803Z",
     "shell.execute_reply": "2021-11-30T17:27:16.134256Z",
     "shell.execute_reply.started": "2021-11-30T16:30:29.353777Z"
    },
    "tags": []
   },
   "outputs": [],
   "source": [
    "path = os.environ[\"TEMP\"] + \"/large-cluster.graph.gt\"\n",
    "g = load_graph(path)\n",
    "\n",
    "pos = sfdp_layout(g)\n",
    "graph_draw(g, pos=pos, output_size=(1000, 1000))"
   ]
  },
  {
   "cell_type": "code",
   "execution_count": null,
   "metadata": {
    "tags": []
   },
   "outputs": [],
   "source": [
    "!kgtk export-gt -i $OUT/P1963.graph.10.tsv.gz  -o $OUT/P1963.graph.10.gt"
   ]
  },
  {
   "cell_type": "code",
   "execution_count": null,
   "metadata": {
    "tags": []
   },
   "outputs": [],
   "source": [
    "path = os.environ[\"OUT\"] + \"/P1963.graph.10.gt\"\n",
    "g = load_graph(path)\n",
    "\n",
    "pos = sfdp_layout(g)\n",
    "graph_draw(g, pos=pos, output_size=(1000, 1000))"
   ]
  },
  {
   "cell_type": "code",
   "execution_count": null,
   "metadata": {
    "tags": []
   },
   "outputs": [],
   "source": [
    "path = os.environ[\"OUT\"] + \"/P1963.graph.15.gt\"\n",
    "g = load_graph(path)\n",
    "\n",
    "pos = sfdp_layout(g)\n",
    "graph_draw(g, pos=pos, output_size=(1000, 1000))"
   ]
  },
  {
   "cell_type": "code",
   "execution_count": null,
   "metadata": {},
   "outputs": [],
   "source": []
  }
 ],
 "metadata": {
  "kernelspec": {
   "display_name": "kgtk-env-ckg06",
   "language": "python",
   "name": "kgtk-env-ckg06"
  },
  "language_info": {
   "codemirror_mode": {
    "name": "ipython",
    "version": 3
   },
   "file_extension": ".py",
   "mimetype": "text/x-python",
   "name": "python",
   "nbconvert_exporter": "python",
   "pygments_lexer": "ipython3",
   "version": "3.9.9"
  }
 },
 "nbformat": 4,
 "nbformat_minor": 4
}

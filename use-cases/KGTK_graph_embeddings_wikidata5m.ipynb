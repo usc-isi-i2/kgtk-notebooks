{
 "cells": [
  {
   "cell_type": "code",
   "execution_count": 20,
   "metadata": {},
   "outputs": [],
   "source": [
    "import os\n",
    "from kgtk.configure_kgtk_notebooks import ConfigureKGTK\n",
    "from kgtk.functions import kgtk, kypher\n",
    "from gensim.models import KeyedVectors\n",
    "import tempfile\n",
    "import pandas as pd\n",
    "import numpy as np\n",
    "import h5py, torch\n",
    "from torchbiggraph.model import ComplexDiagonalDynamicOperator, DotComparator, CosComparator\n",
    "import json\n",
    "import time"
   ]
  },
  {
   "cell_type": "code",
   "execution_count": 21,
   "metadata": {},
   "outputs": [
    {
     "name": "stdout",
     "output_type": "stream",
     "text": [
      "dynamic_rel_count.txt   entities_output.tsv      \u001b[0m\u001b[38;5;27mmodel\u001b[0m/\r\n",
      "dynamic_rel_names.json  entity_count_all_0.txt   relation_types_tf.tsv\r\n",
      "\u001b[38;5;27medges_partitioned\u001b[0m/      entity_names_all_0.json\r\n"
     ]
    }
   ],
   "source": [
    "ls /tmp/projects/tutorial-graph-embeddings/temp.tutorial-graph-embeddings/output"
   ]
  },
  {
   "cell_type": "code",
   "execution_count": 22,
   "metadata": {},
   "outputs": [],
   "source": [
    "embeddings = pd.read_csv('/tmp/projects/tutorial-graph-embeddings/arnold.embeddings.augmented.100.tsv', sep = '\\t')"
   ]
  },
  {
   "cell_type": "code",
   "execution_count": 23,
   "metadata": {},
   "outputs": [
    {
     "data": {
      "text/html": [
       "<div>\n",
       "<style scoped>\n",
       "    .dataframe tbody tr th:only-of-type {\n",
       "        vertical-align: middle;\n",
       "    }\n",
       "\n",
       "    .dataframe tbody tr th {\n",
       "        vertical-align: top;\n",
       "    }\n",
       "\n",
       "    .dataframe thead th {\n",
       "        text-align: right;\n",
       "    }\n",
       "</style>\n",
       "<table border=\"1\" class=\"dataframe\">\n",
       "  <thead>\n",
       "    <tr style=\"text-align: right;\">\n",
       "      <th></th>\n",
       "      <th>node1</th>\n",
       "      <th>label</th>\n",
       "      <th>node2</th>\n",
       "    </tr>\n",
       "  </thead>\n",
       "  <tbody>\n",
       "    <tr>\n",
       "      <th>0</th>\n",
       "      <td>Q3533911</td>\n",
       "      <td>graph_embeddings</td>\n",
       "      <td>0.003262148,0.045550559,0.005054940,-0.4102364...</td>\n",
       "    </tr>\n",
       "    <tr>\n",
       "      <th>1</th>\n",
       "      <td>Q263739</td>\n",
       "      <td>graph_embeddings</td>\n",
       "      <td>0.057031732,-0.298023194,0.098767348,-0.142428...</td>\n",
       "    </tr>\n",
       "    <tr>\n",
       "      <th>2</th>\n",
       "      <td>Q6447867</td>\n",
       "      <td>graph_embeddings</td>\n",
       "      <td>0.014380087,0.034869879,0.091715589,-0.3172882...</td>\n",
       "    </tr>\n",
       "    <tr>\n",
       "      <th>3</th>\n",
       "      <td>Q25241406</td>\n",
       "      <td>graph_embeddings</td>\n",
       "      <td>-0.120991871,0.044525474,-0.116639368,-0.31421...</td>\n",
       "    </tr>\n",
       "    <tr>\n",
       "      <th>4</th>\n",
       "      <td>Q20814143</td>\n",
       "      <td>graph_embeddings</td>\n",
       "      <td>-0.026510656,0.151938215,0.016863573,-0.529662...</td>\n",
       "    </tr>\n",
       "    <tr>\n",
       "      <th>...</th>\n",
       "      <td>...</td>\n",
       "      <td>...</td>\n",
       "      <td>...</td>\n",
       "    </tr>\n",
       "    <tr>\n",
       "      <th>4594144</th>\n",
       "      <td>Q985395</td>\n",
       "      <td>graph_embeddings</td>\n",
       "      <td>0.057080340,-0.214824334,-0.446722478,-0.24329...</td>\n",
       "    </tr>\n",
       "    <tr>\n",
       "      <th>4594145</th>\n",
       "      <td>Q7446683</td>\n",
       "      <td>graph_embeddings</td>\n",
       "      <td>0.015740165,-0.329518527,0.029669814,-0.382958...</td>\n",
       "    </tr>\n",
       "    <tr>\n",
       "      <th>4594146</th>\n",
       "      <td>Q16253932</td>\n",
       "      <td>graph_embeddings</td>\n",
       "      <td>-0.015442700,-0.044929687,0.087926723,-0.60552...</td>\n",
       "    </tr>\n",
       "    <tr>\n",
       "      <th>4594147</th>\n",
       "      <td>Q16203563</td>\n",
       "      <td>graph_embeddings</td>\n",
       "      <td>0.001286899,-0.102949277,-0.152381063,0.198757...</td>\n",
       "    </tr>\n",
       "    <tr>\n",
       "      <th>4594148</th>\n",
       "      <td>Q1941144</td>\n",
       "      <td>graph_embeddings</td>\n",
       "      <td>0.091921978,0.131611243,-0.082589447,-0.239420...</td>\n",
       "    </tr>\n",
       "  </tbody>\n",
       "</table>\n",
       "<p>4594149 rows × 3 columns</p>\n",
       "</div>"
      ],
      "text/plain": [
       "             node1             label  \\\n",
       "0         Q3533911  graph_embeddings   \n",
       "1          Q263739  graph_embeddings   \n",
       "2         Q6447867  graph_embeddings   \n",
       "3        Q25241406  graph_embeddings   \n",
       "4        Q20814143  graph_embeddings   \n",
       "...            ...               ...   \n",
       "4594144    Q985395  graph_embeddings   \n",
       "4594145   Q7446683  graph_embeddings   \n",
       "4594146  Q16253932  graph_embeddings   \n",
       "4594147  Q16203563  graph_embeddings   \n",
       "4594148   Q1941144  graph_embeddings   \n",
       "\n",
       "                                                     node2  \n",
       "0        0.003262148,0.045550559,0.005054940,-0.4102364...  \n",
       "1        0.057031732,-0.298023194,0.098767348,-0.142428...  \n",
       "2        0.014380087,0.034869879,0.091715589,-0.3172882...  \n",
       "3        -0.120991871,0.044525474,-0.116639368,-0.31421...  \n",
       "4        -0.026510656,0.151938215,0.016863573,-0.529662...  \n",
       "...                                                    ...  \n",
       "4594144  0.057080340,-0.214824334,-0.446722478,-0.24329...  \n",
       "4594145  0.015740165,-0.329518527,0.029669814,-0.382958...  \n",
       "4594146  -0.015442700,-0.044929687,0.087926723,-0.60552...  \n",
       "4594147  0.001286899,-0.102949277,-0.152381063,0.198757...  \n",
       "4594148  0.091921978,0.131611243,-0.082589447,-0.239420...  \n",
       "\n",
       "[4594149 rows x 3 columns]"
      ]
     },
     "execution_count": 23,
     "metadata": {},
     "output_type": "execute_result"
    }
   ],
   "source": [
    "embeddings"
   ]
  },
  {
   "cell_type": "code",
   "execution_count": null,
   "metadata": {},
   "outputs": [],
   "source": []
  },
  {
   "cell_type": "markdown",
   "metadata": {},
   "source": [
    "## For Complex Embeddings"
   ]
  },
  {
   "cell_type": "code",
   "execution_count": 50,
   "metadata": {},
   "outputs": [],
   "source": [
    "relation_names_list = json.load(open(f\"/tmp/projects/tutorial-graph-embeddings/temp.tutorial-graph-embeddings/output/dynamic_rel_names.json\"))\n",
    "entity_names_list = json.load(open(f\"/tmp/projects/tutorial-graph-embeddings/temp.tutorial-graph-embeddings/output/entity_names_all_0.json\"))\n",
    "prop_count = len(relation_names_list)\n",
    "vector_dimension = 100\n",
    "# operators\n",
    "operator_lhs = ComplexDiagonalDynamicOperator(vector_dimension, prop_count)\n",
    "operator_rhs = ComplexDiagonalDynamicOperator(vector_dimension, prop_count)\n",
    "comparator = DotComparator()\n",
    "cos_comparator = CosComparator()\n",
    "with h5py.File(f\"/tmp/projects/tutorial-graph-embeddings/temp.tutorial-graph-embeddings/output/model/model.v100.h5\", \"r\") as hf:\n",
    "    operator_state_dict_lhs = {\n",
    "        \"real\": torch.from_numpy(hf[\"model/relations/0/operator/lhs/real\"][...]),\n",
    "        \"imag\": torch.from_numpy(hf[\"model/relations/0/operator/lhs/imag\"][...]),\n",
    "    }\n",
    "\n",
    "    operator_state_dict_rhs = {\n",
    "        \"real\": torch.from_numpy(hf[\"model/relations/0/operator/rhs/real\"][...]),\n",
    "        \"imag\": torch.from_numpy(hf[\"model/relations/0/operator/rhs/imag\"][...]),\n",
    "    }\n",
    "    \n",
    "operator_lhs.load_state_dict(operator_state_dict_lhs)\n",
    "operator_rhs.load_state_dict(operator_state_dict_rhs)\n",
    "\n",
    "\n",
    "\n",
    "entity_to_index = {}\n",
    "for i, entity in enumerate(entity_names_list):\n",
    "    entity_to_index[entity] = i\n",
    "    \n",
    "\n",
    "rel_index = {}\n",
    "for i, rel in enumerate(relation_names_list):\n",
    "    rel_index[rel] = i"
   ]
  },
  {
   "cell_type": "code",
   "execution_count": 51,
   "metadata": {},
   "outputs": [],
   "source": [
    "#r s o\n",
    "def scalar_triple_dot(a1, a2, b, c):\n",
    "    return (a1 * b[0:50]).dot(c[0:50]) + (a1 * b[50:]).dot(c[50:]) + (a2 * b[0:50]).dot(c[50:]) -(a2 * b[50:]).dot(c[0:50])"
   ]
  },
  {
   "cell_type": "code",
   "execution_count": 52,
   "metadata": {},
   "outputs": [],
   "source": [
    "#link prediction\n",
    "\n",
    "def link_predict(node1, label, candidates, topn = 25):\n",
    "    nodes = []\n",
    "    scores = []\n",
    "    for cand in candidates:\n",
    "        emb_s = torch.tensor([float(x) for x in embeddings.node2[entity_to_index[node1]].split(',')])\n",
    "        emb_o = torch.tensor([float(x) for x in embeddings.node2[entity_to_index[cand]].split(',')])\n",
    "        score = scalar_triple_dot(operator_state_dict_lhs['real'][rel_index[label]], operator_state_dict_lhs['imag'][rel_index[label]],emb_s, emb_o)\n",
    "        scores.append(float(score))\n",
    "        nodes.append(cand)\n",
    "    df_temp = pd.DataFrame(list(zip(nodes, scores)), columns = ['node1', 'score'])\n",
    "    df_temp = df_temp.sort_values(by = 'score', ascending = False).reset_index(drop = True).head(topn)\n",
    "    return df_temp"
   ]
  },
  {
   "cell_type": "code",
   "execution_count": null,
   "metadata": {},
   "outputs": [],
   "source": [
    "# do link prediction, get outputting hit rates\n",
    "results = [0,0,0,0,0]\n",
    "df = pd.read_csv('wikidata/wikidata5m_transductive_test.tsv', sep = '\\t')\n",
    "candidates = list(set(list(df.node2)))\n",
    "for i in range(0, len(df)):\n",
    "    cand_to_use = []\n",
    "    if df['node2'][i] not in candidates:\n",
    "        cand_to_use = list(candidates)[0:499].copy()\n",
    "        cand_to_use.append(df['node2'][i])\n",
    "    else:\n",
    "        cand_to_use = candidates.copy()\n",
    "    #print(df['node1'][i], df['label'][i])\n",
    "    try:\n",
    "        temp = link_predict(df['node1'][i], df['label'][i], cand_to_use, topn = 1000)\n",
    "    except:\n",
    "        continue\n",
    "    print(temp)\n",
    "    #print(df['node1'][i], df['label'][i], df.node2[i])\n",
    "    #print(temp.node1[0])\n",
    "    if temp.node1[0] == df.node2[i]:\n",
    "        results[0] += 1\n",
    "        \n",
    "    if df.node2[i] in list(temp.node1[0:3]):\n",
    "        results[1] += 1\n",
    "        \n",
    "        \n",
    "    if df.node2[i] in list(temp.node1[0:10]):\n",
    "        results[2] += 1\n",
    "    if df.node2[i] in list(temp.node1[0:100]):\n",
    "        results[3] += 1\n",
    "        \n",
    "    if df.node2[i] in list(temp.node1[0:1000]):\n",
    "        results[4] += 1"
   ]
  },
  {
   "cell_type": "code",
   "execution_count": null,
   "metadata": {},
   "outputs": [],
   "source": [
    "results"
   ]
  },
  {
   "cell_type": "code",
   "execution_count": null,
   "metadata": {},
   "outputs": [],
   "source": []
  },
  {
   "cell_type": "code",
   "execution_count": null,
   "metadata": {},
   "outputs": [],
   "source": [
    "ls wikidata5m_embed/output/model"
   ]
  },
  {
   "cell_type": "markdown",
   "metadata": {},
   "source": [
    "## For Dismult Embeddings"
   ]
  },
  {
   "cell_type": "code",
   "execution_count": null,
   "metadata": {},
   "outputs": [],
   "source": [
    "#r s o complex scoring function\n",
    "def scalar_triple_dot_real(r, s, o):\n",
    "    return (r * s).dot(o)"
   ]
  },
  {
   "cell_type": "code",
   "execution_count": null,
   "metadata": {},
   "outputs": [],
   "source": [
    "# do link prediction, get outputting hit rates\n",
    "\n",
    "embeddings = pd.read_csv('wikidata5m_embed/dismult.tsv', sep = '\\t')\n",
    "relation_names_list = json.load(open(f\"wikidata5m_embed/output/dynamic_rel_names.json\"))\n",
    "entity_names_list = json.load(open(f\"wikidata5m_embed/output/entity_names_all_0.json\"))\n",
    "prop_count = len(relation_names_list)\n",
    "vector_dimension = 100\n",
    "# operators\n",
    "operator_lhs = ComplexDiagonalDynamicOperator(vector_dimension, prop_count)\n",
    "operator_rhs = ComplexDiagonalDynamicOperator(vector_dimension, prop_count)\n",
    "comparator = DotComparator()\n",
    "cos_comparator = CosComparator()\n",
    "with h5py.File(f\"wikidata5m_embed/output/model/model.v100.h5\", \"r\") as hf:\n",
    "    operator_state_dict_lhs = {\n",
    "        \"transition\": torch.from_numpy(hf[\"model/relations/0/operator/lhs/diagonals\"][...]),\n",
    "    }\n",
    "\n",
    "\n",
    "entity_to_index = {}\n",
    "for i, entity in enumerate(entity_names_list):\n",
    "    entity_to_index[entity] = i\n",
    "    \n",
    "\n",
    "rel_index = {}\n",
    "for i, rel in enumerate(relation_names_list):\n",
    "    rel_index[rel] = i"
   ]
  },
  {
   "cell_type": "code",
   "execution_count": null,
   "metadata": {},
   "outputs": [],
   "source": [
    "def link_predict_dismult(node1, label, candidates, topn = 25):\n",
    "    nodes = []\n",
    "    scores = []\n",
    "    for cand in candidates:\n",
    "        emb_s = torch.tensor([float(x) for x in embeddings.node2[entity_to_index[node1]].split(',')])\n",
    "        emb_o = torch.tensor([float(x) for x in embeddings.node2[entity_to_index[cand]].split(',')])\n",
    "        score = scalar_triple_dot_real(operator_state_dict_lhs['transition'][rel_index[label]],emb_s, emb_o)\n",
    "        scores.append(float(score))\n",
    "        nodes.append(cand)\n",
    "    df_temp = pd.DataFrame(list(zip(nodes, scores)), columns = ['node1', 'score'])\n",
    "    df_temp = df_temp.sort_values(by = 'score', ascending = False).reset_index(drop = True).head(topn)\n",
    "    return df_temp"
   ]
  },
  {
   "cell_type": "code",
   "execution_count": null,
   "metadata": {},
   "outputs": [],
   "source": [
    "len(entity_to_index)"
   ]
  },
  {
   "cell_type": "code",
   "execution_count": null,
   "metadata": {},
   "outputs": [],
   "source": [
    "#candidates = embeddings.sample(500).node1\n",
    "\n",
    "df = link_predict_dismult('Q170564', 'P161', candidates)\n",
    "df"
   ]
  },
  {
   "cell_type": "code",
   "execution_count": null,
   "metadata": {},
   "outputs": [],
   "source": [
    "\n",
    "results = [0,0,0,0,0]\n",
    "df = pd.read_csv('wikidata/wikidata5m_transductive_test.tsv', sep = '\\t')\n",
    "for i in range(0, len(df)):\n",
    "    cand_to_use = []\n",
    "    if df['node2'][i] not in candidates:\n",
    "        cand_to_use = list(candidates)[0:499].copy()\n",
    "        cand_to_use.append(df['node2'][i])\n",
    "    else:\n",
    "        cand_to_use = candidates.copy()\n",
    "    #print(df['node1'][i], df['label'][i])\n",
    "    try:\n",
    "        temp = link_predict_dismult(df['node1'][i], df['label'][i], cand_to_use, topn = 1000)\n",
    "    except:\n",
    "        continue\n",
    "    print(temp)\n",
    "    #print(df['node1'][i], df['label'][i], df.node2[i])\n",
    "    #print(temp.node1[0])\n",
    "    if temp.node1[0] == df.node2[i]:\n",
    "        results[0] += 1\n",
    "        \n",
    "    if df.node2[i] in list(temp.node1[0:3]):\n",
    "        results[1] += 1\n",
    "        \n",
    "        \n",
    "    if df.node2[i] in list(temp.node1[0:10]):\n",
    "        results[2] += 1\n",
    "    if df.node2[i] in list(temp.node1[0:100]):\n",
    "        results[3] += 1\n",
    "        \n",
    "    if df.node2[i] in list(temp.node1[0:1000]):\n",
    "        results[4] += 1"
   ]
  },
  {
   "cell_type": "code",
   "execution_count": null,
   "metadata": {},
   "outputs": [],
   "source": [
    "results"
   ]
  },
  {
   "cell_type": "code",
   "execution_count": null,
   "metadata": {},
   "outputs": [],
   "source": []
  },
  {
   "cell_type": "markdown",
   "metadata": {},
   "source": [
    "## For Transe Embeddings"
   ]
  },
  {
   "cell_type": "code",
   "execution_count": null,
   "metadata": {},
   "outputs": [],
   "source": [
    "embeddings = pd.read_csv('wikidata5m_embed_transe/transe.tsv', sep = '\\t')\n",
    "relation_names_list = json.load(open(f\"wikidata5m_embed_transe/output/dynamic_rel_names.json\"))\n",
    "entity_names_list = json.load(open(f\"wikidata5m_embed_transe/output/entity_names_all_0.json\"))\n",
    "prop_count = len(relation_names_list)\n",
    "vector_dimension = 100\n",
    "# operators\n",
    "operator_lhs = ComplexDiagonalDynamicOperator(vector_dimension, prop_count)\n",
    "operator_rhs = ComplexDiagonalDynamicOperator(vector_dimension, prop_count)\n",
    "comparator = DotComparator()\n",
    "cos_comparator = CosComparator()\n",
    "with h5py.File(f\"wikidata5m_embed_transe/output/model/model.v100.h5\", \"r\") as hf:\n",
    "    operator_state_dict_lhs = {\n",
    "        \"transition\": torch.from_numpy(hf[\"model/relations/0/operator/lhs/translations\"][...]),\n",
    "    }\n",
    "\n",
    "\n",
    "entity_to_index = {}\n",
    "for i, entity in enumerate(entity_names_list):\n",
    "    entity_to_index[entity] = i\n",
    "    \n",
    "\n",
    "rel_index = {}\n",
    "for i, rel in enumerate(relation_names_list):\n",
    "    rel_index[rel] = i"
   ]
  },
  {
   "cell_type": "code",
   "execution_count": null,
   "metadata": {},
   "outputs": [],
   "source": [
    "#r s o\n",
    "def transe_score(r, s, o):\n",
    "    return np.linalg.norm(r+s-o)"
   ]
  },
  {
   "cell_type": "code",
   "execution_count": null,
   "metadata": {},
   "outputs": [],
   "source": [
    "def link_predict_transe(node1, label, candidates, topn = 25):\n",
    "    nodes = []\n",
    "    scores = []\n",
    "    for cand in candidates:\n",
    "        emb_s = torch.tensor([float(x) for x in embeddings.node2[entity_to_index[node1]].split(',')])\n",
    "        emb_o = torch.tensor([float(x) for x in embeddings.node2[entity_to_index[cand]].split(',')])\n",
    "        score = transe_score(operator_state_dict_lhs['transition'][rel_index[label]],emb_s, emb_o)\n",
    "        scores.append(float(score))\n",
    "        nodes.append(cand)\n",
    "    df_temp = pd.DataFrame(list(zip(nodes, scores)), columns = ['node1', 'score'])\n",
    "    df_temp = df_temp.sort_values(by = 'score', ascending = False).reset_index(drop = True).head(topn)\n",
    "    return df_temp"
   ]
  },
  {
   "cell_type": "code",
   "execution_count": null,
   "metadata": {},
   "outputs": [],
   "source": [
    "#candidates = embeddings.sample(500).node1\n",
    "\n",
    "df = link_predict_transe('Q170564', 'P161', candidates, topn = 5)\n",
    "\n",
    "df"
   ]
  },
  {
   "cell_type": "code",
   "execution_count": null,
   "metadata": {},
   "outputs": [],
   "source": [
    "# do link prediction, get outputting hit rates\n",
    "results = [0,0,0,0,0]\n",
    "df = pd.read_csv('wikidata/wikidata5m_transductive_test.tsv', sep = '\\t')\n",
    "for i in range(0, len(df)):\n",
    "    cand_to_use = []\n",
    "    if df['node2'][i] not in candidates:\n",
    "        cand_to_use = list(candidates)[0:499].copy()\n",
    "        cand_to_use.append(df['node2'][i])\n",
    "    else:\n",
    "        cand_to_use = candidates.copy()\n",
    "    #print(df['node1'][i], df['label'][i])\n",
    "    try:\n",
    "        temp = link_predict_transe(df['node1'][i], df['label'][i], cand_to_use, topn = 1000)\n",
    "    except:\n",
    "        continue\n",
    "    print(temp)\n",
    "    #print(df['node1'][i], df['label'][i], df.node2[i])\n",
    "    #print(temp.node1[0])\n",
    "    if temp.node1[0] == df.node2[i]:\n",
    "        results[0] += 1\n",
    "        \n",
    "    if df.node2[i] in list(temp.node1[0:3]):\n",
    "        results[1] += 1\n",
    "        \n",
    "        \n",
    "    if df.node2[i] in list(temp.node1[0:10]):\n",
    "        results[2] += 1\n",
    "    if df.node2[i] in list(temp.node1[0:100]):\n",
    "        results[3] += 1\n",
    "        \n",
    "    if df.node2[i] in list(temp.node1[0:1000]):\n",
    "        results[4] += 1"
   ]
  },
  {
   "cell_type": "code",
   "execution_count": null,
   "metadata": {},
   "outputs": [],
   "source": [
    "results"
   ]
  },
  {
   "cell_type": "markdown",
   "metadata": {},
   "source": [
    " Next steps\n",
    " \n",
    " \n",
    "1. Generate 500 random answer from all node2 in testing set. For each link prediction, mix the correct answer into the candidates. Record hit rates\n",
    "\n",
    "2. Generate 100 random answer from all node2 in testing set. For each link prediction, mix the correct answer into the candidates. Record hit rates. Do this 10 times\n",
    "\n",
    "3. For each link prediction, use all the correct type of candidates from the testing set as candidates. (For exmaple, if a correct answer is US. Then we use all countries as candidates). Record for each property type"
   ]
  },
  {
   "cell_type": "markdown",
   "metadata": {},
   "source": [
    "KGTK graph-embeddings parameters:\n",
    "\n",
    "DistMult:\n",
    "kgtk graph-embeddings -op DistMult -ot kgtk --batch_size 128 --num_epochs 200 --learning_rate 0.003 --dimension 200 --retain_temporary_data True -T kgtk_emb/dismult1 -i wikidata/wikidata5m_transductive_train.tsv -o kgtk_emb/dismult1/vector.tsv --log kgtk_emb/dismult1/ge.log.txt\n",
    "\n",
    "TransE:\n",
    "kgtk graph-embeddings -op TransE -ot kgtk --batch_size 1024 --num_epochs 1500 --learning_rate 0.0001 --dimension 1000 --retain_temporary_data True -T kgtk_emb/transe2 -i wikidata/wikidata5m_transductive_train.tsv -o kgtk_emb/transe2/vector.tsv --log kgtk_emb/transe2/ge.log.txt\n",
    "\n",
    "\n",
    "ComplEx:\n",
    "kgtk graph-embeddings -op ComplEx -ot kgtk --batch_size 1000 --num_epochs 200 --learning_rate 0.003 --dimension 200 --retain_temporary_data True -T kgtk_emb/complex2-i wikidata/wikidata5m_transductive_train.tsv -o kgtk_emb/complex2/vector.tsv --log kgtk_emb/complex2/ge.log.txt\n"
   ]
  },
  {
   "cell_type": "code",
   "execution_count": 1,
   "metadata": {},
   "outputs": [
    {
     "data": {
      "text/plain": [
       "'/nas/home/shicuoxi'"
      ]
     },
     "execution_count": 1,
     "metadata": {},
     "output_type": "execute_result"
    }
   ],
   "source": [
    "pwd"
   ]
  },
  {
   "cell_type": "code",
   "execution_count": null,
   "metadata": {},
   "outputs": [],
   "source": []
  }
 ],
 "metadata": {
  "kernelspec": {
   "display_name": "Python 3",
   "language": "python",
   "name": "python3"
  },
  "language_info": {
   "codemirror_mode": {
    "name": "ipython",
    "version": 3
   },
   "file_extension": ".py",
   "mimetype": "text/x-python",
   "name": "python",
   "nbconvert_exporter": "python",
   "pygments_lexer": "ipython3",
   "version": "3.8.3"
  }
 },
 "nbformat": 4,
 "nbformat_minor": 4
}

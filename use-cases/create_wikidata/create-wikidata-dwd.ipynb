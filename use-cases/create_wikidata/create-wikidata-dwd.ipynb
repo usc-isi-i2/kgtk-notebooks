{
 "cells": [
  {
   "cell_type": "code",
   "execution_count": 1,
   "id": "93f651b9-d27d-40bb-b531-cfabad740521",
   "metadata": {},
   "outputs": [
    {
     "name": "stdout",
     "output_type": "stream",
     "text": [
      "CPU times: user 1.78 s, sys: 1.95 s, total: 3.73 s\n",
      "Wall time: 10.8 s\n"
     ]
    }
   ],
   "source": [
    "%%time\n",
    "import papermill as pm\n",
    "\n",
    "from kgtk.configure_kgtk_notebooks import ConfigureKGTK\n",
    "from kgtk.functions import kgtk, kypher\n",
    "import os"
   ]
  },
  {
   "cell_type": "markdown",
   "id": "82e1ae83-6541-4816-aad5-c0ae3b4cc5be",
   "metadata": {},
   "source": [
    "**NOTE: downloaded.wikipedia.short_abstracts.tsv.gz**\n",
    "\n",
    "This file is available to be downloaded from `https://drive.google.com/drive/folders/1UkvFFLWbfjJtSw767IKYPfZiFsqUFu5n`\n",
    "\n",
    "The location on `ckg07` is `/data/amandeep/downloaded.wikipedia.short_abstracts.tsv.gz`\n",
    "\n",
    "This file is required for building the cache file for KGTK Browser."
   ]
  },
  {
   "cell_type": "code",
   "execution_count": 2,
   "id": "217db6b6-3e26-47f0-ba62-cbce9270021b",
   "metadata": {
    "tags": [
     "parameters"
    ]
   },
   "outputs": [],
   "source": [
    "input_path = \"/data/amandeep\"\n",
    "output_path = \"/data/amandeep\"\n",
    "project_name = \"create-wikidata-dwd-20220623\"\n",
    "\n",
    "kgtk_path= \"/data/amandeep/Github/kgtk\"\n",
    "kgtk_browser_path = \"/data/amandeep/Github/kgtk-browser\"\n",
    "kernel_name = \"kgtk-env-ckg07\"\n",
    "wikipedia_short_abstracts_path = '/data/amandeep/downloaded.wikipedia.short_abstracts.tsv.gz'"
   ]
  },
  {
   "cell_type": "code",
   "execution_count": 3,
   "id": "b1c90cb1-baab-4387-bad5-62d703d84ec1",
   "metadata": {},
   "outputs": [
    {
     "name": "stdout",
     "output_type": "stream",
     "text": [
      "User home: /nas/home/amandeep\n",
      "Current dir: /data/amandeep/Github/kgtk-notebooks/use-cases/create_wikidata\n",
      "KGTK dir: /data/amandeep/Github/kgtk\n",
      "Use-cases dir: /data/amandeep/Github/kgtk/use-cases\n",
      "CPU times: user 1.22 ms, sys: 152 µs, total: 1.37 ms\n",
      "Wall time: 1.02 ms\n"
     ]
    }
   ],
   "source": [
    "%%time\n",
    "ck = ConfigureKGTK([], kgtk_path=kgtk_path)\n",
    "ck.configure_kgtk(input_graph_path=input_path,\n",
    "                  output_path=output_path,\n",
    "                  project_name=project_name,\n",
    "                 graph_cache_path=None)"
   ]
  },
  {
   "cell_type": "code",
   "execution_count": 4,
   "id": "69124bdd-c899-4098-89b5-a5dbcb02e63c",
   "metadata": {},
   "outputs": [
    {
     "name": "stdout",
     "output_type": "stream",
     "text": [
      "kgtk: kgtk\n",
      "USE_CASES_DIR: /data/amandeep/Github/kgtk/use-cases\n",
      "kypher: kgtk query --graph-cache /data/amandeep/create-wikidata-dwd-20220623/temp.create-wikidata-dwd-20220623/wikidata.sqlite3.db\n",
      "KGTK_GRAPH_CACHE: /data/amandeep/create-wikidata-dwd-20220623/temp.create-wikidata-dwd-20220623/wikidata.sqlite3.db\n",
      "STORE: /data/amandeep/create-wikidata-dwd-20220623/temp.create-wikidata-dwd-20220623/wikidata.sqlite3.db\n",
      "EXAMPLES_DIR: /data/amandeep/Github/kgtk/examples\n",
      "OUT: /data/amandeep/create-wikidata-dwd-20220623\n",
      "TEMP: /data/amandeep/create-wikidata-dwd-20220623/temp.create-wikidata-dwd-20220623\n",
      "GRAPH: /data/amandeep\n",
      "KGTK_LABEL_FILE: /data/amandeep/labels.en.tsv.gz\n",
      "KGTK_OPTION_DEBUG: false\n"
     ]
    }
   ],
   "source": [
    "ck.print_env_variables()"
   ]
  },
  {
   "cell_type": "markdown",
   "id": "7f51bc57-e01e-4bf5-bcd6-d3c0b50b0c84",
   "metadata": {},
   "source": [
    "## Run the Import Wikidata Notebook "
   ]
  },
  {
   "cell_type": "code",
   "execution_count": 5,
   "id": "f247bcc7-29a6-4756-9b4e-73a84693af20",
   "metadata": {},
   "outputs": [],
   "source": [
    "# Parameters for Import Wikidata\n",
    "json_file_path = \"/data/amandeep/wikidata-20220623\"\n",
    "import_wikidata_path = \"/data/amandeep/wikidata-20220623\"\n",
    "wikidata_project_name = \"import-wikidata\"\n",
    "wikidata_json_file = \"latest-all.json.bz2\"\n",
    "sort_command = 'sort'"
   ]
  },
  {
   "cell_type": "code",
   "execution_count": null,
   "id": "8a8a6cc0-1c9b-42f2-9f50-9366820dbf58",
   "metadata": {},
   "outputs": [],
   "source": [
    "%%time\n",
    "pm.execute_notebook(\n",
    "    \"import-wikidata.ipynb\",\n",
    "    os.environ[\"TEMP\"] + \"/import-wikidata.out.ipynb\",\n",
    "    kernel_name=kernel_name,\n",
    "    parameters=dict(\n",
    "        input_path = json_file_path,\n",
    "        output_path = import_wikidata_path,\n",
    "        project_name = wikidata_project_name,\n",
    "        wikidata_json_file = wikidata_json_file,\n",
    "        kgtk_path = kgtk_path,\n",
    "        sort_command = sort_command\n",
    "    )\n",
    ")"
   ]
  },
  {
   "cell_type": "markdown",
   "id": "7373d403-c73b-47ee-a7d2-13054f5e1516",
   "metadata": {},
   "source": [
    "## Run the Useful Files Notebook to compute `isa` and `p279star` files only"
   ]
  },
  {
   "cell_type": "code",
   "execution_count": 6,
   "id": "f3d42da9-ac53-4f77-85aa-fe889b87c8f0",
   "metadata": {},
   "outputs": [],
   "source": [
    "# Parameters for First run on Useful Files\n",
    "first_useful_files_input_path = f\"{import_wikidata_path}/{wikidata_project_name}\"\n",
    "first_useful_files_output_path = import_wikidata_path\n",
    "first_useful_files_project_name = \"useful-files\"\n",
    "first_useful_files = 'claims,label_all,alias_all,description_all'\n",
    "first_useful_files_for_cache = 'claims'"
   ]
  },
  {
   "cell_type": "code",
   "execution_count": null,
   "id": "31ad8208-eb1a-41f8-99b4-354f6dcbec07",
   "metadata": {},
   "outputs": [],
   "source": [
    "%%time\n",
    "pm.execute_notebook(\n",
    "    \"Wikidata-Useful-Files.ipynb\",\n",
    "    os.environ[\"TEMP\"] + \"/Wikidata-Useful-Files.out.ipynb\",\n",
    "    kernel_name=kernel_name,\n",
    "    parameters=dict(\n",
    "        input_path = first_useful_files_input_path,\n",
    "        output_path = first_useful_files_output_path,\n",
    "        project_name = first_useful_files_project_name,\n",
    "        kgtk_path = kgtk_path,\n",
    "        files = first_useful_files,\n",
    "        files_for_cache=first_useful_files_for_cache,\n",
    "        compute_pagerank=False,\n",
    "        compute_degrees=False,\n",
    "        debug=False,\n",
    "        compute_isa_star=False,\n",
    "        compute_p31p279_star=False\n",
    "    )\n",
    ")"
   ]
  },
  {
   "cell_type": "code",
   "execution_count": 9,
   "id": "4b14d680-9631-401a-8903-7245a9cad80d",
   "metadata": {},
   "outputs": [],
   "source": [
    "!cp $import_wikidata_path/$first_useful_files_project_name/derived.isa.tsv.gz $import_wikidata_path/$wikidata_project_name\n",
    "!cp $import_wikidata_path/$first_useful_files_project_name/derived.P279star.tsv.gz $import_wikidata_path/$wikidata_project_name"
   ]
  },
  {
   "cell_type": "markdown",
   "id": "54f7dab3-1528-4049-9e8a-e9b6aeff5aa1",
   "metadata": {},
   "source": [
    "## Run Wikidata Subsets Notebook"
   ]
  },
  {
   "cell_type": "markdown",
   "id": "beb2d229-ea42-4309-aa8f-3c5dda6faeff",
   "metadata": {},
   "source": [
    "The following notebook will run the following notebooks ,\n",
    "\n",
    "1. `./partition-wikidata.ipynb`\n",
    "The output will be at the path (example accoding to the parameters specified in the below cell) ,\n",
    "`/data/amandeep/wikidata-20220519-dwd-v5/parts`\n",
    "\n",
    "2. `./Wikidata-Useful-Files.ipynb`\n",
    "\n",
    "The output will be at the path,\n",
    "`/data/amandeep/wikidata-20220519-dwd-v5/useful-files`\n",
    "\n",
    "We will move the output files from the above 2 notebooks to the path `/data/amandeep/wikidata-20220519-dwd-v5` at the end of execution of the `Wikidata-Subsets.ipynb` notebook."
   ]
  },
  {
   "cell_type": "code",
   "execution_count": 7,
   "id": "6341b690-c846-4482-adcc-ba30dc69f267",
   "metadata": {},
   "outputs": [],
   "source": [
    "subset_input_path = f\"{import_wikidata_path}/{wikidata_project_name}\"\n",
    "subset_output_path = \"/data/amandeep\"\n",
    "\n",
    "\n",
    "subset_project_name = \"wikidata-20220623-dwd-v6\"\n",
    "\n",
    "subset_files = 'isa,p279star'\n",
    "\n",
    "# Classes to remove\n",
    "remove_classes = \"Q7318358,Q13442814\"\n",
    "\n",
    "languages = \"en,ru,es,zh-cn,de,it,nl,pl,fr,pt,sv\""
   ]
  },
  {
   "cell_type": "code",
   "execution_count": null,
   "id": "ce354040-80ce-42bc-a868-dafe324131d1",
   "metadata": {},
   "outputs": [],
   "source": [
    "%%time\n",
    "pm.execute_notebook(\n",
    "    \"Wikidata-Subsets.ipynb\",\n",
    "    os.environ[\"TEMP\"] + \"/Wikidata-Subsets.out.ipynb\",\n",
    "    kernel_name=kernel_name,\n",
    "    parameters=dict(\n",
    "        input_path = subset_input_path,\n",
    "        output_path = subset_output_path,\n",
    "        project_name = subset_project_name,\n",
    "        kgtk_path = kgtk_path,\n",
    "        files = subset_files,\n",
    "        remove_classes = remove_classes,\n",
    "        languages = languages,\n",
    "        kernel_name = kernel_name\n",
    "    )\n",
    ")"
   ]
  },
  {
   "cell_type": "code",
   "execution_count": 12,
   "id": "c6a5a06c-cdc1-41c7-9c11-634b76fdcc60",
   "metadata": {},
   "outputs": [],
   "source": [
    "!mv $subset_output_path/$subset_project_name/parts/*tsv.gz $subset_output_path/$subset_project_name\n",
    "!mv $subset_output_path/$subset_project_name/useful-files/*tsv.gz $subset_output_path/$subset_project_name"
   ]
  },
  {
   "cell_type": "markdown",
   "id": "dce13d8b-65b3-4e39-bfa4-d69fe736b43a",
   "metadata": {},
   "source": [
    "## Create JSON file for KGTK-Search"
   ]
  },
  {
   "cell_type": "markdown",
   "id": "83c1d87f-8279-43a9-8041-dc027b5070f8",
   "metadata": {},
   "source": [
    "The following notebook will create following file ,\n",
    "\n",
    "`/data/amandeep/wikidata-20220519-dwd-v5/kgtk-search/wikidata.dwd.all.kgtk.search.sorted.jl`\n",
    "\n",
    "We will then split the json lines file into 1M line partitions and load it into the ES index"
   ]
  },
  {
   "cell_type": "code",
   "execution_count": 8,
   "id": "55f19a42-9659-4e76-aa53-e22338fd93dc",
   "metadata": {},
   "outputs": [],
   "source": [
    "search_input_path = f\"{subset_output_path}/{subset_project_name}\"\n",
    "search_output_path = f\"{subset_output_path}/{subset_project_name}\"\n",
    "\n",
    "search_project_name = \"kgtk-search\"\n",
    "\n",
    "compute_embeddings = False\n",
    "generate_triples = False\n",
    "generate_kgtk_search = True\n",
    "datatype_property = \"datatype\"\n",
    "\n",
    "es_url=\"http://ckg07:9200\"\n",
    "es_index=\"wikidata-dwd-kgtk-search-06\"\n",
    "old_es_index=\"wikidata-dwd-kgtk-search-05\""
   ]
  },
  {
   "cell_type": "code",
   "execution_count": null,
   "id": "cac5c471-8ba6-4769-8068-5fe86750cb93",
   "metadata": {},
   "outputs": [],
   "source": [
    "%%time\n",
    "pm.execute_notebook(\n",
    "    \"Embeddings-Elasticsearch-Triples.ipynb\",\n",
    "    os.environ[\"TEMP\"] + \"/Embeddings-Elasticsearch-Triples.out.ipynb\",\n",
    "    kernel_name=kernel_name,\n",
    "    parameters=dict(\n",
    "        input_path = search_input_path,\n",
    "        output_path = search_output_path,\n",
    "        project_name = search_project_name,\n",
    "        kgtk_path = kgtk_path,\n",
    "        compute_embeddings = compute_embeddings,\n",
    "        generate_triples = generate_triples,\n",
    "        generate_kgtk_search = generate_kgtk_search,\n",
    "        datatype_property = datatype_property,\n",
    "        languages = languages\n",
    "    )\n",
    ")"
   ]
  },
  {
   "cell_type": "markdown",
   "id": "b4fdd4fa-3c5f-430e-b489-3dbbe19c5bd8",
   "metadata": {},
   "source": [
    "### Split the output json lines file to 1M lines partitions"
   ]
  },
  {
   "cell_type": "code",
   "execution_count": 15,
   "id": "4933fcc1-da1d-48a4-b474-05ecfd688919",
   "metadata": {},
   "outputs": [],
   "source": [
    "!mkdir -p $search_output_path/$search_project_name/es_split/"
   ]
  },
  {
   "cell_type": "code",
   "execution_count": 16,
   "id": "38c599e6-ea05-4a1a-8280-c2c27f2ae95f",
   "metadata": {},
   "outputs": [],
   "source": [
    "!split $search_output_path/$search_project_name/wikidata.dwd.all.kgtk.search.sorted.jl \\\n",
    "    -l 1000000 \\\n",
    "    $search_output_path/$search_project_name/es_split/"
   ]
  },
  {
   "cell_type": "markdown",
   "id": "5c0ba14f-8a36-4109-add2-f158cb54da39",
   "metadata": {},
   "source": [
    "## Run Properties-for-this-type-notebook"
   ]
  },
  {
   "cell_type": "markdown",
   "id": "94266d0a-79a2-4566-9af1-51305fe67aaf",
   "metadata": {},
   "source": [
    "This notebook is in the [kgtk-notebooks](https://github.com/usc-isi-i2/kgtk-notebooks) repo."
   ]
  },
  {
   "cell_type": "code",
   "execution_count": 9,
   "id": "bc82bc30-7cf9-4144-924c-8ac69bda2a01",
   "metadata": {},
   "outputs": [],
   "source": [
    "p_input_path=f\"{subset_output_path}/{subset_project_name}\"\n",
    "p_output_path = f\"{subset_output_path}/{subset_project_name}\"\n",
    "\n",
    "# we will re use graph cache from the useful-files notebook\n",
    "# at this point it already has the `claims` file loaded into cache.\n",
    "# we will only load the required files into the cache, save time\n",
    "p_graph_cache_path = f\"{subset_output_path}/{subset_project_name}/useful-files/temp.useful-files/wikidata.sqlite3.db\"\n",
    "files_for_cache=\"item,datatypes,p279,p279star\"\n",
    "\n",
    "p_project_name = \"p1963\"\n",
    "debug = False"
   ]
  },
  {
   "cell_type": "code",
   "execution_count": null,
   "id": "2ebc1423-c731-4953-a49f-57deca5887aa",
   "metadata": {},
   "outputs": [],
   "source": [
    "%%time\n",
    "pm.execute_notebook(\n",
    "    \"properties-for-this-type.ipynb\",\n",
    "    os.environ[\"TEMP\"] + \"/properties-for-this-type.out.ipynb\",\n",
    "    kernel_name=kernel_name,\n",
    "    parameters=dict(\n",
    "        input_path = p_input_path,\n",
    "        output_path = p_output_path,\n",
    "        project_name = p_project_name,\n",
    "        graph_cache_path = p_graph_cache_path,\n",
    "        debug = debug,\n",
    "        files_for_cache=files_for_cache   \n",
    "    )\n",
    ")"
   ]
  },
  {
   "cell_type": "markdown",
   "id": "0d6c97a0-f61c-45dc-b352-04b6c997547b",
   "metadata": {},
   "source": [
    "**move the files out into the root folder**"
   ]
  },
  {
   "cell_type": "code",
   "execution_count": 20,
   "id": "50870bc1-a835-4ff7-8b13-52128ff8ac0c",
   "metadata": {},
   "outputs": [
    {
     "name": "stdout",
     "output_type": "stream",
     "text": [
      "mv: cannot stat ‘/data/amandeep/wikidata-20220623-dwd-v6/p1963/statistics.Pinstance_count.star.tsv.gz’: No such file or directory\n",
      "mv: cannot stat ‘/data/amandeep/wikidata-20220623-dwd-v6/p1963/statistics.Pinstance_count.tsv.gz’: No such file or directory\n",
      "mv: cannot stat ‘/data/amandeep/wikidata-20220623-dwd-v6/p1963/statistics.Psubclass_count.star.tsv.gz’: No such file or directory\n",
      "mv: cannot stat ‘/data/amandeep/wikidata-20220623-dwd-v6/p1963/derived.class.P1963computed.count.tsv.gz’: No such file or directory\n",
      "mv: cannot stat ‘/data/amandeep/wikidata-20220623-dwd-v6/p1963/derived.Pproperty_domain.tsv.gz’: No such file or directory\n",
      "mv: cannot stat ‘/data/amandeep/wikidata-20220623-dwd-v6/p1963/derived.P1963computed.count.star.tsv.gz’: No such file or directory\n"
     ]
    }
   ],
   "source": [
    "!mv $p_output_path/$p_project_name/statistics.Pinstance_count.star.tsv.gz $p_output_path\n",
    "!mv $p_output_path/$p_project_name/statistics.Pinstance_count.tsv.gz $p_output_path\n",
    "!mv $p_output_path/$p_project_name/statistics.Psubclass_count.star.tsv.gz $p_output_path\n",
    "!mv $p_output_path/$p_project_name/derived.class.P1963computed.count.tsv.gz $p_output_path\n",
    "!mv $p_output_path/$p_project_name/derived.P1963computed.subclass.count.star.tsv.gz $p_output_path\n",
    "!mv $p_output_path/$p_project_name/derived.Pproperty_domain.tsv.gz $p_output_path\n",
    "!mv $p_output_path/$p_project_name/derived.P1963computed.count.star.tsv.gz $p_output_path"
   ]
  },
  {
   "cell_type": "markdown",
   "id": "c209583e-501d-462d-abeb-d0eb54c4ceb6",
   "metadata": {},
   "source": [
    "## Run class-visualization notebook"
   ]
  },
  {
   "cell_type": "code",
   "execution_count": 10,
   "id": "f9f164ce-e4ca-4646-8ce4-097c9c4c1e3c",
   "metadata": {},
   "outputs": [],
   "source": [
    "c_input_path = f\"{subset_output_path}/{subset_project_name}\"\n",
    "c_output_path = f\"{subset_output_path}/{subset_project_name}\"\n",
    "c_project_name = \"class-visualization\"\n",
    "\n",
    "# re use the graph cache, at this point the cache has the following files loaded\n",
    "# claims,item,datatypes,p279,p279star\n",
    "# we only need to load label\n",
    "\n",
    "c_graph_cache_path = p_graph_cache_path\n",
    "files_for_cache = \"label\"\n",
    "debug = False"
   ]
  },
  {
   "cell_type": "code",
   "execution_count": null,
   "id": "67597816-1e22-4ea6-b599-109b6720dff3",
   "metadata": {},
   "outputs": [],
   "source": [
    "%%time\n",
    "pm.execute_notebook(\n",
    "    \"class-visualization.ipynb\",\n",
    "    os.environ[\"TEMP\"] + \"/class-visualization.out.ipynb\",\n",
    "    kernel_name=kernel_name,\n",
    "    parameters=dict(\n",
    "        input_path = c_input_path,\n",
    "        output_path = c_output_path,\n",
    "        project_name = c_project_name,\n",
    "        graph_cache_path = c_graph_cache_path,\n",
    "        debug = debug,\n",
    "        files_for_cache=files_for_cache   \n",
    "    )\n",
    ")"
   ]
  },
  {
   "cell_type": "code",
   "execution_count": 23,
   "id": "fffe2e16-f871-4e39-aa18-151f7a6ee9cd",
   "metadata": {},
   "outputs": [],
   "source": [
    "!mv $c_output_path/$c_project_name/class-visualization.node.tsv.gz $c_output_path\n",
    "!mv $c_output_path/$c_project_name/class-visualization.edge.tsv.gz $c_output_path"
   ]
  },
  {
   "cell_type": "markdown",
   "id": "13565322-b325-4b55-b215-7ada4cb7a435",
   "metadata": {},
   "source": [
    "## Run Create-claims-augmented-for-browser notebook"
   ]
  },
  {
   "cell_type": "code",
   "execution_count": 11,
   "id": "0a4a60f3-aad1-4e01-9382-c0ff82e13289",
   "metadata": {},
   "outputs": [],
   "source": [
    "a_input_path = f\"{subset_output_path}/{subset_project_name}\"\n",
    "a_output_path = f\"{subset_output_path}/{subset_project_name}\"\n",
    "a_project_name = \"browser-claims-file\""
   ]
  },
  {
   "cell_type": "code",
   "execution_count": 25,
   "id": "ba61fd58-d461-402e-b447-40f76a4f36cd",
   "metadata": {},
   "outputs": [],
   "source": [
    "!cp $wikipedia_short_abstracts_path $subset_output_path/$subset_project_name"
   ]
  },
  {
   "cell_type": "code",
   "execution_count": null,
   "id": "37270353-4e03-40ff-829a-36fc690b45e1",
   "metadata": {},
   "outputs": [],
   "source": [
    "%%time\n",
    "pm.execute_notebook(\n",
    "    \"Create-claims-augmented-for-browser.ipynb\",\n",
    "    os.environ[\"TEMP\"] + \"/Create-claims-augmented-for-browser.out.ipynb\",\n",
    "    kernel_name=kernel_name,\n",
    "    parameters=dict(\n",
    "        input_path = a_input_path,\n",
    "        output_path = a_output_path,\n",
    "        project_name = a_project_name\n",
    "    )\n",
    ")"
   ]
  },
  {
   "cell_type": "markdown",
   "id": "4d7e10c3-2b7a-4602-a0d0-33a465bda60f",
   "metadata": {},
   "source": [
    "## Run KGTK-Query-Text-Search-Setup Notebook"
   ]
  },
  {
   "cell_type": "code",
   "execution_count": 12,
   "id": "1a11211f-47a5-4224-8dfc-3c9b6dfe09dc",
   "metadata": {},
   "outputs": [],
   "source": [
    "q_input_path = f\"{a_output_path}/{a_project_name}\"\n",
    "q_output_path = f\"{a_output_path}/{a_project_name}\"\n",
    "\n",
    "q_project_name = \"kgtk-browser-files\""
   ]
  },
  {
   "cell_type": "code",
   "execution_count": 28,
   "id": "1417e7e7-c526-4f88-a7f3-21d8bc10650e",
   "metadata": {},
   "outputs": [],
   "source": [
    "!cp $subset_output_path/$subset_project_name/class-visualization.edge.tsv.gz $q_input_path\n",
    "!cp $subset_output_path/$subset_project_name/class-visualization.node.tsv.gz $q_input_path\n",
    "!cp $subset_output_path/$subset_project_name/metadata.pagerank.undirected.tsv.gz $q_input_path"
   ]
  },
  {
   "cell_type": "code",
   "execution_count": null,
   "id": "d20ab059-fa30-475e-a2be-96e72a29b80c",
   "metadata": {},
   "outputs": [],
   "source": [
    "%%time\n",
    "pm.execute_notebook(\n",
    "    \"KGTK-Query-Text-Search-Setup.ipynb\",\n",
    "    os.environ[\"TEMP\"] + \"/KGTK-Query-Text-Search-Setup.ipynb\",\n",
    "    kernel_name=kernel_name,\n",
    "    parameters=dict(\n",
    "        input_path = q_input_path,\n",
    "        output_path = q_output_path,\n",
    "        project_name = q_project_name\n",
    "    )\n",
    ")"
   ]
  },
  {
   "cell_type": "markdown",
   "id": "b411d124-08e3-40cf-8753-2bf490df7b0f",
   "metadata": {},
   "source": [
    "## LOAD ES Index"
   ]
  },
  {
   "cell_type": "markdown",
   "id": "2024399e-6fcc-43a9-a3f8-a6f7886df756",
   "metadata": {},
   "source": [
    "**Make sure [table-linker](https://github.com/usc-isi-i2/table-linker) is installed**"
   ]
  },
  {
   "cell_type": "code",
   "execution_count": 14,
   "id": "a08085a8-a93a-4419-939d-06373a228c30",
   "metadata": {},
   "outputs": [
    {
     "name": "stdout",
     "output_type": "stream",
     "text": [
      "{\"acknowledged\":true,\"shards_acknowledged\":true,\"index\":\"wikidata-dwd-kgtk-search-06\"}"
     ]
    }
   ],
   "source": [
    "!curl -H \"Content-Type: application/json\" \\\n",
    "-XPUT $es_url/$es_index -d @$search_output_path/$search_project_name/wikidata_dwd_v3_mapping.json"
   ]
  },
  {
   "cell_type": "code",
   "execution_count": 15,
   "id": "2b8032ba-1ce6-480c-9d71-675edfb878f2",
   "metadata": {},
   "outputs": [],
   "source": [
    "os.environ['search_output_path']=search_output_path\n",
    "os.environ['search_project_name']=search_project_name\n",
    "os.environ['es_url']=es_url\n",
    "os.environ['es_index']=es_index\n",
    "os.environ['old_es_index']=old_es_index"
   ]
  },
  {
   "cell_type": "code",
   "execution_count": 16,
   "id": "3522d6a0-d7d8-426f-aaa4-c9811951ea1e",
   "metadata": {},
   "outputs": [
    {
     "name": "stdout",
     "output_type": "stream",
     "text": [
      "/data/amandeep/wikidata-20220623-dwd-v6/kgtk-search/es_split/aa\n"
     ]
    },
    {
     "name": "stderr",
     "output_type": "stream",
     "text": [
      "load-elasticsearch-index Time: 203.23125886917114s\n"
     ]
    },
    {
     "name": "stdout",
     "output_type": "stream",
     "text": [
      "/data/amandeep/wikidata-20220623-dwd-v6/kgtk-search/es_split/ab\n"
     ]
    },
    {
     "name": "stderr",
     "output_type": "stream",
     "text": [
      "load-elasticsearch-index Time: 212.19348120689392s\n"
     ]
    },
    {
     "name": "stdout",
     "output_type": "stream",
     "text": [
      "/data/amandeep/wikidata-20220623-dwd-v6/kgtk-search/es_split/ac\n"
     ]
    },
    {
     "name": "stderr",
     "output_type": "stream",
     "text": [
      "load-elasticsearch-index Time: 232.39738059043884s\n"
     ]
    },
    {
     "name": "stdout",
     "output_type": "stream",
     "text": [
      "/data/amandeep/wikidata-20220623-dwd-v6/kgtk-search/es_split/ad\n"
     ]
    },
    {
     "name": "stderr",
     "output_type": "stream",
     "text": [
      "load-elasticsearch-index Time: 223.13047671318054s\n"
     ]
    },
    {
     "name": "stdout",
     "output_type": "stream",
     "text": [
      "/data/amandeep/wikidata-20220623-dwd-v6/kgtk-search/es_split/ae\n"
     ]
    },
    {
     "name": "stderr",
     "output_type": "stream",
     "text": [
      "load-elasticsearch-index Time: 207.98568725585938s\n"
     ]
    },
    {
     "name": "stdout",
     "output_type": "stream",
     "text": [
      "/data/amandeep/wikidata-20220623-dwd-v6/kgtk-search/es_split/af\n"
     ]
    },
    {
     "name": "stderr",
     "output_type": "stream",
     "text": [
      "load-elasticsearch-index Time: 209.52932262420654s\n"
     ]
    },
    {
     "name": "stdout",
     "output_type": "stream",
     "text": [
      "/data/amandeep/wikidata-20220623-dwd-v6/kgtk-search/es_split/ag\n"
     ]
    },
    {
     "name": "stderr",
     "output_type": "stream",
     "text": [
      "load-elasticsearch-index Time: 217.15551614761353s\n"
     ]
    },
    {
     "name": "stdout",
     "output_type": "stream",
     "text": [
      "/data/amandeep/wikidata-20220623-dwd-v6/kgtk-search/es_split/ah\n"
     ]
    },
    {
     "name": "stderr",
     "output_type": "stream",
     "text": [
      "load-elasticsearch-index Time: 205.30692982673645s\n"
     ]
    },
    {
     "name": "stdout",
     "output_type": "stream",
     "text": [
      "/data/amandeep/wikidata-20220623-dwd-v6/kgtk-search/es_split/ai\n"
     ]
    },
    {
     "name": "stderr",
     "output_type": "stream",
     "text": [
      "load-elasticsearch-index Time: 280.6385817527771s\n"
     ]
    },
    {
     "name": "stdout",
     "output_type": "stream",
     "text": [
      "/data/amandeep/wikidata-20220623-dwd-v6/kgtk-search/es_split/aj\n"
     ]
    },
    {
     "name": "stderr",
     "output_type": "stream",
     "text": [
      "load-elasticsearch-index Time: 245.82577466964722s\n"
     ]
    },
    {
     "name": "stdout",
     "output_type": "stream",
     "text": [
      "/data/amandeep/wikidata-20220623-dwd-v6/kgtk-search/es_split/ak\n"
     ]
    },
    {
     "name": "stderr",
     "output_type": "stream",
     "text": [
      "load-elasticsearch-index Time: 273.07805943489075s\n"
     ]
    },
    {
     "name": "stdout",
     "output_type": "stream",
     "text": [
      "/data/amandeep/wikidata-20220623-dwd-v6/kgtk-search/es_split/al\n"
     ]
    },
    {
     "name": "stderr",
     "output_type": "stream",
     "text": [
      "load-elasticsearch-index Time: 288.3985483646393s\n"
     ]
    },
    {
     "name": "stdout",
     "output_type": "stream",
     "text": [
      "/data/amandeep/wikidata-20220623-dwd-v6/kgtk-search/es_split/am\n"
     ]
    },
    {
     "name": "stderr",
     "output_type": "stream",
     "text": [
      "load-elasticsearch-index Time: 290.35138273239136s\n"
     ]
    },
    {
     "name": "stdout",
     "output_type": "stream",
     "text": [
      "/data/amandeep/wikidata-20220623-dwd-v6/kgtk-search/es_split/an\n"
     ]
    },
    {
     "name": "stderr",
     "output_type": "stream",
     "text": [
      "load-elasticsearch-index Time: 247.05698943138123s\n"
     ]
    },
    {
     "name": "stdout",
     "output_type": "stream",
     "text": [
      "/data/amandeep/wikidata-20220623-dwd-v6/kgtk-search/es_split/ao\n"
     ]
    },
    {
     "name": "stderr",
     "output_type": "stream",
     "text": [
      "load-elasticsearch-index Time: 226.00112390518188s\n"
     ]
    },
    {
     "name": "stdout",
     "output_type": "stream",
     "text": [
      "/data/amandeep/wikidata-20220623-dwd-v6/kgtk-search/es_split/ap\n"
     ]
    },
    {
     "name": "stderr",
     "output_type": "stream",
     "text": [
      "load-elasticsearch-index Time: 238.58124351501465s\n"
     ]
    },
    {
     "name": "stdout",
     "output_type": "stream",
     "text": [
      "/data/amandeep/wikidata-20220623-dwd-v6/kgtk-search/es_split/aq\n"
     ]
    },
    {
     "name": "stderr",
     "output_type": "stream",
     "text": [
      "load-elasticsearch-index Time: 250.91750574111938s\n"
     ]
    },
    {
     "name": "stdout",
     "output_type": "stream",
     "text": [
      "/data/amandeep/wikidata-20220623-dwd-v6/kgtk-search/es_split/ar\n"
     ]
    },
    {
     "name": "stderr",
     "output_type": "stream",
     "text": [
      "load-elasticsearch-index Time: 285.9588119983673s\n"
     ]
    },
    {
     "name": "stdout",
     "output_type": "stream",
     "text": [
      "/data/amandeep/wikidata-20220623-dwd-v6/kgtk-search/es_split/as\n"
     ]
    },
    {
     "name": "stderr",
     "output_type": "stream",
     "text": [
      "load-elasticsearch-index Time: 233.44917464256287s\n"
     ]
    },
    {
     "name": "stdout",
     "output_type": "stream",
     "text": [
      "/data/amandeep/wikidata-20220623-dwd-v6/kgtk-search/es_split/at\n"
     ]
    },
    {
     "name": "stderr",
     "output_type": "stream",
     "text": [
      "load-elasticsearch-index Time: 232.89905071258545s\n"
     ]
    },
    {
     "name": "stdout",
     "output_type": "stream",
     "text": [
      "/data/amandeep/wikidata-20220623-dwd-v6/kgtk-search/es_split/au\n"
     ]
    },
    {
     "name": "stderr",
     "output_type": "stream",
     "text": [
      "load-elasticsearch-index Time: 217.68211150169373s\n"
     ]
    },
    {
     "name": "stdout",
     "output_type": "stream",
     "text": [
      "/data/amandeep/wikidata-20220623-dwd-v6/kgtk-search/es_split/av\n"
     ]
    },
    {
     "name": "stderr",
     "output_type": "stream",
     "text": [
      "load-elasticsearch-index Time: 228.22214603424072s\n"
     ]
    },
    {
     "name": "stdout",
     "output_type": "stream",
     "text": [
      "/data/amandeep/wikidata-20220623-dwd-v6/kgtk-search/es_split/aw\n"
     ]
    },
    {
     "name": "stderr",
     "output_type": "stream",
     "text": [
      "load-elasticsearch-index Time: 223.08515882492065s\n"
     ]
    },
    {
     "name": "stdout",
     "output_type": "stream",
     "text": [
      "/data/amandeep/wikidata-20220623-dwd-v6/kgtk-search/es_split/ax\n"
     ]
    },
    {
     "name": "stderr",
     "output_type": "stream",
     "text": [
      "load-elasticsearch-index Time: 218.168771982193s\n"
     ]
    },
    {
     "name": "stdout",
     "output_type": "stream",
     "text": [
      "/data/amandeep/wikidata-20220623-dwd-v6/kgtk-search/es_split/ay\n"
     ]
    },
    {
     "name": "stderr",
     "output_type": "stream",
     "text": [
      "load-elasticsearch-index Time: 211.16736125946045s\n"
     ]
    },
    {
     "name": "stdout",
     "output_type": "stream",
     "text": [
      "/data/amandeep/wikidata-20220623-dwd-v6/kgtk-search/es_split/az\n"
     ]
    },
    {
     "name": "stderr",
     "output_type": "stream",
     "text": [
      "load-elasticsearch-index Time: 214.17090511322021s\n"
     ]
    },
    {
     "name": "stdout",
     "output_type": "stream",
     "text": [
      "/data/amandeep/wikidata-20220623-dwd-v6/kgtk-search/es_split/ba\n"
     ]
    },
    {
     "name": "stderr",
     "output_type": "stream",
     "text": [
      "load-elasticsearch-index Time: 235.91955542564392s\n"
     ]
    },
    {
     "name": "stdout",
     "output_type": "stream",
     "text": [
      "/data/amandeep/wikidata-20220623-dwd-v6/kgtk-search/es_split/bb\n"
     ]
    },
    {
     "name": "stderr",
     "output_type": "stream",
     "text": [
      "load-elasticsearch-index Time: 315.8065674304962s\n"
     ]
    },
    {
     "name": "stdout",
     "output_type": "stream",
     "text": [
      "/data/amandeep/wikidata-20220623-dwd-v6/kgtk-search/es_split/bc\n"
     ]
    },
    {
     "name": "stderr",
     "output_type": "stream",
     "text": [
      "load-elasticsearch-index Time: 258.2485029697418s\n"
     ]
    },
    {
     "name": "stdout",
     "output_type": "stream",
     "text": [
      "/data/amandeep/wikidata-20220623-dwd-v6/kgtk-search/es_split/bd\n"
     ]
    },
    {
     "name": "stderr",
     "output_type": "stream",
     "text": [
      "load-elasticsearch-index Time: 231.61155581474304s\n"
     ]
    },
    {
     "name": "stdout",
     "output_type": "stream",
     "text": [
      "/data/amandeep/wikidata-20220623-dwd-v6/kgtk-search/es_split/be\n"
     ]
    },
    {
     "name": "stderr",
     "output_type": "stream",
     "text": [
      "load-elasticsearch-index Time: 234.4430947303772s\n"
     ]
    },
    {
     "name": "stdout",
     "output_type": "stream",
     "text": [
      "/data/amandeep/wikidata-20220623-dwd-v6/kgtk-search/es_split/bf\n"
     ]
    },
    {
     "name": "stderr",
     "output_type": "stream",
     "text": [
      "load-elasticsearch-index Time: 239.02663493156433s\n"
     ]
    },
    {
     "name": "stdout",
     "output_type": "stream",
     "text": [
      "/data/amandeep/wikidata-20220623-dwd-v6/kgtk-search/es_split/bg\n"
     ]
    },
    {
     "name": "stderr",
     "output_type": "stream",
     "text": [
      "load-elasticsearch-index Time: 222.19299221038818s\n"
     ]
    },
    {
     "name": "stdout",
     "output_type": "stream",
     "text": [
      "/data/amandeep/wikidata-20220623-dwd-v6/kgtk-search/es_split/bh\n"
     ]
    },
    {
     "name": "stderr",
     "output_type": "stream",
     "text": [
      "load-elasticsearch-index Time: 226.2885115146637s\n"
     ]
    },
    {
     "name": "stdout",
     "output_type": "stream",
     "text": [
      "/data/amandeep/wikidata-20220623-dwd-v6/kgtk-search/es_split/bi\n"
     ]
    },
    {
     "name": "stderr",
     "output_type": "stream",
     "text": [
      "load-elasticsearch-index Time: 211.87452960014343s\n"
     ]
    },
    {
     "name": "stdout",
     "output_type": "stream",
     "text": [
      "/data/amandeep/wikidata-20220623-dwd-v6/kgtk-search/es_split/bj\n"
     ]
    },
    {
     "name": "stderr",
     "output_type": "stream",
     "text": [
      "load-elasticsearch-index Time: 213.76228952407837s\n"
     ]
    },
    {
     "name": "stdout",
     "output_type": "stream",
     "text": [
      "/data/amandeep/wikidata-20220623-dwd-v6/kgtk-search/es_split/bk\n"
     ]
    },
    {
     "name": "stderr",
     "output_type": "stream",
     "text": [
      "load-elasticsearch-index Time: 252.84073138237s\n"
     ]
    },
    {
     "name": "stdout",
     "output_type": "stream",
     "text": [
      "/data/amandeep/wikidata-20220623-dwd-v6/kgtk-search/es_split/bl\n"
     ]
    },
    {
     "name": "stderr",
     "output_type": "stream",
     "text": [
      "load-elasticsearch-index Time: 241.09837555885315s\n"
     ]
    },
    {
     "name": "stdout",
     "output_type": "stream",
     "text": [
      "/data/amandeep/wikidata-20220623-dwd-v6/kgtk-search/es_split/bm\n"
     ]
    },
    {
     "name": "stderr",
     "output_type": "stream",
     "text": [
      "load-elasticsearch-index Time: 230.67660188674927s\n"
     ]
    },
    {
     "name": "stdout",
     "output_type": "stream",
     "text": [
      "/data/amandeep/wikidata-20220623-dwd-v6/kgtk-search/es_split/bn\n"
     ]
    },
    {
     "name": "stderr",
     "output_type": "stream",
     "text": [
      "load-elasticsearch-index Time: 226.34756469726562s\n"
     ]
    },
    {
     "name": "stdout",
     "output_type": "stream",
     "text": [
      "/data/amandeep/wikidata-20220623-dwd-v6/kgtk-search/es_split/bo\n"
     ]
    },
    {
     "name": "stderr",
     "output_type": "stream",
     "text": [
      "load-elasticsearch-index Time: 198.8803005218506s\n"
     ]
    },
    {
     "name": "stdout",
     "output_type": "stream",
     "text": [
      "/data/amandeep/wikidata-20220623-dwd-v6/kgtk-search/es_split/bp\n"
     ]
    },
    {
     "name": "stderr",
     "output_type": "stream",
     "text": [
      "load-elasticsearch-index Time: 191.73241519927979s\n"
     ]
    },
    {
     "name": "stdout",
     "output_type": "stream",
     "text": [
      "/data/amandeep/wikidata-20220623-dwd-v6/kgtk-search/es_split/bq\n"
     ]
    },
    {
     "name": "stderr",
     "output_type": "stream",
     "text": [
      "load-elasticsearch-index Time: 203.71557426452637s\n"
     ]
    },
    {
     "name": "stdout",
     "output_type": "stream",
     "text": [
      "/data/amandeep/wikidata-20220623-dwd-v6/kgtk-search/es_split/br\n"
     ]
    },
    {
     "name": "stderr",
     "output_type": "stream",
     "text": [
      "load-elasticsearch-index Time: 216.29501128196716s\n"
     ]
    },
    {
     "name": "stdout",
     "output_type": "stream",
     "text": [
      "/data/amandeep/wikidata-20220623-dwd-v6/kgtk-search/es_split/bs\n"
     ]
    },
    {
     "name": "stderr",
     "output_type": "stream",
     "text": [
      "load-elasticsearch-index Time: 210.23845601081848s\n"
     ]
    },
    {
     "name": "stdout",
     "output_type": "stream",
     "text": [
      "/data/amandeep/wikidata-20220623-dwd-v6/kgtk-search/es_split/bt\n"
     ]
    },
    {
     "name": "stderr",
     "output_type": "stream",
     "text": [
      "load-elasticsearch-index Time: 214.7675621509552s\n"
     ]
    },
    {
     "name": "stdout",
     "output_type": "stream",
     "text": [
      "/data/amandeep/wikidata-20220623-dwd-v6/kgtk-search/es_split/bu\n"
     ]
    },
    {
     "name": "stderr",
     "output_type": "stream",
     "text": [
      "load-elasticsearch-index Time: 233.4191062450409s\n"
     ]
    },
    {
     "name": "stdout",
     "output_type": "stream",
     "text": [
      "/data/amandeep/wikidata-20220623-dwd-v6/kgtk-search/es_split/bv\n"
     ]
    },
    {
     "name": "stderr",
     "output_type": "stream",
     "text": [
      "load-elasticsearch-index Time: 203.50434851646423s\n"
     ]
    },
    {
     "name": "stdout",
     "output_type": "stream",
     "text": [
      "/data/amandeep/wikidata-20220623-dwd-v6/kgtk-search/es_split/bw\n"
     ]
    },
    {
     "name": "stderr",
     "output_type": "stream",
     "text": [
      "load-elasticsearch-index Time: 202.7918300628662s\n"
     ]
    },
    {
     "name": "stdout",
     "output_type": "stream",
     "text": [
      "/data/amandeep/wikidata-20220623-dwd-v6/kgtk-search/es_split/bx\n"
     ]
    },
    {
     "name": "stderr",
     "output_type": "stream",
     "text": [
      "load-elasticsearch-index Time: 210.43698024749756s\n"
     ]
    },
    {
     "name": "stdout",
     "output_type": "stream",
     "text": [
      "/data/amandeep/wikidata-20220623-dwd-v6/kgtk-search/es_split/by\n"
     ]
    },
    {
     "name": "stderr",
     "output_type": "stream",
     "text": [
      "load-elasticsearch-index Time: 200.0101158618927s\n"
     ]
    },
    {
     "name": "stdout",
     "output_type": "stream",
     "text": [
      "/data/amandeep/wikidata-20220623-dwd-v6/kgtk-search/es_split/bz\n"
     ]
    },
    {
     "name": "stderr",
     "output_type": "stream",
     "text": [
      "load-elasticsearch-index Time: 193.1346881389618s\n"
     ]
    },
    {
     "name": "stdout",
     "output_type": "stream",
     "text": [
      "/data/amandeep/wikidata-20220623-dwd-v6/kgtk-search/es_split/ca\n"
     ]
    },
    {
     "name": "stderr",
     "output_type": "stream",
     "text": [
      "load-elasticsearch-index Time: 198.98675346374512s\n"
     ]
    },
    {
     "name": "stdout",
     "output_type": "stream",
     "text": [
      "/data/amandeep/wikidata-20220623-dwd-v6/kgtk-search/es_split/cb\n"
     ]
    },
    {
     "name": "stderr",
     "output_type": "stream",
     "text": [
      "load-elasticsearch-index Time: 208.5802345275879s\n"
     ]
    },
    {
     "name": "stdout",
     "output_type": "stream",
     "text": [
      "/data/amandeep/wikidata-20220623-dwd-v6/kgtk-search/es_split/cc\n"
     ]
    },
    {
     "name": "stderr",
     "output_type": "stream",
     "text": [
      "load-elasticsearch-index Time: 209.33298254013062s\n"
     ]
    },
    {
     "name": "stdout",
     "output_type": "stream",
     "text": [
      "/data/amandeep/wikidata-20220623-dwd-v6/kgtk-search/es_split/cd\n"
     ]
    },
    {
     "name": "stderr",
     "output_type": "stream",
     "text": [
      "load-elasticsearch-index Time: 219.51308798789978s\n"
     ]
    },
    {
     "name": "stdout",
     "output_type": "stream",
     "text": [
      "/data/amandeep/wikidata-20220623-dwd-v6/kgtk-search/es_split/ce\n"
     ]
    },
    {
     "name": "stderr",
     "output_type": "stream",
     "text": [
      "load-elasticsearch-index Time: 231.2949652671814s\n"
     ]
    },
    {
     "name": "stdout",
     "output_type": "stream",
     "text": [
      "/data/amandeep/wikidata-20220623-dwd-v6/kgtk-search/es_split/cf\n"
     ]
    },
    {
     "name": "stderr",
     "output_type": "stream",
     "text": [
      "load-elasticsearch-index Time: 43.602638483047485s\n"
     ]
    }
   ],
   "source": [
    "%%bash\n",
    "for f in $search_output_path/$search_project_name/es_split/* ;\n",
    "do\n",
    " echo $f \n",
    " tl load-elasticsearch-index --es-url $es_url --es-index $es_index --es-version 7 --kgtk-jl-path $f > $TEMP/load_es.log\n",
    " sleep 60\n",
    "done"
   ]
  },
  {
   "cell_type": "code",
   "execution_count": 23,
   "id": "c0619b92-6a75-4977-b2c8-a0ca4f3d6f82",
   "metadata": {},
   "outputs": [
    {
     "name": "stderr",
     "output_type": "stream",
     "text": [
      "  % Total    % Received % Xferd  Average Speed   Time    Time     Time  Current\n",
      "                                 Dload  Upload   Total   Spent    Left  Speed\n",
      "100   310  100    28  100   282     78    795 --:--:-- --:--:-- --:--:--   796\n"
     ]
    },
    {
     "name": "stdout",
     "output_type": "stream",
     "text": [
      "{\n",
      "  \"acknowledged\" : true\n",
      "}\n"
     ]
    }
   ],
   "source": [
    "%%bash\n",
    "curl -X POST \"$es_url/_aliases?pretty\" -H 'Content-Type: application/json' -d\"\n",
    "{\n",
    "  \\\"actions\\\": [\n",
    "    {\n",
    "      \\\"remove\\\": {\n",
    "        \\\"index\\\": \\\"$old_es_index\\\",\n",
    "        \\\"alias\\\": \\\"wikidata-dwd-kgtk-search\\\"\n",
    "      }\n",
    "    },\n",
    "    {\n",
    "      \\\"add\\\": {\n",
    "        \\\"index\\\": \\\"$es_index\\\",\n",
    "        \\\"alias\\\": \\\"wikidata-dwd-kgtk-search\\\"\n",
    "      }\n",
    "    }\n",
    "  ]\n",
    "}\n",
    "\""
   ]
  },
  {
   "cell_type": "code",
   "execution_count": null,
   "id": "8894ee42-455b-4bc3-bb9d-6a4e80047124",
   "metadata": {},
   "outputs": [],
   "source": []
  }
 ],
 "metadata": {
  "kernelspec": {
   "display_name": "kgtk-env-ckg07",
   "language": "python",
   "name": "kgtk-env-ckg07"
  },
  "language_info": {
   "codemirror_mode": {
    "name": "ipython",
    "version": 3
   },
   "file_extension": ".py",
   "mimetype": "text/x-python",
   "name": "python",
   "nbconvert_exporter": "python",
   "pygments_lexer": "ipython3",
   "version": "3.9.12"
  }
 },
 "nbformat": 4,
 "nbformat_minor": 5
}

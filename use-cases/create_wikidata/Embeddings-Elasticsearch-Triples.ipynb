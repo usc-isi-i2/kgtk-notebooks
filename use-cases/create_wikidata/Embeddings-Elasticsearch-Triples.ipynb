{
 "cells": [
  {
   "cell_type": "markdown",
   "id": "naval-vulnerability",
   "metadata": {},
   "source": [
    "# Computes Graph and Text Embeddings, Elasticsearch Ready KGTK File and RDF Triples for Blazegraph\n",
    "\n",
    "This notebook computes the following:\n",
    "\n",
    "- `complEx` graph embeddings\n",
    "- `transE` graph embeddings\n",
    "- `BERT` text embeddings\n",
    "- `elasticsearch` ready KGTK edge for [KGTK Search](https://kgtk.isi.edu/search/)\n",
    "- `elasticsearch` ready KGTK edge file for Table Linker\n",
    "- `RDF Triples` to be loaded into blazegraph\n",
    "\n",
    "Inputs:\n",
    "\n",
    "- `item_file`: the subset of the `claims_file` consistin of edges for property of data type `wikibase-item`\n",
    "- `label_file`, `alias_file` and `description_file` containing labels, aliases and descriptions. It is assume that these files contain the labels, aliases and descriptions of all nodes appearing in the claims file. Users may provide these files for specific languages only.\n"
   ]
  },
  {
   "cell_type": "markdown",
   "id": "endless-exemption",
   "metadata": {},
   "source": [
    "### Batch Invocation\n",
    "Example batch command. The second argument is a notebook where the output will be stored. You can load it to see progress.\n",
    "\n",
    "```\n",
    "papermill Embeddings-Elasticsearch-&-Triples.ipynb Embeddings-Elasticsearch-&-Triples.out.ipynb \\\n",
    "-p claims_file /Volumes/GoogleDrive/Shared\\ drives/KGTK-public-graphs/wikidata-20200803-v4/all.tsv.gz \\\n",
    "-p label_file /Volumes/GoogleDrive/Shared\\ drives/KGTK-public-graphs/wikidata-20200803-v4/part.label.en.tsv.gz \\\n",
    "-p item_file /Volumes/GoogleDrive/Shared\\ drives/KGTK-public-graphs/wikidata-20200803-v4/part.wikibase-item.tsv.gz \\\n",
    "-p property_item_file = /Volumes/GoogleDrive/Shared\\ drives/KGTK-public-graphs/wikidata-20200803-v4/part.property.wikibase-item.tsv.gz \\\n",
    "-p output_path <local folder> \\\n",
    "-p output_folder useful_files_v4 \\\n",
    "-p temp_folder temp.useful_files_v4 \\\n",
    "-p delete_database no \n",
    "-p languages es,ru,zh-cn\n",
    "```"
   ]
  },
  {
   "cell_type": "code",
   "execution_count": 1,
   "id": "bb3e0847-155b-4251-821a-34e27d75c8a6",
   "metadata": {},
   "outputs": [],
   "source": [
    "import os\n",
    "import sys\n",
    "\n",
    "import pandas as pd\n",
    " \n",
    "from kgtk.configure_kgtk_notebooks import ConfigureKGTK\n",
    "from kgtk.functions import kgtk, kypher"
   ]
  },
  {
   "cell_type": "code",
   "execution_count": 2,
   "id": "departmental-connectivity",
   "metadata": {
    "tags": [
     "parameters"
    ]
   },
   "outputs": [],
   "source": [
    "# Parameters\n",
    "\n",
    "input_path = \"/data/amandeep/wikidata-20220505-dwd-v4\"\n",
    "output_path = \"/data/amandeep/wikidata-20220505-dwd-v4\"\n",
    "kgtk_path = \"/Users/amandeep/Github/kgtk\"\n",
    "\n",
    "graph_cache_path = None\n",
    "\n",
    "project_name = \"embeddings-elasticsearch-triples\"\n",
    "\n",
    "languages = 'en,ru,es,zh-cn,de,it,nl,pl,fr,pt,sv'\n",
    "\n",
    "files = 'label_all,alias_all,description_all'\n",
    "compute_embeddings = False\n",
    "generate_triples = False\n",
    "generate_kgtk_search = True\n",
    "datatype_property = \"datatype\""
   ]
  },
  {
   "cell_type": "code",
   "execution_count": 3,
   "id": "f44d69f2-eca7-4ac6-8b63-1d7c42898f59",
   "metadata": {},
   "outputs": [],
   "source": [
    "files = files.split(',')"
   ]
  },
  {
   "cell_type": "code",
   "execution_count": 4,
   "id": "1b52a584-551e-43ad-becb-9314e95932fa",
   "metadata": {},
   "outputs": [
    {
     "name": "stdout",
     "output_type": "stream",
     "text": [
      "User home: /nas/home/amandeep\n",
      "Current dir: /data/amandeep/Github/kgtk/use-cases\n",
      "KGTK dir: /Users/amandeep/Github/kgtk\n",
      "Use-cases dir: /Users/amandeep/Github/kgtk/use-cases\n"
     ]
    }
   ],
   "source": [
    "ck = ConfigureKGTK(files, kgtk_path=kgtk_path)\n",
    "ck.configure_kgtk(input_graph_path=input_path,\n",
    "                  output_path=output_path,\n",
    "                  project_name=project_name,\n",
    "                 graph_cache_path=graph_cache_path)"
   ]
  },
  {
   "cell_type": "code",
   "execution_count": 5,
   "id": "1ffdcaec-c0d7-468c-a207-186fad300d56",
   "metadata": {},
   "outputs": [
    {
     "name": "stdout",
     "output_type": "stream",
     "text": [
      "USE_CASES_DIR: /Users/amandeep/Github/kgtk/use-cases\n",
      "TEMP: /data/amandeep/wikidata-20220505-dwd-v4/embeddings-elasticsearch-triples/temp.embeddings-elasticsearch-triples\n",
      "EXAMPLES_DIR: /Users/amandeep/Github/kgtk/examples\n",
      "KGTK_LABEL_FILE: /data/amandeep/wikidata-20220505-dwd-v4/labels.en.tsv.gz\n",
      "GRAPH: /data/amandeep/wikidata-20220505-dwd-v4\n",
      "kypher: kgtk query --graph-cache /data/amandeep/wikidata-20220505-dwd-v4/embeddings-elasticsearch-triples/temp.embeddings-elasticsearch-triples/wikidata.sqlite3.db\n",
      "KGTK_OPTION_DEBUG: false\n",
      "kgtk: kgtk\n",
      "KGTK_GRAPH_CACHE: /data/amandeep/wikidata-20220505-dwd-v4/embeddings-elasticsearch-triples/temp.embeddings-elasticsearch-triples/wikidata.sqlite3.db\n",
      "OUT: /data/amandeep/wikidata-20220505-dwd-v4/embeddings-elasticsearch-triples\n",
      "STORE: /data/amandeep/wikidata-20220505-dwd-v4/embeddings-elasticsearch-triples/temp.embeddings-elasticsearch-triples/wikidata.sqlite3.db\n",
      "label_all: /data/amandeep/wikidata-20220505-dwd-v4/labels.tsv.gz\n",
      "alias_all: /data/amandeep/wikidata-20220505-dwd-v4/aliases.tsv.gz\n",
      "description_all: /data/amandeep/wikidata-20220505-dwd-v4/descriptions.tsv.gz\n"
     ]
    }
   ],
   "source": [
    "ck.print_env_variables()"
   ]
  },
  {
   "cell_type": "markdown",
   "id": "excellent-passenger",
   "metadata": {},
   "source": [
    "## Graph Embeddings"
   ]
  },
  {
   "cell_type": "markdown",
   "id": "integrated-slide",
   "metadata": {},
   "source": [
    "### complEx"
   ]
  },
  {
   "cell_type": "code",
   "execution_count": 6,
   "id": "eleven-tribe",
   "metadata": {},
   "outputs": [],
   "source": [
    "if compute_embeddings:\n",
    "    complex_temp_folder = f\"{wikidata_root_folder}/temp.graph-embeddings.complex\""
   ]
  },
  {
   "cell_type": "code",
   "execution_count": 7,
   "id": "found-traffic",
   "metadata": {},
   "outputs": [],
   "source": [
    "if compute_embeddings:\n",
    "    !mkdir -p {complex_temp_folder}"
   ]
  },
  {
   "cell_type": "code",
   "execution_count": null,
   "id": "gentle-wheat",
   "metadata": {},
   "outputs": [],
   "source": [
    "if compute_embeddings:\n",
    "    os.environ['TEMP_COMPLEX'] = complex_temp_folder"
   ]
  },
  {
   "cell_type": "code",
   "execution_count": null,
   "id": "attached-texture",
   "metadata": {},
   "outputs": [],
   "source": [
    "if compute_embeddings:\n",
    "    !kgtk graph-embeddings --verbose -i \"$ITEMS\" \\\n",
    "    -o $OUT/wikidatadwd.complEx.graph-embeddings.txt \\\n",
    "    --retain_temporary_data True \\\n",
    "    --operator ComplEx \\\n",
    "    --workers 24 \\\n",
    "    --log $TEMP_COMPLEX/ge.complex.log \\\n",
    "    -T $TEMP_COMPLEX \\\n",
    "    -ot w2v \\\n",
    "    -e 600"
   ]
  },
  {
   "cell_type": "markdown",
   "id": "piano-thousand",
   "metadata": {},
   "source": [
    "### transE"
   ]
  },
  {
   "cell_type": "code",
   "execution_count": null,
   "id": "serial-landscape",
   "metadata": {},
   "outputs": [],
   "source": [
    "if compute_embeddings:\n",
    "    transe_temp_folder = f\"{wikidata_root_folder}/temp.graph-embeddings.transe\""
   ]
  },
  {
   "cell_type": "code",
   "execution_count": null,
   "id": "naval-morgan",
   "metadata": {},
   "outputs": [],
   "source": [
    "if compute_embeddings:\n",
    "    !mkdir -p {transe_temp_folder}"
   ]
  },
  {
   "cell_type": "code",
   "execution_count": null,
   "id": "little-dietary",
   "metadata": {},
   "outputs": [],
   "source": [
    "if compute_embeddings:\n",
    "    os.environ['TEMP_TRANSE'] = transe_temp_folder"
   ]
  },
  {
   "cell_type": "code",
   "execution_count": null,
   "id": "annoying-council",
   "metadata": {},
   "outputs": [],
   "source": [
    "if compute_embeddings:\n",
    "    !$kgtk graph-embeddings --verbose -i \"$ITEMS\" \\\n",
    "    -o $OUT/wikidatadwd.transE.graph-embeddings.txt \\\n",
    "    --retain_temporary_data True \\\n",
    "    --operator TransE \\\n",
    "    --workers 24 \\\n",
    "    --log $TEMP_TRANSE/ge.transE.log \\\n",
    "    -T $TEMP_TRANSE \\\n",
    "    -ot w2v \\\n",
    "    -e 600"
   ]
  },
  {
   "cell_type": "markdown",
   "id": "speaking-torture",
   "metadata": {},
   "source": [
    "### BERT Embeddings"
   ]
  },
  {
   "cell_type": "code",
   "execution_count": null,
   "id": "patient-times",
   "metadata": {},
   "outputs": [],
   "source": [
    "if compute_embeddings:\n",
    "    !$kgtk text-embedding -i $ALL   \\\n",
    "    --model roberta-large-nli-mean-tokens   \\\n",
    "    --property-labels-file $LABELS_EN   \\\n",
    "    --isa-properties P31 P279 P106 P39 P1382 P373 P452 \\\n",
    "    --save-embedding-sentence > $OUT/wikidatadwd-text-embeddings-all.tsv"
   ]
  },
  {
   "cell_type": "markdown",
   "id": "similar-bidder",
   "metadata": {},
   "source": [
    "### Build KGTK edge file for KGTK Search"
   ]
  },
  {
   "cell_type": "code",
   "execution_count": 8,
   "id": "closed-yemen",
   "metadata": {},
   "outputs": [],
   "source": [
    "if generate_kgtk_search:\n",
    "    kgtk(\"\"\"cat -i $GRAPH/all.tsv.gz \n",
    "                -i $GRAPH/derived.isastar.tsv.gz \n",
    "                -i $GRAPH/metadata.pagerank.undirected.tsv.gz\n",
    "                -i $GRAPH/metadata.pagerank.directed.tsv.gz\n",
    "                -o $TEMP/wikidata.dwd.all.kgtk.search.unsorted.tsv.gz\"\"\")"
   ]
  },
  {
   "cell_type": "code",
   "execution_count": 10,
   "id": "trained-typing",
   "metadata": {},
   "outputs": [],
   "source": [
    "if generate_kgtk_search:\n",
    "    kgtk(f\"\"\"sort -i $TEMP/wikidata.dwd.all.kgtk.search.unsorted.tsv.gz\n",
    "                --columns node1\n",
    "                --extra '--parallel 24 --buffer-size 30% --temporary-directory {os.environ['TEMP']}'\n",
    "                -o $OUT/wikidata.dwd.all.kgtk.search.sorted.tsv.gz\"\"\")"
   ]
  },
  {
   "cell_type": "code",
   "execution_count": 6,
   "id": "6f2f5864-5dae-47ec-b4de-0726654de82c",
   "metadata": {},
   "outputs": [
    {
     "data": {
      "text/html": [
       "<div>\n",
       "<style scoped>\n",
       "    .dataframe tbody tr th:only-of-type {\n",
       "        vertical-align: middle;\n",
       "    }\n",
       "\n",
       "    .dataframe tbody tr th {\n",
       "        vertical-align: top;\n",
       "    }\n",
       "\n",
       "    .dataframe thead th {\n",
       "        text-align: right;\n",
       "    }\n",
       "</style>\n",
       "<table border=\"1\" class=\"dataframe\">\n",
       "  <thead>\n",
       "    <tr style=\"text-align: right;\">\n",
       "      <th></th>\n",
       "      <th>Processed 1000000 lines...</th>\n",
       "    </tr>\n",
       "  </thead>\n",
       "  <tbody>\n",
       "    <tr>\n",
       "      <th>0</th>\n",
       "      <td>Processed 2000000 lines...</td>\n",
       "    </tr>\n",
       "    <tr>\n",
       "      <th>1</th>\n",
       "      <td>Processed 3000000 lines...</td>\n",
       "    </tr>\n",
       "    <tr>\n",
       "      <th>2</th>\n",
       "      <td>Processed 4000000 lines...</td>\n",
       "    </tr>\n",
       "    <tr>\n",
       "      <th>3</th>\n",
       "      <td>Processed 5000000 lines...</td>\n",
       "    </tr>\n",
       "    <tr>\n",
       "      <th>4</th>\n",
       "      <td>Processed 6000000 lines...</td>\n",
       "    </tr>\n",
       "    <tr>\n",
       "      <th>...</th>\n",
       "      <td>...</td>\n",
       "    </tr>\n",
       "    <tr>\n",
       "      <th>5080</th>\n",
       "      <td>Processed 5082000000 lines...</td>\n",
       "    </tr>\n",
       "    <tr>\n",
       "      <th>5081</th>\n",
       "      <td>Processed 5083000000 lines...</td>\n",
       "    </tr>\n",
       "    <tr>\n",
       "      <th>5082</th>\n",
       "      <td>Processed 5084000000 lines...</td>\n",
       "    </tr>\n",
       "    <tr>\n",
       "      <th>5083</th>\n",
       "      <td>Processed 5085000000 lines...</td>\n",
       "    </tr>\n",
       "    <tr>\n",
       "      <th>5084</th>\n",
       "      <td>Done!</td>\n",
       "    </tr>\n",
       "  </tbody>\n",
       "</table>\n",
       "<p>5085 rows × 1 columns</p>\n",
       "</div>"
      ],
      "text/plain": [
       "         Processed 1000000 lines...\n",
       "0        Processed 2000000 lines...\n",
       "1        Processed 3000000 lines...\n",
       "2        Processed 4000000 lines...\n",
       "3        Processed 5000000 lines...\n",
       "4        Processed 6000000 lines...\n",
       "...                             ...\n",
       "5080  Processed 5082000000 lines...\n",
       "5081  Processed 5083000000 lines...\n",
       "5082  Processed 5084000000 lines...\n",
       "5083  Processed 5085000000 lines...\n",
       "5084                          Done!\n",
       "\n",
       "[5085 rows x 1 columns]"
      ]
     },
     "execution_count": 6,
     "metadata": {},
     "output_type": "execute_result"
    }
   ],
   "source": [
    "if generate_kgtk_search:\n",
    "    kgtk(f\"\"\"--debug build-kgtk-search-input --input-file \"$OUT\"/wikidata.dwd.all.kgtk.search.sorted.tsv.gz\n",
    "    --output-file \"$OUT\"/wikidata.dwd.all.kgtk.search.sorted.jl \n",
    "    --label-properties label \n",
    "    --alias-properties alias \n",
    "    --extra-alias-properties P1448,P1705,P1477,P1810,P742,P1449 \n",
    "    --description-properties description \n",
    "    --pagerank-properties Pundirected_pagerank \n",
    "    --languages {languages}\n",
    "    --mapping-file \"$OUT\"/wikidata_dwd_v3_mapping.json \n",
    "    --property-datatype-file \"$GRAPH\"/metadata.property.datatypes.tsv.gz\"\"\")"
   ]
  },
  {
   "cell_type": "markdown",
   "id": "instant-bidder",
   "metadata": {},
   "source": [
    "### Build KGTK edge file for Triple generation\n"
   ]
  },
  {
   "cell_type": "code",
   "execution_count": null,
   "id": "rolled-poker",
   "metadata": {},
   "outputs": [],
   "source": [
    "if generate_triples:\n",
    "    !$kgtk cat \\\n",
    "    -i $OUT/wikidata.dwd.all.kgtk.search.sorted.tsv.gz \\\n",
    "    -i $OUT/derived.isa.tsv.gz \\\n",
    "    -i $OUT/derived.P279star.tsv.gz \\\n",
    "    -i $OUT/metadata.in_degree.tsv.gz \\\n",
    "    -i $OUT/metadata.out_degree.tsv.gz \\\n",
    "    -o $TEMP/wikidata.dwd.all.kgtk.triples.1.tsv.gz"
   ]
  },
  {
   "cell_type": "code",
   "execution_count": null,
   "id": "aggressive-fleet",
   "metadata": {},
   "outputs": [],
   "source": [
    "if generate_triples:\n",
    "    !$kgtk add-id -i $TEMP/wikidata.dwd.all.kgtk.triples.1.tsv.gz \\\n",
    "    --id-style wikidata \\\n",
    "    -o $TEMP/wikidata.dwd.all.kgtk.triples.2.tsv.gz"
   ]
  },
  {
   "cell_type": "code",
   "execution_count": null,
   "id": "assumed-ready",
   "metadata": {},
   "outputs": [],
   "source": [
    "if generate_triples:\n",
    "    !$kgtk sort -i $TEMP/wikidata.dwd.all.kgtk.triples.2.tsv.gz \\\n",
    "    --columns node1 \\\n",
    "     --extra '--parallel 24 --buffer-size 30% --temporary-directory ' + temp_folder_path \\\n",
    "    -o $OUT/wikidata.dwd.all.kgtk.triples.sorted.tsv.gz"
   ]
  },
  {
   "cell_type": "markdown",
   "id": "wireless-headquarters",
   "metadata": {},
   "source": [
    "Split the triples file to parallelize triple generation"
   ]
  },
  {
   "cell_type": "code",
   "execution_count": null,
   "id": "single-gardening",
   "metadata": {},
   "outputs": [],
   "source": [
    "if generate_triples:\n",
    "    !mkdir -p $OUT/kgtk_triples_split"
   ]
  },
  {
   "cell_type": "code",
   "execution_count": null,
   "id": "original-charles",
   "metadata": {},
   "outputs": [],
   "source": [
    "if generate_triples:\n",
    "    !$kgtk split -i $OUT/wikidata.dwd.all.kgtk.triples.sorted.tsv.gz \\\n",
    "    --output-path $OUT/kgtk_triples_split \\\n",
    "    --gzipped-output --lines 10000000 \\\n",
    "    --file-prefix kgtk_triples"
   ]
  },
  {
   "cell_type": "code",
   "execution_count": null,
   "id": "auburn-elephant",
   "metadata": {},
   "outputs": [],
   "source": [
    "if generate_triples:\n",
    "    !curl https://raw.githubusercontent.com/usc-isi-i2/kgtk/dev/kgtk-properties/kgtk.properties.tsv -o $TEMP/kgtk-properties.tsv"
   ]
  },
  {
   "cell_type": "code",
   "execution_count": null,
   "id": "compressed-sight",
   "metadata": {},
   "outputs": [],
   "source": [
    "if generate_triples:\n",
    "    kgtk(f\"\"\"filter -p \";{datatype_property};\" -i $TEMP/kgtk-properties.tsv -o $TEMP/kgtk-properties.datatype.tsv.gz\"\"\")"
   ]
  },
  {
   "cell_type": "code",
   "execution_count": 1,
   "id": "threaded-confusion",
   "metadata": {},
   "outputs": [
    {
     "name": "stdout",
     "output_type": "stream",
     "text": [
      "cat: illegal option -- i\n",
      "usage: cat [-benstuv] [file ...]\n"
     ]
    }
   ],
   "source": [
    "if generate_triples:\n",
    "    !$kgtk cat -i $TEMP/kgtk-properties.datatype.tsv.gz $OUT/metadata.property.datatypes.tsv.gz -o $OUT/metadata.property.datatypes.augmented.tsv.gz"
   ]
  },
  {
   "cell_type": "code",
   "execution_count": null,
   "id": "disciplinary-violation",
   "metadata": {},
   "outputs": [],
   "source": [
    "if generate_triples:\n",
    "    ls $OUT/kgtk_triples_split/*.tsv.gz | parallel -j 18  'kgtk --debug generate-wikidata-triples -lp label -ap alias -dp description -pf $OUT/metadata.property.datatypes.augmented.tsv.gz --output-n-lines 100000 --generate-truthy --warning --use-id --log-path $TEMP/generate_triples_log.txt --error-action log -i {} -o {.}.ttl'\n",
    "\n"
   ]
  }
 ],
 "metadata": {
  "kernelspec": {
   "display_name": "kgtk-env-ckg07",
   "language": "python",
   "name": "kgtk-env-ckg07"
  },
  "language_info": {
   "codemirror_mode": {
    "name": "ipython",
    "version": 3
   },
   "file_extension": ".py",
   "mimetype": "text/x-python",
   "name": "python",
   "nbconvert_exporter": "python",
   "pygments_lexer": "ipython3",
   "version": "3.9.12"
  }
 },
 "nbformat": 4,
 "nbformat_minor": 5
}

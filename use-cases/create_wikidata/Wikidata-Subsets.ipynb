{
 "cells": [
  {
   "cell_type": "markdown",
   "metadata": {},
   "source": [
    "# Generating Subsets of Wikidata"
   ]
  },
  {
   "cell_type": "markdown",
   "metadata": {},
   "source": [
    "### Batch Invocation\n",
    "Example batch command. The second argument is a notebook where the output will be stored. You can load it to see progress.\n",
    "\n",
    "UPDATE EXAMPLE INVOCATION\n",
    "\n",
    "\n",
    "```\n",
    "papermill Wikidata\\ Useful\\ Files.ipynb useful-files.out.ipynb \\\n",
    "-p wiki_file /Volumes/GoogleDrive/Shared\\ drives/KGTK-public-graphs/wikidata-20200803-v3/all.tsv.gz \\\n",
    "-p label_file /Volumes/GoogleDrive/Shared\\ drives/KGTK-public-graphs/wikidata-20200803-v3/part.label.en.tsv.gz \\\n",
    "-p item_file /Volumes/GoogleDrive/Shared\\ drives/KGTK-public-graphs/wikidata-20200803-v3/part.wikibase-item.tsv.gz \\\n",
    "-p property_item_file /Volumes/GoogleDrive/Shared\\ drives/KGTK-public-graphs/wikidata-20200803-v3/part.property.wikibase-item.tsv.gz \\\n",
    "-p qual_file /Volumes/GoogleDrive/Shared\\ drives/KGTK-public-graphs/wikidata-20200803-v3/qual.tsv.gz \\\n",
    "-p output_path <local folder> \\\n",
    "-p output_folder useful_files_v4 \\\n",
    "-p temp_folder temp.useful_files_v4 \\\n",
    "-p delete_database no \\\n",
    "-p compute_pagerank no \\\n",
    "-p languages es,ru,zh-cn \n",
    "```"
   ]
  },
  {
   "cell_type": "code",
   "execution_count": 1,
   "metadata": {},
   "outputs": [],
   "source": [
    "import io\n",
    "import os\n",
    "import subprocess\n",
    "import sys\n",
    "\n",
    "import numpy as np\n",
    "import pandas as pd\n",
    "\n",
    "import papermill as pm\n",
    "\n",
    "from kgtk.configure_kgtk_notebooks import ConfigureKGTK\n",
    "from kgtk.functions import kgtk, kypher"
   ]
  },
  {
   "cell_type": "code",
   "execution_count": 2,
   "metadata": {
    "tags": [
     "parameters"
    ]
   },
   "outputs": [],
   "source": [
    "input_path = \"/data/amandeep/wikidata-20220505/import-wikidata/data\"\n",
    "output_path = \"/data/amandeep\"\n",
    "kgtk_path = \"/data/amandeep/Github/kgtk\"\n",
    "\n",
    "graph_cache_path = None\n",
    "\n",
    "project_name = \"wikidata-20220505-dwd-v4\"\n",
    "\n",
    "files = 'isa,p279star'\n",
    "\n",
    "# Classes to remove\n",
    "remove_classes = \"Q7318358,Q13442814\"\n",
    "\n",
    "useful_files_notebook = \"Wikidata-Useful-Files.ipynb\"\n",
    "notebooks_folder = f\"{kgtk_path}/use-cases\"\n",
    "\n",
    "languages = \"en,ru,es,zh-cn,de,it,nl,pl,fr,pt,sv\"\n",
    "debug = False"
   ]
  },
  {
   "cell_type": "code",
   "execution_count": 3,
   "metadata": {},
   "outputs": [],
   "source": [
    "files = files.split(',')\n",
    "languages = languages.split(',')"
   ]
  },
  {
   "cell_type": "code",
   "execution_count": 4,
   "metadata": {},
   "outputs": [
    {
     "name": "stdout",
     "output_type": "stream",
     "text": [
      "User home: /nas/home/amandeep\n",
      "Current dir: /data/amandeep/Github/kgtk/use-cases\n",
      "KGTK dir: /data/amandeep/Github/kgtk\n",
      "Use-cases dir: /data/amandeep/Github/kgtk/use-cases\n"
     ]
    }
   ],
   "source": [
    "ck = ConfigureKGTK(files, kgtk_path=kgtk_path)\n",
    "ck.configure_kgtk(input_graph_path=input_path,\n",
    "                  output_path=output_path,\n",
    "                  project_name=project_name,\n",
    "                 graph_cache_path=graph_cache_path)"
   ]
  },
  {
   "cell_type": "code",
   "execution_count": 5,
   "metadata": {},
   "outputs": [
    {
     "name": "stdout",
     "output_type": "stream",
     "text": [
      "kypher: kgtk query --graph-cache /data/amandeep/wikidata-20220505-dwd-v4/temp.wikidata-20220505-dwd-v4/wikidata.sqlite3.db\n",
      "GRAPH: /data/amandeep/wikidata-20220505/import-wikidata/data\n",
      "KGTK_GRAPH_CACHE: /data/amandeep/wikidata-20220505-dwd-v4/temp.wikidata-20220505-dwd-v4/wikidata.sqlite3.db\n",
      "STORE: /data/amandeep/wikidata-20220505-dwd-v4/temp.wikidata-20220505-dwd-v4/wikidata.sqlite3.db\n",
      "OUT: /data/amandeep/wikidata-20220505-dwd-v4\n",
      "kgtk: kgtk\n",
      "TEMP: /data/amandeep/wikidata-20220505-dwd-v4/temp.wikidata-20220505-dwd-v4\n",
      "USE_CASES_DIR: /data/amandeep/Github/kgtk/use-cases\n",
      "KGTK_OPTION_DEBUG: false\n",
      "EXAMPLES_DIR: /data/amandeep/Github/kgtk/examples\n",
      "KGTK_LABEL_FILE: /data/amandeep/wikidata-20220505/import-wikidata/data/labels.en.tsv.gz\n",
      "claims: /data/amandeep/wikidata-20220505/import-wikidata/data/claims.tsv.gz\n",
      "label_all: /data/amandeep/wikidata-20220505/import-wikidata/data/labels.tsv.gz\n",
      "alias_all: /data/amandeep/wikidata-20220505/import-wikidata/data/aliases.tsv.gz\n",
      "description_all: /data/amandeep/wikidata-20220505/import-wikidata/data/descriptions.tsv.gz\n",
      "item: /data/amandeep/wikidata-20220505/import-wikidata/data/claims.wikibase-item.tsv.gz\n",
      "qualifiers: /data/amandeep/wikidata-20220505/import-wikidata/data/qualifiers.tsv.gz\n",
      "datatypes: /data/amandeep/wikidata-20220505/import-wikidata/data/metadata.property.datatypes.tsv.gz\n",
      "types: /data/amandeep/wikidata-20220505/import-wikidata/data/metadata.types.tsv.gz\n",
      "isa: /data/amandeep/wikidata-20220505/import-wikidata/data/derived.isa.tsv.gz\n",
      "p279star: /data/amandeep/wikidata-20220505/import-wikidata/data/derived.P279star.tsv.gz\n"
     ]
    }
   ],
   "source": [
    "ck.print_env_variables()"
   ]
  },
  {
   "cell_type": "code",
   "execution_count": 6,
   "metadata": {},
   "outputs": [
    {
     "name": "stdout",
     "output_type": "stream",
     "text": [
      "kgtk query --graph-cache /data/amandeep/wikidata-20220505-dwd-v4/temp.wikidata-20220505-dwd-v4/wikidata.sqlite3.db -i \"/data/amandeep/wikidata-20220505/import-wikidata/data/claims.tsv.gz\" --as claims  -i \"/data/amandeep/wikidata-20220505/import-wikidata/data/labels.tsv.gz\" --as label_all  -i \"/data/amandeep/wikidata-20220505/import-wikidata/data/aliases.tsv.gz\" --as alias_all  -i \"/data/amandeep/wikidata-20220505/import-wikidata/data/descriptions.tsv.gz\" --as description_all  -i \"/data/amandeep/wikidata-20220505/import-wikidata/data/claims.wikibase-item.tsv.gz\" --as item  -i \"/data/amandeep/wikidata-20220505/import-wikidata/data/qualifiers.tsv.gz\" --as qualifiers  -i \"/data/amandeep/wikidata-20220505/import-wikidata/data/metadata.property.datatypes.tsv.gz\" --as datatypes  -i \"/data/amandeep/wikidata-20220505/import-wikidata/data/metadata.types.tsv.gz\" --as types  -i \"/data/amandeep/wikidata-20220505/import-wikidata/data/derived.isa.tsv.gz\" --as isa  -i \"/data/amandeep/wikidata-20220505/import-wikidata/data/derived.P279star.tsv.gz\" --as p279star  --limit 3\n",
      "id\tnode1\tlabel\tnode2\trank\tnode2;wikidatatype\n",
      "P10-P1628-32b85d-7927ece6-0\tP10\tP1628\t\"http://www.w3.org/2006/vcard/ns#Video\"\tnormal\turl\n",
      "P10-P1628-acf60d-b8950832-0\tP10\tP1628\t\"https://schema.org/video\"\tnormal\turl\n",
      "P10-P1629-Q34508-bcc39400-0\tP10\tP1629\tQ34508\tnormal\twikibase-item\n"
     ]
    }
   ],
   "source": [
    "ck.load_files_into_cache()"
   ]
  },
  {
   "cell_type": "markdown",
   "metadata": {},
   "source": [
    "### Preview the input files"
   ]
  },
  {
   "cell_type": "markdown",
   "metadata": {},
   "source": [
    "It is always a good practice to peek a the files to make sure the column headings are what we expect"
   ]
  },
  {
   "cell_type": "code",
   "execution_count": 8,
   "metadata": {},
   "outputs": [
    {
     "name": "stdout",
     "output_type": "stream",
     "text": [
      "id\tnode1\tlabel\tnode2\trank\tnode2;wikidatatype\n",
      "P10-P1628-32b85d-7927ece6-0\tP10\tP1628\t\"http://www.w3.org/2006/vcard/ns#Video\"\tnormal\turl\n",
      "P10-P1628-acf60d-b8950832-0\tP10\tP1628\t\"https://schema.org/video\"\tnormal\turl\n",
      "P10-P1629-Q34508-bcc39400-0\tP10\tP1629\tQ34508\tnormal\twikibase-item\n",
      "P10-P1630-53947a-fbe9093e-0\tP10\tP1630\t\"https://commons.wikimedia.org/wiki/File:$1\"\tnormal\tstring\n",
      "P10-P1659-P1651-c4068028-0\tP10\tP1659\tP1651\tnormal\twikibase-property\n",
      "P10-P1659-P18-5e4b9c4f-0\tP10\tP1659\tP18\tnormal\twikibase-property\n",
      "P10-P1659-P4238-d21d1ac0-0\tP10\tP1659\tP4238\tnormal\twikibase-property\n",
      "P10-P1659-P51-86aca4c5-0\tP10\tP1659\tP51\tnormal\twikibase-property\n",
      "P10-P1855-Q15075950-7eff6d65-0\tP10\tP1855\tQ15075950\tnormal\twikibase-item\n",
      "\n",
      "gzip: stdout: Broken pipe\n"
     ]
    }
   ],
   "source": [
    "!zcat $claims | head"
   ]
  },
  {
   "cell_type": "markdown",
   "metadata": {},
   "source": [
    "## Creating a list of all the items we want to remove"
   ]
  },
  {
   "cell_type": "markdown",
   "metadata": {},
   "source": [
    "### Compute the items to be removed"
   ]
  },
  {
   "cell_type": "markdown",
   "metadata": {},
   "source": [
    "Compose the kypher command to remove the classes"
   ]
  },
  {
   "cell_type": "code",
   "execution_count": 10,
   "metadata": {},
   "outputs": [
    {
     "name": "stdout",
     "output_type": "stream",
     "text": [
      "node1\tlabel\tnode2\n",
      "P10\tisa\tQ18610173\n",
      "P10\tisa\tQ19847637\n",
      "P1000\tisa\tQ18608871\n",
      "P10000\tisa\tQ19833377\n",
      "P10000\tisa\tQ89560413\n",
      "P10001\tisa\tQ107738007\n",
      "\n",
      "gzip: P10001\tisa\tQ64221137\n",
      "P10002\tisa\tQ93433126\n",
      "stdout: Broken pipe\n",
      "P10003\tisa\tQ108914651\n"
     ]
    }
   ],
   "source": [
    "!zcat $isa | head | col"
   ]
  },
  {
   "cell_type": "markdown",
   "metadata": {},
   "source": [
    "Run the command, the items to remove will be in file `{temp}/items.remove.tsv.gz`"
   ]
  },
  {
   "cell_type": "code",
   "execution_count": 11,
   "metadata": {},
   "outputs": [
    {
     "data": {
      "text/plain": [
       "'\"Q7318358\", \"Q13442814\"'"
      ]
     },
     "execution_count": 11,
     "metadata": {},
     "output_type": "execute_result"
    }
   ],
   "source": [
    "classes = \", \".join(list(map(lambda x: '\"{}\"'.format(x), remove_classes.replace(\" \", \"\").split(\",\"))))\n",
    "\n",
    "classes"
   ]
  },
  {
   "cell_type": "code",
   "execution_count": 13,
   "metadata": {},
   "outputs": [],
   "source": [
    "kypher(f\"\"\"  -i isa -i p279star -o \"$TEMP\"/items.remove.tsv.gz \n",
    "            --match 'isa: (n1)-[:isa]->(c), p279star: (c)-[]->(class)' \n",
    "            --where 'class in [{classes}]' \n",
    "            --return 'distinct n1, \"p31_p279star\" as label, class as node2' \n",
    "            --order-by 'n1'\n",
    "            \"\"\")"
   ]
  },
  {
   "cell_type": "markdown",
   "metadata": {},
   "source": [
    "Preview the file"
   ]
  },
  {
   "cell_type": "code",
   "execution_count": 14,
   "metadata": {},
   "outputs": [
    {
     "name": "stdout",
     "output_type": "stream",
     "text": [
      "node1\tlabel\tnode2\n",
      "Q100000005\tp31_p279star\tQ13442814\n",
      "\n",
      "gzip: Q100000009\tp31_p279star\tQ13442814\n",
      "stdout: Broken pipe\n",
      "Q100000015\tp31_p279star\tQ13442814\n",
      "Q100000022\tp31_p279star\tQ13442814\n",
      "Q100000031\tp31_p279star\tQ13442814\n",
      "Q100000044\tp31_p279star\tQ13442814\n",
      "Q100000056\tp31_p279star\tQ13442814\n",
      "Q100000066\tp31_p279star\tQ13442814\n",
      "Q100000074\tp31_p279star\tQ13442814\n"
     ]
    }
   ],
   "source": [
    "!zcat < \"$TEMP\"/items.remove.tsv.gz | head | col"
   ]
  },
  {
   "cell_type": "code",
   "execution_count": 15,
   "metadata": {},
   "outputs": [
    {
     "name": "stdout",
     "output_type": "stream",
     "text": [
      "39873936 119621808 1314915334\n"
     ]
    }
   ],
   "source": [
    "!zcat < \"$TEMP\"/items.remove.tsv.gz | wc"
   ]
  },
  {
   "cell_type": "markdown",
   "metadata": {},
   "source": [
    "Collect all the classes of items we will remove, just as a sanity check"
   ]
  },
  {
   "cell_type": "code",
   "execution_count": 16,
   "metadata": {},
   "outputs": [
    {
     "name": "stdout",
     "output_type": "stream",
     "text": [
      "node2\n",
      "Q13442814\n",
      "Q7318358\n"
     ]
    }
   ],
   "source": [
    "!$kypher -i \"$TEMP\"/items.remove.tsv.gz \\\n",
    "--match '()-[]->(n2)' \\\n",
    "--return 'distinct n2' \\\n",
    "--limit 10"
   ]
  },
  {
   "cell_type": "markdown",
   "metadata": {},
   "source": [
    "## Create the reduced edges file"
   ]
  },
  {
   "cell_type": "markdown",
   "metadata": {},
   "source": [
    "### Remove the items from the all.tsv and the label, alias and description files\n",
    "We will be left with `reduced` files where the edges do not have the unwanted items. We have to remove them from the node1 and node2 positions, so we need to run the ifnotexists commands twice.\n",
    "\n",
    "Before we start preview the files to see the column headings and check whether they look sorted."
   ]
  },
  {
   "cell_type": "code",
   "execution_count": 17,
   "metadata": {},
   "outputs": [
    {
     "name": "stdout",
     "output_type": "stream",
     "text": [
      "node1\tlabel\tnode2\n",
      "\n",
      "gzip: Q100000005\tp31_p279star\tQ13442814\n",
      "Q100000009\tp31_p279star\tQ13442814\n",
      "stdout: Broken pipe\n",
      "Q100000015\tp31_p279star\tQ13442814\n",
      "Q100000022\tp31_p279star\tQ13442814\n",
      "Q100000031\tp31_p279star\tQ13442814\n",
      "Q100000044\tp31_p279star\tQ13442814\n",
      "Q100000056\tp31_p279star\tQ13442814\n",
      "Q100000066\tp31_p279star\tQ13442814\n",
      "Q100000074\tp31_p279star\tQ13442814\n"
     ]
    }
   ],
   "source": [
    "!zcat \"$TEMP\"/items.remove.tsv.gz | head | col"
   ]
  },
  {
   "cell_type": "markdown",
   "metadata": {},
   "source": [
    "Remove from the full set of edges those edges that have a `node1` present in `items.remove.tsv`"
   ]
  },
  {
   "cell_type": "code",
   "execution_count": 18,
   "metadata": {},
   "outputs": [],
   "source": [
    "kgtk(\"\"\"ifnotexists \n",
    "        -i $claims \n",
    "        -o \"$TEMP\"/item.edges.reduced.tsv.gz\n",
    "        --filter-on \"$TEMP\"/items.remove.tsv.gz\n",
    "        --input-keys node1\n",
    "        --filter-keys node1\n",
    "        --presorted\n",
    "    \"\"\")"
   ]
  },
  {
   "cell_type": "markdown",
   "metadata": {},
   "source": [
    "From the remaining edges, remove those that have a `node2` present in `items.remove.tsv`"
   ]
  },
  {
   "cell_type": "code",
   "execution_count": 19,
   "metadata": {},
   "outputs": [],
   "source": [
    "kgtk(f\"\"\"sort \n",
    "        -i \"$TEMP\"/item.edges.reduced.tsv.gz \n",
    "        -o \"$TEMP\"/item.edges.reduced.sorted.tsv.gz\n",
    "        --extra '--parallel 24 --buffer-size 30% --temporary-directory {os.environ['TEMP']}'\n",
    "        --columns node2 label node1 id\"\"\")"
   ]
  },
  {
   "cell_type": "code",
   "execution_count": 20,
   "metadata": {},
   "outputs": [],
   "source": [
    "kgtk(\"\"\"ifnotexists \n",
    "        -i $TEMP/item.edges.reduced.sorted.tsv.gz \n",
    "        -o $TEMP/item.edges.reduced.2.tsv.gz\n",
    "        --filter-on $TEMP/items.remove.tsv.gz\n",
    "        --input-keys node2\n",
    "        --filter-keys node1\n",
    "        --presorted\"\"\")"
   ]
  },
  {
   "cell_type": "markdown",
   "metadata": {},
   "source": [
    "Create a file with the labels, for all the languages specified, **FIX THIS**"
   ]
  },
  {
   "cell_type": "code",
   "execution_count": 21,
   "metadata": {},
   "outputs": [],
   "source": [
    "kgtk(\"\"\"ifnotexists -i $label_all \n",
    "        -o \"$TEMP\"/label.all.edges.reduced.tsv.gz\n",
    "        --filter-on \"$TEMP\"/items.remove.tsv.gz\n",
    "        --input-keys node1\n",
    "        --filter-keys node1\n",
    "        --presorted\"\"\")"
   ]
  },
  {
   "cell_type": "code",
   "execution_count": 22,
   "metadata": {},
   "outputs": [],
   "source": [
    "kgtk(f\"\"\"sort \n",
    "        -i $TEMP/label.all.edges.reduced.tsv.gz \n",
    "        --extra '--parallel 24 --buffer-size 30% --temporary-directory {os.environ['TEMP']}'\n",
    "        -o $OUT/labels.tsv.gz\"\"\")\n"
   ]
  },
  {
   "cell_type": "markdown",
   "metadata": {},
   "source": [
    "Create a file with the aliases, for all the languages specified"
   ]
  },
  {
   "cell_type": "code",
   "execution_count": 23,
   "metadata": {},
   "outputs": [],
   "source": [
    "kgtk(\"\"\"ifnotexists -i $alias_all\n",
    "        -o $TEMP/alias.all.edges.reduced.tsv.gz\n",
    "        --filter-on $TEMP/items.remove.tsv.gz\n",
    "        --input-keys node1\n",
    "        --filter-keys node1\n",
    "        --presorted\"\"\")"
   ]
  },
  {
   "cell_type": "code",
   "execution_count": 24,
   "metadata": {},
   "outputs": [],
   "source": [
    "kgtk(f\"\"\"sort \n",
    "        -i $TEMP/alias.all.edges.reduced.tsv.gz \n",
    "        --extra '--parallel 24 --buffer-size 30% --temporary-directory {os.environ['TEMP']}'\n",
    "        -o $OUT/aliases.tsv.gz\"\"\")\n"
   ]
  },
  {
   "cell_type": "markdown",
   "metadata": {},
   "source": [
    "Create a file with the descriptions, for all the languages specified"
   ]
  },
  {
   "cell_type": "code",
   "execution_count": 25,
   "metadata": {},
   "outputs": [],
   "source": [
    "kgtk(\"\"\"ifnotexists \n",
    "        -i $description_all\n",
    "        -o $TEMP/description.all.edges.reduced.tsv.gz\n",
    "        --filter-on $TEMP/items.remove.tsv.gz\n",
    "        --input-keys node1\n",
    "        --filter-keys node1\n",
    "        --presorted\"\"\")"
   ]
  },
  {
   "cell_type": "code",
   "execution_count": 26,
   "metadata": {},
   "outputs": [],
   "source": [
    "kgtk(f\"\"\"sort \n",
    "        -i $TEMP/description.all.edges.reduced.tsv.gz \n",
    "        --extra '--parallel 24 --buffer-size 30% --temporary-directory {os.environ['TEMP']}'\n",
    "        -o $OUT/descriptions.tsv.gz\"\"\")"
   ]
  },
  {
   "cell_type": "markdown",
   "metadata": {},
   "source": [
    "### Produce the output files for claims, labels, aliases and descriptions"
   ]
  },
  {
   "cell_type": "code",
   "execution_count": 27,
   "metadata": {},
   "outputs": [],
   "source": [
    "kgtk(f\"\"\"sort \n",
    "        -i $TEMP/item.edges.reduced.2.tsv.gz\n",
    "        --extra '--parallel 24 --buffer-size 30% --temporary-directory {os.environ['TEMP']}'\n",
    "        -o $OUT/claims.tsv.gz\"\"\")"
   ]
  },
  {
   "cell_type": "markdown",
   "metadata": {},
   "source": [
    "## Create the reduced qualifiers file\n",
    "We do this by finding all the ids of the reduced edges file, and then selecting out from `qual.tsv`\n",
    "\n",
    "We need to join by id, so we need to sort both files by id, node1, label, node2:\n",
    "\n",
    "- `$qualifiers` \n",
    "- `$OUT/claims.tsv.gz` "
   ]
  },
  {
   "cell_type": "code",
   "execution_count": 28,
   "metadata": {},
   "outputs": [
    {
     "name": "stdout",
     "output_type": "stream",
     "text": [
      "\n",
      "gzip: id                                                node1                           label  node2                                                                    node2;wikidatatype\n",
      "P10-P1630-53947a-fbe9093e-0-P407-Q20923490-0      P10-P1630-53947a-fbe9093e-0     P407   Q20923490                                                                wikibase-item\n",
      "stdout: Broken pipe\n",
      "P10-P1855-Q15075950-7eff6d65-0-P10-54b214-0       P10-P1855-Q15075950-7eff6d65-0  P10    \"Smoorverliefd 12 september.webm\"                                        commonsMedia\n",
      "P10-P1855-Q15075950-7eff6d65-0-P3831-Q622550-0    P10-P1855-Q15075950-7eff6d65-0  P3831  Q622550                                                                  wikibase-item\n",
      "P10-P1855-Q4504-a69d2c73-0-P10-bef003-0           P10-P1855-Q4504-a69d2c73-0      P10    \"Komodo dragons video.ogv\"                                               commonsMedia\n",
      "P10-P1855-Q69063653-c8cdb04c-0-P10-6fb08f-0       P10-P1855-Q69063653-c8cdb04c-0  P10    \"Couch Commander.webm\"                                                   commonsMedia\n",
      "P10-P1855-Q825197-555592a4-0-P10-8a982d-0         P10-P1855-Q825197-555592a4-0    P10    \"Elephants Dream (2006).webm\"                                            commonsMedia\n",
      "P10-P2302-Q21502404-d012aef4-0-P1793-1f3adb-0     P10-P2302-Q21502404-d012aef4-0  P1793  \"(?i).+\\\\.(webm\\|ogv\\|ogg\\|gif\\|svg)\"                                    string\n",
      "P10-P2302-Q21502404-d012aef4-0-P2316-Q21502408-0  P10-P2302-Q21502404-d012aef4-0  P2316  Q21502408                                                                wikibase-item\n",
      "P10-P2302-Q21502404-d012aef4-0-P2916-cb0917-0     P10-P2302-Q21502404-d012aef4-0  P2916  'filename with extension: webm, ogg, ogv, or gif (case insensitive)'@en  monolingualtext\n"
     ]
    }
   ],
   "source": [
    "if debug:\n",
    "    !zcat < \"$qualifiers\" | head | column -t -s $'\\t' "
   ]
  },
  {
   "cell_type": "markdown",
   "metadata": {},
   "source": [
    "Run `ifexists` to select out the quals for the edges in `{out}/wikidataos.qual.tsv.gz`. Note that we use `node1` in the qualifier file, matching to `id` in the `wikidataos.all.tsv` file."
   ]
  },
  {
   "cell_type": "code",
   "execution_count": 29,
   "metadata": {},
   "outputs": [],
   "source": [
    "kgtk(\"\"\"ifexists \n",
    "    -i $qualifiers \n",
    "    -o $OUT/qualifiers.tsv.gz\n",
    "    --filter-on $OUT/claims.tsv.gz\n",
    "    --input-keys node1\n",
    "    --filter-keys id\n",
    "    --presorted\"\"\")"
   ]
  },
  {
   "cell_type": "markdown",
   "metadata": {},
   "source": [
    "Look at the final output for qualifiers"
   ]
  },
  {
   "cell_type": "code",
   "execution_count": 30,
   "metadata": {},
   "outputs": [
    {
     "name": "stdout",
     "output_type": "stream",
     "text": [
      "\n",
      "gzip: stdout: Broken pipe\n",
      "id\tnode1\tlabel\tnode2\tnode2;wikidatatype\n",
      "P10-P1630-53947a-fbe9093e-0-P407-Q20923490-0\tP10-P1630-53947a-fbe9093e-0\tP407\tQ20923490\twikibase-item\n",
      "P10-P1855-Q15075950-7eff6d65-0-P10-54b214-0\tP10-P1855-Q15075950-7eff6d65-0\tP10\t\"Smoorverliefd 12 september.webm\"\tcommonsMedia\n",
      "P10-P1855-Q15075950-7eff6d65-0-P3831-Q622550-0\tP10-P1855-Q15075950-7eff6d65-0\tP3831\tQ622550 wikibase-item\n",
      "P10-P1855-Q4504-a69d2c73-0-P10-bef003-0 P10-P1855-Q4504-a69d2c73-0\tP10\t\"Komodo dragons video.ogv\"\tcommonsMedia\n",
      "P10-P1855-Q69063653-c8cdb04c-0-P10-6fb08f-0\tP10-P1855-Q69063653-c8cdb04c-0\tP10\t\"Couch Commander.webm\"\tcommonsMedia\n",
      "P10-P1855-Q825197-555592a4-0-P10-8a982d-0\tP10-P1855-Q825197-555592a4-0\tP10\t\"Elephants Dream (2006).webm\"\tcommonsMedia\n",
      "P10-P2302-Q21502404-d012aef4-0-P1793-1f3adb-0\tP10-P2302-Q21502404-d012aef4-0\tP1793\t\"(?i).+\\\\.(webm\\|ogv\\|ogg\\|gif\\|svg)\"\tstring\n",
      "P10-P2302-Q21502404-d012aef4-0-P2316-Q21502408-0\tP10-P2302-Q21502404-d012aef4-0\tP2316\tQ21502408\twikibase-item\n",
      "P10-P2302-Q21502404-d012aef4-0-P2916-cb0917-0\tP10-P2302-Q21502404-d012aef4-0\tP2916\t'filename with extension: webm, ogg, ogv, or gif (case insensitive)'@en monolingualtext\n"
     ]
    }
   ],
   "source": [
    "if debug:\n",
    "    !zcat $OUT/qualifiers.tsv.gz | head | col"
   ]
  },
  {
   "cell_type": "code",
   "execution_count": 31,
   "metadata": {},
   "outputs": [
    {
     "name": "stdout",
     "output_type": "stream",
     "text": [
      "total 34220224\n",
      "-rw-r--r-- 1 amandeep isdstaff  2214529468 May 14 20:50 aliases.tsv.gz\n",
      "-rw-r--r-- 1 amandeep isdstaff 11594856613 May 15 04:31 claims.tsv.gz\n",
      "-rw-r--r-- 1 amandeep isdstaff 12667243225 May 15 03:52 descriptions.tsv.gz\n",
      "-rw-r--r-- 1 amandeep isdstaff  6007956701 May 14 20:09 labels.tsv.gz\n",
      "-rw-r--r-- 1 amandeep isdstaff  2556913530 May 15 05:28 qualifiers.tsv.gz\n",
      "drwxr-xr-x 2 amandeep isdstaff         288 May 15 04:31 temp.wikidata-20220505-dwd-v4\n"
     ]
    }
   ],
   "source": [
    "!ls -l \"$OUT\""
   ]
  },
  {
   "cell_type": "markdown",
   "metadata": {},
   "source": [
    "Copy the property datatypes and metadata types file over"
   ]
  },
  {
   "cell_type": "code",
   "execution_count": 32,
   "metadata": {},
   "outputs": [],
   "source": [
    "!cp $datatypes $OUT/metadata.property.datatypes.tsv.gz"
   ]
  },
  {
   "cell_type": "markdown",
   "metadata": {},
   "source": [
    "Filter out edges from metdata types file"
   ]
  },
  {
   "cell_type": "code",
   "execution_count": 33,
   "metadata": {},
   "outputs": [],
   "source": [
    "kgtk(\"\"\"ifexists \n",
    "        -i \"$types\" -o $OUT/metadata.types.tsv.gz\n",
    "        --filter-on $OUT/claims.tsv.gz\n",
    "        --input-keys node1\n",
    "        --filter-keys node1\n",
    "        --presorted\"\"\")"
   ]
  },
  {
   "cell_type": "markdown",
   "metadata": {},
   "source": [
    "Get the sitelinks as well, the sitelinks are not in claims.tsv.gz"
   ]
  },
  {
   "cell_type": "code",
   "execution_count": 34,
   "metadata": {},
   "outputs": [],
   "source": [
    "kgtk(\"\"\"ifexists \n",
    "        -i \"$GRAPH/sitelinks.tsv.gz\" \n",
    "        -o \"$OUT/sitelinks.tsv.gz\"\n",
    "        --filter-on \"$OUT/claims.tsv.gz\"\n",
    "        --input-keys node1\n",
    "        --filter-keys node1\n",
    "        --presorted\"\"\")"
   ]
  },
  {
   "cell_type": "markdown",
   "metadata": {},
   "source": [
    "Contruct the cat command to generate `all.tsv.gz`"
   ]
  },
  {
   "cell_type": "code",
   "execution_count": 35,
   "metadata": {},
   "outputs": [],
   "source": [
    "kgtk(\"\"\"cat -i \"$OUT/labels.tsv.gz\"\n",
    "            -i \"$OUT/aliases.tsv.gz\"\n",
    "            -i \"$OUT/descriptions.tsv.gz\"\n",
    "            -i \"$OUT/claims.tsv.gz\"\n",
    "            -i \"$OUT/qualifiers.tsv.gz\"\n",
    "            -i \"$OUT/metadata.property.datatypes.tsv.gz\"\n",
    "            -i \"$OUT/metadata.types.tsv.gz\"\n",
    "            -i \"$OUT/sitelinks.tsv.gz\"\n",
    "            -o \"$OUT/all.tsv.gz\"\n",
    "            \"\"\")"
   ]
  },
  {
   "cell_type": "markdown",
   "metadata": {},
   "source": [
    "### Run the Partitions Notebook"
   ]
  },
  {
   "cell_type": "code",
   "execution_count": null,
   "metadata": {},
   "outputs": [],
   "source": [
    "pm.execute_notebook(\n",
    "    \"partition-wikidata.ipynb\",\n",
    "    os.environ[\"TEMP\"] + \"/partition-wikidata.out.ipynb\",\n",
    "    parameters=dict(\n",
    "        wikidata_input_path = os.environ[\"OUT\"] + \"/all.tsv.gz\",\n",
    "        wikidata_parts_path = os.environ[\"OUT\"] + \"/parts\",\n",
    "        temp_folder_path = os.environ[\"OUT\"] + \"/parts/temp\",\n",
    "        sort_extras = \"--buffer-size 30% --temporary-directory $OUT/parts/temp\",\n",
    "        verbose = False,\n",
    "        gzip_command = 'gzip'\n",
    "    )\n",
    ")"
   ]
  },
  {
   "cell_type": "markdown",
   "metadata": {},
   "source": [
    "### copy the `claims.wikibase-item.tsv` file from the `parts` folder"
   ]
  },
  {
   "cell_type": "code",
   "execution_count": 38,
   "metadata": {},
   "outputs": [],
   "source": [
    "!cp $OUT/parts/claims.wikibase-item.tsv.gz $OUT"
   ]
  },
  {
   "cell_type": "markdown",
   "metadata": {},
   "source": [
    "### RUN the Useful Files notebook"
   ]
  },
  {
   "cell_type": "code",
   "execution_count": null,
   "metadata": {},
   "outputs": [],
   "source": [
    "pm.execute_notebook(\n",
    "    f'{useful_files_notebook}',\n",
    "    os.environ[\"TEMP\"] + \"/Wikidata-Useful-Files-Out.ipynb\",\n",
    "    parameters=dict(\n",
    "        output_path = os.environ[\"OUT\"],\n",
    "        input_path = os.environ[\"OUT\"],\n",
    "        kgtk_path = kgtk_path,\n",
    "        compute_pagerank=True,\n",
    "        compute_degrees=True,\n",
    "        compute_isa_star=True,\n",
    "        compute_p31p279_star=True,\n",
    "        debug=False\n",
    "    )\n",
    ")\n"
   ]
  },
  {
   "cell_type": "markdown",
   "metadata": {},
   "source": [
    "## Sanity checks"
   ]
  },
  {
   "cell_type": "code",
   "execution_count": null,
   "metadata": {},
   "outputs": [],
   "source": [
    "if debug:\n",
    "    !$kypher -i $OUT/claims.tsv.gz \\\n",
    "    --match '(n1:Q368441)-[l]->(n2)' \\\n",
    "    --limit 10 \\\n",
    "    | col"
   ]
  },
  {
   "cell_type": "code",
   "execution_count": null,
   "metadata": {},
   "outputs": [],
   "source": [
    "if debug:\n",
    "    !$kypher -i $OUT/claims.tsv.gz \\\n",
    "    --match '(n1:P131)-[l]->(n2)' \\\n",
    "    --limit 10 \\\n",
    "    | col"
   ]
  },
  {
   "cell_type": "markdown",
   "metadata": {},
   "source": [
    "## Summary of results"
   ]
  },
  {
   "cell_type": "code",
   "execution_count": 10,
   "metadata": {},
   "outputs": [
    {
     "name": "stdout",
     "output_type": "stream",
     "text": [
      "-rw-r--r-- 1 amandeep isdstaff 175M May 16 04:59 /data/amandeep/wikidata-20220505-dwd-v4/aliases.en.tsv.gz\n",
      "-rw-r--r-- 1 amandeep isdstaff 2.0G May 16 01:22 /data/amandeep/wikidata-20220505-dwd-v4/aliases.tsv.gz\n",
      "-rw-r--r-- 1 amandeep isdstaff  39G May 15 22:08 /data/amandeep/wikidata-20220505-dwd-v4/all.tsv.gz\n",
      "-rw-r--r-- 1 amandeep isdstaff 184M May 16 07:06 /data/amandeep/wikidata-20220505-dwd-v4/claims.commonsMedia.tsv.gz\n",
      "-rw-r--r-- 1 amandeep isdstaff 2.5G May 16 07:06 /data/amandeep/wikidata-20220505-dwd-v4/claims.external-id.tsv.gz\n",
      "-rw-r--r-- 1 amandeep isdstaff 779K May 16 07:06 /data/amandeep/wikidata-20220505-dwd-v4/claims.geo-shape.tsv.gz\n",
      "-rw-r--r-- 1 amandeep isdstaff 227M May 16 07:06 /data/amandeep/wikidata-20220505-dwd-v4/claims.globe-coordinate.tsv.gz\n",
      "-rw-r--r-- 1 amandeep isdstaff 689K May 16 07:06 /data/amandeep/wikidata-20220505-dwd-v4/claims.math.tsv.gz\n",
      "-rw-r--r-- 1 amandeep isdstaff 295M May 16 07:06 /data/amandeep/wikidata-20220505-dwd-v4/claims.monolingualtext.tsv.gz\n",
      "-rw-r--r-- 1 amandeep isdstaff  28K May 16 07:06 /data/amandeep/wikidata-20220505-dwd-v4/claims.musical-notation.tsv.gz\n",
      "-rw-r--r-- 1 amandeep isdstaff   88 May 16 07:06 /data/amandeep/wikidata-20220505-dwd-v4/claims.other.tsv.gz\n",
      "-rw-r--r-- 1 amandeep isdstaff 2.0G May 16 07:06 /data/amandeep/wikidata-20220505-dwd-v4/claims.quantity.tsv.gz\n",
      "-rw-r--r-- 1 amandeep isdstaff 1.1G May 16 07:06 /data/amandeep/wikidata-20220505-dwd-v4/claims.string.tsv.gz\n",
      "-rw-r--r-- 1 amandeep isdstaff 421K May 16 07:06 /data/amandeep/wikidata-20220505-dwd-v4/claims.tabular-data.tsv.gz\n",
      "-rw-r--r-- 1 amandeep isdstaff 301M May 16 07:06 /data/amandeep/wikidata-20220505-dwd-v4/claims.time.tsv.gz\n",
      "-rw-r--r-- 1 amandeep isdstaff  11G May 16 04:42 /data/amandeep/wikidata-20220505-dwd-v4/claims.tsv.gz\n",
      "-rw-r--r-- 1 amandeep isdstaff 123M May 16 07:06 /data/amandeep/wikidata-20220505-dwd-v4/claims.url.tsv.gz\n",
      "-rw-r--r-- 1 amandeep isdstaff 115K May 16 07:06 /data/amandeep/wikidata-20220505-dwd-v4/claims.wikibase-form.tsv.gz\n",
      "-rw-r--r-- 1 amandeep isdstaff 3.6G May 16 07:06 /data/amandeep/wikidata-20220505-dwd-v4/claims.wikibase-item.tsv.gz\n",
      "-rw-r--r-- 1 amandeep isdstaff  75K May 16 07:06 /data/amandeep/wikidata-20220505-dwd-v4/claims.wikibase-lexeme.tsv.gz\n",
      "-rw-r--r-- 1 amandeep isdstaff 643K May 16 07:06 /data/amandeep/wikidata-20220505-dwd-v4/claims.wikibase-property.tsv.gz\n",
      "-rw-r--r-- 1 amandeep isdstaff  965 May 16 07:06 /data/amandeep/wikidata-20220505-dwd-v4/claims.wikibase-sense.tsv.gz\n",
      "-rw-r--r-- 1 amandeep isdstaff  12G May 17 03:41 /data/amandeep/wikidata-20220505-dwd-v4/derived.isastar.tsv.gz\n",
      "-rw-r--r-- 1 amandeep isdstaff 189M May 16 13:27 /data/amandeep/wikidata-20220505-dwd-v4/derived.isa.tsv.gz\n",
      "-rw-r--r-- 1 amandeep isdstaff 699M May 16 13:05 /data/amandeep/wikidata-20220505-dwd-v4/derived.P279star.tsv.gz\n",
      "-rw-r--r-- 1 amandeep isdstaff  42M May 16 11:23 /data/amandeep/wikidata-20220505-dwd-v4/derived.P279.tsv.gz\n",
      "-rw-r--r-- 1 amandeep isdstaff  12G May 17 17:49 /data/amandeep/wikidata-20220505-dwd-v4/derived.P31P279star.tsv.gz\n",
      "-rw-r--r-- 1 amandeep isdstaff 717M May 16 11:22 /data/amandeep/wikidata-20220505-dwd-v4/derived.P31.tsv.gz\n",
      "-rw-r--r-- 1 amandeep isdstaff 395M May 16 06:01 /data/amandeep/wikidata-20220505-dwd-v4/descriptions.en.tsv.gz\n",
      "-rw-r--r-- 1 amandeep isdstaff  12G May 16 01:22 /data/amandeep/wikidata-20220505-dwd-v4/descriptions.tsv.gz\n",
      "-rw-r--r-- 1 amandeep isdstaff 640M May 16 06:30 /data/amandeep/wikidata-20220505-dwd-v4/labels.en.tsv.gz\n",
      "-rw-r--r-- 1 amandeep isdstaff 5.6G May 16 01:22 /data/amandeep/wikidata-20220505-dwd-v4/labels.tsv.gz\n",
      "-rw-r--r-- 1 amandeep isdstaff  79M May 17 21:15 /data/amandeep/wikidata-20220505-dwd-v4/metadata.in_degree.tsv.gz\n",
      "-rw-r--r-- 1 amandeep isdstaff 357M May 17 20:44 /data/amandeep/wikidata-20220505-dwd-v4/metadata.out_degree.tsv.gz\n",
      "-rw-r--r-- 1 amandeep isdstaff 559M May 17 18:52 /data/amandeep/wikidata-20220505-dwd-v4/metadata.pagerank.directed.tsv.gz\n",
      "-rw-r--r-- 1 amandeep isdstaff 770M May 17 19:59 /data/amandeep/wikidata-20220505-dwd-v4/metadata.pagerank.undirected.tsv.gz\n",
      "-rw-r--r-- 1 amandeep isdstaff  53K May 16 01:21 /data/amandeep/wikidata-20220505-dwd-v4/metadata.property.datatypes.tsv.gz\n",
      "-rw-r--r-- 1 amandeep isdstaff 271M May 16 01:22 /data/amandeep/wikidata-20220505-dwd-v4/metadata.types.tsv.gz\n",
      "-rw-r--r-- 1 amandeep isdstaff  16M May 16 07:12 /data/amandeep/wikidata-20220505-dwd-v4/qualifiers.commonsMedia.tsv.gz\n",
      "-rw-r--r-- 1 amandeep isdstaff 151M May 16 07:22 /data/amandeep/wikidata-20220505-dwd-v4/qualifiers.external-id.tsv.gz\n",
      "-rw-r--r-- 1 amandeep isdstaff  29K May 16 07:27 /data/amandeep/wikidata-20220505-dwd-v4/qualifiers.geo-shape.tsv.gz\n",
      "-rw-r--r-- 1 amandeep isdstaff 2.9M May 16 07:32 /data/amandeep/wikidata-20220505-dwd-v4/qualifiers.globe-coordinate.tsv.gz\n",
      "-rw-r--r-- 1 amandeep isdstaff  87K May 16 07:38 /data/amandeep/wikidata-20220505-dwd-v4/qualifiers.math.tsv.gz\n",
      "-rw-r--r-- 1 amandeep isdstaff 6.8M May 16 07:43 /data/amandeep/wikidata-20220505-dwd-v4/qualifiers.monolingualtext.tsv.gz\n",
      "-rw-r--r-- 1 amandeep isdstaff 1.8K May 16 07:48 /data/amandeep/wikidata-20220505-dwd-v4/qualifiers.musical-notation.tsv.gz\n",
      "-rw-r--r-- 1 amandeep isdstaff 900M May 16 07:58 /data/amandeep/wikidata-20220505-dwd-v4/qualifiers.quantity.tsv.gz\n",
      "-rw-r--r-- 1 amandeep isdstaff 530M May 16 08:07 /data/amandeep/wikidata-20220505-dwd-v4/qualifiers.string.tsv.gz\n",
      "-rw-r--r-- 1 amandeep isdstaff 201K May 16 08:12 /data/amandeep/wikidata-20220505-dwd-v4/qualifiers.tabular-data.tsv.gz\n",
      "-rw-r--r-- 1 amandeep isdstaff  16M May 16 08:18 /data/amandeep/wikidata-20220505-dwd-v4/qualifiers.time.tsv.gz\n",
      "-rw-r--r-- 1 amandeep isdstaff 2.5G May 16 04:52 /data/amandeep/wikidata-20220505-dwd-v4/qualifiers.tsv.gz\n",
      "-rw-r--r-- 1 amandeep isdstaff  35M May 16 08:23 /data/amandeep/wikidata-20220505-dwd-v4/qualifiers.url.tsv.gz\n",
      "-rw-r--r-- 1 amandeep isdstaff 1.1K May 16 08:28 /data/amandeep/wikidata-20220505-dwd-v4/qualifiers.wikibase-form.tsv.gz\n",
      "-rw-r--r-- 1 amandeep isdstaff 695M May 16 08:44 /data/amandeep/wikidata-20220505-dwd-v4/qualifiers.wikibase-item.tsv.gz\n",
      "-rw-r--r-- 1 amandeep isdstaff 9.3K May 16 08:49 /data/amandeep/wikidata-20220505-dwd-v4/qualifiers.wikibase-lexeme.tsv.gz\n",
      "-rw-r--r-- 1 amandeep isdstaff  21K May 16 08:54 /data/amandeep/wikidata-20220505-dwd-v4/qualifiers.wikibase-property.tsv.gz\n",
      "-rw-r--r-- 1 amandeep isdstaff 1.6K May 16 08:58 /data/amandeep/wikidata-20220505-dwd-v4/qualifiers.wikibase-sense.tsv.gz\n",
      "-rw-r--r-- 1 amandeep isdstaff   88 May 16 06:33 /data/amandeep/wikidata-20220505-dwd-v4/sitelinks.en.tsv.gz\n",
      "-rw-r--r-- 1 amandeep isdstaff   99 May 16 06:33 /data/amandeep/wikidata-20220505-dwd-v4/sitelinks.qualifiers.en.tsv.gz\n",
      "-rw-r--r-- 1 amandeep isdstaff   96 May 16 01:22 /data/amandeep/wikidata-20220505-dwd-v4/sitelinks.qualifiers.tsv.gz\n",
      "-rw-r--r-- 1 amandeep isdstaff 1.8G May 16 01:22 /data/amandeep/wikidata-20220505-dwd-v4/sitelinks.tsv.gz\n"
     ]
    }
   ],
   "source": [
    "!ls -lh $OUT/*.tsv.gz"
   ]
  }
 ],
 "metadata": {
  "celltoolbar": "Tags",
  "kernelspec": {
   "display_name": "kgtk-env",
   "language": "python",
   "name": "kgtk-env"
  },
  "language_info": {
   "codemirror_mode": {
    "name": "ipython",
    "version": 3
   },
   "file_extension": ".py",
   "mimetype": "text/x-python",
   "name": "python",
   "nbconvert_exporter": "python",
   "pygments_lexer": "ipython3",
   "version": "3.9.7"
  }
 },
 "nbformat": 4,
 "nbformat_minor": 4
}

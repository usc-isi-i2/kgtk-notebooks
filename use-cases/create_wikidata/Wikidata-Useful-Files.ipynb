{
 "cells": [
  {
   "cell_type": "markdown",
   "metadata": {},
   "source": [
    "# Generating Useful Wikidata Files\n",
    "\n",
    "This notebook generates files that contain derived data that is useful in many applications. The input to the notebook is the full Wikidata or a subset of Wikidata. It also works for arbitrary KGs as long as they follow the representation requirements of Wikidata:\n",
    "\n",
    "- the *instance of* relation is represented using the `P31` property\n",
    "- the *subclass of* relation is represented using the `P279` property\n",
    "- all properties declare a datatype, and the data types must be one of the datatypes in Wikidata.\n",
    "\n",
    "Inputs:\n",
    "\n",
    "- `claims_file`: contains all statements, which consist of edges `node1/label/node2` where `label` is a property in Wikidata (e.g., sitelinks, labels, aliases and description are not in the claims file.\n",
    "- `item_file`: the subset of the `claims_file` consistin of edges for property of data type `wikibase-item`\n",
    "- `label_file`, `alias_file` and `description_file` containing labels, aliases and descriptions. It is assume that these files contain the labels, aliases and descriptions of all nodes appearing in the claims file. Users may provide these files for specific languages only.\n",
    "\n",
    "Outputs:\n",
    "\n",
    "- **Instance of (P31):** `derived.P31.tsv.gz` contains all the `instance of (P31)` edges present in the claims file.\n",
    "- **Subclass of (P279):** `derived.P279.tsv.gz` contains all the `subclass of (P279)` edges present in the claims file.\n",
    "- **Is A (isa):** `derived.isa.tsv.gz` contains edges `node`isa/node2` where either `node1/P31/node2` or `node1/P279/node2`\n",
    "- **Closure of subclass of (P279star):** `derived.P279star.tsv.gz` contains edges `node1/P279star/node2` where `node2` is reachable from `node1` via zero or more hops using the `P279` property. Note that for example, `Q44/P279star/Q44`. An example when this file is useful is when you want to find all the instance of a class, including instances of subclasses of the given class.\n",
    "- **In/out degrees:** `metadata.out_degree.tsv.gz` contains the out degree of every node, and `metadata.in_degree.tsv.gz` contains the in degree of every node.\n",
    "- **Pagerank:** outputs page rank on the directed graph in `metadata.pagerank.directed.tsv.gz` and page rank of the directed graph in `metadata.pagerank.undirected.tsv.gz`."
   ]
  },
  {
   "cell_type": "markdown",
   "metadata": {},
   "source": [
    "### Batch Invocation\n",
    "Example batch command. The second argument is a notebook where the output will be stored. You can load it to see progress.\n",
    "\n",
    "```\n",
    "papermill Wikidata\\ Useful\\ Files.ipynb useful-files.out.ipynb \\\n",
    "-p input_path /data/amandeep/wikidata-20211027-dwd-v3 \\\n",
    "-p output_path /data/amandeep/wikidata-20211027-dwd-v3 \\\n",
    "-p kgtk_path  /Users/amandeep/github/kgtk \\\n",
    "-p project_name useful-files \\\n",
    "-p languages en,es \\\n",
    "-p files claims,label_all,alias_all,description_all \\\n",
    "-p compute_pagerank True \\\n",
    "-p compute_degrees True \\\n",
    "```"
   ]
  },
  {
   "cell_type": "code",
   "execution_count": 1,
   "metadata": {},
   "outputs": [],
   "source": [
    "import io\n",
    "import os\n",
    "import subprocess\n",
    "import sys\n",
    "\n",
    "import numpy as np\n",
    "import pandas as pd\n",
    " \n",
    "from kgtk.configure_kgtk_notebooks import ConfigureKGTK\n",
    "from kgtk.functions import kgtk, kypher"
   ]
  },
  {
   "cell_type": "code",
   "execution_count": 3,
   "metadata": {
    "tags": [
     "parameters"
    ]
   },
   "outputs": [],
   "source": [
    "# Parameters\n",
    "\n",
    "input_path = \"/data/amandeep/wikidata-20220505/import-wikidata/data\"\n",
    "output_path = \"/data/amandeep/wikidata-20220505/import-wikidata/data\"\n",
    "kgtk_path = \"/Users/amandeep/github/kgtk\"\n",
    "\n",
    "graph_cache_path = None\n",
    "\n",
    "project_name = \"useful-files\"\n",
    "\n",
    "languages = 'en,ru,es,zh-cn,de,it,nl,pl,fr,pt,sv'\n",
    "\n",
    "files = 'claims,label_all,alias_all,description_all'\n",
    "\n",
    "compute_pagerank = False\n",
    "compute_degrees = False\n",
    "debug = False\n",
    "compute_isa_star = False\n",
    "compute_p31p279_star = False\n",
    "files_for_cache = None"
   ]
  },
  {
   "cell_type": "code",
   "execution_count": 4,
   "metadata": {},
   "outputs": [],
   "source": [
    "files = files.split(',')\n",
    "languages = languages.split(',')\n",
    "if files_for_cache is None:\n",
    "    files_for_cache =  files\n",
    "else:\n",
    "    files_for_cache = files_for_cache.split(\",\")"
   ]
  },
  {
   "cell_type": "code",
   "execution_count": 5,
   "metadata": {},
   "outputs": [
    {
     "name": "stdout",
     "output_type": "stream",
     "text": [
      "User home: /nas/home/amandeep\n",
      "Current dir: /data/amandeep/Github/kgtk/use-cases\n",
      "KGTK dir: /Users/amandeep/github/kgtk\n",
      "Use-cases dir: /Users/amandeep/github/kgtk/use-cases\n"
     ]
    }
   ],
   "source": [
    "ck = ConfigureKGTK(files, kgtk_path=kgtk_path)\n",
    "ck.configure_kgtk(input_graph_path=input_path,\n",
    "                  output_path=output_path,\n",
    "                  project_name=project_name,\n",
    "                 graph_cache_path=graph_cache_path)"
   ]
  },
  {
   "cell_type": "code",
   "execution_count": 6,
   "metadata": {},
   "outputs": [
    {
     "name": "stdout",
     "output_type": "stream",
     "text": [
      "KGTK_GRAPH_CACHE: /data/amandeep/wikidata-20220505/import-wikidata/data/useful-files/temp.useful-files/wikidata.sqlite3.db\n",
      "kypher: kgtk query --graph-cache /data/amandeep/wikidata-20220505/import-wikidata/data/useful-files/temp.useful-files/wikidata.sqlite3.db\n",
      "EXAMPLES_DIR: /Users/amandeep/github/kgtk/examples\n",
      "USE_CASES_DIR: /Users/amandeep/github/kgtk/use-cases\n",
      "KGTK_LABEL_FILE: /data/amandeep/wikidata-20220505/import-wikidata/data/labels.en.tsv.gz\n",
      "kgtk: kgtk\n",
      "STORE: /data/amandeep/wikidata-20220505/import-wikidata/data/useful-files/temp.useful-files/wikidata.sqlite3.db\n",
      "GRAPH: /data/amandeep/wikidata-20220505/import-wikidata/data\n",
      "OUT: /data/amandeep/wikidata-20220505/import-wikidata/data/useful-files\n",
      "TEMP: /data/amandeep/wikidata-20220505/import-wikidata/data/useful-files/temp.useful-files\n",
      "KGTK_OPTION_DEBUG: false\n",
      "claims: /data/amandeep/wikidata-20220505/import-wikidata/data/claims.tsv.gz\n",
      "label_all: /data/amandeep/wikidata-20220505/import-wikidata/data/labels.tsv.gz\n",
      "alias_all: /data/amandeep/wikidata-20220505/import-wikidata/data/aliases.tsv.gz\n",
      "description_all: /data/amandeep/wikidata-20220505/import-wikidata/data/descriptions.tsv.gz\n"
     ]
    }
   ],
   "source": [
    "ck.print_env_variables()"
   ]
  },
  {
   "cell_type": "code",
   "execution_count": 7,
   "metadata": {},
   "outputs": [
    {
     "name": "stdout",
     "output_type": "stream",
     "text": [
      "kgtk query --graph-cache /data/amandeep/wikidata-20220505/import-wikidata/data/useful-files/temp.useful-files/wikidata.sqlite3.db -i \"/data/amandeep/wikidata-20220505/import-wikidata/data/claims.tsv.gz\" --as claims  -i \"/data/amandeep/wikidata-20220505/import-wikidata/data/labels.tsv.gz\" --as label_all  -i \"/data/amandeep/wikidata-20220505/import-wikidata/data/aliases.tsv.gz\" --as alias_all  -i \"/data/amandeep/wikidata-20220505/import-wikidata/data/descriptions.tsv.gz\" --as description_all  --limit 3\n",
      "id\tnode1\tlabel\tnode2\trank\tnode2;wikidatatype\n",
      "P10-P1628-32b85d-7927ece6-0\tP10\tP1628\t\"http://www.w3.org/2006/vcard/ns#Video\"\tnormal\turl\n",
      "P10-P1628-acf60d-b8950832-0\tP10\tP1628\t\"https://schema.org/video\"\tnormal\turl\n",
      "P10-P1629-Q34508-bcc39400-0\tP10\tP1629\tQ34508\tnormal\twikibase-item\n"
     ]
    }
   ],
   "source": [
    "if graph_cache_path is None:\n",
    "    ck.load_files_into_cache(files=files_for_cache)"
   ]
  },
  {
   "cell_type": "markdown",
   "metadata": {},
   "source": [
    "### Preview the input files"
   ]
  },
  {
   "cell_type": "markdown",
   "metadata": {},
   "source": [
    "It is always a good practice to peek a the files to make sure the column headings are what we expect"
   ]
  },
  {
   "cell_type": "code",
   "execution_count": 9,
   "metadata": {},
   "outputs": [
    {
     "name": "stdout",
     "output_type": "stream",
     "text": [
      "/bin/bash: function: No such file or directory\n",
      "\n"
     ]
    }
   ],
   "source": [
    "!$kypher -i claims --limit 10 | col "
   ]
  },
  {
   "cell_type": "markdown",
   "metadata": {},
   "source": [
    "Force creation of the index on the label column"
   ]
  },
  {
   "cell_type": "code",
   "execution_count": 10,
   "metadata": {},
   "outputs": [
    {
     "name": "stdout",
     "output_type": "stream",
     "text": [
      "/bin/bash: function: No such file or directory\n"
     ]
    }
   ],
   "source": [
    "!$kypher -i claims -o - \\\n",
    "--match '(i)-[:P31]->(c)' \\\n",
    "--limit 5 \\\n",
    "| column -t -s $'\\t' "
   ]
  },
  {
   "cell_type": "markdown",
   "metadata": {},
   "source": [
    "Force creation of the index on the node2 column"
   ]
  },
  {
   "cell_type": "code",
   "execution_count": 11,
   "metadata": {},
   "outputs": [
    {
     "name": "stdout",
     "output_type": "stream",
     "text": [
      "/bin/bash: function: No such file or directory\n"
     ]
    }
   ],
   "source": [
    "!$kypher -i claims -o - \\\n",
    "--match '(i)-[r]->(:Q5)' \\\n",
    "--limit 5 \\\n",
    "| column -t -s $'\\t' "
   ]
  },
  {
   "cell_type": "markdown",
   "metadata": {},
   "source": [
    "### Create the P31 and P279 files"
   ]
  },
  {
   "cell_type": "markdown",
   "metadata": {},
   "source": [
    "Create the `P31` file"
   ]
  },
  {
   "cell_type": "code",
   "execution_count": 12,
   "metadata": {},
   "outputs": [],
   "source": [
    "!$kypher -i claims -o $OUT/derived.P31.tsv.gz \\\n",
    "--match '(n1)-[l:P31]->(n2)' \\\n",
    "--return 'l, n1, l.label, n2' "
   ]
  },
  {
   "cell_type": "code",
   "execution_count": 13,
   "metadata": {},
   "outputs": [
    {
     "name": "stdout",
     "output_type": "stream",
     "text": [
      "id\tnode1\tlabel\tnode2\n",
      "P10-P31-Q18610173-85ef4d24-0\tP10\tP31\tQ18610173\n",
      "P10-P31-Q19847637-e81ded71-0\tP10\tP31\tQ19847637\n",
      "P1000-P31-Q18608871-093affb5-0\tP1000\tP31\tQ18608871\n",
      "P10000-P31-Q19833377-f87f0d4c-0 P10000\tP31\tQ19833377\n",
      "P10000-P31-Q89560413-f555a944-0 P10000\tP31\tQ89560413\n",
      "P10001-P31-Q107738007-c7725ce7-0\tP10001\tP31\tQ107738007\n",
      "P10001-P31-Q64221137-d154ffd9-0 P10001\tP31\tQ64221137\n",
      "P10002-P31-Q93433126-dbd52b84-0 P10002\tP31\tQ93433126\n",
      "P10003-P31-Q108914651-f3644858-0\tP10003\tP31\tQ108914651\n",
      "\n",
      "gzip: stdout: Broken pipe\n"
     ]
    }
   ],
   "source": [
    "!zcat < $OUT/derived.P31.tsv.gz | head | col"
   ]
  },
  {
   "cell_type": "markdown",
   "metadata": {},
   "source": [
    "Create the P279 file"
   ]
  },
  {
   "cell_type": "code",
   "execution_count": 14,
   "metadata": {},
   "outputs": [],
   "source": [
    "!$kypher -i claims -o $OUT/derived.P279.tsv.gz \\\n",
    "    --match '(n1)-[l:P279]->(n2)' \\\n",
    "    --return 'l, n1, l.label, n2' "
   ]
  },
  {
   "cell_type": "code",
   "execution_count": 15,
   "metadata": {},
   "outputs": [
    {
     "name": "stdout",
     "output_type": "stream",
     "text": [
      "id\tnode1\tlabel\tnode2\n",
      "P2217-P279-Q986260-6ee7fda9-0\tP2217\tP279\tQ986260\n",
      "Q100000030-P279-Q14748-30394205-0\tQ100000030\tP279\tQ14748\n",
      "Q100000058-P279-Q1622444-bd182663-0\tQ100000058\tP279\tQ1622444\n",
      "Q1000032-P279-Q1813494-0aa0f1dc-0\tQ1000032\tP279\tQ1813494\n",
      "Q1000032-P279-Q83602-482a1943-0 Q1000032\tP279\tQ83602\n",
      "Q1000039-P279-Q11555767-2dddfd86-0\tQ1000039\tP279\tQ11555767\n",
      "Q100004761-P279-Q100095237-3971e1cd-0\tQ100004761\tP279\tQ100095237\n",
      "Q100004761-P279-Q126793-77b1fce8-0\tQ100004761\tP279\tQ126793\n",
      "Q100004761-P279-Q4544523-639fbe16-0\tQ100004761\tP279\tQ4544523\n",
      "\n",
      "gzip: stdout: Broken pipe\n"
     ]
    }
   ],
   "source": [
    "!zcat < $OUT/derived.P279.tsv.gz | head | col"
   ]
  },
  {
   "cell_type": "markdown",
   "metadata": {},
   "source": [
    "### Create the file that contains all nodes reachable via P279 starting from a node2 in P31 or a node1 in P279"
   ]
  },
  {
   "cell_type": "markdown",
   "metadata": {},
   "source": [
    "First compute the roots"
   ]
  },
  {
   "cell_type": "code",
   "execution_count": 16,
   "metadata": {},
   "outputs": [],
   "source": [
    "!$kypher -i $OUT/derived.P279.tsv.gz -o $TEMP/P279.n1.tsv.gz \\\n",
    "--match '(n1)-[l]->()' \\\n",
    "--return 'n1 as id' "
   ]
  },
  {
   "cell_type": "code",
   "execution_count": 17,
   "metadata": {},
   "outputs": [],
   "source": [
    "!$kypher -i $OUT/derived.P31.tsv.gz -o $TEMP/P31.n2.tsv.gz \\\n",
    "--match '()-[l]->(n2)' \\\n",
    "--return 'n2 as id' "
   ]
  },
  {
   "cell_type": "code",
   "execution_count": 18,
   "metadata": {},
   "outputs": [],
   "source": [
    "kgtk(\"\"\"cat --mode NONE \n",
    "       -i $TEMP/P31.n2.tsv.gz\n",
    "       -i $TEMP/P279.n1.tsv.gz\n",
    "       -o $TEMP/P279.roots.1.tsv.gz\"\"\")"
   ]
  },
  {
   "cell_type": "code",
   "execution_count": 19,
   "metadata": {},
   "outputs": [],
   "source": [
    "kgtk(\"\"\"sort --mode NONE \n",
    "        --column id \n",
    "        -i $TEMP/P279.roots.1.tsv.gz \n",
    "        -o $TEMP/P279.roots.2.tsv.gz\"\"\")"
   ]
  },
  {
   "cell_type": "markdown",
   "metadata": {},
   "source": [
    "We have lots of duplicates"
   ]
  },
  {
   "cell_type": "code",
   "execution_count": 20,
   "metadata": {},
   "outputs": [
    {
     "name": "stdout",
     "output_type": "stream",
     "text": [
      "id\n",
      "P2217\n",
      "Q1\n",
      "Q1\n",
      "Q100000030\n",
      "Q100000058\n",
      "Q1000017\n",
      "Q1000032\n",
      "Q1000032\n",
      "Q1000039\n",
      "\n",
      "gzip: stdout: Broken pipe\n"
     ]
    }
   ],
   "source": [
    "!zcat < $TEMP/P279.roots.2.tsv.gz | head"
   ]
  },
  {
   "cell_type": "code",
   "execution_count": 21,
   "metadata": {},
   "outputs": [],
   "source": [
    "kgtk(\"\"\"compact \n",
    "        -i $TEMP/P279.roots.2.tsv.gz \n",
    "        --mode NONE\n",
    "        --presorted \n",
    "        --columns id\n",
    "        -o $TEMP/P279.roots.tsv\"\"\")"
   ]
  },
  {
   "cell_type": "markdown",
   "metadata": {},
   "source": [
    "Now we can invoke the reachable-nodes command"
   ]
  },
  {
   "cell_type": "code",
   "execution_count": 22,
   "metadata": {},
   "outputs": [],
   "source": [
    "kgtk(\"\"\"reachable-nodes\n",
    "        --rootfile $TEMP/P279.roots.tsv\n",
    "        --selflink \n",
    "        -i $OUT/derived.P279.tsv.gz\n",
    "        --label P279star\n",
    "        -o $TEMP/P279.reachable.tsv.gz\"\"\")"
   ]
  },
  {
   "cell_type": "code",
   "execution_count": 23,
   "metadata": {},
   "outputs": [
    {
     "name": "stdout",
     "output_type": "stream",
     "text": [
      "node1\tlabel\tnode2\n",
      "P2217\treachable\tP2217\n",
      "P2217\treachable\tQ986260\n",
      "P2217\treachable\tQ3711325\n",
      "P2217\treachable\tQ107715\n",
      "P2217\treachable\tQ309314\n",
      "P2217\treachable\tQ246672\n",
      "\n",
      "gzip: P2217\treachable\tQ7184903\n",
      "stdout: Broken pipe\n",
      "P2217\treachable\tQ488383\n",
      "P2217\treachable\tQ35120\n"
     ]
    }
   ],
   "source": [
    "!zcat < $TEMP/P279.reachable.tsv.gz | head | col"
   ]
  },
  {
   "cell_type": "markdown",
   "metadata": {},
   "source": [
    "The reachable-nodes command produces edges labeled `reachable`, so we need one command to rename them."
   ]
  },
  {
   "cell_type": "raw",
   "metadata": {},
   "source": [
    "!$kypher -i $TEMP/P279.reachable.tsv.gz -o $TEMP/P279star.1.tsv.gz \\\n",
    "--match '(n1)-[]->(n2)' \\\n",
    "--return 'distinct n1, \"P279star\" as label, n2 as node2' \\\n",
    "--order-by 'n1'"
   ]
  },
  {
   "cell_type": "markdown",
   "metadata": {},
   "source": [
    "Add ids"
   ]
  },
  {
   "cell_type": "code",
   "execution_count": 25,
   "metadata": {},
   "outputs": [],
   "source": [
    "!$kgtk add-id --id-style wikidata -i $TEMP/P279.reachable.tsv.gz -o $OUT/derived.P279star.tsv.gz"
   ]
  },
  {
   "cell_type": "code",
   "execution_count": 26,
   "metadata": {},
   "outputs": [
    {
     "name": "stdout",
     "output_type": "stream",
     "text": [
      "node1\tlabel\tnode2\tid\n",
      "P2217\tP279star\tP2217\tP2217-P279star-P2217\n",
      "P2217\tP279star\tQ986260 P2217-P279star-Q986260\n",
      "P2217\tP279star\tQ3711325\tP2217-P279star-Q3711325\n",
      "P2217\tP279star\tQ107715 P2217-P279star-Q107715\n",
      "P2217\tP279star\tQ309314 P2217-P279star-Q309314\n",
      "P2217\tP279star\tQ246672 P2217-P279star-Q246672\n",
      "P2217\tP279star\tQ7184903\tP2217-P279star-Q7184903\n",
      "\n",
      "gzip: P2217\tP279star\tQ488383 P2217-P279star-Q488383\n",
      "stdout: Broken pipe\n",
      "P2217\tP279star\tQ35120\tP2217-P279star-Q35120\n"
     ]
    }
   ],
   "source": [
    "!zcat < $OUT/derived.P279star.tsv.gz | head | col"
   ]
  },
  {
   "cell_type": "markdown",
   "metadata": {},
   "source": [
    "This is how we would do the typical `?item P31/P279* ?class` in Kypher. \n",
    "The example shows how to get all the counts of instances of subclasses of city (Q515)."
   ]
  },
  {
   "cell_type": "code",
   "execution_count": 27,
   "metadata": {},
   "outputs": [],
   "source": [
    "if debug:\n",
    "    !$kypher -i $OUT/derived.P31.tsv.gz -i $OUT/derived.P279star.tsv.gz -i label \\\n",
    "    --match 'P31: (n1)-[:P31]->(c), P279star: (c)-[]->(:Q515), label: (n1)-[:label]->(label), label: (c)-[:label]->(c_label)' \\\n",
    "    --return 'distinct c as class, count(c) as count, c_label as `class name`, n1 as instance, label as `label`' \\\n",
    "    --order-by 'count(c) desc, c, n1' \\\n",
    "    --limit 10 \\\n",
    "    | col"
   ]
  },
  {
   "cell_type": "markdown",
   "metadata": {},
   "source": [
    "Illustrate that it is indeed `P279*`"
   ]
  },
  {
   "cell_type": "code",
   "execution_count": 28,
   "metadata": {},
   "outputs": [],
   "source": [
    "if debug:\n",
    "    !$kypher -i $OUT/derived.P31.tsv.gz -i $OUT/derived.P279star.tsv.gz -i label \\\n",
    "    --match 'P31: (n1)-[:P31]->(c), P279star: (c)-[]->(:Q63440326), label: (n1)-[:label]->(label), label: (c)-[:label]->(c_label)' \\\n",
    "    --return 'distinct c as class, c_label as `class name`, n1 as instance, label as `label`' \\\n",
    "    --order-by 'c, n1' \\\n",
    "    --limit 10 \\\n",
    "    | col "
   ]
  },
  {
   "cell_type": "markdown",
   "metadata": {},
   "source": [
    "### Create a file to do generalized Is-A queries\n",
    "The idea is that `(n1)-[:isa]->(n2)` when `(n1)-[:P31]->(n2)` or `(n1)-[:P279]->(n2)`\n",
    "\n",
    "We do this by concatenating the files and renaming the relation"
   ]
  },
  {
   "cell_type": "code",
   "execution_count": 29,
   "metadata": {},
   "outputs": [],
   "source": [
    "kgtk(\"\"\"cat \n",
    "        -i $OUT/derived.P31.tsv.gz \n",
    "        -i $OUT/derived.P279.tsv.gz\n",
    "        -o $TEMP/isa.1.tsv.gz\"\"\")"
   ]
  },
  {
   "cell_type": "code",
   "execution_count": 30,
   "metadata": {},
   "outputs": [],
   "source": [
    "!$kypher -i $TEMP/isa.1.tsv.gz -o $OUT/derived.isa.tsv.gz \\\n",
    "--match '(n1)-[]->(n2)' \\\n",
    "--return 'n1, \"isa\" as label, n2' \\\n",
    "--order-by 'n1'"
   ]
  },
  {
   "cell_type": "markdown",
   "metadata": {},
   "source": [
    "Example of how to use the `isa` relation"
   ]
  },
  {
   "cell_type": "code",
   "execution_count": 31,
   "metadata": {},
   "outputs": [],
   "source": [
    "if debug:\n",
    "    !$kypher -i $OUT/derived.isa.tsv.gz -i $OUT/derived.P279star.tsv.gz -i label -o - \\\n",
    "    --match 'isa: (n1)-[l:isa]->(c), P279star: (c)-[]->(:Q44), label: (n1)-[:label]->(label)' \\\n",
    "    --return 'distinct n1, l.label, \"Q44\" as node2, label as n1_label' \\\n",
    "    --limit 10 \\\n",
    "    | col"
   ]
  },
  {
   "cell_type": "markdown",
   "metadata": {},
   "source": [
    "### Create files with `isa/P279* and P31/P279*` \n",
    "This file is useful to find all nodes that are below a q-node via P279 or isa.\n",
    "\n",
    "> These files are very large and take many hours to compute"
   ]
  },
  {
   "cell_type": "code",
   "execution_count": 32,
   "metadata": {},
   "outputs": [],
   "source": [
    "os.environ['P279STAR'] = f\"{os.environ['OUT']}/derived.P279star.tsv.gz\"\n",
    "os.environ['ISA'] = f\"{os.environ['OUT']}/derived.isa.tsv.gz\""
   ]
  },
  {
   "cell_type": "code",
   "execution_count": 33,
   "metadata": {},
   "outputs": [],
   "source": [
    "if compute_isa_star:\n",
    "    !$kypher -i \"$P279STAR\" --as P279star -i \"$ISA\" --as isa  \\\n",
    "    --match '\\\n",
    "      isa: (n1)-[]->(n2), \\\n",
    "      P279star: (n2)-[]->(n3)' \\\n",
    "    --return 'distinct n1 as node1, \"isa_star\" as label, n3 as node2' \\\n",
    "    --order-by 'n1' \\\n",
    "    -o \"$TEMP\"/derived.isastar_1.tsv.gz"
   ]
  },
  {
   "cell_type": "markdown",
   "metadata": {},
   "source": [
    "Now add ids"
   ]
  },
  {
   "cell_type": "code",
   "execution_count": 34,
   "metadata": {},
   "outputs": [],
   "source": [
    "if compute_isa_star:\n",
    "    kgtk(\"\"\"add-id \n",
    "            --id-style wikidata \n",
    "            -i \"$TEMP\"/derived.isastar_1.tsv.gz \n",
    "            -o \"$OUT\"/derived.isastar.tsv.gz\"\"\")"
   ]
  },
  {
   "cell_type": "markdown",
   "metadata": {},
   "source": [
    "Also calculate the same file by for P31/P279*"
   ]
  },
  {
   "cell_type": "code",
   "execution_count": 35,
   "metadata": {},
   "outputs": [],
   "source": [
    "if compute_p31p279_star:\n",
    "    !$kypher -i claims -i \"$P279STAR\" --as P279star \\\n",
    "    --match '\\\n",
    "      claims: (n1)-[:P31]->(n2), \\\n",
    "      P279star: (n2)-[]->(n3)' \\\n",
    "    --return 'distinct n1 as node1, \"P31P279star\" as label, n3 as node2' \\\n",
    "    --order-by 'n1' \\\n",
    "    -o \"$TEMP\"/derived.P31P279star.tsv.gz"
   ]
  },
  {
   "cell_type": "markdown",
   "metadata": {},
   "source": [
    "Add ids"
   ]
  },
  {
   "cell_type": "code",
   "execution_count": 36,
   "metadata": {},
   "outputs": [],
   "source": [
    "if compute_p31p279_star:\n",
    "    kgtk(\"\"\"add-id \n",
    "            --id-style wikidata \n",
    "            -i \"$TEMP\"/derived.P31P279star.tsv.gz\n",
    "            -o \"$OUT\"/derived.P31P279star.tsv.gz\"\"\")"
   ]
  },
  {
   "cell_type": "markdown",
   "metadata": {},
   "source": [
    "It is also very big"
   ]
  },
  {
   "cell_type": "code",
   "execution_count": 36,
   "metadata": {},
   "outputs": [],
   "source": [
    "if debug:\n",
    "    !zcat < \"$OUT\"/derived.P31P279star.tsv.gz | wc"
   ]
  },
  {
   "cell_type": "markdown",
   "metadata": {},
   "source": [
    "## Compute pagerank"
   ]
  },
  {
   "cell_type": "markdown",
   "metadata": {},
   "source": [
    "Now compute pagerank. These commands will exceed 16GB memory for graphs containing over 25 million nodes."
   ]
  },
  {
   "cell_type": "code",
   "execution_count": 37,
   "metadata": {},
   "outputs": [],
   "source": [
    "if compute_pagerank:\n",
    "    kgtk(\"\"\"graph-statistics \n",
    "            -i \"$GRAPH/claims.wikibase-item.tsv.gz\" \n",
    "            -o $TEMP/metadata.pagerank.directed.tsv.gz \n",
    "            --compute-pagerank True \n",
    "            --compute-hits False \n",
    "            --page-rank-property Pdirected_pagerank \n",
    "            --output-degrees False \n",
    "            --use-mgzip True \n",
    "            --mgzip-threads 12 \n",
    "            --output-pagerank True \n",
    "            --output-hits False \n",
    "            --output-statistics-only \n",
    "            --undirected False \n",
    "            --log-file $TEMP/metadata.pagerank.directed.summary.txt\"\"\")"
   ]
  },
  {
   "cell_type": "code",
   "execution_count": null,
   "metadata": {},
   "outputs": [],
   "source": [
    "if compute_pagerank:\n",
    "    directed_pagerank = kgtk(\"\"\"\n",
    "        query -i $TEMP/metadata.pagerank.directed.tsv.gz  \n",
    "        --match '(n1)-[l:Pdirected_pagerank]->(pagerank)'\n",
    "    \"\"\")\n",
    "\n",
    "    directed_pagerank_sorted = directed_pagerank.sort_values(\"node2\", ascending=False)\n",
    "    directed_pagerank_sorted.insert(0, 'P1545', range(1, 1 + len(directed_pagerank_sorted)))\n",
    "    directed_pagerank_sorted.to_csv(f\"{os.environ['TEMP']}/directed-pagerank.ordinal.tsv\", index=False, sep='\\t')\n",
    "    \n",
    "\n",
    "    kgtk(\"\"\"\n",
    "        normalize -i \"$TEMP\"/directed-pagerank.ordinal.tsv\n",
    "        / add-id --id-style wikidata \n",
    "        -o \"$OUT\"/metadata.pagerank.directed.tsv.gz\n",
    "    \"\"\")\n",
    "    kgtk(\"\"\"\n",
    "        head -i \"$OUT\"/metadata.pagerank.directed.tsv.gz\n",
    "    \"\"\")"
   ]
  },
  {
   "cell_type": "code",
   "execution_count": 38,
   "metadata": {},
   "outputs": [
    {
     "name": "stdout",
     "output_type": "stream",
     "text": [
      "graph loaded! It has 94903511 nodes and 670635690 edges\n",
      "\n",
      "*** Top relations:\n",
      "P2860\t285098156\n",
      "P31\t99559383\n",
      "P1433\t37893478\n",
      "P50\t22619544\n",
      "P921\t21565587\n",
      "P17\t14723889\n",
      "P407\t14494498\n",
      "P131\t11189895\n",
      "P106\t9239520\n",
      "P6259\t8076517\n",
      "\n",
      "*** Degrees:\n",
      "in degree stats: mean=7.066500, std=0.456495, max=1\n",
      "out degree stats: mean=7.066500, std=0.001451, max=1\n",
      "total degree stats: mean=14.133001, std=0.456502, max=1\n",
      "\n",
      "*** PageRank\n",
      "Max pageranks\n",
      "7296\tQ4167836\t0.024407\n",
      "30751\tQ13442814\t0.020599\n",
      "2476\tQ1860\t0.007204\n",
      "5853\tQ5\t0.006323\n",
      "5852\tQ11266439\t0.005784\n"
     ]
    }
   ],
   "source": [
    "if compute_pagerank:\n",
    "    !cat $TEMP/metadata.pagerank.directed.summary.txt"
   ]
  },
  {
   "cell_type": "code",
   "execution_count": 39,
   "metadata": {},
   "outputs": [],
   "source": [
    "if compute_pagerank:\n",
    "    kgtk(\"\"\"graph-statistics \n",
    "            -i \"$GRAPH/claims.wikibase-item.tsv.gz\" \n",
    "            -o $TEMP/metadata.pagerank.undirected.tsv.gz \n",
    "            --compute-pagerank True \n",
    "            --compute-hits False \n",
    "            --page-rank-property Pundirected_pagerank\n",
    "            --use-mgzip True \n",
    "            --mgzip-threads 12\n",
    "            --output-degrees False \n",
    "            --output-pagerank True \n",
    "            --output-hits False \n",
    "            --output-statistics-only \n",
    "            --undirected True \n",
    "            --log-file $TEMP/metadata.pagerank.undirected.summary.txt\"\"\")"
   ]
  },
  {
   "cell_type": "code",
   "execution_count": null,
   "metadata": {},
   "outputs": [],
   "source": [
    "if compute_pagerank:\n",
    "    undirected_pagerank = kgtk(\"\"\"\n",
    "        query -i $TEMP/metadata.pagerank.undirected.tsv.gz \n",
    "        --match '(n1)-[l:Pundirected_pagerank]->(pagerank)'\n",
    "    \"\"\")\n",
    "\n",
    "    undirected_pagerank = undirected_pagerank.sort_values(\"node2\", ascending=False)\n",
    "    undirected_pagerank.insert(0, 'P1545', range(1, 1 + len(undirected_pagerank)))\n",
    "    undirected_pagerank.to_csv(f\"{os.environ['TEMP']}/undirected-pagerank.ordinal.tsv\", index=False, sep='\\t')\n",
    "    kgtk(\"\"\"\n",
    "        normalize -i \"$TEMP\"/undirected-pagerank.ordinal.tsv\n",
    "        / add-id --id-style wikidata \n",
    "        -o \"$OUT\"/metadata.pagerank.undirected.tsv.gz\n",
    "    \"\"\")\n",
    "    kgtk(\"\"\"\n",
    "        head -i \"$OUT\"/metadata.pagerank.undirected.tsv.gz\n",
    "    \"\"\")"
   ]
  },
  {
   "cell_type": "code",
   "execution_count": 40,
   "metadata": {},
   "outputs": [
    {
     "name": "stdout",
     "output_type": "stream",
     "text": [
      "graph loaded! It has 94903511 nodes and 670635690 edges\n",
      "\n",
      "*** Top relations:\n",
      "P2860\t285098156\n",
      "P31\t99559383\n",
      "P1433\t37893478\n",
      "P50\t22619544\n",
      "P921\t21565587\n",
      "P17\t14723889\n",
      "P407\t14494498\n",
      "P131\t11189895\n",
      "P106\t9239520\n",
      "P6259\t8076517\n",
      "\n",
      "*** Degrees:\n",
      "in degree stats: mean=0.000000, std=0.000000, max=1\n",
      "out degree stats: mean=14.133001, std=0.456502, max=1\n",
      "total degree stats: mean=14.133001, std=0.456502, max=1\n",
      "\n",
      "*** PageRank\n",
      "Max pageranks\n",
      "30751\tQ13442814\t0.029250\n",
      "130053\tQ1264450\t0.013161\n",
      "7296\tQ4167836\t0.012312\n",
      "5853\tQ5\t0.008650\n",
      "2476\tQ1860\t0.006818\n"
     ]
    }
   ],
   "source": [
    "if compute_pagerank:\n",
    "    !cat $TEMP/metadata.pagerank.undirected.summary.txt "
   ]
  },
  {
   "cell_type": "markdown",
   "metadata": {},
   "source": [
    "## Compute Degrees"
   ]
  },
  {
   "cell_type": "markdown",
   "metadata": {},
   "source": [
    "Kypher can compute the out degree by counting the node2s for each node1"
   ]
  },
  {
   "cell_type": "code",
   "execution_count": 41,
   "metadata": {},
   "outputs": [],
   "source": [
    "if compute_degrees:\n",
    "    !$kypher -i claims -o $TEMP/metadata.out_degree.tsv.gz \\\n",
    "    --match '(n1)-[l]->()' \\\n",
    "    --order-by 'n1' \\\n",
    "    --return 'distinct n1 as node1, count(distinct l) as node2, \"Pout_degree\" as label' "
   ]
  },
  {
   "cell_type": "code",
   "execution_count": 42,
   "metadata": {},
   "outputs": [],
   "source": [
    "if compute_degrees:\n",
    "    kgtk(\"\"\"add-id --id-style wikidata \n",
    "            -i $TEMP/metadata.out_degree.tsv.gz \n",
    "            -o $OUT/metadata.out_degree.tsv.gz\"\"\")"
   ]
  },
  {
   "cell_type": "code",
   "execution_count": 43,
   "metadata": {},
   "outputs": [
    {
     "name": "stdout",
     "output_type": "stream",
     "text": [
      "node1\tnode2\tlabel\tid\n",
      "\n",
      "gzip: P10\t20\tPout_degree\tP10-Pout_degree-f5ca38\n",
      "stdout: Broken pipe\n",
      "P1000\t10\tPout_degree\tP1000-Pout_degree-4a44dc\n",
      "P10000\t25\tPout_degree\tP10000-Pout_degree-b7a568\n",
      "P10001\t30\tPout_degree\tP10001-Pout_degree-624b60\n",
      "P10002\t21\tPout_degree\tP10002-Pout_degree-6f4b66\n",
      "P10003\t20\tPout_degree\tP10003-Pout_degree-f5ca38\n",
      "P10004\t23\tPout_degree\tP10004-Pout_degree-535fa3\n",
      "P10005\t21\tPout_degree\tP10005-Pout_degree-6f4b66\n",
      "P10006\t25\tPout_degree\tP10006-Pout_degree-b7a568\n"
     ]
    }
   ],
   "source": [
    "if compute_degrees:\n",
    "    !zcat < $OUT/metadata.out_degree.tsv.gz | head | col"
   ]
  },
  {
   "cell_type": "markdown",
   "metadata": {},
   "source": [
    "To count the in-degree we only care when the node2 is a wikibase-item"
   ]
  },
  {
   "cell_type": "code",
   "execution_count": 44,
   "metadata": {},
   "outputs": [],
   "source": [
    "if compute_degrees:\n",
    "    !$kypher -i claims -o $TEMP/metadata.in_degree.tsv.gz \\\n",
    "    --match '()-[l]->(n2 {`wikidatatype`:\"wikibase-item\"})' \\\n",
    "    --return 'distinct n2 as node1, count(distinct l) as node2, \"Pin_degree\" as label' \\\n",
    "    --order-by 'n2'"
   ]
  },
  {
   "cell_type": "code",
   "execution_count": 45,
   "metadata": {},
   "outputs": [],
   "source": [
    "if compute_degrees:\n",
    "    kgtk(\"\"\"add-id --id-style wikidata \n",
    "            -i $TEMP/metadata.in_degree.tsv.gz\n",
    "            -o $OUT/metadata.in_degree.tsv.gz\"\"\")"
   ]
  },
  {
   "cell_type": "code",
   "execution_count": 46,
   "metadata": {},
   "outputs": [
    {
     "name": "stdout",
     "output_type": "stream",
     "text": [
      "node1\tnode2\tlabel\tid\n",
      "Q1\t104\tPin_degree\tQ1-Pin_degree-5ef6fd\n",
      "Q100\t14133\tPin_degree\tQ100-Pin_degree-ef9f82\n",
      "Q1000\t6812\tPin_degree\tQ1000-Pin_degree-7536db\n",
      "\n",
      "gzip: Q10000\t2\tPin_degree\tQ10000-Pin_degree-d4735e\n",
      "stdout: Broken pipe\n",
      "Q100000 125\tPin_degree\tQ100000-Pin_degree-0f8ef3\n",
      "Q10000000\t1\tPin_degree\tQ10000000-Pin_degree-6b86b2\n",
      "Q100000001\t5\tPin_degree\tQ100000001-Pin_degree-ef2d12\n",
      "Q10000002\t1\tPin_degree\tQ10000002-Pin_degree-6b86b2\n",
      "Q100000040\t4\tPin_degree\tQ100000040-Pin_degree-4b2277\n"
     ]
    }
   ],
   "source": [
    "if compute_degrees:\n",
    "    !zcat < $OUT/metadata.in_degree.tsv.gz | head | col"
   ]
  },
  {
   "cell_type": "markdown",
   "metadata": {},
   "source": [
    "Calculate the distribution so we can make a nice chart"
   ]
  },
  {
   "cell_type": "code",
   "execution_count": 47,
   "metadata": {},
   "outputs": [],
   "source": [
    "if compute_degrees:\n",
    "    !$kypher -i $OUT/metadata.in_degree.tsv.gz -o $OUT/statistics.in_degree.distribution.tsv \\\n",
    "    --match '(n1)-[]->(n2)' \\\n",
    "    --return 'distinct n2 as Pin_degree, count(distinct n1) as count, \"count\" as label' \\\n",
    "    --order-by 'cast(n2, integer)' "
   ]
  },
  {
   "cell_type": "code",
   "execution_count": 48,
   "metadata": {},
   "outputs": [
    {
     "name": "stdout",
     "output_type": "stream",
     "text": [
      "Pin_degree\tcount\tlabel\n",
      "1\t12410535\tcount\n",
      "2\t5079189 count\n",
      "3\t2954842 count\n",
      "4\t1981895 count\n",
      "5\t1530432 count\n",
      "6\t1212475 count\n",
      "7\t1008174 count\n",
      "8\t827467\tcount\n",
      "9\t706367\tcount\n"
     ]
    }
   ],
   "source": [
    "if compute_degrees:\n",
    "    !head $OUT/statistics.in_degree.distribution.tsv | col"
   ]
  },
  {
   "cell_type": "code",
   "execution_count": 49,
   "metadata": {},
   "outputs": [],
   "source": [
    "if compute_degrees:\n",
    "    !$kypher -i $OUT/metadata.out_degree.tsv.gz -o $OUT/statistics.out_degree.distribution.tsv \\\n",
    "    --match '(n1)-[]->(n2)' \\\n",
    "    --return 'distinct n2 as Pout_degree, count(distinct n1) as count, \"count\" as label' \\\n",
    "    --order-by 'cast(n2, integer)' "
   ]
  },
  {
   "cell_type": "code",
   "execution_count": 50,
   "metadata": {},
   "outputs": [
    {
     "name": "stdout",
     "output_type": "stream",
     "text": [
      "Pout_degree\tcount\tlabel\n",
      "1\t6266209 count\n",
      "2\t2622464 count\n",
      "3\t2889122 count\n",
      "4\t3106569 count\n",
      "5\t4518981 count\n",
      "6\t6059016 count\n",
      "7\t5408942 count\n",
      "8\t5105646 count\n",
      "9\t6513341 count\n"
     ]
    }
   ],
   "source": [
    "if compute_degrees:\n",
    "    !head $OUT/statistics.out_degree.distribution.tsv | col"
   ]
  },
  {
   "cell_type": "markdown",
   "metadata": {},
   "source": [
    "Draw some charts"
   ]
  },
  {
   "cell_type": "code",
   "execution_count": 43,
   "metadata": {},
   "outputs": [],
   "source": [
    "if debug:\n",
    "    data = pd.read_csv(\n",
    "        os.environ[\"OUT\"] + \"/statistics.in_degree.distribution.tsv\", sep=\"\\t\"\n",
    "    )\n",
    "\n",
    "    alt.Chart(data).mark_circle(size=60).encode(\n",
    "        x=alt.X(\"in_degree\", scale=alt.Scale(type=\"log\")),\n",
    "        y=alt.Y(\"count\", scale=alt.Scale(type=\"log\"), title=\"count of nodes\"),\n",
    "        tooltip=[\"in_degree\", \"count\"],\n",
    "    ).interactive().properties(title=\"Distribution of In Degree\")"
   ]
  },
  {
   "cell_type": "code",
   "execution_count": 44,
   "metadata": {},
   "outputs": [],
   "source": [
    "if debug:\n",
    "    data = pd.read_csv(\n",
    "        os.environ[\"OUT\"] + \"/statistics.out_degree.distribution.tsv\", sep=\"\\t\"\n",
    "    )\n",
    "\n",
    "    alt.Chart(data).mark_circle(size=60).encode(\n",
    "        x=alt.X(\"out_degree\", scale=alt.Scale(type=\"log\")),\n",
    "        y=alt.Y(\"count\", scale=alt.Scale(type=\"log\"), title=\"count of nodes\"),\n",
    "        tooltip=[\"out_degree\", \"count\"],\n",
    "    ).interactive().properties(title=\"Distribution of Out Degree\")"
   ]
  },
  {
   "cell_type": "markdown",
   "metadata": {},
   "source": [
    "## Summary of results"
   ]
  },
  {
   "cell_type": "code",
   "execution_count": 51,
   "metadata": {},
   "outputs": [
    {
     "name": "stdout",
     "output_type": "stream",
     "text": [
      "-rw-r--r-- 1 amandeep isdstaff  21G May  6 23:11 /data/amandeep/wikidata-20220409/useful-files/useful-files/derived.isastar.tsv.gz\n",
      "-rw-r--r-- 1 amandeep isdstaff 303M May  5 22:49 /data/amandeep/wikidata-20220409/useful-files/useful-files/derived.isa.tsv.gz\n",
      "-rw-r--r-- 1 amandeep isdstaff 710M May  5 21:57 /data/amandeep/wikidata-20220409/useful-files/useful-files/derived.P279star.tsv.gz\n",
      "-rw-r--r-- 1 amandeep isdstaff  42M May  5 20:10 /data/amandeep/wikidata-20220409/useful-files/useful-files/derived.P279.tsv.gz\n",
      "-rw-r--r-- 1 amandeep isdstaff  22G May  8 00:24 /data/amandeep/wikidata-20220409/useful-files/useful-files/derived.P31P279star.tsv.gz\n",
      "-rw-r--r-- 1 amandeep isdstaff 1.2G May  5 20:09 /data/amandeep/wikidata-20220409/useful-files/useful-files/derived.P31.tsv.gz\n",
      "-rw-r--r-- 1 amandeep isdstaff 235M May  8 08:39 /data/amandeep/wikidata-20220409/useful-files/useful-files/metadata.in_degree.tsv.gz\n",
      "-rw-r--r-- 1 amandeep isdstaff 610M May  8 06:52 /data/amandeep/wikidata-20220409/useful-files/useful-files/metadata.out_degree.tsv.gz\n",
      "-rw-r--r-- 1 amandeep isdstaff 1.1G May  8 02:12 /data/amandeep/wikidata-20220409/useful-files/useful-files/metadata.pagerank.directed.tsv.gz\n",
      "-rw-r--r-- 1 amandeep isdstaff 1.5G May  8 05:02 /data/amandeep/wikidata-20220409/useful-files/useful-files/metadata.pagerank.undirected.tsv.gz\n",
      "-rw-r--r-- 1 amandeep isdstaff 126K May  8 08:41 /data/amandeep/wikidata-20220409/useful-files/useful-files/statistics.in_degree.distribution.tsv\n",
      "-rw-r--r-- 1 amandeep isdstaff  24K May  8 08:46 /data/amandeep/wikidata-20220409/useful-files/useful-files/statistics.out_degree.distribution.tsv\n",
      "\n",
      "/data/amandeep/wikidata-20220409/useful-files/useful-files/temp.useful-files:\n",
      "total 245G\n",
      "-rw-r--r-- 1 amandeep isdstaff  11G May  6 08:56 derived.isastar_1.tsv.gz\n",
      "-rw-r--r-- 1 amandeep isdstaff  11G May  7 10:28 derived.P31P279star.tsv.gz\n",
      "-rw-r--r-- 1 amandeep isdstaff 1.2G May  5 22:38 isa.1.tsv.gz\n",
      "-rw-r--r-- 1 amandeep isdstaff 107M May  8 08:32 metadata.in_degree.tsv.gz\n",
      "-rw-r--r-- 1 amandeep isdstaff 292M May  8 06:35 metadata.out_degree.tsv.gz\n",
      "-rw-r--r-- 1 amandeep isdstaff  527 May  8 03:10 metadata.pagerank.directed.summary.txt\n",
      "-rw-r--r-- 1 amandeep isdstaff  529 May  8 05:50 metadata.pagerank.undirected.summary.txt\n",
      "-rw-r--r-- 1 amandeep isdstaff 5.9M May  5 20:10 P279.n1.tsv.gz\n",
      "-rw-r--r-- 1 amandeep isdstaff 352M May  5 21:11 P279.reachable.tsv.gz\n",
      "-rw-r--r-- 1 amandeep isdstaff  68M May  5 20:16 P279.roots.1.tsv.gz\n",
      "-rw-r--r-- 1 amandeep isdstaff 7.7M May  5 20:17 P279.roots.2.tsv.gz\n",
      "-rw-r--r-- 1 amandeep isdstaff  26M May  5 20:22 P279.roots.tsv\n",
      "-rw-r--r-- 1 amandeep isdstaff 351M May  5 21:31 P279star.1.tsv.gz\n",
      "-rw-r--r-- 1 amandeep isdstaff  58M May  5 20:16 P31.n2.tsv.gz\n",
      "-rw-r--r-- 1 amandeep isdstaff 222G May  8 08:43 wikidata.sqlite3.db\n"
     ]
    }
   ],
   "source": [
    "!ls -lh $OUT/*"
   ]
  },
  {
   "cell_type": "markdown",
   "metadata": {},
   "source": [
    "Highest page rank"
   ]
  },
  {
   "cell_type": "code",
   "execution_count": 46,
   "metadata": {},
   "outputs": [],
   "source": [
    "if debug:\n",
    "    if compute_pagerank:\n",
    "        !$kypher -i $OUT/metadata.pagerank.undirected.tsv.gz -i label \\\n",
    "        --match 'pagerank: (n1)-[:Pundirected_pagerank]->(page_rank), label: (n1)-[:label]->(label)' \\\n",
    "        --return 'distinct n1, label as label, page_rank as `undirected page rank`' \\\n",
    "        --order-by 'page_rank desc' \\\n",
    "        --limit 10 "
   ]
  },
  {
   "cell_type": "code",
   "execution_count": null,
   "metadata": {},
   "outputs": [],
   "source": []
  }
 ],
 "metadata": {
  "celltoolbar": "Tags",
  "kernelspec": {
   "display_name": "kgtk-env",
   "language": "python",
   "name": "kgtk-env"
  },
  "language_info": {
   "codemirror_mode": {
    "name": "ipython",
    "version": 3
   },
   "file_extension": ".py",
   "mimetype": "text/x-python",
   "name": "python",
   "nbconvert_exporter": "python",
   "pygments_lexer": "ipython3",
   "version": "3.9.7"
  }
 },
 "nbformat": 4,
 "nbformat_minor": 4
}

{
 "cells": [
  {
   "cell_type": "markdown",
   "metadata": {
    "tags": []
   },
   "source": [
    "# P1963-computed: A graph recording the properties used in all instances of all classes\n",
    "\n",
    "Wikidata has a property `properties for this type (P1963)` where editors can manually specify the properties that should be used to describe the instance of a class. \n",
    "This property is only defined for a small number of classes, and the properties listed are incomplete. In this use-case we compute the properties used for each class from the instances.\n",
    "\n",
    "We invent a new property `P1963computed` to record the properties used in the instances of each class. In addition, we compute the counts, which we store as a quailifier `quantity (P1114)`\n",
    "\n",
    "We compute two variants of these counts:\n",
    "- `P1963computed` records the properties and counts for the direct instance of a class, includeing `P31x`\n",
    "- `P1963computed_star` records the properties including the instances of every subclass below a class.\n",
    "\n",
    "Properties computed in this notebook:\n",
    "- `P31x`, a generalization of `instance of: P31`, sotred in `derived.P31x.tsv`\n",
    "- `Pinstance_count`, counts the number of `P31/P31x` instances of a class, in `statistics.Pinstance_count.tsv.gz`\n",
    "- `Pinstance_count_star`, same as `Pinstance_count`, but includes instances of the subclasses, in `statistics.Pinstance_count.star.tsv.gz`\n",
    "- `P1963computed` in `derived.class.P1963computed.count.tsv.gz`\n",
    "- `P1963computed_star` in `derived.P1963computed.count.star.tsv.gz`\n",
    "- `Pproperty_domain` in `derived.Pproperty_domain.tsv.gz`\n",
    "\n",
    "### `derived.P31x.tsv` contains the union of `P31` and `P31x`:\n",
    "Below is an example of some of the edges for Arnold Schwarzenegger:\n",
    "\n",
    "| node1 | label | node2 | id | node1;label | label;label | node2;label |\n",
    "| -- | -- | -- | -- | -- | -- | -- |\n",
    "| Q2685 | P31 | Q5 | Q2685-P31-Q5-eb1e33fe-0 | 'Arnold Schwarzenegger'@en | 'instance of'@en | 'human'@en |\n",
    "| Q2685 | P31x | Q10800557 | Q2685-P31x-Q10800557 | 'Arnold Schwarzenegger'@en |  | 'film actor'@en |\n",
    "| Q2685 | P31x | Q124100 | Q2685-P31x-Q124100 | 'Arnold Schwarzenegger'@en |  | 'bodybuilding'@en |\n",
    "| Q2685 | P31x | Q131524 | Q2685-P31x-Q131524 | 'Arnold Schwarzenegger'@en |  | 'entrepreneur'@en |\n",
    "| Q2685 | P31x | Q5 | Q2685-P31x-Q5 | 'Arnold Schwarzenegger'@en |  | 'human'@en |\n",
    "\n",
    "\n",
    "### `Pinstance_count` and `Pinstance_count_star` examples\n",
    "\n",
    "| node1 | label | node2 | id | node1;label |\n",
    "| -- | -- | -- | -- | -- |\n",
    "| Q1000017 | Pinstance_count | 1 | Q1000017-Pinstance_count-6b86b2 | 'Brentidae'@en |\n",
    "| Q1000091 | Pinstance_count | 1 | Q1000091-Pinstance_count-6b86b2 | 'Rychnov nad Kněžnou'@en |\n",
    "| Q1000156 | Pinstance_count | 11 | Q1000156-Pinstance_count-4fc82b |  |\n",
    "| Q100023 | Pinstance_count | 1 | Q100023-Pinstance_count-6b86b2 | 'metasyntactic variable'@en |\n",
    "| Q100026 | Pinstance_count | 1 | Q100026-Pinstance_count-6b86b2 | 'F-16'@en |\n",
    "\n",
    "| node1 | label | node2 | id | node1;label |\n",
    "| -- | -- | -- | -- | -- |\n",
    "| Q1000068 | Pinstance_count_star | 13 | Q1000068-Pinstance_count_star-3fdba3 | 'Planungsverband'@en |\n",
    "| Q100023 | Pinstance_count_star | 1 | Q100023-Pinstance_count_star-6b86b2 | 'metasyntactic variable'@en |\n",
    "| Q100026 | Pinstance_count_star | 9 | Q100026-Pinstance_count_star-19581e | 'F-16'@en |\n",
    "| Q100029091 | Pinstance_count_star | 10 | Q100029091-Pinstance_count_star-4a44dc |  |\n",
    "| Q1000300 | Pinstance_count_star | 2 | Q1000300-Pinstance_count_star-d4735e | 'Land Rover Series'@en |\n",
    "\n",
    "### How to use `derived.class.P1963computed.tsv.gz` and `derived.P1963computed.star.tsv.gz`\n",
    "\n",
    "Here is an example query illustrating how to find the properties for a class, the counts and proportion:\n",
    "```\n",
    "kgtk(\"\"\"\n",
    "    query -i $OUT/derived.class.P1963computed.count.tsv.gz\n",
    "        --match '\n",
    "            (n1:Q100026)-[eid:P1963computed]->(n2), \n",
    "            (eid)-[:P1114]->(count),\n",
    "            (eid)-[:P1107]->(proportion)'\n",
    "        --return 'distinct n1 as node1, eid.label as label, n2 as node2, count as P1114, proportion as P1107'\n",
    "        --order-by 'cast(P1114, int) desc'\n",
    "        --limit 10\n",
    "    / add-labels\n",
    "    / md\n",
    "\"\"\")\n",
    "```\n",
    "The results:\n",
    "\n",
    "| node1 | label | node2 | P1114 | P1107 | node1;label | node2;label |\n",
    "| -- | -- | -- | -- | -- | -- | -- |\n",
    "| Q100026 | P1963computed | P17 | 1 | 0.015151515151515152 | 'F-16'@en | 'country'@en |\n",
    "| Q100026 | P1963computed | P18 | 1 | 0.015151515151515152 | 'F-16'@en | 'image'@en |\n",
    "| Q100026 | P1963computed | P31 | 1 | 0.015151515151515152 | 'F-16'@en | 'instance of'@en |\n",
    "| Q100026 | P1963computed | P373 | 1 | 0.015151515151515152 | 'F-16'@en | 'Commons category'@en |\n",
    "| Q100026 | P1963computed | P646 | 1 | 0.015151515151515152 | 'F-16'@en | 'Freebase ID'@en |\n",
    "\n",
    "\n",
    "Here is the equivalent query on the `derived.P1963computed.star.tsv.gz`\n",
    "```\n",
    "kgtk(\"\"\"\n",
    "    query -i $OUT/derived.P1963computed.count.star.tsv.gz\n",
    "        --match '\n",
    "            (n1:Q100026)-[eid:P1963computed_star]->(n2), \n",
    "            (eid)-[:P1114]->(count),\n",
    "            (eid)-[:P1107]->(proportion)'\n",
    "        --return 'distinct n1 as node1, eid.label as label, n2 as node2, count as P1114, proportion as P1107'\n",
    "        --order-by 'cast(P1114, int) desc'\n",
    "        --limit 10\n",
    "    / add-labels\n",
    "    / md\n",
    "\"\"\")\n",
    "```\n",
    "Note that there are many more results for the `P1963computed_star` property as it includes the instances of the subclasses of F-16. For example, there are 10 instances of subclassess of F-16 that have a `P31` property, and that is about 15% of all instances of subclasses of F-16, so many don't have a `P31`, which is add:\n",
    "\n",
    "| node1 | label | node2 | P1114 | P1107 | node1;label | node2;label |\n",
    "| -- | -- | -- | -- | -- | -- | -- |\n",
    "| Q100026 | P1963computed_star | P31 | 10 | 0.15151515151515152 | 'F-16'@en | 'instance of'@en |\n",
    "| Q100026 | P1963computed_star | P361 | 8 | 0.12121212121212122 | 'F-16'@en | 'part of'@en |\n",
    "| Q100026 | P1963computed_star | P729 | 8 | 0.12121212121212122 | 'F-16'@en | 'service entry'@en |\n",
    "| Q100026 | P1963computed_star | P426 | 7 | 0.10606060606060606 | 'F-16'@en | 'aircraft registration'@en |\n",
    "| Q100026 | P1963computed_star | P176 | 6 | 0.09090909090909091 | 'F-16'@en | 'manufacturer'@en |\n",
    "| Q100026 | P1963computed_star | P730 | 6 | 0.09090909090909091 | 'F-16'@en | 'service retirement'@en |\n",
    "| Q100026 | P1963computed_star | P137 | 4 | 0.06060606060606061 | 'F-16'@en | 'operator'@en |\n",
    "| Q100026 | P1963computed_star | P373 | 2 | 0.030303030303030304 | 'F-16'@en | 'Commons category'@en |\n",
    "| Q100026 | P1963computed_star | P17 | 1 | 0.015151515151515152 | 'F-16'@en | 'country'@en |\n",
    "| Q100026 | P1963computed_star | P18 | 1 | 0.015151515151515152 | 'F-16'@en | 'image'@en |\n",
    "\n",
    "### Example of `Pproperty_domain`\n",
    "\n",
    "Here is a query to get all the domains of `cast member (P161)`\n",
    "```\n",
    "kgtk(\"\"\"\n",
    "    query -i $OUT/derived.Pproperty_domain.tsv.gz --idx mode:graph\n",
    "        --match '\n",
    "            (property:P161)-[edge_id:Pproperty_domain]->(class),\n",
    "            (edge_id)-[:P1114]->(instance_count),\n",
    "            (edge_id)-[:P1107]->(proportion)'\n",
    "        --return 'distinct property as node1, \"Pproperty_domain\" as label, class as node2, instance_count as P1114, proportion as P1107'\n",
    "        --order-by 'property, cast(P1114, float)*cast(P1107, float)  desc'\n",
    "    / add-labels\n",
    "\"\"\")\n",
    "```\n",
    "\n",
    "For example, there are 171111 instances of subclasses of film that have cast member, and that is about 54% of all instances of subclasses of film:\n",
    "\n",
    "| node1 | label | node2 | P1114 | P1107 | node1;label | node2;label |\n",
    "| -- | -- | -- | -- | -- | -- | -- |\n",
    "| P161 | Pproperty_domain | Q11424 | 171111 | 0.5425945832818044 | 'cast member'@en | 'film'@en |\n",
    "| P161 | Pproperty_domain | Q10301427 | 197378 | 0.38757120500167885 | 'cast member'@en | 'moving image'@en |\n",
    "| P161 | Pproperty_domain | Q79782 | 197379 | 0.3420157510331742 | 'cast member'@en | 'motion'@en |\n",
    "| P161 | Pproperty_domain | Q17320256 | 197379 | 0.34154997819661803 | 'cast member'@en | 'physical process'@en |\n",
    "| P161 | Pproperty_domain | Q2431196 | 198160 | 0.3382660960616991 | 'cast member'@en | 'audiovisual work'@en |\n",
    "| P161 | Pproperty_domain | Q758901 | 198160 | 0.3382649412013731 | 'cast member'@en | 'audiovisual media'@en |\n",
    "| P161 | Pproperty_domain | Q58898430 | 198160 | 0.33826436377416724 | 'cast member'@en | 'electronic supplementary materials'@en |\n",
    "| P161 | Pproperty_domain | Q58901077 | 198160 | 0.33826320892566947 | 'cast member'@en | 'publication format'@en |"
   ]
  },
  {
   "cell_type": "markdown",
   "metadata": {},
   "source": [
    "### Preamble: set up the environment and files used in the tutorial"
   ]
  },
  {
   "cell_type": "code",
   "execution_count": 1,
   "metadata": {
    "tags": []
   },
   "outputs": [],
   "source": [
    "import io\n",
    "import os\n",
    "import subprocess\n",
    "import sys\n",
    "\n",
    "import numpy as np\n",
    "import pandas as pd\n",
    "from kgtk.configure_kgtk_notebooks import ConfigureKGTK\n",
    "from kgtk.functions import kgtk, kypher"
   ]
  },
  {
   "cell_type": "code",
   "execution_count": 2,
   "metadata": {
    "tags": [
     "parameters"
    ]
   },
   "outputs": [],
   "source": [
    "# Parameters\n",
    "\n",
    "kgtk_path = \"/Users/pedroszekely/Documents/GitHub/kgtk\"\n",
    "\n",
    "# Folder on local machine where to create the output and temporary folders\n",
    "# input_path = \"/Volumes/GoogleDrive/Shared drives/KGTK/datasets/wikidata-20210215/data/\"\n",
    "# input_path = \"/Volumes/GoogleDrive/Shared drives/KGTK/datasets/wikidata-20210215-dwd-v2/\"\n",
    "# input_path = \"/Volumes/saggu-ssd/wikidata-dwd-v3\"\n",
    "input_path=\"/data/amandeep/wikidata-20220505-dwd-v4\"\n",
    "# output_path = \"/Users/pedroszekely/Downloads/kypher/projects\"\n",
    "# output_path = \"/Volumes/saggu-ssd/wikidata-dwd-v3\"\n",
    "output_path = \"/data/amandeep/wikidata-20220505-dwd-v4\"\n",
    "\n",
    "graph_cache_path = \"/Volumes/crucial/wikidata-cache/wikidata.sqlite3.db\"\n",
    "\n",
    "project_name = \"p1963\"\n",
    "debug = True\n",
    "files = \"claims,item,datatypes,p279,p279star\"\n",
    "files_for_cache = None"
   ]
  },
  {
   "cell_type": "code",
   "execution_count": 3,
   "metadata": {},
   "outputs": [],
   "source": [
    "files = files.split(',')\n",
    "\n",
    "if files_for_cache is None:\n",
    "    files_for_cache =  files\n",
    "else:\n",
    "    files_for_cache = files_for_cache.split(\",\")"
   ]
  },
  {
   "cell_type": "markdown",
   "metadata": {},
   "source": [
    "Our Wikidata distribution partitions the knowledge in Wikidata into smaller files that make it possible for you to pick and choose which files you want to use:"
   ]
  },
  {
   "cell_type": "code",
   "execution_count": 4,
   "metadata": {
    "tags": []
   },
   "outputs": [
    {
     "name": "stdout",
     "output_type": "stream",
     "text": [
      "User home: /nas/home/amandeep\n",
      "Current dir: /data/amandeep/Github/kgtk-notebooks/use-cases/create_wikidata\n",
      "KGTK dir: /Users/pedroszekely/Documents/GitHub/kgtk\n",
      "Use-cases dir: /Users/pedroszekely/Documents/GitHub/kgtk/use-cases\n"
     ]
    }
   ],
   "source": [
    "ck = ConfigureKGTK(files, kgtk_path=kgtk_path)\n",
    "ck.configure_kgtk(input_graph_path=input_path,\n",
    "                  output_path=output_path,\n",
    "                  project_name=project_name,\n",
    "                  graph_cache_path=graph_cache_path,\n",
    "                  debug=True)"
   ]
  },
  {
   "cell_type": "markdown",
   "metadata": {},
   "source": [
    "The KGTK setup command defines environment variables for all the files so that you can reuse the Jupyter notebook when you install it on your local machine."
   ]
  },
  {
   "cell_type": "code",
   "execution_count": 5,
   "metadata": {
    "tags": []
   },
   "outputs": [
    {
     "name": "stdout",
     "output_type": "stream",
     "text": [
      "KGTK_GRAPH_CACHE: /data/amandeep/wikidata-20220505-dwd-v4/p1963/temp.p1963/wikidata.sqlite3.db\n",
      "STORE: /data/amandeep/wikidata-20220505-dwd-v4/p1963/temp.p1963/wikidata.sqlite3.db\n",
      "KGTK_OPTION_DEBUG: false\n",
      "kgtk: kgtk --debug\n",
      "KGTK_LABEL_FILE: /data/amandeep/wikidata-20220505-dwd-v4/labels.en.tsv.gz\n",
      "kypher: kgtk --debug query --graph-cache /data/amandeep/wikidata-20220505-dwd-v4/p1963/temp.p1963/wikidata.sqlite3.db\n",
      "EXAMPLES_DIR: /Users/pedroszekely/Documents/GitHub/kgtk/examples\n",
      "TEMP: /data/amandeep/wikidata-20220505-dwd-v4/p1963/temp.p1963\n",
      "OUT: /data/amandeep/wikidata-20220505-dwd-v4/p1963\n",
      "GRAPH: /data/amandeep/wikidata-20220505-dwd-v4\n",
      "USE_CASES_DIR: /Users/pedroszekely/Documents/GitHub/kgtk/use-cases\n",
      "claims: /data/amandeep/wikidata-20220505-dwd-v4/claims.tsv.gz\n",
      "item: /data/amandeep/wikidata-20220505-dwd-v4/claims.wikibase-item.tsv.gz\n",
      "datatypes: /data/amandeep/wikidata-20220505-dwd-v4/metadata.property.datatypes.tsv.gz\n",
      "p279: /data/amandeep/wikidata-20220505-dwd-v4/derived.P279.tsv.gz\n",
      "p279star: /data/amandeep/wikidata-20220505-dwd-v4/derived.P279star.tsv.gz\n"
     ]
    }
   ],
   "source": [
    "ck.print_env_variables()"
   ]
  },
  {
   "cell_type": "code",
   "execution_count": null,
   "metadata": {
    "tags": []
   },
   "outputs": [],
   "source": [
    "ck.load_files_into_cache(files=files_for_cache)"
   ]
  },
  {
   "cell_type": "markdown",
   "metadata": {},
   "source": [
    "Specify the indices we want for our files as the queries we do in this notebook are very expensive:\n",
    "- `claims:` indexed as a graph because we query based on node1, label and node2\n",
    "- `p279star:` indexed as a monograph because the file has a single property."
   ]
  },
  {
   "cell_type": "code",
   "execution_count": null,
   "metadata": {
    "tags": []
   },
   "outputs": [],
   "source": [
    "!kgtk --debug query -i claims --idx mode:graph --limit 5"
   ]
  },
  {
   "cell_type": "code",
   "execution_count": null,
   "metadata": {
    "tags": []
   },
   "outputs": [],
   "source": [
    "!kgtk --debug query -i item --idx mode:graph --limit 5"
   ]
  },
  {
   "cell_type": "code",
   "execution_count": null,
   "metadata": {
    "tags": []
   },
   "outputs": [],
   "source": [
    "# Example of how to clear the indices and reindex\n",
    "# !kgtk --debug query -i claims --idx mode:clear mode:graph -i p279star --idx mode:clear mode:monograph --limit 5"
   ]
  },
  {
   "cell_type": "markdown",
   "metadata": {
    "tags": []
   },
   "source": [
    "## Define `P31x`, a generalization of `instance of: P31`\n",
    "\n",
    "In our KG we are going to define a new property called `instance of (generalized): P31x` that behaves like DBpedia, so that we can ask for instances of `artist: Q483501`.\n",
    "We do this by generalizing `occupation: P106` abd `position held: 39` to also behave as `P31` statements.\n",
    "\n",
    "Approach:\n",
    "- Combine `x P31 y`, `x P106 y` and `x P39 y` statements using a new `P31x` predicate"
   ]
  },
  {
   "cell_type": "code",
   "execution_count": null,
   "metadata": {},
   "outputs": [],
   "source": [
    "kgtk(\"\"\"\n",
    "    query -i claims\n",
    "        --match '\n",
    "            (n1)-[:P31]->(:Q5),\n",
    "            (n1)-[r {label: property}]->(n2)'\n",
    "        --where 'property in [\"P106\", \"P39\"]'\n",
    "        --return 'distinct n1 as node1, \"P31xQ5\" as label, n2 as node2'\n",
    "    / add-id --id-style wikidata\n",
    "    / cat -i - -i \"$p31\"\n",
    "    / compact\n",
    "    -o $OUT/derived.P31x.tsv.gz\n",
    "\"\"\")"
   ]
  },
  {
   "cell_type": "markdown",
   "metadata": {},
   "source": [
    "Load the `p31x` graph defining our generalized `instance of` property:"
   ]
  },
  {
   "cell_type": "code",
   "execution_count": null,
   "metadata": {
    "tags": []
   },
   "outputs": [],
   "source": [
    "kgtk(\"\"\"\n",
    "        query -i $OUT/derived.P31x.tsv.gz --as p31x --limit 2\n",
    "    \"\"\")"
   ]
  },
  {
   "cell_type": "markdown",
   "metadata": {},
   "source": [
    "## Instance Counts"
   ]
  },
  {
   "cell_type": "code",
   "execution_count": 6,
   "metadata": {
    "tags": []
   },
   "outputs": [],
   "source": [
    "kgtk(\"\"\"\n",
    "    query -i p31x\n",
    "        --match '(instance)-[]->(class)'\n",
    "        --return 'distinct class as node1, \"Pinstance_count\" as label, count(distinct instance) as node2'\n",
    "        --where 'instance != class'\n",
    "        --order-by 'class'\n",
    "    / add-id --id-style wikidata\n",
    "    -o $OUT/statistics.Pinstance_count.tsv.gz\n",
    "\"\"\")"
   ]
  },
  {
   "cell_type": "code",
   "execution_count": null,
   "metadata": {
    "tags": []
   },
   "outputs": [],
   "source": [
    "if debug:\n",
    "    kgtk(\"head -i $OUT/statistics.Pinstance_count.tsv.gz -n 5 / add-labels\")"
   ]
  },
  {
   "cell_type": "code",
   "execution_count": null,
   "metadata": {
    "tags": []
   },
   "outputs": [],
   "source": [
    "!kgtk --debug query -i $OUT/statistics.Pinstance_count.tsv.gz --as p31xcount --idx mode:graph --limit 3"
   ]
  },
  {
   "cell_type": "code",
   "execution_count": 7,
   "metadata": {},
   "outputs": [],
   "source": [
    "kgtk(\"\"\"\n",
    "    query -i p31x -i p279star\n",
    "        --match '\n",
    "            p31x: (instance)-[]->(hop),\n",
    "            p279star: (hop)-[]->(class)'\n",
    "        --where 'instance != hop'\n",
    "        --return 'distinct class as node1, \"Pinstance_count_star\" as label, count(distinct instance) as node2'\n",
    "    -o $OUT/statistics.Pinstance_count.star.tsv.gz\n",
    "\"\"\")"
   ]
  },
  {
   "cell_type": "code",
   "execution_count": null,
   "metadata": {
    "tags": []
   },
   "outputs": [],
   "source": [
    "!kgtk --debug query -i $OUT/statistics.Pinstance_count.star.tsv.gz --as p31xcountstar --idx mode:graph --limit 3"
   ]
  },
  {
   "cell_type": "code",
   "execution_count": null,
   "metadata": {
    "tags": []
   },
   "outputs": [],
   "source": [
    "if debug:\n",
    "    kgtk(\"head -i $OUT/statistics.Pinstance_count.star.tsv.gz -n 5 / add-labels\")"
   ]
  },
  {
   "cell_type": "markdown",
   "metadata": {},
   "source": [
    "### Added by Amandeep, to get the properties for this class for subclasses\n",
    "\n",
    "\n",
    "The following query will count the number of subclasses for every super class"
   ]
  },
  {
   "cell_type": "code",
   "execution_count": 8,
   "metadata": {},
   "outputs": [
    {
     "name": "stdout",
     "output_type": "stream",
     "text": [
      "[2022-06-13 15:36:28 query]: SQL Translation:\n",
      "---------------------------------------------\n",
      "  SELECT DISTINCT graph_5_c1.\"node2\" \"_aLias.node1\", ? \"_aLias.label\", count(DISTINCT graph_5_c1.\"node1\") \"_aLias.node2\"\n",
      "     FROM graph_5 AS graph_5_c1\n",
      "     WHERE (graph_5_c1.\"node1\" != graph_5_c1.\"node2\")\n",
      "     GROUP BY \"_aLias.node1\", \"_aLias.label\"\n",
      "  PARAS: ['Psubclass_count_star']\n",
      "---------------------------------------------\n",
      "\n"
     ]
    }
   ],
   "source": [
    "kgtk(\"\"\" --debug\n",
    "    query -i p279star\n",
    "        --match 'p279star: (class)-[]->(super_class)'\n",
    "        --where 'class != super_class'\n",
    "        --return 'distinct super_class as node1, \"Psubclass_count_star\" as label, count(distinct class) as node2'\n",
    "    -o $OUT/statistics.Psubclass_count.star.tsv.gz\n",
    "\"\"\")"
   ]
  },
  {
   "cell_type": "code",
   "execution_count": null,
   "metadata": {},
   "outputs": [],
   "source": [
    "!kgtk --debug query -i $OUT/statistics.Psubclass_count.star.tsv.gz --as subclasscountstar --idx mode:graph --limit 3"
   ]
  },
  {
   "cell_type": "code",
   "execution_count": null,
   "metadata": {},
   "outputs": [],
   "source": [
    "kgtk(\"\"\" --debug\n",
    "    query -i subclasscountstar1\n",
    "        --match '(:Q62049)-[]->()'\n",
    "\"\"\")"
   ]
  },
  {
   "cell_type": "code",
   "execution_count": null,
   "metadata": {},
   "outputs": [],
   "source": [
    "if debug:\n",
    "    kgtk(\"head -i $OUT/statistics.Psubclass_count.star.tsv.gz -n 5 / add-labels\")"
   ]
  },
  {
   "cell_type": "markdown",
   "metadata": {
    "tags": []
   },
   "source": [
    "## Compute the number of times each property appears in a class\n",
    "\n",
    "In this section we will compute the distribution of the use of properties in every class in th KG. \n",
    "We want to know the count of the different properties used in all instance of a class.\n",
    "For example, if we look at `film (Q11424)` we want to see what properties are used to describe films, including all subclasses of film.\n",
    "\n",
    "Computing this distribution is challenging because we want to include the instances of subclasses, and class hierarchy in Wikidata is ver large.\n",
    "\n",
    "Approach:\n",
    "- Compute a graph that represents the properties used to describe an entity. We will use `Phas_property` to record the properties used in each entity.\n",
    "- Aggregate the counts over all the instances of a class, inlcuding instances of the subclasses.\n",
    "  - Exact method: forl each class, enumerate all the subclasses, and for each subclass enumerate all its intances, and then count the ocurrences of the properties. The exact method works for small graphs, but for DWD (Wikidata scale), the exact method will not return a result even after 2 days.\n",
    "  - Approximate method: \n",
    "    - Count the distribution of properties for all instances of a class, not including subclasses\n",
    "    - For every class, sum the property counts over the direct children of the class. This is a recursive definition, as we need to calculate the sum for the children before that we can aggregate up to the paprent. KGTK does not support recursive queries, so we will do this in a dumb way, so for every class we add the number of all the subclasses and below\n",
    "    \n",
    "  > The parent/child implementation of the approximate method is approximate because we may overcount classes: given classes `A` and `B` such that `A` is below `B`, if there are multiple distinct paths from `A` to `B`, we will double count. The advantage of the dumb method is that it does not double-count"
   ]
  },
  {
   "cell_type": "markdown",
   "metadata": {},
   "source": [
    "### Compute the `Phas_property`, the set of properties used in each entity"
   ]
  },
  {
   "cell_type": "code",
   "execution_count": null,
   "metadata": {
    "scrolled": true,
    "tags": []
   },
   "outputs": [],
   "source": [
    "# use for subject properties\n",
    "kypher = \"claims: (entity)-[l {label: property}]->()\"\n",
    "# use for object properties\n",
    "# kypher = \"claims: ()-[l {label: property}]->(entity)\"\n",
    "\n",
    "kgtk(f\"\"\"\n",
    "    query -i p31x -i claims\n",
    "        --match '\n",
    "            p31x: (entity)-[]->(),\n",
    "            {kypher}'\n",
    "        --return 'distinct entity as node1, \"Phas_property\" as label, property as node2'\n",
    "    / add-id --id-style wikidata\n",
    "    -o $TEMP/item_properties.tsv.gz\n",
    "\"\"\")\n",
    "\n"
   ]
  },
  {
   "cell_type": "markdown",
   "metadata": {},
   "source": [
    "### Get the properties for this class including subclasses\n",
    "\n",
    "The following cell gets the properties for subclass instead of instances of subclasses"
   ]
  },
  {
   "cell_type": "code",
   "execution_count": null,
   "metadata": {},
   "outputs": [],
   "source": [
    "# use for subject properties\n",
    "kypher = \"claims: (entity)-[l {label: property}]->()\"\n",
    "# use for object properties\n",
    "# kypher = \"claims: ()-[l {label: property}]->(entity)\"\n",
    "\n",
    "kgtk(f\"\"\"\n",
    "    query -i p279star -i claims\n",
    "        --match '\n",
    "            p279star: (entity)-[]->(),\n",
    "            {kypher}'\n",
    "        --return 'distinct entity as node1, \"Phas_property\" as label, property as node2'\n",
    "    / add-id --id-style wikidata\n",
    "    -o $TEMP/item_properties_subclasses.tsv.gz\n",
    "\"\"\")\n",
    "\n"
   ]
  },
  {
   "cell_type": "markdown",
   "metadata": {},
   "source": [
    "### Compute `P1963computed`\n",
    "\n",
    "For every class record the count of each property in all instances of the class according to the `P31x` graph which contains the `P31x` and `P31` statements."
   ]
  },
  {
   "cell_type": "code",
   "execution_count": 9,
   "metadata": {
    "tags": []
   },
   "outputs": [],
   "source": [
    "kgtk(\"\"\"\n",
    "    query -i p31x -i $TEMP/item_properties.tsv.gz\n",
    "        --match '  \n",
    "            p31x: (entity)-[]->(class),\n",
    "            item_properties: (entity)-[l]->(property)'\n",
    "        --where 'entity != class'\n",
    "        --return 'distinct class as node1, \"P1963computed\" as label, property as node2, count(distinct l) as P1114'\n",
    "    / add-id --id-style wikidata\n",
    "    / normalize --add-id True\n",
    "    -o $OUT/derived.class.P1963computed.tsv.gz\n",
    "\"\"\")"
   ]
  },
  {
   "cell_type": "markdown",
   "metadata": {},
   "source": [
    "### Added by Amandeep, to get the properties for this class for subclasses\n",
    "For every class, record the count of each property in all subclasses of the class"
   ]
  },
  {
   "cell_type": "code",
   "execution_count": 10,
   "metadata": {},
   "outputs": [],
   "source": [
    "kgtk(\"\"\"\n",
    "    query -i p279star -i $TEMP/item_properties_subclasses.tsv.gz\n",
    "        --match '  \n",
    "            p279star: (entity)-[]->(class),\n",
    "            item_properties_subclasses: (entity)-[l]->(property)'\n",
    "        --where 'entity != class'\n",
    "        --return 'distinct class as node1, \"P1963subclass_star\" as label, property as node2, count(distinct l) as P1114'\n",
    "    / add-id --id-style wikidata\n",
    "    / normalize --add-id True\n",
    "    -o $OUT/derived.class.P1963computed.subclass.tsv.gz\n",
    "\"\"\")"
   ]
  },
  {
   "cell_type": "markdown",
   "metadata": {},
   "source": [
    "Calculate the proportion of instances of a class that have each property, recording the proportion using property `proportion (P1107)`"
   ]
  },
  {
   "cell_type": "code",
   "execution_count": 11,
   "metadata": {},
   "outputs": [],
   "source": [
    "kgtk(\"\"\"\n",
    "    query -i $OUT/derived.class.P1963computed.tsv.gz -i p31xcount\n",
    "        --match '\n",
    "            computed:\n",
    "                (class)-[edge_id:P1963computed]->(property),\n",
    "                (edge_id)-[:P1114]->(property_count),\n",
    "            count:\n",
    "                (class)-[]->(instance_count)'\n",
    "        --return 'edge_id as node1, \"P1107\" as label, cast(property_count, float)/cast(instance_count, float) as node2'\n",
    "    / add-id --id-style wikidata\n",
    "    / cat -i - -i $OUT/derived.class.P1963computed.tsv.gz\n",
    "    / sort\n",
    "    -o $OUT/derived.class.P1963computed.count.tsv.gz\n",
    "\"\"\")"
   ]
  },
  {
   "cell_type": "markdown",
   "metadata": {},
   "source": [
    "In the second step, we use `P279star` to iterate over all classes, finding all subclasses below each superclass, and we sum the counts for the properties.\n",
    "\n",
    "\n",
    "In the return clause, we list `superclass`, and the value of the `property` variable ahead of the `count` clause to tell KGTK that we want to aggregate by superclass and property. We reuse the Wikidata `quantity (P1114)` to record the counts:"
   ]
  },
  {
   "cell_type": "code",
   "execution_count": 12,
   "metadata": {
    "tags": []
   },
   "outputs": [],
   "source": [
    "kgtk(\"\"\"\n",
    "    query -i $OUT/derived.class.P1963computed.tsv.gz -i p279star \\\n",
    "    --match ' \n",
    "        P1963computed: \n",
    "            (class)-[edge_id]->(property), \n",
    "            (edge_id)-[:P1114]->(count),\n",
    "        p279star: \n",
    "            (class)-[:P279star]->(superclass)' \n",
    "    --return 'distinct superclass as node1, \"P1963computed_star\" as label, property as node2, sum(count) as P1114'\n",
    "    / add-id --id-style wikidata\n",
    "    / normalize --add-id True\n",
    "    -o \"$OUT\"/derived.P1963computed.star.tsv.gz\n",
    "\"\"\")\n",
    "#"
   ]
  },
  {
   "cell_type": "markdown",
   "metadata": {},
   "source": [
    "The following query claculates `P1963computed_x` in one go, by counting over all instances of all sublasses of each superclass. This query is too expensive: it will not complete after 2 days when running on DWD."
   ]
  },
  {
   "cell_type": "markdown",
   "metadata": {},
   "source": [
    "Calculate the proportion of instances of a class that have each property, recording the proportion using property `proportion (P1107)`"
   ]
  },
  {
   "cell_type": "code",
   "execution_count": 13,
   "metadata": {
    "tags": []
   },
   "outputs": [],
   "source": [
    "kgtk(\"\"\"\n",
    "    query -i $OUT/derived.P1963computed.star.tsv.gz -i p31xcountstar\n",
    "        --match '\n",
    "            computed:\n",
    "                (class)-[edge_id:P1963computed_star]->(property),\n",
    "                (edge_id)-[:P1114]->(property_count),\n",
    "            count:\n",
    "                (class)-[]->(instance_count)'\n",
    "        --return 'edge_id as node1, \"P1107\" as label, cast(property_count, float)/cast(instance_count, float) as node2'\n",
    "    / add-id --id-style wikidata\n",
    "    / cat -i - -i $OUT/derived.P1963computed.star.tsv.gz\n",
    "    / sort\n",
    "    -o $OUT/derived.P1963computed.count.star.tsv.gz\n",
    "\"\"\")"
   ]
  },
  {
   "cell_type": "markdown",
   "metadata": {},
   "source": [
    "### Added by Amandeep, to get the properties for this class for subclasses\n",
    "version 2, subclasses only"
   ]
  },
  {
   "cell_type": "code",
   "execution_count": 14,
   "metadata": {},
   "outputs": [],
   "source": [
    "kgtk(\"\"\"\n",
    "    query -i \"$OUT\"/derived.class.P1963computed.subclass.tsv.gz -i subclasscountstar\n",
    "        --match '\n",
    "            computed:\n",
    "                (class)-[edge_id:P1963subclass_star]->(property),\n",
    "                (edge_id)-[:P1114]->(property_count),\n",
    "            count:\n",
    "                (class)-[]->(instance_count)'\n",
    "        --return 'edge_id as node1, \"P1107\" as label, cast(property_count, float)/cast(instance_count, float) as node2'\n",
    "    / add-id --id-style wikidata\n",
    "    / cat -i - -i \"$OUT\"/derived.class.P1963computed.subclass.tsv.gz\n",
    "    / sort\n",
    "    -o $OUT/derived.P1963computed.subclass.count.star.tsv.gz\n",
    "\"\"\")"
   ]
  },
  {
   "cell_type": "markdown",
   "metadata": {},
   "source": [
    "## Compute `Pproperty_domain` that maps properties to the classes whose instances use the property"
   ]
  },
  {
   "cell_type": "code",
   "execution_count": null,
   "metadata": {
    "tags": []
   },
   "outputs": [],
   "source": [
    "kgtk(\"\"\"\n",
    "    query -i $OUT/derived.P1963computed.count.star.tsv.gz --idx mode:graph\n",
    "        --match '\n",
    "            (class)-[edge_id:P1963computed_star]->(property),\n",
    "            (edge_id)-[:P1114]->(instance_count),\n",
    "            (edge_id)-[:P1107]->(proportion)'\n",
    "        --return 'distinct property as node1, \"Pproperty_domain\" as label, class as node2, instance_count as P1114, proportion as P1107'\n",
    "        --order-by 'property, cast(P1114, int) desc'\n",
    "    / add-id --id-style wikidata\n",
    "    / normalize --add-id True\n",
    "    -o $OUT/derived.Pproperty_domain.tsv.gz\n",
    "\"\"\")"
   ]
  },
  {
   "cell_type": "code",
   "execution_count": null,
   "metadata": {},
   "outputs": [],
   "source": []
  }
 ],
 "metadata": {
  "kernelspec": {
   "display_name": "kgtk-env-ckg07",
   "language": "python",
   "name": "kgtk-env-ckg07"
  },
  "language_info": {
   "codemirror_mode": {
    "name": "ipython",
    "version": 3
   },
   "file_extension": ".py",
   "mimetype": "text/x-python",
   "name": "python",
   "nbconvert_exporter": "python",
   "pygments_lexer": "ipython3",
   "version": "3.9.12"
  }
 },
 "nbformat": 4,
 "nbformat_minor": 4
}

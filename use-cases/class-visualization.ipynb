{
 "cells": [
  {
   "cell_type": "markdown",
   "metadata": {},
   "source": [
    "# Class Visualization\n",
    "\n"
   ]
  },
  {
   "cell_type": "markdown",
   "metadata": {},
   "source": [
    "### Preamble: set up the environment and files used in the tutorial"
   ]
  },
  {
   "cell_type": "code",
   "execution_count": null,
   "metadata": {
    "tags": []
   },
   "outputs": [],
   "source": [
    "import io\n",
    "import os\n",
    "import subprocess\n",
    "import sys\n",
    "\n",
    "import numpy as np\n",
    "import pandas as pd\n",
    "from IPython.display import display, HTML\n",
    "\n",
    "from graph_tool.all import *\n",
    "\n",
    "from kgtk.configure_kgtk_notebooks import ConfigureKGTK\n",
    "from kgtk.functions import kgtk, kypher"
   ]
  },
  {
   "cell_type": "code",
   "execution_count": null,
   "metadata": {
    "tags": [
     "parameters"
    ]
   },
   "outputs": [],
   "source": [
    "# Parameters\n",
    "\n",
    "kgtk_path = \"/Users/amandeep/GitHub/kgtk\"\n",
    "\n",
    "# Folder on local machine where to create the output and temporary folders\n",
    "input_path = \"/Volumes/saggu-ssd/wikidata-dwd-v3\"\n",
    "input_path = \"/data/amandeep/wikidata-20211027-dwd-v3\"\n",
    "output_path = \"/Volumes/saggu-ssd/wikidata-dwd-v3\"\n",
    "output_path = \"/data/amandeep/wikidata-20211027-dwd-v3\"\n",
    "project_name = \"class-visualization\"\n",
    "\n",
    "graph_cache_path = None\n",
    "\n",
    "files = \"p279,p279star,label\"\n",
    "files_for_cache = None\n",
    "debug = False"
   ]
  },
  {
   "cell_type": "code",
   "execution_count": null,
   "metadata": {},
   "outputs": [],
   "source": [
    "files = files.split(',')\n",
    "\n",
    "if files_for_cache is None:\n",
    "    files_for_cache =  files\n",
    "else:\n",
    "    files_for_cache = files_for_cache.split(\",\")"
   ]
  },
  {
   "cell_type": "markdown",
   "metadata": {},
   "source": [
    "Our Wikidata distribution partitions the knowledge in Wikidata into smaller files that make it possible for you to pick and choose which files you want to use. Our tutorial KG is a subset of Wikidata, and is partitioned in the same way as the full Wikidata. The following is a partial list of all the files:"
   ]
  },
  {
   "cell_type": "code",
   "execution_count": null,
   "metadata": {
    "tags": []
   },
   "outputs": [],
   "source": [
    "ck = ConfigureKGTK(files, kgtk_path=kgtk_path)\n",
    "ck.configure_kgtk(input_graph_path=input_path,\n",
    "                  output_path=output_path,\n",
    "                  project_name=project_name,\n",
    "                  graph_cache_path=graph_cache_path,\n",
    "                  debug=True\n",
    "                 )"
   ]
  },
  {
   "cell_type": "markdown",
   "metadata": {},
   "source": [
    "The KGTK setup command defines environment variables for all the files so that you can reuse the Jupyter notebook when you install it on your local machine."
   ]
  },
  {
   "cell_type": "code",
   "execution_count": null,
   "metadata": {
    "tags": []
   },
   "outputs": [],
   "source": [
    "ck.print_env_variables()"
   ]
  },
  {
   "cell_type": "code",
   "execution_count": null,
   "metadata": {
    "tags": []
   },
   "outputs": [],
   "source": [
    "ck.load_files_into_cache(files=files_for_cache)"
   ]
  },
  {
   "cell_type": "code",
   "execution_count": null,
   "metadata": {
    "tags": []
   },
   "outputs": [],
   "source": [
    "!kgtk --debug query -i p279 --idx mode:monograph --limit 5"
   ]
  },
  {
   "cell_type": "code",
   "execution_count": null,
   "metadata": {
    "tags": []
   },
   "outputs": [],
   "source": [
    "!kgtk --debug query -i p279star --idx mode:monograph --limit 5"
   ]
  },
  {
   "cell_type": "code",
   "execution_count": null,
   "metadata": {
    "tags": []
   },
   "outputs": [],
   "source": [
    "!kgtk --debug query -i label --idx mode:monograph --limit 5"
   ]
  },
  {
   "cell_type": "markdown",
   "metadata": {},
   "source": [
    "## Get a list of all the classes\n"
   ]
  },
  {
   "cell_type": "markdown",
   "metadata": {
    "execution": {
     "iopub.execute_input": "2021-12-23T19:59:38.096353Z",
     "iopub.status.busy": "2021-12-23T19:59:38.096121Z",
     "iopub.status.idle": "2021-12-23T19:59:38.100393Z",
     "shell.execute_reply": "2021-12-23T19:59:38.099645Z",
     "shell.execute_reply.started": "2021-12-23T19:59:38.096330Z"
    }
   },
   "source": [
    "First get a list of all the `node1` in p279"
   ]
  },
  {
   "cell_type": "code",
   "execution_count": null,
   "metadata": {
    "tags": []
   },
   "outputs": [],
   "source": [
    "kgtk(\"\"\"\n",
    "    query -i p279\n",
    "        --match '(class)-[]->()'\n",
    "        --return 'distinct class as id'\n",
    "    -o $TEMP/p279.node1.tsv.gz\n",
    "\"\"\")"
   ]
  },
  {
   "cell_type": "code",
   "execution_count": null,
   "metadata": {
    "tags": []
   },
   "outputs": [],
   "source": [
    "if debug:\n",
    "    !zcat < $TEMP/p279.node1.tsv.gz | wc -l"
   ]
  },
  {
   "cell_type": "markdown",
   "metadata": {},
   "source": [
    "Now get a list of all the node2 in p279"
   ]
  },
  {
   "cell_type": "code",
   "execution_count": null,
   "metadata": {
    "tags": []
   },
   "outputs": [],
   "source": [
    "kgtk(\"\"\"\n",
    "    query -i p279\n",
    "        --match '()-[]->(class)'\n",
    "        --return 'distinct class as id'\n",
    "    -o $TEMP/p279.node2.tsv.gz\n",
    "\"\"\")"
   ]
  },
  {
   "cell_type": "code",
   "execution_count": null,
   "metadata": {
    "tags": []
   },
   "outputs": [],
   "source": [
    "if debug:\n",
    "    !zcat < $TEMP/p279.node2.tsv.gz | wc -l"
   ]
  },
  {
   "cell_type": "code",
   "execution_count": null,
   "metadata": {
    "tags": []
   },
   "outputs": [],
   "source": [
    "kgtk(\"\"\"\n",
    "    ifnotexists --mode NONE \n",
    "        -i $TEMP/p279.node2.tsv.gz\n",
    "        --filter-on $TEMP/p279.node1.tsv.gz\n",
    "        --input-keys id\n",
    "        --filter-keys id\n",
    "    -o $TEMP/p279.classes-that-are-not-subclasses.tsv.gz\n",
    "\"\"\")"
   ]
  },
  {
   "cell_type": "code",
   "execution_count": null,
   "metadata": {
    "tags": []
   },
   "outputs": [],
   "source": [
    "if debug:\n",
    "    !zcat < $TEMP/p279.classes-that-are-not-subclasses.tsv.gz | wc -l"
   ]
  },
  {
   "cell_type": "code",
   "execution_count": null,
   "metadata": {},
   "outputs": [],
   "source": [
    "if debug:\n",
    "    kgtk(\"head -i $TEMP/p279.classes-that-are-not-subclasses.tsv.gz -n 25 / add-labels\")"
   ]
  },
  {
   "cell_type": "markdown",
   "metadata": {},
   "source": [
    "Concatenate the files to get a list of all the classes"
   ]
  },
  {
   "cell_type": "code",
   "execution_count": null,
   "metadata": {
    "tags": []
   },
   "outputs": [],
   "source": [
    "kgtk(\"\"\"\n",
    "    cat --mode NONE -i $TEMP/p279.node1.tsv.gz -i $TEMP/p279.classes-that-are-not-subclasses.tsv.gz\n",
    "    / sort --mode NONE --column id\n",
    "    -o $OUT/classes.tsv.gz\n",
    "\"\"\")"
   ]
  },
  {
   "cell_type": "code",
   "execution_count": null,
   "metadata": {
    "tags": []
   },
   "outputs": [],
   "source": [
    "if debug:\n",
    "    !zcat < $OUT/classes.tsv.gz | wc -l"
   ]
  },
  {
   "cell_type": "markdown",
   "metadata": {},
   "source": [
    "## Measure the degree of classes"
   ]
  },
  {
   "cell_type": "code",
   "execution_count": null,
   "metadata": {
    "tags": []
   },
   "outputs": [],
   "source": [
    "kgtk(\"\"\"\n",
    "    graph-statistics -i \"$p279\" -o $OUT/statistics.p279.tsv.gz \n",
    "    --compute-pagerank False \n",
    "    --compute-hits False \n",
    "    --page-rank-property Pdirected_pagerank \n",
    "    --vertex-in-degree-property Pindegree\n",
    "    --vertex-out-degree-property Poutdegree\n",
    "    --output-degrees True \n",
    "    --output-pagerank False \n",
    "    --output-hits False \\\n",
    "    --output-statistics-only \n",
    "    --undirected False \n",
    "    --log-file $TEMP/statistics.summary.txt\n",
    "\"\"\")"
   ]
  },
  {
   "cell_type": "code",
   "execution_count": null,
   "metadata": {
    "tags": []
   },
   "outputs": [],
   "source": [
    "kgtk(\"sort -i $OUT/statistics.p279.tsv.gz --columns node2 --numeric --reverse -o $TEMP/p279.indegree.tsv.gz\")"
   ]
  },
  {
   "cell_type": "code",
   "execution_count": null,
   "metadata": {
    "tags": []
   },
   "outputs": [],
   "source": [
    "if debug:\n",
    "    kgtk(\"head -i $TEMP/p279.indegree.tsv.gz -n 25 / add-labels\")"
   ]
  },
  {
   "cell_type": "code",
   "execution_count": null,
   "metadata": {
    "tags": []
   },
   "outputs": [],
   "source": [
    "kgtk(\"\"\"\n",
    "    query -i $OUT/statistics.p279.tsv.gz \n",
    "        --match '(n1)-[eid]->(degree)' \n",
    "        --where 'cast(degree, int) > 500' \n",
    "        --order-by 'cast(degree, int) desc'\n",
    "\"\"\")"
   ]
  },
  {
   "cell_type": "markdown",
   "metadata": {},
   "source": [
    "### Create list of high and low `P279` degree classes "
   ]
  },
  {
   "cell_type": "code",
   "execution_count": null,
   "metadata": {
    "tags": []
   },
   "outputs": [],
   "source": [
    "kgtk(\"\"\"\n",
    "    query -i $OUT/statistics.p279.tsv.gz \n",
    "        --match '(n1)-[:Pindegree]->(degree)' \n",
    "        --where 'cast(degree, int) < 500' \n",
    "        --return 'n1 as node1, \"few_subclasses\" as node_type'\n",
    "        --order-by 'cast(degree, int) desc'\n",
    "    -o $OUT/class-browsing.low-degree-nodes.tsv\n",
    "\"\"\")"
   ]
  },
  {
   "cell_type": "markdown",
   "metadata": {},
   "source": [
    "The `class-browsing.low-degree-nodes.tsv` is simply a list of nodes:"
   ]
  },
  {
   "cell_type": "code",
   "execution_count": null,
   "metadata": {
    "tags": []
   },
   "outputs": [],
   "source": [
    "if debug:\n",
    "    kgtk(\"head -n 5 -i $OUT/class-browsing.low-degree-nodes.tsv / add-labels\")"
   ]
  },
  {
   "cell_type": "code",
   "execution_count": null,
   "metadata": {
    "tags": []
   },
   "outputs": [],
   "source": [
    "kgtk(\"\"\"\n",
    "    query -i $OUT/statistics.p279.tsv.gz \n",
    "        --match '(n1)-[:Pindegree]->(degree)' \n",
    "        --where 'cast(degree, int) > 499'\n",
    "        --return 'n1 as node1, \"many_subclasses\" as node_type'\n",
    "        --order-by 'cast(degree, int) desc'\n",
    "    -o $OUT/class-browsing.high-degree-nodes.tsv\n",
    "\"\"\")"
   ]
  },
  {
   "cell_type": "code",
   "execution_count": null,
   "metadata": {},
   "outputs": [],
   "source": [
    "if debug:\n",
    "    kgtk(\"head -n 5 -i $OUT/class-browsing.high-degree-nodes.tsv / add-labels\")"
   ]
  },
  {
   "cell_type": "code",
   "execution_count": null,
   "metadata": {
    "tags": []
   },
   "outputs": [],
   "source": [
    "kgtk(\"\"\"\n",
    "    cat --use-graph-cache-envar False --mode NONE -i $OUT/class-browsing.low-degree-nodes.tsv -i $OUT/class-browsing.high-degree-nodes.tsv\n",
    "    -o $OUT/class-browsing.all-nodes.tsv\n",
    "\"\"\")"
   ]
  },
  {
   "cell_type": "code",
   "execution_count": null,
   "metadata": {
    "tags": []
   },
   "outputs": [],
   "source": [
    "if debug:\n",
    "    kgtk(\"head -i $OUT/class-browsing.all-nodes.tsv -n 4\")"
   ]
  },
  {
   "cell_type": "code",
   "execution_count": null,
   "metadata": {
    "tags": []
   },
   "outputs": [],
   "source": [
    "!kgtk --debug query -i $OUT/class-browsing.all-nodes.tsv --as browsernodes --idx index:node1,node_type --limit 3"
   ]
  },
  {
   "cell_type": "markdown",
   "metadata": {},
   "source": [
    "## Create a P279star file that we will use for visualization.\n",
    "\n"
   ]
  },
  {
   "cell_type": "markdown",
   "metadata": {},
   "source": [
    "### First create a complete p279star file containing all classes\n",
    "\n",
    "First create a complete P279star file that contains all classes as our starting point. We do this because in the browser, users can click on any class."
   ]
  },
  {
   "cell_type": "code",
   "execution_count": null,
   "metadata": {
    "tags": []
   },
   "outputs": [],
   "source": [
    "kgtk(\"\"\"\n",
    "    reachable-nodes\n",
    "        --rootfile $OUT/classes.tsv.gz\n",
    "        --selflink \n",
    "        --breadth-first True\n",
    "        --show-distance True\n",
    "        --label P279star\n",
    "        -i \"$p279\"\n",
    "        -o $TEMP/derived.p279star.complete.tsv.gz\n",
    "\"\"\")"
   ]
  },
  {
   "cell_type": "code",
   "execution_count": null,
   "metadata": {
    "tags": []
   },
   "outputs": [],
   "source": [
    "if debug:\n",
    "    kgtk(\"head -i $TEMP/derived.p279star.complete.tsv.gz -n 10\")"
   ]
  },
  {
   "cell_type": "markdown",
   "metadata": {},
   "source": [
    "The complete p279star file has only a few more edges than the default one. We should replace the original one with the complete one in any case."
   ]
  },
  {
   "cell_type": "code",
   "execution_count": null,
   "metadata": {
    "tags": []
   },
   "outputs": [],
   "source": [
    "if debug:\n",
    "    !zcat < \"$p279star\" | wc -l"
   ]
  },
  {
   "cell_type": "code",
   "execution_count": null,
   "metadata": {
    "tags": []
   },
   "outputs": [],
   "source": [
    "if debug:\n",
    "    !zcat < $TEMP/derived.p279star.complete.tsv.gz | wc -l"
   ]
  },
  {
   "cell_type": "markdown",
   "metadata": {},
   "source": [
    "Add ids and index for use in queries. The new file has a distance column, which we index too so that we can do index queries quickly."
   ]
  },
  {
   "cell_type": "code",
   "execution_count": null,
   "metadata": {
    "tags": []
   },
   "outputs": [],
   "source": [
    "kgtk(\"\"\"\n",
    "    add-id --id-style wikidata -i $TEMP/derived.p279star.complete.tsv.gz\n",
    "    -o $OUT/derived.p279star.complete.tsv.gz\n",
    "\"\"\")"
   ]
  },
  {
   "cell_type": "code",
   "execution_count": null,
   "metadata": {
    "tags": []
   },
   "outputs": [],
   "source": [
    "!kgtk --debug query -i $OUT/derived.p279star.complete.tsv.gz --as p279stard --idx index:node2,node1,distance --limit 3"
   ]
  },
  {
   "cell_type": "markdown",
   "metadata": {},
   "source": [
    "### Count the number of subclasses \n",
    "We eventually want to build the subclass graph for each class, but some may be too large"
   ]
  },
  {
   "cell_type": "code",
   "execution_count": null,
   "metadata": {
    "tags": []
   },
   "outputs": [],
   "source": [
    "kgtk(\"\"\"\n",
    "    query -i p279stard\n",
    "        --match '\n",
    "            (subclass)-[]->(class)'\n",
    "        --return 'class as node1, \"Pcount_subclasses\" as label, count(distinct subclass) as node2, class as graph'\n",
    "        --where 'subclass != class'\n",
    "        --order-by 'cast(node2, int) desc'\n",
    "    -o $TEMP/subclass.count.tsv.gz\n",
    "\"\"\")"
   ]
  },
  {
   "cell_type": "markdown",
   "metadata": {},
   "source": [
    "Get an overview of the file. The top classes have an enormous number of subclasses, which will cause trouble for visualization.\n",
    "Also, only 126K classes with subclasses, so there are a lot of leaf classes in Wikidata.\n",
    "\n",
    "In the steps below we exclude the high degree classes, but that won't fix the problem as the top classes have too many subclasses anyway. Sigh. The browser will freeze and the user will be annoyed."
   ]
  },
  {
   "cell_type": "code",
   "execution_count": null,
   "metadata": {
    "tags": []
   },
   "outputs": [],
   "source": [
    "df = kgtk(\"\"\"\n",
    "    cat -i $TEMP/subclass.count.tsv.gz / add-labels\n",
    "\"\"\")\n",
    "df"
   ]
  },
  {
   "cell_type": "markdown",
   "metadata": {},
   "source": [
    "### Create a subset of p279 that excludes high in-degree classes in node2\n",
    "\n",
    "File `class-browsing.low-degree-nodes.tsv` has the class with a low number of subclasses, which we call the low degree nodes. Our low degree P279 file will have all P279 edges that arrive at a low degree class, i.e., where the superclass is a low degree class."
   ]
  },
  {
   "cell_type": "code",
   "execution_count": null,
   "metadata": {
    "tags": []
   },
   "outputs": [],
   "source": [
    "kgtk(\"\"\"\n",
    "    query -i p279 -i $OUT/class-browsing.low-degree-nodes.tsv\n",
    "        --match '\n",
    "            p279: (class)-[eid]->(superclass),\n",
    "            low: (superclass)'\n",
    "        --return 'class as node1, eid.label as label, superclass as node2, eid as id'\n",
    "    -o $OUT/p279.lowdegree.tsv.gz\n",
    "\"\"\")"
   ]
  },
  {
   "cell_type": "code",
   "execution_count": null,
   "metadata": {
    "tags": []
   },
   "outputs": [],
   "source": [
    "if debug:\n",
    "    !zcat < \"$p279\" | wc -l"
   ]
  },
  {
   "cell_type": "markdown",
   "metadata": {},
   "source": [
    "The low degree P279 file has many fewer edges, which is expected as the high degree classes account for a lot of edges."
   ]
  },
  {
   "cell_type": "code",
   "execution_count": null,
   "metadata": {
    "tags": []
   },
   "outputs": [],
   "source": [
    "if debug:\n",
    "    !zcat < $OUT/p279.lowdegree.tsv.gz | wc -l"
   ]
  },
  {
   "cell_type": "markdown",
   "metadata": {},
   "source": [
    "### Recompute P279star with the low degree classes\n",
    "The output will be `derived.p279star.low-degree.complete.tsv.gz`\n",
    "\n",
    "We start at all classes, and find all superclasses for them, excluding the high degree classes."
   ]
  },
  {
   "cell_type": "code",
   "execution_count": null,
   "metadata": {
    "tags": []
   },
   "outputs": [],
   "source": [
    "kgtk(\"\"\"\n",
    "    reachable-nodes\n",
    "        --rootfile $OUT/classes.tsv.gz\n",
    "        --selflink \n",
    "        --breadth-first True\n",
    "        --show-distance True\n",
    "        --label P279star\n",
    "        -i $OUT/p279.lowdegree.tsv.gz\n",
    "        -o $TEMP/derived.p279star.low-degree.complete.tsv.gz\n",
    "\"\"\")"
   ]
  },
  {
   "cell_type": "markdown",
   "metadata": {},
   "source": [
    "Add ids"
   ]
  },
  {
   "cell_type": "code",
   "execution_count": null,
   "metadata": {
    "tags": []
   },
   "outputs": [],
   "source": [
    "kgtk(\"\"\"\n",
    "    add-id --id-style wikidata -i $TEMP/derived.p279star.low-degree.complete.tsv.gz\n",
    "    -o $OUT/derived.p279star.low-degree.complete.tsv.gz\n",
    "\"\"\")"
   ]
  },
  {
   "cell_type": "markdown",
   "metadata": {},
   "source": [
    "Index using node1, node2 and distance. I wonder if we should also index the id column?"
   ]
  },
  {
   "cell_type": "code",
   "execution_count": null,
   "metadata": {
    "tags": []
   },
   "outputs": [],
   "source": [
    "!kgtk --debug query -i $OUT/derived.p279star.low-degree.complete.tsv.gz --as p279starlow --idx index:node2,node1,distance --limit 3"
   ]
  },
  {
   "cell_type": "markdown",
   "metadata": {},
   "source": [
    "### Statistics to show in the graph\n",
    "\n",
    "> We are not computing the statistics file in this notebook as it is computed in the `p1963` project. \n",
    "> We need the file here, so Pedro copied it from the `p1963` project and put it in the `$TEMP` folder\n",
    "\n",
    "File is `statistics.Pinstance_count.tsv.gz`\n"
   ]
  },
  {
   "cell_type": "code",
   "execution_count": null,
   "metadata": {
    "tags": []
   },
   "outputs": [],
   "source": [
    "if debug:\n",
    "    kgtk(\"head -i $GRAPH/statistics.Pinstance_count.tsv.gz\")"
   ]
  },
  {
   "cell_type": "code",
   "execution_count": null,
   "metadata": {
    "tags": []
   },
   "outputs": [],
   "source": [
    "!kgtk --debug query -i $GRAPH/statistics.Pinstance_count.tsv.gz --idx mode:monograph --limit 5"
   ]
  },
  {
   "cell_type": "markdown",
   "metadata": {},
   "source": [
    "## Compute the edge file that contains the graph we want to visualize for each class\n",
    "\n",
    "The edge file contains `subclass / P279 / class` edges, but we add two columns to support the visualization:\n",
    "\n",
    "- `graph:` is the id of a class we want to visualize. This columns allows us to quickly fetch all the edges to build the visualization of a class.\n",
    "- `edge_type`: in the visualization we want to distinguish `subclass` and `superclass` edges so the viewer can easily distinguish subclasses and superclasses."
   ]
  },
  {
   "cell_type": "markdown",
   "metadata": {},
   "source": [
    "### Compute the subclass edges\n",
    "\n",
    "For every class (the graph) we want to find all the P279 edges for subclasses of the given class. We use `class-browsing.low-degree-nodes.tsv` so that we don't include high degree classes that will blow up the browser."
   ]
  },
  {
   "cell_type": "code",
   "execution_count": null,
   "metadata": {
    "tags": []
   },
   "outputs": [],
   "source": [
    "kgtk(f\"\"\"\n",
    "    query -i p279starlow -i p279 -i $OUT/class-browsing.low-degree-nodes.tsv\n",
    "        --match '\n",
    "            p279starlow: (subclass1)-[]->(class),\n",
    "            p279starlow: (subclass2)-[]->(class),\n",
    "            low: (subclass1),\n",
    "            low: (subclass2),\n",
    "            p279: (subclass1)-[]->(subclass2)'\n",
    "        --return 'distinct subclass1 as node1, \"P279\" as label, subclass2 as node2, class as graph, \"subclass\" as edge_type'\n",
    "    -o $TEMP/all.graph.low.sub.tsv.gz\n",
    "\"\"\")"
   ]
  },
  {
   "cell_type": "code",
   "execution_count": null,
   "metadata": {
    "tags": []
   },
   "outputs": [],
   "source": [
    "if debug:\n",
    "    !zcat < $TEMP/all.graph.low.sub.tsv.gz | wc -l"
   ]
  },
  {
   "cell_type": "markdown",
   "metadata": {},
   "source": [
    "We have a lot of edges because we make copies for every graph, i.e., the same edge appears in many graphs. This is annoying, but it allows us to fetch the graphs very quickly, in less than 2 seconds."
   ]
  },
  {
   "cell_type": "code",
   "execution_count": null,
   "metadata": {
    "tags": []
   },
   "outputs": [],
   "source": [
    "if debug:\n",
    "    kgtk(\"head -n 5 -i $TEMP/all.graph.low.sub.tsv.gz\")"
   ]
  },
  {
   "cell_type": "markdown",
   "metadata": {},
   "source": [
    "### Compute the superclass edges\n",
    "\n",
    "The superclass edges are also P279 edges, but they sit above the given class. We don't need to filter to low degree classes because we are going up the P279 hierarchy."
   ]
  },
  {
   "cell_type": "code",
   "execution_count": null,
   "metadata": {
    "tags": []
   },
   "outputs": [],
   "source": [
    "kgtk(f\"\"\"\n",
    "    query -i p279stard -i p279\n",
    "        --match '\n",
    "            p279stard: (class)-[]->(superclass1),\n",
    "            p279stard: (class)-[]->(superclass2),\n",
    "            p279: (superclass1)-[]->(superclass2)'\n",
    "        --return 'distinct superclass1 as node1, \"P279\" as label, superclass2 as node2, class as graph, \"superclass\" as edge_type'\n",
    "    -o $TEMP/all.graph.low.super.tsv.gz\n",
    "\"\"\")"
   ]
  },
  {
   "cell_type": "code",
   "execution_count": null,
   "metadata": {
    "tags": []
   },
   "outputs": [],
   "source": [
    "if debug:\n",
    "    !zcat < $TEMP/all.graph.low.super.tsv.gz | wc -l"
   ]
  },
  {
   "cell_type": "code",
   "execution_count": null,
   "metadata": {
    "tags": []
   },
   "outputs": [],
   "source": [
    "if debug:\n",
    "    kgtk(\"head -n 5 -i $TEMP/all.graph.low.super.tsv.gz\")"
   ]
  },
  {
   "cell_type": "markdown",
   "metadata": {},
   "source": [
    "### Concatenate the subclass and superclass files, and store in `$TEMP/graph.low.tsv.gz`\n",
    "\n",
    "We keep the file in `$TEMP` because for the final file we want to add he high degree nodes so that the user sees that they exist (we will not add the subclasses). Once we have the complete file, we will put it in `$OUT`."
   ]
  },
  {
   "cell_type": "code",
   "execution_count": null,
   "metadata": {
    "tags": []
   },
   "outputs": [],
   "source": [
    "kgtk(f\"\"\"\n",
    "    cat --use-graph-cache-envar False -i $TEMP/all.graph.low.sub.tsv.gz -i $TEMP/all.graph.low.super.tsv.gz\n",
    "    -o $TEMP/graph.low.tsv.gz\n",
    "\"\"\")"
   ]
  },
  {
   "cell_type": "markdown",
   "metadata": {},
   "source": [
    "Index the file to allow fast queries on all columns"
   ]
  },
  {
   "cell_type": "code",
   "execution_count": null,
   "metadata": {
    "tags": []
   },
   "outputs": [],
   "source": [
    "!kgtk --debug query -i $TEMP/graph.low.tsv.gz --as graphbrowser --idx index:node1,node2,graph,edge_type --limit 3"
   ]
  },
  {
   "cell_type": "markdown",
   "metadata": {},
   "source": [
    "## Compute the node file for visualization\n",
    "\n",
    "The node file for visualization needs the labels for the nodes, and the `graph` to pull it out quickly. We add:\n",
    "\n",
    "- `instance_count`: the number of direct instances of the class, as it is interesting for the user to see this information."
   ]
  },
  {
   "cell_type": "markdown",
   "metadata": {},
   "source": [
    "### Extract the nodes from the edge file\n",
    "\n",
    "The reason to use the edge file is that we need the `graph` id. We do it in two steps, first extract `node1` and then extract `node2`"
   ]
  },
  {
   "cell_type": "code",
   "execution_count": null,
   "metadata": {
    "tags": []
   },
   "outputs": [],
   "source": [
    "kgtk(\"\"\"\n",
    "    query -i label -i $TEMP/statistics.Pinstance_count.tsv.gz -i graphbrowser -i browsernodes\n",
    "        --match '\n",
    "            graphbrowser: (c)-[{graph: graph}]->(),\n",
    "            browsernodes: (c)-[{node_type: nt}]->()'\n",
    "        --opt 'label: (c)-[]->(class_label)'\n",
    "        --opt 'Pinstance_count: (c)-[:Pinstance_count]->(instance_count)'\n",
    "        --return 'distinct c as node1, graph as graph, coalesce(instance_count,0) as instance_count, nt as node_type, class_label as label'\n",
    "    -o $TEMP/graph.low.node1.tsv.gz\n",
    "\"\"\")\n"
   ]
  },
  {
   "cell_type": "markdown",
   "metadata": {},
   "source": [
    "This is what our node file looks like:"
   ]
  },
  {
   "cell_type": "code",
   "execution_count": null,
   "metadata": {
    "tags": []
   },
   "outputs": [],
   "source": [
    "if debug:\n",
    "    kgtk(\"head -n 5 -i $TEMP/graph.low.node1.tsv.gz\")"
   ]
  },
  {
   "cell_type": "code",
   "execution_count": null,
   "metadata": {
    "tags": []
   },
   "outputs": [],
   "source": [
    "kgtk(\"\"\"\n",
    "    query -i label -i $TEMP/statistics.Pinstance_count.tsv.gz -i graphbrowser -i browsernodes\n",
    "        --match '\n",
    "            graphbrowser: ()-[{graph: graph}]->(c),\n",
    "            browsernodes: (c)-[{node_type: nt}]->()'\n",
    "        --opt 'label: (c)-[]->(class_label)'\n",
    "        --opt 'Pinstance_count: (c)-[:Pinstance_count]->(instance_count)'\n",
    "        --return 'distinct c as node1, graph as graph, coalesce(instance_count,0) as instance_count, nt as node_type, class_label as label'\n",
    "    -o $TEMP/graph.low.node2.tsv.gz\n",
    "\"\"\")"
   ]
  },
  {
   "cell_type": "markdown",
   "metadata": {},
   "source": [
    "### Concatenate the two node files, deduplicate and index\n",
    "\n",
    "To-do: try presorting the files to see if compact will run faster, as it is, this command takes over 2.5 hours"
   ]
  },
  {
   "cell_type": "code",
   "execution_count": null,
   "metadata": {
    "tags": []
   },
   "outputs": [],
   "source": [
    "kgtk(\"\"\"\n",
    "    cat --use-graph-cache-envar False --mode NONE -i $TEMP/graph.low.node1.tsv.gz -i $TEMP/graph.low.node2.tsv.gz\n",
    "    / compact --mode NONE  --columns node1 graph\n",
    "    -o $TEMP/graph.low.node.tsv.gz\n",
    "\"\"\")"
   ]
  },
  {
   "cell_type": "markdown",
   "metadata": {},
   "source": [
    "We only need to index on `graph` as we will not do node queries on it:"
   ]
  },
  {
   "cell_type": "markdown",
   "metadata": {},
   "source": [
    "## Special handling of high degree nodes"
   ]
  },
  {
   "cell_type": "code",
   "execution_count": null,
   "metadata": {
    "tags": []
   },
   "outputs": [],
   "source": [
    "if debug:\n",
    "    kgtk(\"head -n 5 -i $OUT/class-browsing.high-degree-nodes.tsv\")"
   ]
  },
  {
   "cell_type": "markdown",
   "metadata": {},
   "source": [
    "### Make a graph file with the `P279` edges where the subclass is a high degree class\n",
    "\n",
    "Do this only to add edges that connect to the subclasses of our target node, so `class` has to be in `$TEMP/all.graph.low.sub.tsv.gz`"
   ]
  },
  {
   "cell_type": "code",
   "execution_count": null,
   "metadata": {
    "tags": []
   },
   "outputs": [],
   "source": [
    "kgtk(\"\"\"\n",
    "    query --debug -i $OUT/class-browsing.high-degree-nodes.tsv -i p279 -i $TEMP/all.graph.low.sub.tsv.gz\n",
    "        --match '\n",
    "            low: (class)-[{graph: graph}]->(),\n",
    "            high: (subclass),\n",
    "            p279: (subclass)-[]->(class)'\n",
    "        --where 'subclass != class'\n",
    "        --return 'distinct subclass as node1, \"P279\" as label, class as node2, graph as graph, \"subclass\" as edge_type'\n",
    "    -o $TEMP/graph.high1.tsv.gz\n",
    "\"\"\")"
   ]
  },
  {
   "cell_type": "code",
   "execution_count": null,
   "metadata": {},
   "outputs": [],
   "source": [
    "kgtk(\"\"\"\n",
    "    query --debug -i $OUT/class-browsing.high-degree-nodes.tsv -i p279 -i $TEMP/all.graph.low.sub.tsv.gz\n",
    "        --match '\n",
    "            low: ()-[{graph: graph}]->(class),\n",
    "            high: (subclass),\n",
    "            p279: (subclass)-[]->(class)'\n",
    "        --where 'subclass != class'\n",
    "        --return 'distinct subclass as node1, \"P279\" as label, class as node2, graph as graph, \"subclass\" as edge_type'\n",
    "    -o $TEMP/graph.high2.tsv.gz\n",
    "\"\"\")"
   ]
  },
  {
   "cell_type": "code",
   "execution_count": null,
   "metadata": {},
   "outputs": [],
   "source": [
    "kgtk(f\"\"\"\n",
    "    cat --use-graph-cache-envar False -i $TEMP/graph.high1.tsv.gz -i  $TEMP/graph.high2.tsv.gz\n",
    "    -o $TEMP/graph.high.tsv.gz\n",
    "\"\"\")"
   ]
  },
  {
   "cell_type": "code",
   "execution_count": null,
   "metadata": {
    "tags": []
   },
   "outputs": [],
   "source": [
    "if debug:\n",
    "    kgtk(\"head -n 5 -i $TEMP/graph.high.tsv.gz\")"
   ]
  },
  {
   "cell_type": "markdown",
   "metadata": {},
   "source": [
    "### Make a node file with the high degree nodes\n",
    "\n",
    "We use the edge file because we need to put the `graph` in the node file too."
   ]
  },
  {
   "cell_type": "code",
   "execution_count": null,
   "metadata": {
    "tags": []
   },
   "outputs": [],
   "source": [
    "kgtk(\"\"\"\n",
    "    query -i label -i $GRAPH/statistics.Pinstance_count.tsv.gz -i $TEMP/graph.high.tsv.gz\n",
    "        --match 'high: (c)-[{graph: graph}]->()'\n",
    "        --opt 'label: (c)-[]->(class_label)'\n",
    "        --opt 'Pinstance_count: (c)-[:Pinstance_count]->(instance_count)'\n",
    "        --return 'distinct c as node1, graph as graph, coalesce(instance_count,0) as instance_count, \"many_subclasses\" as node_type, class_label as label'\n",
    "    -o $TEMP/graph.high.node.tsv.gz\n",
    "\"\"\")"
   ]
  },
  {
   "cell_type": "code",
   "execution_count": null,
   "metadata": {
    "tags": []
   },
   "outputs": [],
   "source": [
    "if debug:\n",
    "    kgtk(\"head -n 5 -i $TEMP/graph.high.node.tsv.gz\")"
   ]
  },
  {
   "cell_type": "markdown",
   "metadata": {},
   "source": [
    "Just to make sure, count the number of sublcasses of one of our supposedly high degree nodes, innocent looking with one instance, but indeed many subclasses."
   ]
  },
  {
   "cell_type": "code",
   "execution_count": null,
   "metadata": {
    "tags": []
   },
   "outputs": [],
   "source": [
    "if debug:\n",
    "    kgtk(\"query -i p279 --match '(subclass)-[]->(:Q10267817)' --return 'count(distinct subclass)'\")"
   ]
  },
  {
   "cell_type": "code",
   "execution_count": null,
   "metadata": {
    "tags": []
   },
   "outputs": [],
   "source": [
    "if debug:\n",
    "    kgtk(\"query -i p279 --match '(subclass)-[]->(:Q30185)' --return 'count(distinct subclass)'\")"
   ]
  },
  {
   "cell_type": "markdown",
   "metadata": {},
   "source": [
    "### Augment the low degree edge and node files with the high degree info"
   ]
  },
  {
   "cell_type": "markdown",
   "metadata": {},
   "source": [
    "Concatenating without deduplication is sufficient as the files cannot have duplicate edges or nodes."
   ]
  },
  {
   "cell_type": "code",
   "execution_count": null,
   "metadata": {
    "tags": []
   },
   "outputs": [],
   "source": [
    "kgtk(\"\"\"\n",
    "    cat --use-graph-cache-envar False -i $TEMP/graph.high.tsv.gz -i $TEMP/graph.low.tsv.gz\n",
    "    -o $OUT/class-visualization.edge.tsv.gz\n",
    "\"\"\")"
   ]
  },
  {
   "cell_type": "code",
   "execution_count": null,
   "metadata": {
    "tags": []
   },
   "outputs": [],
   "source": [
    "if debug:\n",
    "    kgtk(\"head -n 5 -i $OUT/class-visualization.edge.tsv.gz\")"
   ]
  },
  {
   "cell_type": "markdown",
   "metadata": {},
   "source": [
    "Index the file for query using the `graph` column:"
   ]
  },
  {
   "cell_type": "code",
   "execution_count": null,
   "metadata": {
    "tags": []
   },
   "outputs": [],
   "source": [
    "if debug:\n",
    "    !kgtk query -i $OUT/class-visualization.edge.tsv.gz --as classvizedge --idx index:graph --limit 3"
   ]
  },
  {
   "cell_type": "markdown",
   "metadata": {},
   "source": [
    "Concatenate the node files:"
   ]
  },
  {
   "cell_type": "code",
   "execution_count": null,
   "metadata": {
    "tags": []
   },
   "outputs": [],
   "source": [
    "kgtk(\"\"\"\n",
    "    cat --use-graph-cache-envar False --mode NONE -i $TEMP/graph.high.node.tsv.gz -i $TEMP/graph.low.node.tsv.gz\n",
    "    -o $TEMP/class-visualization.node.tsv.gz\n",
    "\"\"\")"
   ]
  },
  {
   "cell_type": "markdown",
   "metadata": {},
   "source": [
    "Add a tooltip with meaningful information"
   ]
  },
  {
   "cell_type": "code",
   "execution_count": null,
   "metadata": {
    "tags": []
   },
   "outputs": [],
   "source": [
    "kgtk(\"\"\"\n",
    "    query -i $TEMP/class-visualization.node.tsv.gz\n",
    "        --match '(node)-[{graph: g, instance_count: ic, node_type: nt, label: l}]->()'\n",
    "        --return 'distinct\n",
    "            node as node1, g as graph, ic as instance_count, nt as node_type, l as label,\n",
    "            printf(\"%s (%s)<BR/>instance count: %s<BR/>node type: %s\", kgtk_lqstring_text(l), node, cast(ic, int), nt) as tooltip'\n",
    "    -o $OUT/class-visualization.node.tsv.gz\n",
    "\"\"\")"
   ]
  },
  {
   "cell_type": "code",
   "execution_count": null,
   "metadata": {
    "tags": []
   },
   "outputs": [],
   "source": [
    "if debug:\n",
    "    kgtk(\"head -n 5 -i $OUT/class-visualization.node.tsv.gz\")"
   ]
  },
  {
   "cell_type": "code",
   "execution_count": null,
   "metadata": {},
   "outputs": [],
   "source": [
    "if debug:\n",
    "    kgtk(\"\"\"\n",
    "        query -i $OUT/class-visualization.edge.tsv.gz\n",
    "        --match 'edge:()-[label{graph:g}]->()'\n",
    "        --return 'g as node1, \"count\" as label, COUNT(g) as node2'\n",
    "        -o $OUT/class-visualization.edge.count.tsv.gz\n",
    "    \"\"\")"
   ]
  },
  {
   "cell_type": "code",
   "execution_count": null,
   "metadata": {},
   "outputs": [],
   "source": [
    "if debug:\n",
    "    kgtk(\"\"\"\n",
    "        query -i $OUT/class-visualization.edge.tsv.gz\n",
    "        --match '()-[label{graph:g, edge_type:et}]->()'\n",
    "        --where 'et = \"subclass\"'\n",
    "        --return 'g as node1, \"count\" as label, COUNT(g) as node2'\n",
    "        -o $OUT/class-visualization.edge.sub.count.tsv.gz\n",
    "    \"\"\")"
   ]
  },
  {
   "cell_type": "code",
   "execution_count": null,
   "metadata": {},
   "outputs": [],
   "source": [
    "if debug:\n",
    "    kgtk(\"\"\"\n",
    "        head -i $OUT/class-visualization.edge.superclass.tsv.gz\n",
    "    \"\"\")"
   ]
  },
  {
   "cell_type": "code",
   "execution_count": null,
   "metadata": {},
   "outputs": [],
   "source": [
    "if debug:\n",
    "    kgtk(\"\"\"\n",
    "        query -i $OUT/class-visualization.edge.tsv.gz\n",
    "        --match '()-[label{graph:g, edge_type:et}]->()'\n",
    "        --where 'et = \"superclass\"'\n",
    "        --return 'g as node1, \"count\" as label, COUNT(g) as node2'\n",
    "        -o $OUT/class-visualization.edge.super.count.tsv.gz\n",
    "    \"\"\")"
   ]
  },
  {
   "cell_type": "code",
   "execution_count": null,
   "metadata": {},
   "outputs": [],
   "source": [
    "if debug:\n",
    "    kgtk(\"\"\"\n",
    "        query -i $OUT/class-visualization.edge.tsv.gz\n",
    "        --match 'edge:()-[label{edge_type:t}]->()'\n",
    "        --where 't = \"subclass\"'\n",
    "        -o $OUT/class-visualization.edge.subclass.tsv.gz\n",
    "    \"\"\")"
   ]
  },
  {
   "cell_type": "code",
   "execution_count": null,
   "metadata": {},
   "outputs": [],
   "source": [
    "if debug:\n",
    "    kgtk(\"\"\"\n",
    "        query -i $OUT/class-visualization.edge.tsv.gz\n",
    "        --match 'edge:()-[label{edge_type:t}]->()'\n",
    "        --where 't = \"superclass\"'\n",
    "        -o $OUT/class-visualization.edge.superclass.tsv.gz\n",
    "    \"\"\")"
   ]
  },
  {
   "cell_type": "markdown",
   "metadata": {},
   "source": [
    "Index the file for query using the `graph` column:"
   ]
  },
  {
   "cell_type": "code",
   "execution_count": null,
   "metadata": {
    "tags": []
   },
   "outputs": [],
   "source": [
    "if debug:\n",
    "    !kgtk query -i $OUT/class-visualization.node.tsv.gz --as classviznode --idx index:graph --limit 3"
   ]
  },
  {
   "cell_type": "code",
   "execution_count": null,
   "metadata": {},
   "outputs": [],
   "source": []
  },
  {
   "cell_type": "markdown",
   "metadata": {},
   "source": [
    "Temporary: we need this file for my current version of visualize because it needs labels in the edge file, the new version can have the labels in the node file"
   ]
  },
  {
   "cell_type": "markdown",
   "metadata": {},
   "source": [
    "Test creation of the node file:"
   ]
  },
  {
   "cell_type": "code",
   "execution_count": null,
   "metadata": {
    "tags": []
   },
   "outputs": [],
   "source": [
    "if debug:\n",
    "    root = \"Q11424\"\n",
    "    # root=\"Q391342\"\n",
    "    root=\"Q1420\"\n",
    "    # root=\"Q1107\"\n",
    "    # root=\"Q889821\"\n",
    "    # root=\"Q1549591\"\n",
    "    # root=\"Q188724\"\n",
    "    # root=\"Q946808\"\n",
    "    kgtk(f\"\"\"\n",
    "        query -i classviznode\n",
    "            --match '(class)-[{{graph: \"{root}\", instance_count: instance_count, label: label}}]->()'\n",
    "    \"\"\")"
   ]
  },
  {
   "cell_type": "raw",
   "metadata": {
    "execution": {
     "iopub.execute_input": "2021-12-29T14:13:01.391259Z",
     "iopub.status.busy": "2021-12-29T14:13:01.391031Z",
     "iopub.status.idle": "2021-12-29T14:16:00.942753Z",
     "shell.execute_reply": "2021-12-29T14:16:00.941721Z",
     "shell.execute_reply.started": "2021-12-29T14:13:01.391236Z"
    }
   },
   "source": [
    " kgtk(f\"\"\"\n",
    "        query -i classvizedgetest\n",
    "            --match '(class)-[{{label: property, graph: \"{root}\", edge_type: edge_type}}]->(superclass)'\n",
    "        -o $TEMP/browser/{root}.graph.low.tsv\n",
    "    \"\"\")"
   ]
  },
  {
   "cell_type": "markdown",
   "metadata": {},
   "source": [
    "## Test creation of visualizations"
   ]
  },
  {
   "cell_type": "code",
   "execution_count": null,
   "metadata": {
    "tags": []
   },
   "outputs": [],
   "source": [
    "if debug:\n",
    "    roots = [\n",
    "        \"Q11424\",\n",
    "        \"Q391342\",\n",
    "        \"Q1420\",\n",
    "        \"Q1107\",\n",
    "        \"Q889821\",\n",
    "        \"Q1549591\",\n",
    "        \"Q188724\",\n",
    "        \"Q946808\",\n",
    "        \"Q33999\",\n",
    "        \"Q483501\",\n",
    "        \"Q2221906\",\n",
    "        \"Q144\",\n",
    "        \"Q516021\",\n",
    "        \"Q10494269\"\n",
    "    ]\n",
    "\n",
    "    for root in roots:\n",
    "        kgtk(f\"\"\"\n",
    "            query -i classvizedgetest\n",
    "                --match '(class)-[{{label: property, graph: \"{root}\", edge_type: edge_type}}]->(superclass)'\n",
    "            -o $TEMP/browser/{root}.graph.low.tsv\n",
    "        \"\"\")\n",
    "\n",
    "        kgtk(f\"\"\"\n",
    "            query -i classviznode\n",
    "                --match '(class)-[{{graph: \"{root}\", instance_count: instance_count, label: label}}]->()'\n",
    "            -o $TEMP/browser/{root}.node.graph.low.tsv\n",
    "        \"\"\")\n",
    "\n",
    "        # kgtk(f\"\"\"\n",
    "        #     visualize-force-graph -i $TEMP/browser/{root}.graph.low.tsv\n",
    "        #         --direction arrow\n",
    "        #         -o $TEMP/browser/{root}.graph.low.html\n",
    "        # \"\"\")"
   ]
  },
  {
   "cell_type": "raw",
   "metadata": {},
   "source": [
    "    kgtk(f\"\"\"\n",
    "        visualize-force-graph -i $TEMP/{root}.graph.low.tsv --node-file $TEMP/{root}.node.graph.low.tsv \n",
    "            --direction arrow\n",
    "            --node-size-column instance_count \n",
    "            --node-size-minimum 2.0 \n",
    "            --node-size-maximum 8.0 \n",
    "            --node-size-default 1.0 \n",
    "            --node-size-scale log \n",
    "            --node-color-column node_type\n",
    "            --node-color-scale categorical\n",
    "            --edge-color-column edge_type \n",
    "            --edge-color-style categorical \n",
    "            -o $TEMP/browser/{root}.graph.low.html\n",
    "    \"\"\")"
   ]
  },
  {
   "cell_type": "markdown",
   "metadata": {},
   "source": [
    "## Tests for individual files"
   ]
  },
  {
   "cell_type": "code",
   "execution_count": null,
   "metadata": {
    "tags": []
   },
   "outputs": [],
   "source": [
    "if debug:\n",
    "    kgtk(\"\"\"\n",
    "        query -i $TEMP/graph.low.node.tsv.gz\n",
    "            --match '(node)-[{graph: \"Q1420\"}]->()'\n",
    "            --order-by 'node'\n",
    "    \"\"\")"
   ]
  },
  {
   "cell_type": "code",
   "execution_count": null,
   "metadata": {
    "tags": []
   },
   "outputs": [],
   "source": [
    "if debug:\n",
    "    kgtk(\"\"\"\n",
    "        query -i $TEMP/graph.high.node.tsv.gz\n",
    "            --match '(node)-[{graph: \"Q1420\"}]->()'\n",
    "            --order-by 'node'\n",
    "    \"\"\")"
   ]
  },
  {
   "cell_type": "code",
   "execution_count": null,
   "metadata": {
    "tags": []
   },
   "outputs": [],
   "source": [
    "if debug:\n",
    "    kgtk(\"\"\"\n",
    "        query -i $TEMP/class-visualization.node.tsv.gz\n",
    "            --match '(node)-[{graph: \"Q1420\"}]->()'\n",
    "            --order-by 'node'\n",
    "    \"\"\")"
   ]
  },
  {
   "cell_type": "code",
   "execution_count": null,
   "metadata": {
    "tags": []
   },
   "outputs": [],
   "source": [
    "if debug:\n",
    "    kgtk(\"\"\"\n",
    "        query -i classviznode\n",
    "            --match '(node)-[{graph: \"Q1420\"}]->()'\n",
    "            --order-by 'node'\n",
    "    \"\"\")"
   ]
  },
  {
   "cell_type": "code",
   "execution_count": null,
   "metadata": {
    "tags": []
   },
   "outputs": [],
   "source": [
    "if debug:\n",
    "    kgtk(\"\"\"\n",
    "        query -i graphbrowser\n",
    "            --match '(node)-[{graph: \"Q1420\"}]->()'\n",
    "            --order-by 'node'\n",
    "    \"\"\")"
   ]
  },
  {
   "cell_type": "code",
   "execution_count": null,
   "metadata": {
    "tags": []
   },
   "outputs": [],
   "source": [
    "if debug:\n",
    "    kgtk(\"\"\"\n",
    "        query -i $TEMP/graph.high.tsv.gz\n",
    "            --match '(node)-[{graph: \"Q1420\"}]->()'\n",
    "            --order-by 'node'\n",
    "    \"\"\")"
   ]
  },
  {
   "cell_type": "code",
   "execution_count": null,
   "metadata": {
    "tags": []
   },
   "outputs": [],
   "source": [
    "if debug:\n",
    "    kgtk(\"\"\"\n",
    "        query -i $TEMP/graph.low.tsv.gz\n",
    "            --match '(node)-[{graph: \"Q1420\"}]->()'\n",
    "            --order-by 'node'\n",
    "    \"\"\")"
   ]
  },
  {
   "cell_type": "code",
   "execution_count": null,
   "metadata": {
    "tags": []
   },
   "outputs": [],
   "source": [
    "if debug:\n",
    "    kgtk(\"\"\"\n",
    "        query -i $TEMP/all.graph.low.sub.tsv.gz\n",
    "            --match '(node)-[{graph: \"Q1420\"}]->()'\n",
    "            --order-by 'node'\n",
    "    \"\"\")"
   ]
  },
  {
   "cell_type": "code",
   "execution_count": null,
   "metadata": {
    "tags": []
   },
   "outputs": [],
   "source": [
    "if debug:\n",
    "    kgtk(\"\"\"\n",
    "        query -i $TEMP/all.graph.low.super.tsv.gz\n",
    "            --match '(node)-[{graph: \"Q1420\"}]->()'\n",
    "            --order-by 'node'\n",
    "    \"\"\")"
   ]
  },
  {
   "cell_type": "code",
   "execution_count": null,
   "metadata": {
    "tags": []
   },
   "outputs": [],
   "source": [
    "if debug:\n",
    "    kgtk(\"\"\"\n",
    "        query -i $TEMP/graph.low.node.tsv.gz\n",
    "            --match '(node)-[{graph: \"Q1420\"}]->()'\n",
    "            --order-by 'node'\n",
    "    \"\"\")"
   ]
  },
  {
   "cell_type": "markdown",
   "metadata": {
    "tags": []
   },
   "source": [
    "### In progress: Trim the subclasses based on the levels\n",
    "\n",
    "The idea is to also trim the graph based on the number of levels, this may be difficult as I think some small graphs may have lots of levels, and some graphs may become large with just a small number of levels."
   ]
  },
  {
   "cell_type": "markdown",
   "metadata": {},
   "source": [
    "This is our starting point:"
   ]
  },
  {
   "cell_type": "code",
   "execution_count": null,
   "metadata": {
    "tags": []
   },
   "outputs": [],
   "source": [
    "if debug:\n",
    "    kgtk(\"head -i $OUT/derived.p279star.complete.tsv.gz -n 5\")"
   ]
  },
  {
   "cell_type": "markdown",
   "metadata": {},
   "source": [
    "Let's look at the distribution of distances"
   ]
  },
  {
   "cell_type": "code",
   "execution_count": null,
   "metadata": {
    "tags": []
   },
   "outputs": [],
   "source": [
    "if debug:\n",
    "    kgtk(\"\"\"\n",
    "        query -i p279starcomplete\n",
    "            --match '(class)-[eid {distance: d}]->(superclass)'\n",
    "            --return 'distinct d as distance, count(eid) as count'\n",
    "            --order-by 'cast(count, int) desc'\n",
    "    \"\"\")"
   ]
  },
  {
   "cell_type": "markdown",
   "metadata": {},
   "source": [
    "Filter the `p279starcomplete` file to keep only the subclasses with distance < K=10"
   ]
  },
  {
   "cell_type": "code",
   "execution_count": null,
   "metadata": {
    "tags": []
   },
   "outputs": [],
   "source": [
    "if debug:\n",
    "    kgtk(\"\"\"\n",
    "        query -i p279stard\n",
    "            --match '(subclass)-[eid {distance: d}]->(class)'\n",
    "            --return 'class as node1, \"Pcount_subclasses\" as label, count(distinct subclass) as node2'\n",
    "            --where 'subclass != class and d < 9'\n",
    "            --order-by 'cast(node2, int) desc'\n",
    "        -o $TEMP/subclass.count.d10.tsv.gz\n",
    "    \"\"\")"
   ]
  },
  {
   "cell_type": "markdown",
   "metadata": {},
   "source": [
    "`kgtk add-labels` drives me crazy, as it takes sooooo long."
   ]
  },
  {
   "cell_type": "code",
   "execution_count": null,
   "metadata": {
    "tags": []
   },
   "outputs": [],
   "source": [
    "if debug:\n",
    "    !zcat < $TEMP/subclass.count.d10.tsv.gz | head -20 | kgtk add-labels / table"
   ]
  }
 ],
 "metadata": {
  "kernelspec": {
   "display_name": "kgtk-env",
   "language": "python",
   "name": "kgtk-env"
  },
  "language_info": {
   "codemirror_mode": {
    "name": "ipython",
    "version": 3
   },
   "file_extension": ".py",
   "mimetype": "text/x-python",
   "name": "python",
   "nbconvert_exporter": "python",
   "pygments_lexer": "ipython3",
   "version": "3.9.7"
  }
 },
 "nbformat": 4,
 "nbformat_minor": 4
}
